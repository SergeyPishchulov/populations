{
 "cells": [
  {
   "cell_type": "code",
   "execution_count": 89,
   "metadata": {},
   "outputs": [],
   "source": [
    "from dataclasses import dataclass\n",
    "from enum import Enum, auto\n",
    "from typing import Self\n",
    "from uuid import uuid4\n",
    "from bamt.preprocessors import Preprocessor\n",
    "import pandas as pd\n",
    "from sklearn import preprocessing as pp\n",
    "\n",
    "import matplotlib.pyplot as plt\n",
    "import numpy as np\n",
    "import pandas as pd\n",
    "import plotly.express as px\n",
    "import plotly.graph_objects as go\n",
    "from scipy import stats\n",
    "import re\n",
    "YEAR = 2022"
   ]
  },
  {
   "cell_type": "code",
   "execution_count": 90,
   "metadata": {},
   "outputs": [],
   "source": [
    "df = pd.read_csv(\n",
    "\n",
    "    \"/Users/pishchulov/edu/matobes/НИР/outer_source/migration/ITMO-2/migforecasting/mig whereabouts/inflow LO.csv\")"
   ]
  },
  {
   "cell_type": "markdown",
   "metadata": {},
   "source": [
    "Выделим ОКТМО из Ленобласти"
   ]
  },
  {
   "cell_type": "code",
   "execution_count": 91,
   "metadata": {},
   "outputs": [],
   "source": [
    "oktmos = map(str,  df.oktmo.unique())"
   ]
  },
  {
   "cell_type": "code",
   "execution_count": 92,
   "metadata": {},
   "outputs": [],
   "source": [
    "oktmos_lo = [x for x in oktmos if re.fullmatch(r\"41\\d+\", x)]"
   ]
  },
  {
   "cell_type": "code",
   "execution_count": 93,
   "metadata": {},
   "outputs": [],
   "source": [
    "del oktmos"
   ]
  },
  {
   "cell_type": "code",
   "execution_count": 94,
   "metadata": {},
   "outputs": [
    {
     "data": {
      "text/plain": [
       "226"
      ]
     },
     "execution_count": 94,
     "metadata": {},
     "output_type": "execute_result"
    }
   ],
   "source": [
    "len(oktmos_lo)"
   ]
  },
  {
   "cell_type": "markdown",
   "metadata": {},
   "source": [
    "Определим численность населения. Проблема: удалось найти данные только за 2024 год"
   ]
  },
  {
   "cell_type": "code",
   "execution_count": 95,
   "metadata": {},
   "outputs": [],
   "source": [
    "pop_size_df = pd.read_excel(\n",
    "\n",
    "    \"/Users/pishchulov/edu/matobes/НИР/outer_source/численность МО/Сhisl_MO_01-01-2024_only_LO.xlsx\")"
   ]
  },
  {
   "cell_type": "code",
   "execution_count": 96,
   "metadata": {},
   "outputs": [
    {
     "data": {
      "text/html": [
       "<div>\n",
       "<style scoped>\n",
       "    .dataframe tbody tr th:only-of-type {\n",
       "        vertical-align: middle;\n",
       "    }\n",
       "\n",
       "    .dataframe tbody tr th {\n",
       "        vertical-align: top;\n",
       "    }\n",
       "\n",
       "    .dataframe thead th {\n",
       "        text-align: right;\n",
       "    }\n",
       "</style>\n",
       "<table border=\"1\" class=\"dataframe\">\n",
       "  <thead>\n",
       "    <tr style=\"text-align: right;\">\n",
       "      <th></th>\n",
       "      <th>Коды территорий</th>\n",
       "      <th>Unnamed: 1</th>\n",
       "      <th>население</th>\n",
       "      <th>городское</th>\n",
       "      <th>сельское</th>\n",
       "    </tr>\n",
       "  </thead>\n",
       "  <tbody>\n",
       "    <tr>\n",
       "      <th>0</th>\n",
       "      <td>4100000000</td>\n",
       "      <td>Ленинградская область</td>\n",
       "      <td>2035762</td>\n",
       "      <td>1373533</td>\n",
       "      <td>662229</td>\n",
       "    </tr>\n",
       "    <tr>\n",
       "      <th>1</th>\n",
       "      <td>41754000 0 0</td>\n",
       "      <td>Сосновоборский городской округ</td>\n",
       "      <td>63462</td>\n",
       "      <td>63462</td>\n",
       "      <td>0</td>\n",
       "    </tr>\n",
       "    <tr>\n",
       "      <th>2</th>\n",
       "      <td>41754000001 1 0 0 0</td>\n",
       "      <td>г Сосновый Бор</td>\n",
       "      <td>63462</td>\n",
       "      <td>63462</td>\n",
       "      <td>0</td>\n",
       "    </tr>\n",
       "    <tr>\n",
       "      <th>3</th>\n",
       "      <td>41603000 0 0</td>\n",
       "      <td>Бокситогорский муниципальный район</td>\n",
       "      <td>50855</td>\n",
       "      <td>39107</td>\n",
       "      <td>11748</td>\n",
       "    </tr>\n",
       "    <tr>\n",
       "      <th>4</th>\n",
       "      <td>41603101 0 0</td>\n",
       "      <td>Городское поселение Бокситогорское</td>\n",
       "      <td>15764</td>\n",
       "      <td>15480</td>\n",
       "      <td>284</td>\n",
       "    </tr>\n",
       "    <tr>\n",
       "      <th>...</th>\n",
       "      <td>...</td>\n",
       "      <td>...</td>\n",
       "      <td>...</td>\n",
       "      <td>...</td>\n",
       "      <td>...</td>\n",
       "    </tr>\n",
       "    <tr>\n",
       "      <th>271</th>\n",
       "      <td>41648418 0 0</td>\n",
       "      <td>Сельское поселение Нурминское</td>\n",
       "      <td>3338</td>\n",
       "      <td>0</td>\n",
       "      <td>3338</td>\n",
       "    </tr>\n",
       "    <tr>\n",
       "      <th>272</th>\n",
       "      <td>41648430 0 0</td>\n",
       "      <td>Сельское поселение Лисинское</td>\n",
       "      <td>1875</td>\n",
       "      <td>0</td>\n",
       "      <td>1875</td>\n",
       "    </tr>\n",
       "    <tr>\n",
       "      <th>273</th>\n",
       "      <td>41648443 0 0</td>\n",
       "      <td>Сельское поселение Тельмановское</td>\n",
       "      <td>26781</td>\n",
       "      <td>0</td>\n",
       "      <td>26781</td>\n",
       "    </tr>\n",
       "    <tr>\n",
       "      <th>274</th>\n",
       "      <td>41648444 0 0</td>\n",
       "      <td>Сельское поселение Трубникоборское</td>\n",
       "      <td>1599</td>\n",
       "      <td>0</td>\n",
       "      <td>1599</td>\n",
       "    </tr>\n",
       "    <tr>\n",
       "      <th>275</th>\n",
       "      <td>41648464 0 0</td>\n",
       "      <td>Сельское поселение Шапкинское</td>\n",
       "      <td>547</td>\n",
       "      <td>0</td>\n",
       "      <td>547</td>\n",
       "    </tr>\n",
       "  </tbody>\n",
       "</table>\n",
       "<p>276 rows × 5 columns</p>\n",
       "</div>"
      ],
      "text/plain": [
       "         Коды территорий                          Unnamed: 1  население  \\\n",
       "0             4100000000               Ленинградская область    2035762   \n",
       "1           41754000 0 0      Сосновоборский городской округ      63462   \n",
       "2    41754000001 1 0 0 0                      г Сосновый Бор      63462   \n",
       "3           41603000 0 0  Бокситогорский муниципальный район      50855   \n",
       "4           41603101 0 0  Городское поселение Бокситогорское      15764   \n",
       "..                   ...                                 ...        ...   \n",
       "271         41648418 0 0       Сельское поселение Нурминское       3338   \n",
       "272         41648430 0 0        Сельское поселение Лисинское       1875   \n",
       "273         41648443 0 0    Сельское поселение Тельмановское      26781   \n",
       "274         41648444 0 0  Сельское поселение Трубникоборское       1599   \n",
       "275         41648464 0 0       Сельское поселение Шапкинское        547   \n",
       "\n",
       "     городское  сельское  \n",
       "0      1373533    662229  \n",
       "1        63462         0  \n",
       "2        63462         0  \n",
       "3        39107     11748  \n",
       "4        15480       284  \n",
       "..         ...       ...  \n",
       "271          0      3338  \n",
       "272          0      1875  \n",
       "273          0     26781  \n",
       "274          0      1599  \n",
       "275          0       547  \n",
       "\n",
       "[276 rows x 5 columns]"
      ]
     },
     "execution_count": 96,
     "metadata": {},
     "output_type": "execute_result"
    }
   ],
   "source": [
    "pop_size_df"
   ]
  },
  {
   "cell_type": "code",
   "execution_count": 97,
   "metadata": {},
   "outputs": [],
   "source": [
    "def discard_to_8_chars(s):\n",
    "    if len(s) != 10:\n",
    "        return s\n",
    "    if s[-2:] == \"00\":\n",
    "        return s[:-2]"
   ]
  },
  {
   "cell_type": "code",
   "execution_count": 98,
   "metadata": {},
   "outputs": [],
   "source": [
    "pop_size_df[\"Коды территорий\"] = pd.Series([discard_to_8_chars(x.replace(\n",
    "\n",
    "    \" \", \"\")) for x in map(str, pop_size_df[\"Коды территорий\"])], dtype=str)"
   ]
  },
  {
   "cell_type": "code",
   "execution_count": 99,
   "metadata": {},
   "outputs": [],
   "source": [
    "# pop_size_df_lo = pop_size_df[pop_size_df[\"Коды территорий\"].isin(oktmos_lo)]"
   ]
  },
  {
   "cell_type": "code",
   "execution_count": 100,
   "metadata": {},
   "outputs": [],
   "source": [
    "# set(oktmos_lo) - set(pop_size_df_lo[\"Коды территорий\"])"
   ]
  },
  {
   "cell_type": "markdown",
   "metadata": {},
   "source": [
    "Проблема: некоторые ОКТМО исчезли, потому что они эти населенные пункту переехали на новые коды. Проигнорируем."
   ]
  },
  {
   "cell_type": "markdown",
   "metadata": {},
   "source": []
  },
  {
   "cell_type": "code",
   "execution_count": 101,
   "metadata": {},
   "outputs": [],
   "source": [
    "del pop_size_df"
   ]
  },
  {
   "cell_type": "code",
   "execution_count": 102,
   "metadata": {},
   "outputs": [],
   "source": [
    "# pop_size_df_lo=pop_size_df_lo.drop([\"городское\", \"сельское\"], axis = 1)\n",
    "# pop_size_df_lo=pop_size_df_lo.set_axis([\"oktmo\", \"name\", \"pop_size\"], axis=1)\n",
    "# pop_size_df_lo.sort_values(\"oktmo\", inplace=True)\n",
    "# pop_size_df_lo"
   ]
  },
  {
   "cell_type": "markdown",
   "metadata": {},
   "source": [
    "Удалим муниципальные районы, потому что это агрегаты других МО"
   ]
  },
  {
   "cell_type": "code",
   "execution_count": 103,
   "metadata": {},
   "outputs": [],
   "source": [
    "def is_mun_district(oktmo):\n",
    "    assert len(oktmo) == 8\n",
    "    return oktmo[-3:] == \"000\""
   ]
  },
  {
   "cell_type": "code",
   "execution_count": 104,
   "metadata": {},
   "outputs": [],
   "source": [
    "# pop_size_df_lo.pop_size.sum()"
   ]
  },
  {
   "cell_type": "code",
   "execution_count": 105,
   "metadata": {},
   "outputs": [],
   "source": [
    "# mun_districts_lo = pop_size_df_lo[pop_size_df_lo.oktmo.apply(is_mun_district)]\n",
    "# mun_districts_lo"
   ]
  },
  {
   "cell_type": "code",
   "execution_count": 106,
   "metadata": {},
   "outputs": [],
   "source": [
    "# pop_size_df_lo=pop_size_df_lo[~pop_size_df_lo.oktmo.apply(is_mun_district)]\n",
    "# pop_size_df_lo.pop_size.sum()"
   ]
  },
  {
   "cell_type": "markdown",
   "metadata": {},
   "source": [
    "### Подготовим данные о среде. "
   ]
  },
  {
   "cell_type": "code",
   "execution_count": 107,
   "metadata": {},
   "outputs": [],
   "source": [
    "allmun = pd.read_csv(\n",
    "\n",
    "    \"/Users/pishchulov/edu/matobes/НИР/outer_source/rosstat_allmun/allmuns/popsize (allmun).csv\")\n",
    "allmun[[\"oktmo\"]] = allmun[[\"oktmo\"]].astype(str)\n",
    "allmun[\"from_lo\"] = [bool(re.fullmatch(r\"41\\d+\", x)) for x in allmun.oktmo]\n",
    "allmun = allmun[(allmun.from_lo) & (allmun.year == 2022)]\n",
    "allmun = allmun[[\"oktmo\", \"name\", \"year\"]].set_index(\"oktmo\")"
   ]
  },
  {
   "cell_type": "code",
   "execution_count": 108,
   "metadata": {},
   "outputs": [
    {
     "data": {
      "text/html": [
       "<div>\n",
       "<style scoped>\n",
       "    .dataframe tbody tr th:only-of-type {\n",
       "        vertical-align: middle;\n",
       "    }\n",
       "\n",
       "    .dataframe tbody tr th {\n",
       "        vertical-align: top;\n",
       "    }\n",
       "\n",
       "    .dataframe thead th {\n",
       "        text-align: right;\n",
       "    }\n",
       "</style>\n",
       "<table border=\"1\" class=\"dataframe\">\n",
       "  <thead>\n",
       "    <tr style=\"text-align: right;\">\n",
       "      <th></th>\n",
       "      <th>name</th>\n",
       "      <th>year</th>\n",
       "    </tr>\n",
       "    <tr>\n",
       "      <th>oktmo</th>\n",
       "      <th></th>\n",
       "      <th></th>\n",
       "    </tr>\n",
       "  </thead>\n",
       "  <tbody>\n",
       "    <tr>\n",
       "      <th>41603000</th>\n",
       "      <td>Бокситогорский муниципальный район</td>\n",
       "      <td>2022</td>\n",
       "    </tr>\n",
       "    <tr>\n",
       "      <th>41603101</th>\n",
       "      <td>Бокситогорское</td>\n",
       "      <td>2022</td>\n",
       "    </tr>\n",
       "    <tr>\n",
       "      <th>41603102</th>\n",
       "      <td>Пикалёвское</td>\n",
       "      <td>2022</td>\n",
       "    </tr>\n",
       "    <tr>\n",
       "      <th>41603155</th>\n",
       "      <td>Ефимовское</td>\n",
       "      <td>2022</td>\n",
       "    </tr>\n",
       "    <tr>\n",
       "      <th>41603412</th>\n",
       "      <td>Большедворское</td>\n",
       "      <td>2022</td>\n",
       "    </tr>\n",
       "    <tr>\n",
       "      <th>...</th>\n",
       "      <td>...</td>\n",
       "      <td>...</td>\n",
       "    </tr>\n",
       "    <tr>\n",
       "      <th>41648430</th>\n",
       "      <td>Лисинское</td>\n",
       "      <td>2022</td>\n",
       "    </tr>\n",
       "    <tr>\n",
       "      <th>41648443</th>\n",
       "      <td>Тельмановское</td>\n",
       "      <td>2022</td>\n",
       "    </tr>\n",
       "    <tr>\n",
       "      <th>41648444</th>\n",
       "      <td>Трубникоборское</td>\n",
       "      <td>2022</td>\n",
       "    </tr>\n",
       "    <tr>\n",
       "      <th>41648464</th>\n",
       "      <td>Шапкинское</td>\n",
       "      <td>2022</td>\n",
       "    </tr>\n",
       "    <tr>\n",
       "      <th>41754000</th>\n",
       "      <td>Сосновоборский</td>\n",
       "      <td>2022</td>\n",
       "    </tr>\n",
       "  </tbody>\n",
       "</table>\n",
       "<p>205 rows × 2 columns</p>\n",
       "</div>"
      ],
      "text/plain": [
       "                                        name  year\n",
       "oktmo                                             \n",
       "41603000  Бокситогорский муниципальный район  2022\n",
       "41603101                      Бокситогорское  2022\n",
       "41603102                         Пикалёвское  2022\n",
       "41603155                          Ефимовское  2022\n",
       "41603412                      Большедворское  2022\n",
       "...                                      ...   ...\n",
       "41648430                           Лисинское  2022\n",
       "41648443                       Тельмановское  2022\n",
       "41648444                     Трубникоборское  2022\n",
       "41648464                          Шапкинское  2022\n",
       "41754000                      Сосновоборский  2022\n",
       "\n",
       "[205 rows x 2 columns]"
      ]
     },
     "execution_count": 108,
     "metadata": {},
     "output_type": "execute_result"
    }
   ],
   "source": [
    "allmun"
   ]
  },
  {
   "cell_type": "markdown",
   "metadata": {},
   "source": [
    "Нет ITMO2 данных за 2023 год, поэтому используем 2022."
   ]
  },
  {
   "cell_type": "code",
   "execution_count": 109,
   "metadata": {},
   "outputs": [],
   "source": [
    "\n",
    "mo_features = allmun\n",
    "# files = [\n",
    "#     \"shoparea\",\n",
    "#     \"foodseats\",\n",
    "#     \"agrprod\",\n",
    "#     \"beforeschool\",\n",
    "#     \"schoolnum\",  # тут нет требуемых районов\n",
    "#     \"museums\",\n",
    "#     \"theatres\",\n",
    "#     \"musartschool\",\n",
    "#     \"hospitalcap\",\n",
    "#     \"pollutionvol\",\n",
    "#     \"popsize\",\n",
    "#     \"retailturnover\",\n",
    "#     \"livarea\",\n",
    "\n",
    "# ]\n",
    "files = \"\"\"parks \n",
    "schoolnum \n",
    "cliniccap \n",
    "sportsvenue \n",
    "consnewareas \n",
    "popsize \n",
    "livestock \n",
    "saldo internat \n",
    "consnewapt \n",
    "budincome \n",
    "musartschool \n",
    "foodservturnover \n",
    "goodcompanies \n",
    "invest \n",
    "factoriescap \n",
    "shoparea \n",
    "museums \n",
    "agrprod \n",
    "roadslen \n",
    "hospitals \n",
    "outflow \n",
    "foodseats \n",
    "servicesnum \n",
    "avgsalary \n",
    "harvest \n",
    "funds \n",
    "library \n",
    "cultureorg \n",
    "saldo interreg \n",
    "avgemployers \n",
    "naturesecure \n",
    "goodcompincome \n",
    "visiblecompanies \n",
    "retailturnover \n",
    "beforeschool \n",
    "theatres \n",
    "saldo reg \n",
    "docsnum \n",
    "livarea \n",
    "badcompanies \"\"\".split('\\n')\n",
    "\n",
    "files_about_mo = [\"sportsvenue\", \"invest\",\n",
    "\n",
    "                  \"popsize\", \"shoparea\", \"roadslen\", \"hospitals\"]\n",
    "# for f in files_about\n",
    "#         _mo:\n",
    "#     d = pd.read_csv(\n",
    "#         f\"/Users/pishchulov/edu/matobes/НИР/outer_source/migration/ITMO-2/migforecasting/superdataset/features separately/{f} (allmun).csv\")\n",
    "#     d[[\"oktmo\"]] = d[[\"oktmo\"]].astype(str)\n",
    "#     d[\"from_lo\"] = [bool(re.fullmatch(r\"41\\d+\", x)) for x in d.oktmo]\n",
    "#     # d_lo = d[(d.from_lo) & (d.year == 202 2 (\n",
    "#         ]\n",
    "#     # print(f == f} {len(d_lo)}\")\n",
    "#     d = d[(d.oktmo.isin(mo_features.index)) & (\n",
    "#         d.year == 2022)].drop([\"from_lo\"], axis=1)\n",
    "#     if len(d) == 0:\n",
    "#         print(f\"error in {f}\")\n",
    "#     else:\n",
    "#         mo_features = mo_features.join(d.set_index(\"oktmo\").iloc[:, -1:], )"
   ]
  },
  {
   "cell_type": "code",
   "execution_count": 110,
   "metadata": {},
   "outputs": [
    {
     "data": {
      "text/plain": [
       "oktmo\n",
       "41603000     Бокситогорский муниципальный район\n",
       "41606000        Волосовский муниципальный район\n",
       "41609000         Волховский муниципальный район\n",
       "41612000       Всеволожский муниципальный район\n",
       "41615000         Выборгский муниципальный район\n",
       "41618000         Гатчинский муниципальный район\n",
       "41621000      Кингисеппский муниципальный район\n",
       "41624000          Киришский муниципальный район\n",
       "41625000          Кировский муниципальный район\n",
       "41627000    Лодейнопольский муниципальный район\n",
       "41630000      Ломоносовский муниципальный район\n",
       "41633000            Лужский муниципальный район\n",
       "41636000       Подпорожский муниципальный район\n",
       "41639000        Приозерский муниципальный район\n",
       "41642000        Сланцевский муниципальный район\n",
       "41645000         Тихвинский муниципальный район\n",
       "41648000         Тосненский муниципальный район\n",
       "41754000                         Сосновоборский\n",
       "Name: name, dtype: object"
      ]
     },
     "execution_count": 110,
     "metadata": {},
     "output_type": "execute_result"
    }
   ],
   "source": [
    "mun_districts = mo_features[pd.Series(\n",
    "    mo_features.index, index=mo_features.index).apply(is_mun_district)][\"name\"]\n",
    "mun_districts"
   ]
  },
  {
   "cell_type": "code",
   "execution_count": 111,
   "metadata": {},
   "outputs": [
    {
     "data": {
      "text/plain": [
       "205"
      ]
     },
     "execution_count": 111,
     "metadata": {},
     "output_type": "execute_result"
    }
   ],
   "source": [
    "len(mo_features)"
   ]
  },
  {
   "cell_type": "markdown",
   "metadata": {},
   "source": [
    "# Генерация популяции"
   ]
  },
  {
   "cell_type": "markdown",
   "metadata": {},
   "source": [
    "Распределения по полу и возрасту есть только для муниципальных районов.\n",
    "migration/ITMO-2/popsize/data0.xlsx"
   ]
  },
  {
   "cell_type": "code",
   "execution_count": 115,
   "metadata": {},
   "outputs": [
    {
     "name": "stdout",
     "output_type": "stream",
     "text": [
      "DONE\n"
     ]
    }
   ],
   "source": [
    "@dataclass\n",
    "class AgeGroup:\n",
    "    lo: int\n",
    "    hi: int\n",
    "\n",
    "    def __str__(self):\n",
    "        return f\"{self.lo}-{self.hi}\"\n",
    "\n",
    "\n",
    "age_groups = [\n",
    "    AgeGroup(0, 0),\n",
    "    AgeGroup(1, 4),\n",
    "    AgeGroup(5, 9),\n",
    "    AgeGroup(10, 14),\n",
    "    AgeGroup(15, 19),\n",
    "    AgeGroup(20, 24),\n",
    "    AgeGroup(25, 29),\n",
    "    AgeGroup(30, 34),\n",
    "    AgeGroup(35, 39),\n",
    "    AgeGroup(40, 44),\n",
    "    AgeGroup(45, 49),\n",
    "    AgeGroup(50, 54),\n",
    "    AgeGroup(55, 59),\n",
    "    AgeGroup(60, 64),\n",
    "    AgeGroup(65, 69),\n",
    "    AgeGroup(70, 74),\n",
    "    AgeGroup(75, 79),\n",
    "    AgeGroup(80, 84),\n",
    "    AgeGroup(85, 89),\n",
    "    AgeGroup(90, 94),\n",
    "    AgeGroup(95, 99),\n",
    "    AgeGroup(100, 100),\n",
    "]\n",
    "gender_age_dist_by_district_oktmo = {}\n",
    "for mun_district_oktmo, mun_district_name_series in pd.DataFrame(mun_districts).iterrows():\n",
    "    mun_district_name = mun_district_name_series.iloc[0]\n",
    "    mun_district_first_name = mun_district_name.split()[0]\n",
    "    try:\n",
    "        df = pd.read_excel(\n",
    "\n",
    "            \"/Users/pishchulov/edu/matobes/НИР/outer_source/migration/ITMO-2/popsize/data0.xlsx\", sheet_name=mun_district_first_name)\n",
    "    except ValueError:\n",
    "        df = pd.read_excel(\n",
    "\n",
    "            \"/Users/pishchulov/edu/matobes/НИР/outer_source/migration/ITMO-2/popsize/data0.xlsx\", sheet_name=mun_district_first_name+\" \")\n",
    "\n",
    "    col_num = list(df.iloc[0, :]).index(YEAR)\n",
    "    year_data = df.iloc[:, col_num]\n",
    "    males = []\n",
    "    females = []\n",
    "    for i, ag in enumerate(age_groups):\n",
    "        female = year_data.iloc[6+i*4]\n",
    "        male = year_data.iloc[7+i*4]\n",
    "        males.append(male)\n",
    "        females.append(female)\n",
    "\n",
    "    gender_age_dist = pd.DataFrame(\n",
    "        {\"male\": males, \"female\": females}, index=list(map(str, age_groups)))\n",
    "    gender_age_dist = gender_age_dist.fillna(gender_age_dist.mean())\n",
    "    gender_age_dist_by_district_oktmo[mun_district_oktmo] = gender_age_dist\n",
    "print(\"DONE\")"
   ]
  },
  {
   "cell_type": "code",
   "execution_count": null,
   "metadata": {},
   "outputs": [],
   "source": []
  }
 ],
 "metadata": {
  "kernelspec": {
   "display_name": ".venv",
   "language": "python",
   "name": "python3"
  },
  "language_info": {
   "codemirror_mode": {
    "name": "ipython",
    "version": 3
   },
   "file_extension": ".py",
   "mimetype": "text/x-python",
   "name": "python",
   "nbconvert_exporter": "python",
   "pygments_lexer": "ipython3",
   "version": "3.12.6"
  }
 },
 "nbformat": 4,
 "nbformat_minor": 2
}
