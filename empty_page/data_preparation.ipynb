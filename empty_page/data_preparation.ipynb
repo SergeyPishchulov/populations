{
 "cells": [
  {
   "cell_type": "code",
   "execution_count": 2,
   "metadata": {},
   "outputs": [],
   "source": [
    "from dataclasses import dataclass\n",
    "from enum import Enum, auto\n",
    "from typing import Self\n",
    "from uuid import uuid4\n",
    "from bamt.preprocessors import Preprocessor\n",
    "import pandas as pd\n",
    "from sklearn import preprocessing as pp\n",
    "\n",
    "import matplotlib.pyplot as plt\n",
    "import numpy as np\n",
    "import pandas as pd\n",
    "import plotly.express as px\n",
    "import plotly.graph_objects as go\n",
    "from scipy import stats\n",
    "import re\n",
    "from bamt.networks import HybridBN\n",
    "import random\n",
    "from xgboost import XGBClassifier, XGBRegressor\n",
    "from sklearn.model_selection import train_test_split\n",
    "from sklearn.metrics import accuracy_score, mean_absolute_percentage_error as mape\n",
    "from sklearn.metrics import mean_absolute_error as mae\n",
    "from tqdm import tqdm\n",
    "import seaborn as sns\n",
    "\n",
    "\n",
    "YEAR = 2022"
   ]
  },
  {
   "cell_type": "code",
   "execution_count": 3,
   "metadata": {},
   "outputs": [],
   "source": [
    "df = pd.read_csv(\n",
    "\n",
    "    \"/Users/pishchulov/edu/matobes/НИР/outer_source/migration/ITMO-2/migforecasting/mig whereabouts/inflow LO.csv\")"
   ]
  },
  {
   "cell_type": "markdown",
   "metadata": {},
   "source": [
    "Выделим ОКТМО из Ленобласти"
   ]
  },
  {
   "cell_type": "code",
   "execution_count": 4,
   "metadata": {},
   "outputs": [],
   "source": [
    "oktmos = map(str,  df.oktmo.unique())"
   ]
  },
  {
   "cell_type": "code",
   "execution_count": 5,
   "metadata": {},
   "outputs": [],
   "source": [
    "oktmos_lo = [x for x in oktmos if re.fullmatch(r\"41\\d+\", x)]"
   ]
  },
  {
   "cell_type": "code",
   "execution_count": 6,
   "metadata": {},
   "outputs": [],
   "source": [
    "del oktmos"
   ]
  },
  {
   "cell_type": "code",
   "execution_count": 7,
   "metadata": {},
   "outputs": [
    {
     "data": {
      "text/plain": [
       "226"
      ]
     },
     "execution_count": 7,
     "metadata": {},
     "output_type": "execute_result"
    }
   ],
   "source": [
    "len(oktmos_lo)"
   ]
  },
  {
   "cell_type": "markdown",
   "metadata": {},
   "source": [
    "Определим численность населения. Проблема: удалось найти данные только за 2024 год"
   ]
  },
  {
   "cell_type": "code",
   "execution_count": 8,
   "metadata": {},
   "outputs": [],
   "source": [
    "pop_size_df = pd.read_excel(\n",
    "\n",
    "    \"/Users/pishchulov/edu/matobes/НИР/outer_source/численность МО/Сhisl_MO_01-01-2024_only_LO.xlsx\")"
   ]
  },
  {
   "cell_type": "code",
   "execution_count": 9,
   "metadata": {},
   "outputs": [
    {
     "data": {
      "text/html": [
       "<div>\n",
       "<style scoped>\n",
       "    .dataframe tbody tr th:only-of-type {\n",
       "        vertical-align: middle;\n",
       "    }\n",
       "\n",
       "    .dataframe tbody tr th {\n",
       "        vertical-align: top;\n",
       "    }\n",
       "\n",
       "    .dataframe thead th {\n",
       "        text-align: right;\n",
       "    }\n",
       "</style>\n",
       "<table border=\"1\" class=\"dataframe\">\n",
       "  <thead>\n",
       "    <tr style=\"text-align: right;\">\n",
       "      <th></th>\n",
       "      <th>Коды территорий</th>\n",
       "      <th>Unnamed: 1</th>\n",
       "      <th>население</th>\n",
       "      <th>городское</th>\n",
       "      <th>сельское</th>\n",
       "    </tr>\n",
       "  </thead>\n",
       "  <tbody>\n",
       "    <tr>\n",
       "      <th>0</th>\n",
       "      <td>4100000000</td>\n",
       "      <td>Ленинградская область</td>\n",
       "      <td>2035762</td>\n",
       "      <td>1373533</td>\n",
       "      <td>662229</td>\n",
       "    </tr>\n",
       "    <tr>\n",
       "      <th>1</th>\n",
       "      <td>41754000 0 0</td>\n",
       "      <td>Сосновоборский городской округ</td>\n",
       "      <td>63462</td>\n",
       "      <td>63462</td>\n",
       "      <td>0</td>\n",
       "    </tr>\n",
       "    <tr>\n",
       "      <th>2</th>\n",
       "      <td>41754000001 1 0 0 0</td>\n",
       "      <td>г Сосновый Бор</td>\n",
       "      <td>63462</td>\n",
       "      <td>63462</td>\n",
       "      <td>0</td>\n",
       "    </tr>\n",
       "    <tr>\n",
       "      <th>3</th>\n",
       "      <td>41603000 0 0</td>\n",
       "      <td>Бокситогорский муниципальный район</td>\n",
       "      <td>50855</td>\n",
       "      <td>39107</td>\n",
       "      <td>11748</td>\n",
       "    </tr>\n",
       "    <tr>\n",
       "      <th>4</th>\n",
       "      <td>41603101 0 0</td>\n",
       "      <td>Городское поселение Бокситогорское</td>\n",
       "      <td>15764</td>\n",
       "      <td>15480</td>\n",
       "      <td>284</td>\n",
       "    </tr>\n",
       "    <tr>\n",
       "      <th>...</th>\n",
       "      <td>...</td>\n",
       "      <td>...</td>\n",
       "      <td>...</td>\n",
       "      <td>...</td>\n",
       "      <td>...</td>\n",
       "    </tr>\n",
       "    <tr>\n",
       "      <th>271</th>\n",
       "      <td>41648418 0 0</td>\n",
       "      <td>Сельское поселение Нурминское</td>\n",
       "      <td>3338</td>\n",
       "      <td>0</td>\n",
       "      <td>3338</td>\n",
       "    </tr>\n",
       "    <tr>\n",
       "      <th>272</th>\n",
       "      <td>41648430 0 0</td>\n",
       "      <td>Сельское поселение Лисинское</td>\n",
       "      <td>1875</td>\n",
       "      <td>0</td>\n",
       "      <td>1875</td>\n",
       "    </tr>\n",
       "    <tr>\n",
       "      <th>273</th>\n",
       "      <td>41648443 0 0</td>\n",
       "      <td>Сельское поселение Тельмановское</td>\n",
       "      <td>26781</td>\n",
       "      <td>0</td>\n",
       "      <td>26781</td>\n",
       "    </tr>\n",
       "    <tr>\n",
       "      <th>274</th>\n",
       "      <td>41648444 0 0</td>\n",
       "      <td>Сельское поселение Трубникоборское</td>\n",
       "      <td>1599</td>\n",
       "      <td>0</td>\n",
       "      <td>1599</td>\n",
       "    </tr>\n",
       "    <tr>\n",
       "      <th>275</th>\n",
       "      <td>41648464 0 0</td>\n",
       "      <td>Сельское поселение Шапкинское</td>\n",
       "      <td>547</td>\n",
       "      <td>0</td>\n",
       "      <td>547</td>\n",
       "    </tr>\n",
       "  </tbody>\n",
       "</table>\n",
       "<p>276 rows × 5 columns</p>\n",
       "</div>"
      ],
      "text/plain": [
       "         Коды территорий                          Unnamed: 1  население  \\\n",
       "0             4100000000               Ленинградская область    2035762   \n",
       "1           41754000 0 0      Сосновоборский городской округ      63462   \n",
       "2    41754000001 1 0 0 0                      г Сосновый Бор      63462   \n",
       "3           41603000 0 0  Бокситогорский муниципальный район      50855   \n",
       "4           41603101 0 0  Городское поселение Бокситогорское      15764   \n",
       "..                   ...                                 ...        ...   \n",
       "271         41648418 0 0       Сельское поселение Нурминское       3338   \n",
       "272         41648430 0 0        Сельское поселение Лисинское       1875   \n",
       "273         41648443 0 0    Сельское поселение Тельмановское      26781   \n",
       "274         41648444 0 0  Сельское поселение Трубникоборское       1599   \n",
       "275         41648464 0 0       Сельское поселение Шапкинское        547   \n",
       "\n",
       "     городское  сельское  \n",
       "0      1373533    662229  \n",
       "1        63462         0  \n",
       "2        63462         0  \n",
       "3        39107     11748  \n",
       "4        15480       284  \n",
       "..         ...       ...  \n",
       "271          0      3338  \n",
       "272          0      1875  \n",
       "273          0     26781  \n",
       "274          0      1599  \n",
       "275          0       547  \n",
       "\n",
       "[276 rows x 5 columns]"
      ]
     },
     "execution_count": 9,
     "metadata": {},
     "output_type": "execute_result"
    }
   ],
   "source": [
    "pop_size_df"
   ]
  },
  {
   "cell_type": "code",
   "execution_count": 10,
   "metadata": {},
   "outputs": [],
   "source": [
    "def discard_to_8_chars(s):\n",
    "    if len(s) != 10:\n",
    "        return s\n",
    "    if s[-2:] == \"00\":\n",
    "        return s[:-2]"
   ]
  },
  {
   "cell_type": "code",
   "execution_count": 11,
   "metadata": {},
   "outputs": [],
   "source": [
    "pop_size_df[\"Коды территорий\"] = pd.Series([discard_to_8_chars(x.replace(\n",
    "\n",
    "    \" \", \"\")) for x in map(str, pop_size_df[\"Коды территорий\"])], dtype=str)"
   ]
  },
  {
   "cell_type": "code",
   "execution_count": 12,
   "metadata": {},
   "outputs": [],
   "source": [
    "# pop_size_df_lo = pop_size_df[pop_size_df[\"Коды территорий\"].isin(oktmos_lo)]"
   ]
  },
  {
   "cell_type": "code",
   "execution_count": 13,
   "metadata": {},
   "outputs": [],
   "source": [
    "# set(oktmos_lo) - set(pop_size_df_lo[\"Коды территорий\"])"
   ]
  },
  {
   "cell_type": "markdown",
   "metadata": {},
   "source": [
    "Проблема: некоторые ОКТМО исчезли, потому что они эти населенные пункту переехали на новые коды. Проигнорируем."
   ]
  },
  {
   "cell_type": "markdown",
   "metadata": {},
   "source": []
  },
  {
   "cell_type": "code",
   "execution_count": 14,
   "metadata": {},
   "outputs": [],
   "source": [
    "del pop_size_df"
   ]
  },
  {
   "cell_type": "code",
   "execution_count": 15,
   "metadata": {},
   "outputs": [],
   "source": [
    "# pop_size_df_lo=pop_size_df_lo.drop([\"городское\", \"сельское\"], axis = 1)\n",
    "# pop_size_df_lo=pop_size_df_lo.set_axis([\"oktmo\", \"name\", \"pop_size\"], axis=1)\n",
    "# pop_size_df_lo.sort_values(\"oktmo\", inplace=True)\n",
    "# pop_size_df_lo"
   ]
  },
  {
   "cell_type": "markdown",
   "metadata": {},
   "source": [
    "Удалим муниципальные районы, потому что это агрегаты других МО"
   ]
  },
  {
   "cell_type": "code",
   "execution_count": 16,
   "metadata": {},
   "outputs": [],
   "source": [
    "def is_mun_district(oktmo):\n",
    "    assert len(oktmo) == 8\n",
    "    return oktmo[-3:] == \"000\""
   ]
  },
  {
   "cell_type": "code",
   "execution_count": 17,
   "metadata": {},
   "outputs": [],
   "source": [
    "# pop_size_df_lo.pop_size.sum()"
   ]
  },
  {
   "cell_type": "code",
   "execution_count": 18,
   "metadata": {},
   "outputs": [],
   "source": [
    "# mun_districts_lo = pop_size_df_lo[pop_size_df_lo.oktmo.apply(is_mun_district)]\n",
    "# mun_districts_lo"
   ]
  },
  {
   "cell_type": "code",
   "execution_count": 19,
   "metadata": {},
   "outputs": [],
   "source": [
    "# pop_size_df_lo=pop_size_df_lo[~pop_size_df_lo.oktmo.apply(is_mun_district)]\n",
    "# pop_size_df_lo.pop_size.sum()"
   ]
  },
  {
   "cell_type": "markdown",
   "metadata": {},
   "source": [
    "### Подготовим данные о среде. "
   ]
  },
  {
   "cell_type": "code",
   "execution_count": 20,
   "metadata": {},
   "outputs": [],
   "source": [
    "allmun = pd.read_csv(\n",
    "\n",
    "    \"/Users/pishchulov/edu/matobes/НИР/outer_source/rosstat_allmun/allmuns/popsize (allmun).csv\")\n",
    "allmun[[\"oktmo\"]] = allmun[[\"oktmo\"]].astype(str)\n",
    "allmun[\"from_lo\"] = [bool(re.fullmatch(r\"41\\d+\", x)) for x in allmun.oktmo]\n",
    "allmun = allmun[(allmun.from_lo) & (allmun.year == YEAR)]\n",
    "allmun = allmun[[\"oktmo\", \"name\", \"year\", \"popsize\"]].set_index(\"oktmo\")\n",
    "allmun[\"popsize\"] = allmun[\"popsize\"].astype(int)"
   ]
  },
  {
   "cell_type": "code",
   "execution_count": 21,
   "metadata": {},
   "outputs": [
    {
     "data": {
      "text/html": [
       "<div>\n",
       "<style scoped>\n",
       "    .dataframe tbody tr th:only-of-type {\n",
       "        vertical-align: middle;\n",
       "    }\n",
       "\n",
       "    .dataframe tbody tr th {\n",
       "        vertical-align: top;\n",
       "    }\n",
       "\n",
       "    .dataframe thead th {\n",
       "        text-align: right;\n",
       "    }\n",
       "</style>\n",
       "<table border=\"1\" class=\"dataframe\">\n",
       "  <thead>\n",
       "    <tr style=\"text-align: right;\">\n",
       "      <th></th>\n",
       "      <th>name</th>\n",
       "      <th>year</th>\n",
       "      <th>popsize</th>\n",
       "    </tr>\n",
       "    <tr>\n",
       "      <th>oktmo</th>\n",
       "      <th></th>\n",
       "      <th></th>\n",
       "      <th></th>\n",
       "    </tr>\n",
       "  </thead>\n",
       "  <tbody>\n",
       "    <tr>\n",
       "      <th>41603000</th>\n",
       "      <td>Бокситогорский муниципальный район</td>\n",
       "      <td>2022</td>\n",
       "      <td>47236</td>\n",
       "    </tr>\n",
       "    <tr>\n",
       "      <th>41603101</th>\n",
       "      <td>Бокситогорское</td>\n",
       "      <td>2022</td>\n",
       "      <td>14606</td>\n",
       "    </tr>\n",
       "    <tr>\n",
       "      <th>41603102</th>\n",
       "      <td>Пикалёвское</td>\n",
       "      <td>2022</td>\n",
       "      <td>19250</td>\n",
       "    </tr>\n",
       "    <tr>\n",
       "      <th>41603155</th>\n",
       "      <td>Ефимовское</td>\n",
       "      <td>2022</td>\n",
       "      <td>4389</td>\n",
       "    </tr>\n",
       "    <tr>\n",
       "      <th>41603412</th>\n",
       "      <td>Большедворское</td>\n",
       "      <td>2022</td>\n",
       "      <td>1486</td>\n",
       "    </tr>\n",
       "    <tr>\n",
       "      <th>...</th>\n",
       "      <td>...</td>\n",
       "      <td>...</td>\n",
       "      <td>...</td>\n",
       "    </tr>\n",
       "    <tr>\n",
       "      <th>41648430</th>\n",
       "      <td>Лисинское</td>\n",
       "      <td>2022</td>\n",
       "      <td>1703</td>\n",
       "    </tr>\n",
       "    <tr>\n",
       "      <th>41648443</th>\n",
       "      <td>Тельмановское</td>\n",
       "      <td>2022</td>\n",
       "      <td>13191</td>\n",
       "    </tr>\n",
       "    <tr>\n",
       "      <th>41648444</th>\n",
       "      <td>Трубникоборское</td>\n",
       "      <td>2022</td>\n",
       "      <td>1479</td>\n",
       "    </tr>\n",
       "    <tr>\n",
       "      <th>41648464</th>\n",
       "      <td>Шапкинское</td>\n",
       "      <td>2022</td>\n",
       "      <td>439</td>\n",
       "    </tr>\n",
       "    <tr>\n",
       "      <th>41754000</th>\n",
       "      <td>Сосновоборский</td>\n",
       "      <td>2022</td>\n",
       "      <td>65941</td>\n",
       "    </tr>\n",
       "  </tbody>\n",
       "</table>\n",
       "<p>205 rows × 3 columns</p>\n",
       "</div>"
      ],
      "text/plain": [
       "                                        name  year  popsize\n",
       "oktmo                                                      \n",
       "41603000  Бокситогорский муниципальный район  2022    47236\n",
       "41603101                      Бокситогорское  2022    14606\n",
       "41603102                         Пикалёвское  2022    19250\n",
       "41603155                          Ефимовское  2022     4389\n",
       "41603412                      Большедворское  2022     1486\n",
       "...                                      ...   ...      ...\n",
       "41648430                           Лисинское  2022     1703\n",
       "41648443                       Тельмановское  2022    13191\n",
       "41648444                     Трубникоборское  2022     1479\n",
       "41648464                          Шапкинское  2022      439\n",
       "41754000                      Сосновоборский  2022    65941\n",
       "\n",
       "[205 rows x 3 columns]"
      ]
     },
     "execution_count": 21,
     "metadata": {},
     "output_type": "execute_result"
    }
   ],
   "source": [
    "allmun"
   ]
  },
  {
   "cell_type": "markdown",
   "metadata": {},
   "source": [
    "Нет ITMO2 данных за 2023 год, поэтому используем 2022."
   ]
  },
  {
   "cell_type": "code",
   "execution_count": 22,
   "metadata": {},
   "outputs": [
    {
     "name": "stdout",
     "output_type": "stream",
     "text": [
      " f== parks 184\n",
      " f== schoolnum 2515\n",
      " f== cliniccap 998\n",
      " f== sportsvenue 3583\n",
      " f== consnewareas 2662\n",
      " f== popsize 2621\n",
      " f== livestock 288\n",
      " f== saldo internat 2246\n",
      " f== consnewapt 72\n",
      " f== budincome 3260\n",
      " f== musartschool 950\n",
      " f== foodservturnover 153\n",
      " f== goodcompanies 1432\n",
      " f== invest 2912\n",
      " f== factoriescap 162\n",
      " f== shoparea 3003\n",
      " f== museums 482\n",
      " f== agrprod 270\n",
      " f== roadslen 2467\n",
      " f== hospitals 1754\n",
      " f== outflow 2508\n",
      " f== foodseats 2710\n",
      " f== servicesnum 3062\n",
      " f== avgsalary 417\n",
      " f== harvest 273\n",
      " f== funds 2777\n",
      " f== library 1816\n",
      " f== cultureorg 2502\n",
      " f== saldo interreg 2508\n",
      " f== avgemployers 417\n",
      " f== naturesecure 374\n",
      " f== goodcompincome 902\n",
      " f== visiblecompanies 1695\n",
      " f== retailturnover 234\n",
      " f== beforeschool 1412\n",
      " f== theatres 74\n",
      " f== saldo reg 2503\n",
      " f== docsnum 1003\n",
      " f== livarea 396\n",
      " f== badcompanies 1022\n"
     ]
    }
   ],
   "source": [
    "\n",
    "mo_features = allmun\n",
    "# files = [\n",
    "#     \"shoparea\",\n",
    "#     \"foodseats\",\n",
    "#     \"agrprod\",\n",
    "#     \"beforeschool\",\n",
    "#     \"schoolnum\",  # тут нет требуемых районов\n",
    "#     \"museums\",\n",
    "#     \"theatres\",\n",
    "#     \"musartschool\",\n",
    "#     \"hospitalcap\",\n",
    "#     \"pollutionvol\",\n",
    "#     \"popsize\",\n",
    "#     \"retailturnover\",\n",
    "#     \"livarea\",\n",
    "\n",
    "# ]\n",
    "files = \"\"\"parks\n",
    "schoolnum\n",
    "cliniccap\n",
    "sportsvenue\n",
    "consnewareas\n",
    "popsize\n",
    "livestock\n",
    "saldo internat\n",
    "consnewapt\n",
    "budincome\n",
    "musartschool\n",
    "foodservturnover\n",
    "goodcompanies\n",
    "invest\n",
    "factoriescap\n",
    "shoparea\n",
    "museums\n",
    "agrprod\n",
    "roadslen\n",
    "hospitals\n",
    "outflow\n",
    "foodseats\n",
    "servicesnum\n",
    "avgsalary\n",
    "harvest\n",
    "funds\n",
    "library\n",
    "cultureorg\n",
    "saldo interreg\n",
    "avgemployers\n",
    "naturesecure\n",
    "goodcompincome\n",
    "visiblecompanies\n",
    "retailturnover\n",
    "beforeschool\n",
    "theatres\n",
    "saldo reg\n",
    "docsnum\n",
    "livarea\n",
    "badcompanies\"\"\".split('\\n')\n",
    "\n",
    "files_about_mo = [\"sportsvenue\", \"invest\",\n",
    "\n",
    "                  \"popsize\", \"shoparea\", \"roadslen\", \"hospitals\"]\n",
    "for f in files:\n",
    "    d = pd.read_csv(\n",
    "        f\"/Users/pishchulov/edu/matobes/НИР/outer_source/migration/ITMO-2/migforecasting/superdataset/features separately/{f} (allmun).csv\")\n",
    "    d[[\"oktmo\"]] = d[[\"oktmo\"]].astype(str)\n",
    "    d[\"from_lo\"] = [bool(re.fullmatch(r\"41\\d+\", x)) for x in d.oktmo]\n",
    "    d_lo = d[(d.from_lo) \n",
    "            #  & (d.year == 2022)\n",
    "             ]\n",
    "    if len(d_lo):\n",
    "        print(f\" f== {f} {len(d_lo)}\")\n",
    "    # d = d[(d.oktmo.isin(mo_features.index)) & (\n",
    "    #     d.year == 2022)].drop([\"from_lo\"], axis=1)\n",
    "    # if len(d) == 0:\n",
    "    #     print(f\"error in {f}\")\n",
    "    # else:\n",
    "    #     mo_features = mo_features.join(d.set_index(\"oktmo\").iloc[:, -1:], )"
   ]
  },
  {
   "cell_type": "code",
   "execution_count": 23,
   "metadata": {},
   "outputs": [
    {
     "data": {
      "text/plain": [
       "oktmo\n",
       "41603000     Бокситогорский муниципальный район\n",
       "41606000        Волосовский муниципальный район\n",
       "41609000         Волховский муниципальный район\n",
       "41612000       Всеволожский муниципальный район\n",
       "41615000         Выборгский муниципальный район\n",
       "41618000         Гатчинский муниципальный район\n",
       "41621000      Кингисеппский муниципальный район\n",
       "41624000          Киришский муниципальный район\n",
       "41625000          Кировский муниципальный район\n",
       "41627000    Лодейнопольский муниципальный район\n",
       "41630000      Ломоносовский муниципальный район\n",
       "41633000            Лужский муниципальный район\n",
       "41636000       Подпорожский муниципальный район\n",
       "41639000        Приозерский муниципальный район\n",
       "41642000        Сланцевский муниципальный район\n",
       "41645000         Тихвинский муниципальный район\n",
       "41648000         Тосненский муниципальный район\n",
       "41754000                         Сосновоборский\n",
       "Name: name, dtype: object"
      ]
     },
     "execution_count": 23,
     "metadata": {},
     "output_type": "execute_result"
    }
   ],
   "source": [
    "mun_districts = mo_features[pd.Series(\n",
    "    mo_features.index, index=mo_features.index).apply(is_mun_district)][\"name\"]\n",
    "mun_districts"
   ]
  },
  {
   "cell_type": "markdown",
   "metadata": {},
   "source": [
    "#### Список муниципальных образований без муниципальных округов"
   ]
  },
  {
   "cell_type": "code",
   "execution_count": 24,
   "metadata": {},
   "outputs": [],
   "source": [
    "mun_units = mo_features[~pd.Series(\n",
    "    mo_features.index, index=mo_features.index).apply(is_mun_district)][[\"name\", \"popsize\"]]"
   ]
  },
  {
   "cell_type": "code",
   "execution_count": 25,
   "metadata": {},
   "outputs": [
    {
     "data": {
      "text/plain": [
       "(205, 187)"
      ]
     },
     "execution_count": 25,
     "metadata": {},
     "output_type": "execute_result"
    }
   ],
   "source": [
    "len(mo_features), len(mun_units)"
   ]
  },
  {
   "cell_type": "markdown",
   "metadata": {},
   "source": [
    "# Генерация популяции"
   ]
  },
  {
   "cell_type": "markdown",
   "metadata": {},
   "source": [
    "Распределения по полу и возрасту есть только для муниципальных районов.\n",
    "migration/ITMO-2/popsize/data0.xlsx"
   ]
  },
  {
   "cell_type": "code",
   "execution_count": 26,
   "metadata": {},
   "outputs": [],
   "source": [
    "@dataclass\n",
    "class AgeGroup:\n",
    "    lo: int\n",
    "    hi: int\n",
    "\n",
    "    def __str__(self):\n",
    "        return f\"{self.lo}-{self.hi}\"\n",
    "\n",
    "    @staticmethod\n",
    "    def from_str(s):\n",
    "        lo, hi = list(map(int, s.split('-')))\n",
    "        return AgeGroup(lo=lo, hi=hi)\n",
    "\n",
    "    def get_random_age(self):\n",
    "        return random.choice(list(range(self.lo, self.hi+1)))\n",
    "\n",
    "\n",
    "age_groups = [\n",
    "    AgeGroup(0, 0),\n",
    "    AgeGroup(1, 4),\n",
    "    AgeGroup(5, 9),\n",
    "    AgeGroup(10, 14),\n",
    "    AgeGroup(15, 19),\n",
    "    AgeGroup(20, 24),\n",
    "    AgeGroup(25, 29),\n",
    "    AgeGroup(30, 34),\n",
    "    AgeGroup(35, 39),\n",
    "    AgeGroup(40, 44),\n",
    "    AgeGroup(45, 49),\n",
    "    AgeGroup(50, 54),\n",
    "    AgeGroup(55, 59),\n",
    "    AgeGroup(60, 64),\n",
    "    AgeGroup(65, 69),\n",
    "    AgeGroup(70, 74),\n",
    "    AgeGroup(75, 79),\n",
    "    AgeGroup(80, 84),\n",
    "    AgeGroup(85, 89),\n",
    "    AgeGroup(90, 94),\n",
    "    AgeGroup(95, 99),\n",
    "    AgeGroup(100, 100),\n",
    "]\n",
    "gender_age_dist_by_district_oktmo = {}\n",
    "for mun_district_oktmo, mun_district_name_series in pd.DataFrame(mun_districts).iterrows():\n",
    "    mun_district_name = mun_district_name_series.iloc[0]\n",
    "    mun_district_first_name = mun_district_name.split()[0]\n",
    "    try:\n",
    "        df = pd.read_excel(\n",
    "\n",
    "            \"/Users/pishchulov/edu/matobes/НИР/outer_source/migration/ITMO-2/popsize/data0.xlsx\", sheet_name=mun_district_first_name)\n",
    "    except ValueError:\n",
    "        df = pd.read_excel(\n",
    "\n",
    "            \"/Users/pishchulov/edu/matobes/НИР/outer_source/migration/ITMO-2/popsize/data0.xlsx\", sheet_name=mun_district_first_name+\" \")\n",
    "\n",
    "    col_num = list(df.iloc[0, :]).index(YEAR)\n",
    "    year_data = df.iloc[:, col_num]\n",
    "    males = []\n",
    "    females = []\n",
    "    for i, ag in enumerate(age_groups):\n",
    "        female = year_data.iloc[6+i*4]\n",
    "        male = year_data.iloc[7+i*4]\n",
    "        males.append(male)\n",
    "        females.append(female)\n",
    "\n",
    "    gender_age_dist = pd.DataFrame(\n",
    "        {\"male\": males, \"female\": females}, index=list(map(str, age_groups)))\n",
    "    gender_age_dist = gender_age_dist.fillna(gender_age_dist.mean())\n",
    "    gender_age_dist_by_district_oktmo[mun_district_oktmo] = gender_age_dist"
   ]
  },
  {
   "cell_type": "markdown",
   "metadata": {},
   "source": [
    "##### Построим набор данных, следующих имеющемуся распредление пола и возраста"
   ]
  },
  {
   "cell_type": "code",
   "execution_count": 27,
   "metadata": {},
   "outputs": [],
   "source": [
    "def gender_age_dist_to_population(gender_age_dist_by_district_oktmo):\n",
    "    \"\"\"Принимает распределение по полу и возрасту для каждого мун. района.\n",
    "    Генереириует популяцию.\n",
    "    Разворачивает статистики в выборку, \n",
    "    предполагая, что в каждой возрастной группе возраст распредлен равномерно\"\"\"\n",
    "    age_sex_population = []\n",
    "    for district_oktmo, age_sed_distribution_df in gender_age_dist_by_district_oktmo.items():\n",
    "        for age_group_str, row in age_sed_distribution_df.iterrows():\n",
    "            age_group = AgeGroup.from_str(age_group_str)\n",
    "            males_cnt = int(row[\"male\"])\n",
    "            females_cnt = int(row[\"female\"])\n",
    "            for _ in range(males_cnt):\n",
    "                age_sex_population.append(\n",
    "                    (age_group.get_random_age(), 1, district_oktmo))\n",
    "            for _ in range(females_cnt):\n",
    "                age_sex_population.append(\n",
    "                    (age_group.get_random_age(), 0, district_oktmo))\n",
    "    population = pd.DataFrame(age_sex_population, columns=[\n",
    "        \"age\", \"male\", \"district_oktmo\"]).sample(frac=1).reset_index(drop=True)\n",
    "    return population"
   ]
  },
  {
   "cell_type": "markdown",
   "metadata": {},
   "source": [
    "Популяция по мун. районам"
   ]
  },
  {
   "cell_type": "code",
   "execution_count": 28,
   "metadata": {},
   "outputs": [
    {
     "data": {
      "text/html": [
       "<div>\n",
       "<style scoped>\n",
       "    .dataframe tbody tr th:only-of-type {\n",
       "        vertical-align: middle;\n",
       "    }\n",
       "\n",
       "    .dataframe tbody tr th {\n",
       "        vertical-align: top;\n",
       "    }\n",
       "\n",
       "    .dataframe thead th {\n",
       "        text-align: right;\n",
       "    }\n",
       "</style>\n",
       "<table border=\"1\" class=\"dataframe\">\n",
       "  <thead>\n",
       "    <tr style=\"text-align: right;\">\n",
       "      <th></th>\n",
       "      <th>age</th>\n",
       "      <th>male</th>\n",
       "      <th>district_oktmo</th>\n",
       "    </tr>\n",
       "  </thead>\n",
       "  <tbody>\n",
       "    <tr>\n",
       "      <th>0</th>\n",
       "      <td>73</td>\n",
       "      <td>0</td>\n",
       "      <td>41606000</td>\n",
       "    </tr>\n",
       "    <tr>\n",
       "      <th>1</th>\n",
       "      <td>21</td>\n",
       "      <td>0</td>\n",
       "      <td>41618000</td>\n",
       "    </tr>\n",
       "    <tr>\n",
       "      <th>2</th>\n",
       "      <td>23</td>\n",
       "      <td>0</td>\n",
       "      <td>41621000</td>\n",
       "    </tr>\n",
       "    <tr>\n",
       "      <th>3</th>\n",
       "      <td>25</td>\n",
       "      <td>0</td>\n",
       "      <td>41642000</td>\n",
       "    </tr>\n",
       "    <tr>\n",
       "      <th>4</th>\n",
       "      <td>24</td>\n",
       "      <td>1</td>\n",
       "      <td>41648000</td>\n",
       "    </tr>\n",
       "    <tr>\n",
       "      <th>...</th>\n",
       "      <td>...</td>\n",
       "      <td>...</td>\n",
       "      <td>...</td>\n",
       "    </tr>\n",
       "    <tr>\n",
       "      <th>2074072</th>\n",
       "      <td>75</td>\n",
       "      <td>1</td>\n",
       "      <td>41642000</td>\n",
       "    </tr>\n",
       "    <tr>\n",
       "      <th>2074073</th>\n",
       "      <td>56</td>\n",
       "      <td>1</td>\n",
       "      <td>41615000</td>\n",
       "    </tr>\n",
       "    <tr>\n",
       "      <th>2074074</th>\n",
       "      <td>53</td>\n",
       "      <td>1</td>\n",
       "      <td>41625000</td>\n",
       "    </tr>\n",
       "    <tr>\n",
       "      <th>2074075</th>\n",
       "      <td>20</td>\n",
       "      <td>1</td>\n",
       "      <td>41612000</td>\n",
       "    </tr>\n",
       "    <tr>\n",
       "      <th>2074076</th>\n",
       "      <td>43</td>\n",
       "      <td>1</td>\n",
       "      <td>41609000</td>\n",
       "    </tr>\n",
       "  </tbody>\n",
       "</table>\n",
       "<p>2074077 rows × 3 columns</p>\n",
       "</div>"
      ],
      "text/plain": [
       "         age  male district_oktmo\n",
       "0         73     0       41606000\n",
       "1         21     0       41618000\n",
       "2         23     0       41621000\n",
       "3         25     0       41642000\n",
       "4         24     1       41648000\n",
       "...      ...   ...            ...\n",
       "2074072   75     1       41642000\n",
       "2074073   56     1       41615000\n",
       "2074074   53     1       41625000\n",
       "2074075   20     1       41612000\n",
       "2074076   43     1       41609000\n",
       "\n",
       "[2074077 rows x 3 columns]"
      ]
     },
     "execution_count": 28,
     "metadata": {},
     "output_type": "execute_result"
    }
   ],
   "source": [
    "population = gender_age_dist_to_population(gender_age_dist_by_district_oktmo)\n",
    "mun_district_population = population\n",
    "population"
   ]
  },
  {
   "cell_type": "markdown",
   "metadata": {},
   "source": [
    "### Определим образование. Построим условное распределение образования от пола и возраста."
   ]
  },
  {
   "cell_type": "code",
   "execution_count": 29,
   "metadata": {},
   "outputs": [],
   "source": [
    "rlms = pd.read_excel(\"/Users/pishchulov/edu/matobes/НИР/Data_RLMS.xlsx\")\n",
    "data = rlms[[\"age\", \"male\", \"educ\", \"lnwage\", \"children\"]]"
   ]
  },
  {
   "cell_type": "markdown",
   "metadata": {},
   "source": [
    "#### Обучим классифкатор для предсказания уровня образования на данных RLMS"
   ]
  },
  {
   "cell_type": "code",
   "execution_count": 30,
   "metadata": {},
   "outputs": [
    {
     "data": {
      "text/plain": [
       "0.42838709677419357"
      ]
     },
     "execution_count": 30,
     "metadata": {},
     "output_type": "execute_result"
    }
   ],
   "source": [
    "X_train, X_test, y_train, y_test = train_test_split(\n",
    "    \n",
    "    data[[\"age\", \"male\"]], data['educ'], test_size=.2)\n",
    "educ_clsf = XGBClassifier()\n",
    "educ_clsf.fit(X_train, y_train) \n",
    "preds = educ_clsf.predict(X_test)  # TODO predict proba\n",
    "# accuracy == 40% - на первый взгляд довольно плохой результат,\n",
    "# но все равно гораздо лучше, чем назначать уровень образования исходя из общих рассуждений и здравого смысла\n",
    "accuracy_score(y_test, preds)"
   ]
  },
  {
   "cell_type": "markdown",
   "metadata": {},
   "source": [
    "#### Применим классификатор, чтобы назначить уровень образования для агентов из популяции"
   ]
  },
  {
   "cell_type": "code",
   "execution_count": 31,
   "metadata": {},
   "outputs": [],
   "source": [
    "population[\"educ\"] =educ_clsf.predict(population[[\"age\", \"male\"]])"
   ]
  },
  {
   "cell_type": "code",
   "execution_count": 32,
   "metadata": {},
   "outputs": [
    {
     "data": {
      "text/html": [
       "<div>\n",
       "<style scoped>\n",
       "    .dataframe tbody tr th:only-of-type {\n",
       "        vertical-align: middle;\n",
       "    }\n",
       "\n",
       "    .dataframe tbody tr th {\n",
       "        vertical-align: top;\n",
       "    }\n",
       "\n",
       "    .dataframe thead th {\n",
       "        text-align: right;\n",
       "    }\n",
       "</style>\n",
       "<table border=\"1\" class=\"dataframe\">\n",
       "  <thead>\n",
       "    <tr style=\"text-align: right;\">\n",
       "      <th></th>\n",
       "      <th>age</th>\n",
       "      <th>male</th>\n",
       "      <th>district_oktmo</th>\n",
       "      <th>educ</th>\n",
       "    </tr>\n",
       "  </thead>\n",
       "  <tbody>\n",
       "    <tr>\n",
       "      <th>0</th>\n",
       "      <td>73</td>\n",
       "      <td>0</td>\n",
       "      <td>41606000</td>\n",
       "      <td>2</td>\n",
       "    </tr>\n",
       "    <tr>\n",
       "      <th>1</th>\n",
       "      <td>21</td>\n",
       "      <td>0</td>\n",
       "      <td>41618000</td>\n",
       "      <td>2</td>\n",
       "    </tr>\n",
       "    <tr>\n",
       "      <th>2</th>\n",
       "      <td>23</td>\n",
       "      <td>0</td>\n",
       "      <td>41621000</td>\n",
       "      <td>3</td>\n",
       "    </tr>\n",
       "    <tr>\n",
       "      <th>3</th>\n",
       "      <td>25</td>\n",
       "      <td>0</td>\n",
       "      <td>41642000</td>\n",
       "      <td>3</td>\n",
       "    </tr>\n",
       "    <tr>\n",
       "      <th>4</th>\n",
       "      <td>24</td>\n",
       "      <td>1</td>\n",
       "      <td>41648000</td>\n",
       "      <td>2</td>\n",
       "    </tr>\n",
       "    <tr>\n",
       "      <th>...</th>\n",
       "      <td>...</td>\n",
       "      <td>...</td>\n",
       "      <td>...</td>\n",
       "      <td>...</td>\n",
       "    </tr>\n",
       "    <tr>\n",
       "      <th>2074072</th>\n",
       "      <td>75</td>\n",
       "      <td>1</td>\n",
       "      <td>41642000</td>\n",
       "      <td>1</td>\n",
       "    </tr>\n",
       "    <tr>\n",
       "      <th>2074073</th>\n",
       "      <td>56</td>\n",
       "      <td>1</td>\n",
       "      <td>41615000</td>\n",
       "      <td>1</td>\n",
       "    </tr>\n",
       "    <tr>\n",
       "      <th>2074074</th>\n",
       "      <td>53</td>\n",
       "      <td>1</td>\n",
       "      <td>41625000</td>\n",
       "      <td>1</td>\n",
       "    </tr>\n",
       "    <tr>\n",
       "      <th>2074075</th>\n",
       "      <td>20</td>\n",
       "      <td>1</td>\n",
       "      <td>41612000</td>\n",
       "      <td>2</td>\n",
       "    </tr>\n",
       "    <tr>\n",
       "      <th>2074076</th>\n",
       "      <td>43</td>\n",
       "      <td>1</td>\n",
       "      <td>41609000</td>\n",
       "      <td>1</td>\n",
       "    </tr>\n",
       "  </tbody>\n",
       "</table>\n",
       "<p>2074077 rows × 4 columns</p>\n",
       "</div>"
      ],
      "text/plain": [
       "         age  male district_oktmo  educ\n",
       "0         73     0       41606000     2\n",
       "1         21     0       41618000     2\n",
       "2         23     0       41621000     3\n",
       "3         25     0       41642000     3\n",
       "4         24     1       41648000     2\n",
       "...      ...   ...            ...   ...\n",
       "2074072   75     1       41642000     1\n",
       "2074073   56     1       41615000     1\n",
       "2074074   53     1       41625000     1\n",
       "2074075   20     1       41612000     2\n",
       "2074076   43     1       41609000     1\n",
       "\n",
       "[2074077 rows x 4 columns]"
      ]
     },
     "execution_count": 32,
     "metadata": {},
     "output_type": "execute_result"
    }
   ],
   "source": [
    "population"
   ]
  },
  {
   "cell_type": "markdown",
   "metadata": {},
   "source": [
    "### Определим зарплату. Построим зависимость от пола, возраста и образования"
   ]
  },
  {
   "cell_type": "code",
   "execution_count": 33,
   "metadata": {},
   "outputs": [
    {
     "data": {
      "text/plain": [
       "0.05777846826696446"
      ]
     },
     "execution_count": 33,
     "metadata": {},
     "output_type": "execute_result"
    }
   ],
   "source": [
    "X_train, X_test, y_train, y_test = train_test_split(\n",
    "    \n",
    "    data[[\"age\", \"male\", \"educ\"]], data['lnwage'], test_size=.2)\n",
    "wage_regressor = XGBRegressor()\n",
    "wage_regressor.fit(X_train, y_train)\n",
    "preds = wage_regressor.predict(X_test)\n",
    "mape(y_test, preds)  # mape == 0.05 - отличный результат."
   ]
  },
  {
   "cell_type": "code",
   "execution_count": 34,
   "metadata": {},
   "outputs": [],
   "source": [
    "population[\"lnwage\"] = wage_regressor.predict(\n",
    "    \n",
    "    population[[\"age\", \"male\", \"educ\"]])"
   ]
  },
  {
   "cell_type": "markdown",
   "metadata": {},
   "source": [
    "### Определим количество детей"
   ]
  },
  {
   "cell_type": "code",
   "execution_count": 35,
   "metadata": {},
   "outputs": [
    {
     "data": {
      "text/plain": [
       "0.6503225806451612"
      ]
     },
     "execution_count": 35,
     "metadata": {},
     "output_type": "execute_result"
    }
   ],
   "source": [
    "X_train, X_test, y_train, y_test = train_test_split(data[[\"age\", \"male\", \"educ\", \"lnwage\"]], data[\"children\"],\n",
    "                                                    test_size=.2)\n",
    "children_regressor = XGBRegressor()\n",
    "children_regressor.fit(X_train, y_train)\n",
    "preds = children_regressor.predict(X_test).round()\n",
    "mae(y_test, preds)"
   ]
  },
  {
   "cell_type": "code",
   "execution_count": 36,
   "metadata": {},
   "outputs": [],
   "source": [
    "population[\"children\"] = children_regressor.predict(\n",
    "    \n",
    "    population[[\"age\", \"male\", \"educ\", \"lnwage\"]]).round().astype(int)"
   ]
  },
  {
   "cell_type": "code",
   "execution_count": 37,
   "metadata": {},
   "outputs": [
    {
     "data": {
      "application/vnd.jupyter.widget-view+json": {
       "model_id": "077205f989cc477a8ecccaf99507673b",
       "version_major": 2,
       "version_minor": 0
      },
      "text/plain": [
       "  0%|          | 0/1000000 [00:00<?, ?it/s]"
      ]
     },
     "metadata": {},
     "output_type": "display_data"
    },
    {
     "data": {
      "application/vnd.jupyter.widget-view+json": {
       "model_id": "3e822b9d12a7457a9249a90517578d80",
       "version_major": 2,
       "version_minor": 0
      },
      "text/plain": [
       "  0%|          | 0/1000000 [00:00<?, ?it/s]"
      ]
     },
     "metadata": {},
     "output_type": "display_data"
    }
   ],
   "source": [
    "\n",
    "data[\"male\"] = rlms.male.astype(str)\n",
    "data[\"educ\"] = rlms.educ.astype(str)\n",
    "\n",
    "# set encoder and discretizer\n",
    "encoder = pp.LabelEncoder()\n",
    "discretizer = pp.KBinsDiscretizer(\n",
    "    \n",
    "    n_bins=5, encode=\"ordinal\", strategy=\"uniform\")\n",
    "\n",
    "# create preprocessor object with encoder and discretizer\n",
    "p = Preprocessor([(\"encoder\", encoder), (\"discretizer\", discretizer)])\n",
    "\n",
    "# discretize data for structure learning\n",
    "discretized_data, est = p.apply(data)\n",
    "\n",
    "# get information about data\n",
    "info = p.info\n",
    "\n",
    "# initialize network object\n",
    "bn = HybridBN(use_mixture=True, has_logit=True)\n",
    "\n",
    "# add nodes to network\n",
    "bn.add_nodes(info)\n",
    "\n",
    "# using mutual information as scoring function for structure learning\n",
    "bn.add_edges(\n",
    "    discretized_data,\n",
    "    #  scoring_function=('MI',)\n",
    ")\n",
    "\n",
    "# or use evolutionary algorithm to learn structure\n",
    "\n",
    "bn.add_edges(discretized_data)\n",
    "\n",
    "bn.fit_parameters(data)"
   ]
  },
  {
   "cell_type": "code",
   "execution_count": 38,
   "metadata": {},
   "outputs": [
    {
     "data": {
      "text/plain": [
       "True"
      ]
     },
     "execution_count": 38,
     "metadata": {},
     "output_type": "execute_result"
    }
   ],
   "source": [
    "# bn.save(\"pop.json\")\n",
    "bn.plot('mixture.html')\n",
    "bn.validate(info)"
   ]
  },
  {
   "cell_type": "code",
   "execution_count": 39,
   "metadata": {},
   "outputs": [],
   "source": [
    "sampled_data = bn.sample(10_000, progress_bar=False)\n",
    "# sampled_data.children = sampled_data.children.astype(int)\n",
    "sampled_data.male = sampled_data.male.astype(int)\n",
    "sampled_data.age = sampled_data.age.astype(int)"
   ]
  },
  {
   "cell_type": "code",
   "execution_count": 40,
   "metadata": {},
   "outputs": [
    {
     "data": {
      "text/html": [
       "<div>\n",
       "<style scoped>\n",
       "    .dataframe tbody tr th:only-of-type {\n",
       "        vertical-align: middle;\n",
       "    }\n",
       "\n",
       "    .dataframe tbody tr th {\n",
       "        vertical-align: top;\n",
       "    }\n",
       "\n",
       "    .dataframe thead th {\n",
       "        text-align: right;\n",
       "    }\n",
       "</style>\n",
       "<table border=\"1\" class=\"dataframe\">\n",
       "  <thead>\n",
       "    <tr style=\"text-align: right;\">\n",
       "      <th></th>\n",
       "      <th>lnwage</th>\n",
       "      <th>children</th>\n",
       "      <th>male</th>\n",
       "      <th>educ</th>\n",
       "      <th>age</th>\n",
       "    </tr>\n",
       "  </thead>\n",
       "  <tbody>\n",
       "    <tr>\n",
       "      <th>0</th>\n",
       "      <td>8.642592</td>\n",
       "      <td>3</td>\n",
       "      <td>0</td>\n",
       "      <td>3</td>\n",
       "      <td>33</td>\n",
       "    </tr>\n",
       "    <tr>\n",
       "      <th>1</th>\n",
       "      <td>9.715212</td>\n",
       "      <td>2</td>\n",
       "      <td>0</td>\n",
       "      <td>1</td>\n",
       "      <td>47</td>\n",
       "    </tr>\n",
       "    <tr>\n",
       "      <th>2</th>\n",
       "      <td>9.111921</td>\n",
       "      <td>1</td>\n",
       "      <td>0</td>\n",
       "      <td>1</td>\n",
       "      <td>46</td>\n",
       "    </tr>\n",
       "    <tr>\n",
       "      <th>3</th>\n",
       "      <td>10.017518</td>\n",
       "      <td>0</td>\n",
       "      <td>1</td>\n",
       "      <td>3</td>\n",
       "      <td>32</td>\n",
       "    </tr>\n",
       "    <tr>\n",
       "      <th>4</th>\n",
       "      <td>9.321067</td>\n",
       "      <td>0</td>\n",
       "      <td>1</td>\n",
       "      <td>2</td>\n",
       "      <td>36</td>\n",
       "    </tr>\n",
       "    <tr>\n",
       "      <th>...</th>\n",
       "      <td>...</td>\n",
       "      <td>...</td>\n",
       "      <td>...</td>\n",
       "      <td>...</td>\n",
       "      <td>...</td>\n",
       "    </tr>\n",
       "    <tr>\n",
       "      <th>9995</th>\n",
       "      <td>7.702775</td>\n",
       "      <td>1</td>\n",
       "      <td>0</td>\n",
       "      <td>1</td>\n",
       "      <td>44</td>\n",
       "    </tr>\n",
       "    <tr>\n",
       "      <th>9996</th>\n",
       "      <td>9.118553</td>\n",
       "      <td>1</td>\n",
       "      <td>1</td>\n",
       "      <td>1</td>\n",
       "      <td>30</td>\n",
       "    </tr>\n",
       "    <tr>\n",
       "      <th>9997</th>\n",
       "      <td>10.267792</td>\n",
       "      <td>1</td>\n",
       "      <td>0</td>\n",
       "      <td>2</td>\n",
       "      <td>40</td>\n",
       "    </tr>\n",
       "    <tr>\n",
       "      <th>9998</th>\n",
       "      <td>10.149878</td>\n",
       "      <td>2</td>\n",
       "      <td>1</td>\n",
       "      <td>2</td>\n",
       "      <td>41</td>\n",
       "    </tr>\n",
       "    <tr>\n",
       "      <th>9999</th>\n",
       "      <td>10.744177</td>\n",
       "      <td>2</td>\n",
       "      <td>1</td>\n",
       "      <td>0</td>\n",
       "      <td>40</td>\n",
       "    </tr>\n",
       "  </tbody>\n",
       "</table>\n",
       "<p>10000 rows × 5 columns</p>\n",
       "</div>"
      ],
      "text/plain": [
       "         lnwage children  male educ  age\n",
       "0      8.642592        3     0    3   33\n",
       "1      9.715212        2     0    1   47\n",
       "2      9.111921        1     0    1   46\n",
       "3     10.017518        0     1    3   32\n",
       "4      9.321067        0     1    2   36\n",
       "...         ...      ...   ...  ...  ...\n",
       "9995   7.702775        1     0    1   44\n",
       "9996   9.118553        1     1    1   30\n",
       "9997  10.267792        1     0    2   40\n",
       "9998  10.149878        2     1    2   41\n",
       "9999  10.744177        2     1    0   40\n",
       "\n",
       "[10000 rows x 5 columns]"
      ]
     },
     "execution_count": 40,
     "metadata": {},
     "output_type": "execute_result"
    }
   ],
   "source": [
    "sampled_data"
   ]
  },
  {
   "cell_type": "markdown",
   "metadata": {},
   "source": [
    "# Сгенерирруем популяцию для каждого МО из Ленобласти"
   ]
  },
  {
   "cell_type": "code",
   "execution_count": null,
   "metadata": {},
   "outputs": [],
   "source": []
  },
  {
   "cell_type": "code",
   "execution_count": 41,
   "metadata": {},
   "outputs": [],
   "source": [
    "def to_district_oktmo(oktmo):\n",
    "    assert len(oktmo) == 8\n",
    "    return oktmo[:5]+\"000\""
   ]
  },
  {
   "cell_type": "code",
   "execution_count": 42,
   "metadata": {},
   "outputs": [
    {
     "name": "stderr",
     "output_type": "stream",
     "text": [
      "100%|██████████| 187/187 [00:18<00:00,  9.93it/s]\n"
     ]
    }
   ],
   "source": [
    "from functools import cache\n",
    "\n",
    "\n",
    "\n",
    "def get_mun_unit_population(mun_units, mun_district_population):\n",
    "    mun_unit_population = pd.DataFrame(columns=[\"age\", \"male\", \"oktmo\"])\n",
    "    for mun_unit in tqdm(list(mun_units.reset_index().itertuples(index=False))):\n",
    "        district_oktmo = to_district_oktmo(mun_unit.oktmo)\n",
    "        pop    = (mun_district_population[mun_district_population.district_oktmo == district_oktmo]\n",
    "               .sample(mun_unit.popsize)[[\"age\", \"male\"]])\n",
    "        pop[\"oktmo\"] = mun_unit.oktmo\n",
    "        pop = pd.DataFrame(pop, columns=[\"age\", \"male\", \"oktmo\"])\n",
    "        mun_unit_population = pd.concat([mun_unit_population, pop])\n",
    "    mun_unit_population[\"age\"] = mun_unit_population[\"age\"].astype(int)\n",
    "    mun_unit_population[\"male\"] = mun_unit_population[\"male\"].astype(int)\n",
    "    mun_unit_population[\"oktmo\"] = mun_unit_population[\"oktmo\"].astype(str)\n",
    "    return mun_unit_population\n",
    "\n",
    "\n",
    "    \n",
    "\n",
    "mun_unit_population = get_mun_unit_population(\n",
    "    mun_units, mun_district_population)"
   ]
  },
  {
   "cell_type": "code",
   "execution_count": 43,
   "metadata": {},
   "outputs": [
    {
     "data": {
      "text/html": [
       "<div>\n",
       "<style scoped>\n",
       "    .dataframe tbody tr th:only-of-type {\n",
       "        vertical-align: middle;\n",
       "    }\n",
       "\n",
       "    .dataframe tbody tr th {\n",
       "        vertical-align: top;\n",
       "    }\n",
       "\n",
       "    .dataframe thead th {\n",
       "        text-align: right;\n",
       "    }\n",
       "</style>\n",
       "<table border=\"1\" class=\"dataframe\">\n",
       "  <thead>\n",
       "    <tr style=\"text-align: right;\">\n",
       "      <th></th>\n",
       "      <th>age</th>\n",
       "      <th>male</th>\n",
       "      <th>oktmo</th>\n",
       "    </tr>\n",
       "  </thead>\n",
       "  <tbody>\n",
       "    <tr>\n",
       "      <th>750374</th>\n",
       "      <td>40</td>\n",
       "      <td>1</td>\n",
       "      <td>41603101</td>\n",
       "    </tr>\n",
       "    <tr>\n",
       "      <th>1924262</th>\n",
       "      <td>45</td>\n",
       "      <td>1</td>\n",
       "      <td>41603101</td>\n",
       "    </tr>\n",
       "    <tr>\n",
       "      <th>173548</th>\n",
       "      <td>16</td>\n",
       "      <td>1</td>\n",
       "      <td>41603101</td>\n",
       "    </tr>\n",
       "    <tr>\n",
       "      <th>1452877</th>\n",
       "      <td>37</td>\n",
       "      <td>1</td>\n",
       "      <td>41603101</td>\n",
       "    </tr>\n",
       "    <tr>\n",
       "      <th>879174</th>\n",
       "      <td>52</td>\n",
       "      <td>1</td>\n",
       "      <td>41603101</td>\n",
       "    </tr>\n",
       "    <tr>\n",
       "      <th>...</th>\n",
       "      <td>...</td>\n",
       "      <td>...</td>\n",
       "      <td>...</td>\n",
       "    </tr>\n",
       "    <tr>\n",
       "      <th>1945741</th>\n",
       "      <td>27</td>\n",
       "      <td>0</td>\n",
       "      <td>41648464</td>\n",
       "    </tr>\n",
       "    <tr>\n",
       "      <th>1977803</th>\n",
       "      <td>27</td>\n",
       "      <td>1</td>\n",
       "      <td>41648464</td>\n",
       "    </tr>\n",
       "    <tr>\n",
       "      <th>1071166</th>\n",
       "      <td>93</td>\n",
       "      <td>1</td>\n",
       "      <td>41648464</td>\n",
       "    </tr>\n",
       "    <tr>\n",
       "      <th>1737379</th>\n",
       "      <td>55</td>\n",
       "      <td>0</td>\n",
       "      <td>41648464</td>\n",
       "    </tr>\n",
       "    <tr>\n",
       "      <th>1078594</th>\n",
       "      <td>38</td>\n",
       "      <td>0</td>\n",
       "      <td>41648464</td>\n",
       "    </tr>\n",
       "  </tbody>\n",
       "</table>\n",
       "<p>1845645 rows × 3 columns</p>\n",
       "</div>"
      ],
      "text/plain": [
       "         age  male     oktmo\n",
       "750374    40     1  41603101\n",
       "1924262   45     1  41603101\n",
       "173548    16     1  41603101\n",
       "1452877   37     1  41603101\n",
       "879174    52     1  41603101\n",
       "...      ...   ...       ...\n",
       "1945741   27     0  41648464\n",
       "1977803   27     1  41648464\n",
       "1071166   93     1  41648464\n",
       "1737379   55     0  41648464\n",
       "1078594   38     0  41648464\n",
       "\n",
       "[1845645 rows x 3 columns]"
      ]
     },
     "execution_count": 43,
     "metadata": {},
     "output_type": "execute_result"
    }
   ],
   "source": [
    "mun_unit_population"
   ]
  },
  {
   "cell_type": "markdown",
   "metadata": {},
   "source": [
    "### Определим образование, зарплату, количество детей для популяции"
   ]
  },
  {
   "cell_type": "code",
   "execution_count": 44,
   "metadata": {},
   "outputs": [],
   "source": [
    "mun_unit_population[\"educ\"] = educ_clsf.predict(\n",
    "    \n",
    "    mun_unit_population[[\"age\", \"male\"]])\n",
    "    \n",
    "mun_unit_population[\"lnwage\"] = wage_regressor.predict(\n",
    "        mun_unit_population[[\"age\", \"male\", \"educ\"]])\n",
    "mun_unit_population[\"children\"] = children_regressor.predict(\n",
    "    mun_unit_population[[\"age\", \"male\", \"educ\", \"lnwage\"]]).round().astype(int)"
   ]
  },
  {
   "cell_type": "code",
   "execution_count": 62,
   "metadata": {},
   "outputs": [
    {
     "data": {
      "text/html": [
       "<div>\n",
       "<style scoped>\n",
       "    .dataframe tbody tr th:only-of-type {\n",
       "        vertical-align: middle;\n",
       "    }\n",
       "\n",
       "    .dataframe tbody tr th {\n",
       "        vertical-align: top;\n",
       "    }\n",
       "\n",
       "    .dataframe thead th {\n",
       "        text-align: right;\n",
       "    }\n",
       "</style>\n",
       "<table border=\"1\" class=\"dataframe\">\n",
       "  <thead>\n",
       "    <tr style=\"text-align: right;\">\n",
       "      <th></th>\n",
       "      <th>age</th>\n",
       "      <th>male</th>\n",
       "      <th>oktmo</th>\n",
       "      <th>educ</th>\n",
       "      <th>lnwage</th>\n",
       "      <th>children</th>\n",
       "    </tr>\n",
       "  </thead>\n",
       "  <tbody>\n",
       "    <tr>\n",
       "      <th>750374</th>\n",
       "      <td>40</td>\n",
       "      <td>1</td>\n",
       "      <td>41603101</td>\n",
       "      <td>1</td>\n",
       "      <td>10.046045</td>\n",
       "      <td>1</td>\n",
       "    </tr>\n",
       "    <tr>\n",
       "      <th>1924262</th>\n",
       "      <td>45</td>\n",
       "      <td>1</td>\n",
       "      <td>41603101</td>\n",
       "      <td>1</td>\n",
       "      <td>10.062603</td>\n",
       "      <td>2</td>\n",
       "    </tr>\n",
       "    <tr>\n",
       "      <th>173548</th>\n",
       "      <td>16</td>\n",
       "      <td>1</td>\n",
       "      <td>41603101</td>\n",
       "      <td>0</td>\n",
       "      <td>9.464142</td>\n",
       "      <td>0</td>\n",
       "    </tr>\n",
       "    <tr>\n",
       "      <th>1452877</th>\n",
       "      <td>37</td>\n",
       "      <td>1</td>\n",
       "      <td>41603101</td>\n",
       "      <td>3</td>\n",
       "      <td>10.860463</td>\n",
       "      <td>2</td>\n",
       "    </tr>\n",
       "    <tr>\n",
       "      <th>879174</th>\n",
       "      <td>52</td>\n",
       "      <td>1</td>\n",
       "      <td>41603101</td>\n",
       "      <td>1</td>\n",
       "      <td>10.049314</td>\n",
       "      <td>2</td>\n",
       "    </tr>\n",
       "    <tr>\n",
       "      <th>...</th>\n",
       "      <td>...</td>\n",
       "      <td>...</td>\n",
       "      <td>...</td>\n",
       "      <td>...</td>\n",
       "      <td>...</td>\n",
       "      <td>...</td>\n",
       "    </tr>\n",
       "    <tr>\n",
       "      <th>1945741</th>\n",
       "      <td>27</td>\n",
       "      <td>0</td>\n",
       "      <td>41648464</td>\n",
       "      <td>1</td>\n",
       "      <td>9.285212</td>\n",
       "      <td>2</td>\n",
       "    </tr>\n",
       "    <tr>\n",
       "      <th>1977803</th>\n",
       "      <td>27</td>\n",
       "      <td>1</td>\n",
       "      <td>41648464</td>\n",
       "      <td>3</td>\n",
       "      <td>10.184039</td>\n",
       "      <td>1</td>\n",
       "    </tr>\n",
       "    <tr>\n",
       "      <th>1071166</th>\n",
       "      <td>93</td>\n",
       "      <td>1</td>\n",
       "      <td>41648464</td>\n",
       "      <td>1</td>\n",
       "      <td>9.601593</td>\n",
       "      <td>1</td>\n",
       "    </tr>\n",
       "    <tr>\n",
       "      <th>1737379</th>\n",
       "      <td>55</td>\n",
       "      <td>0</td>\n",
       "      <td>41648464</td>\n",
       "      <td>2</td>\n",
       "      <td>9.464200</td>\n",
       "      <td>2</td>\n",
       "    </tr>\n",
       "    <tr>\n",
       "      <th>1078594</th>\n",
       "      <td>38</td>\n",
       "      <td>0</td>\n",
       "      <td>41648464</td>\n",
       "      <td>3</td>\n",
       "      <td>9.939003</td>\n",
       "      <td>1</td>\n",
       "    </tr>\n",
       "  </tbody>\n",
       "</table>\n",
       "<p>1845645 rows × 6 columns</p>\n",
       "</div>"
      ],
      "text/plain": [
       "         age  male     oktmo  educ     lnwage  children\n",
       "750374    40     1  41603101     1  10.046045         1\n",
       "1924262   45     1  41603101     1  10.062603         2\n",
       "173548    16     1  41603101     0   9.464142         0\n",
       "1452877   37     1  41603101     3  10.860463         2\n",
       "879174    52     1  41603101     1  10.049314         2\n",
       "...      ...   ...       ...   ...        ...       ...\n",
       "1945741   27     0  41648464     1   9.285212         2\n",
       "1977803   27     1  41648464     3  10.184039         1\n",
       "1071166   93     1  41648464     1   9.601593         1\n",
       "1737379   55     0  41648464     2   9.464200         2\n",
       "1078594   38     0  41648464     3   9.939003         1\n",
       "\n",
       "[1845645 rows x 6 columns]"
      ]
     },
     "execution_count": 62,
     "metadata": {},
     "output_type": "execute_result"
    }
   ],
   "source": [
    "mun_unit_population # TODO указать конкретные возраста детей. если до 6 лет, то вероятность миграци поменяется"
   ]
  },
  {
   "cell_type": "code",
   "execution_count": 45,
   "metadata": {},
   "outputs": [
    {
     "data": {
      "text/html": [
       "<div>\n",
       "<style scoped>\n",
       "    .dataframe tbody tr th:only-of-type {\n",
       "        vertical-align: middle;\n",
       "    }\n",
       "\n",
       "    .dataframe tbody tr th {\n",
       "        vertical-align: top;\n",
       "    }\n",
       "\n",
       "    .dataframe thead th {\n",
       "        text-align: right;\n",
       "    }\n",
       "</style>\n",
       "<table border=\"1\" class=\"dataframe\">\n",
       "  <thead>\n",
       "    <tr style=\"text-align: right;\">\n",
       "      <th></th>\n",
       "      <th>name</th>\n",
       "      <th>popsize</th>\n",
       "    </tr>\n",
       "    <tr>\n",
       "      <th>oktmo</th>\n",
       "      <th></th>\n",
       "      <th></th>\n",
       "    </tr>\n",
       "  </thead>\n",
       "  <tbody>\n",
       "    <tr>\n",
       "      <th>41603101</th>\n",
       "      <td>Бокситогорское</td>\n",
       "      <td>14606</td>\n",
       "    </tr>\n",
       "    <tr>\n",
       "      <th>41603102</th>\n",
       "      <td>Пикалёвское</td>\n",
       "      <td>19250</td>\n",
       "    </tr>\n",
       "    <tr>\n",
       "      <th>41603155</th>\n",
       "      <td>Ефимовское</td>\n",
       "      <td>4389</td>\n",
       "    </tr>\n",
       "    <tr>\n",
       "      <th>41603412</th>\n",
       "      <td>Большедворское</td>\n",
       "      <td>1486</td>\n",
       "    </tr>\n",
       "    <tr>\n",
       "      <th>41603416</th>\n",
       "      <td>Борское</td>\n",
       "      <td>3272</td>\n",
       "    </tr>\n",
       "    <tr>\n",
       "      <th>...</th>\n",
       "      <td>...</td>\n",
       "      <td>...</td>\n",
       "    </tr>\n",
       "    <tr>\n",
       "      <th>41648418</th>\n",
       "      <td>Нурминское</td>\n",
       "      <td>2977</td>\n",
       "    </tr>\n",
       "    <tr>\n",
       "      <th>41648430</th>\n",
       "      <td>Лисинское</td>\n",
       "      <td>1703</td>\n",
       "    </tr>\n",
       "    <tr>\n",
       "      <th>41648443</th>\n",
       "      <td>Тельмановское</td>\n",
       "      <td>13191</td>\n",
       "    </tr>\n",
       "    <tr>\n",
       "      <th>41648444</th>\n",
       "      <td>Трубникоборское</td>\n",
       "      <td>1479</td>\n",
       "    </tr>\n",
       "    <tr>\n",
       "      <th>41648464</th>\n",
       "      <td>Шапкинское</td>\n",
       "      <td>439</td>\n",
       "    </tr>\n",
       "  </tbody>\n",
       "</table>\n",
       "<p>187 rows × 2 columns</p>\n",
       "</div>"
      ],
      "text/plain": [
       "                     name  popsize\n",
       "oktmo                             \n",
       "41603101   Бокситогорское    14606\n",
       "41603102      Пикалёвское    19250\n",
       "41603155       Ефимовское     4389\n",
       "41603412   Большедворское     1486\n",
       "41603416          Борское     3272\n",
       "...                   ...      ...\n",
       "41648418       Нурминское     2977\n",
       "41648430        Лисинское     1703\n",
       "41648443    Тельмановское    13191\n",
       "41648444  Трубникоборское     1479\n",
       "41648464       Шапкинское      439\n",
       "\n",
       "[187 rows x 2 columns]"
      ]
     },
     "execution_count": 45,
     "metadata": {},
     "output_type": "execute_result"
    }
   ],
   "source": [
    "mun_units"
   ]
  },
  {
   "cell_type": "code",
   "execution_count": 46,
   "metadata": {},
   "outputs": [],
   "source": [
    "inflow = pd.read_csv(\n",
    "    \"/Users/pishchulov/edu/matobes/НИР/outer_source/migration/ITMO-2/migforecasting/superdataset/mig data/total/inflow/inflow 2022 (allmun).csv\")\n",
    "outflow = pd.read_csv(\n",
    "    \"/Users/pishchulov/edu/matobes/НИР/outer_source/migration/ITMO-2/migforecasting/superdataset/mig data/total/outflow/outflow 2022 (allmun).csv\")\n",
    "inflow['oktmo'] = inflow['oktmo'].astype(str)\n",
    "outflow['oktmo'] = outflow['oktmo'].astype(str)\n",
    "inflow = inflow[inflow.oktmo.isin(mun_units.index)]\n",
    "inflow = inflow.set_index(\"oktmo\")[[\"inflow\"]].astype(int)\n",
    "outflow = outflow[outflow.oktmo.isin(mun_units.index)]\n",
    "outflow = outflow.set_index(\"oktmo\")[[\"outflow\"]].astype(int)\n",
    "\n",
    "mun_units = mun_units.join(inflow).join(outflow)\n",
    "mun_units[\"saldo\"] = mun_units.inflow - mun_units.outflow"
   ]
  },
  {
   "cell_type": "code",
   "execution_count": 47,
   "metadata": {},
   "outputs": [
    {
     "data": {
      "text/html": [
       "<div>\n",
       "<style scoped>\n",
       "    .dataframe tbody tr th:only-of-type {\n",
       "        vertical-align: middle;\n",
       "    }\n",
       "\n",
       "    .dataframe tbody tr th {\n",
       "        vertical-align: top;\n",
       "    }\n",
       "\n",
       "    .dataframe thead th {\n",
       "        text-align: right;\n",
       "    }\n",
       "</style>\n",
       "<table border=\"1\" class=\"dataframe\">\n",
       "  <thead>\n",
       "    <tr style=\"text-align: right;\">\n",
       "      <th></th>\n",
       "      <th>name</th>\n",
       "      <th>popsize</th>\n",
       "      <th>inflow</th>\n",
       "      <th>outflow</th>\n",
       "      <th>saldo</th>\n",
       "    </tr>\n",
       "    <tr>\n",
       "      <th>oktmo</th>\n",
       "      <th></th>\n",
       "      <th></th>\n",
       "      <th></th>\n",
       "      <th></th>\n",
       "      <th></th>\n",
       "    </tr>\n",
       "  </thead>\n",
       "  <tbody>\n",
       "    <tr>\n",
       "      <th>41603476</th>\n",
       "      <td>Самойловское</td>\n",
       "      <td>2096</td>\n",
       "      <td>188</td>\n",
       "      <td>155</td>\n",
       "      <td>33</td>\n",
       "    </tr>\n",
       "    <tr>\n",
       "      <th>41639424</th>\n",
       "      <td>Ларионовское</td>\n",
       "      <td>2578</td>\n",
       "      <td>206</td>\n",
       "      <td>172</td>\n",
       "      <td>34</td>\n",
       "    </tr>\n",
       "    <tr>\n",
       "      <th>41621432</th>\n",
       "      <td>Кузёмкинское</td>\n",
       "      <td>1336</td>\n",
       "      <td>86</td>\n",
       "      <td>46</td>\n",
       "      <td>40</td>\n",
       "    </tr>\n",
       "    <tr>\n",
       "      <th>41603460</th>\n",
       "      <td>Лидское</td>\n",
       "      <td>2137</td>\n",
       "      <td>144</td>\n",
       "      <td>102</td>\n",
       "      <td>42</td>\n",
       "    </tr>\n",
       "    <tr>\n",
       "      <th>41639420</th>\n",
       "      <td>Красноозёрное</td>\n",
       "      <td>1105</td>\n",
       "      <td>86</td>\n",
       "      <td>44</td>\n",
       "      <td>42</td>\n",
       "    </tr>\n",
       "    <tr>\n",
       "      <th>41609108</th>\n",
       "      <td>Сясьстройское</td>\n",
       "      <td>12644</td>\n",
       "      <td>314</td>\n",
       "      <td>271</td>\n",
       "      <td>43</td>\n",
       "    </tr>\n",
       "    <tr>\n",
       "      <th>41642101</th>\n",
       "      <td>Сланцевское</td>\n",
       "      <td>32833</td>\n",
       "      <td>1449</td>\n",
       "      <td>1405</td>\n",
       "      <td>44</td>\n",
       "    </tr>\n",
       "    <tr>\n",
       "      <th>41618418</th>\n",
       "      <td>Войсковицкое</td>\n",
       "      <td>6217</td>\n",
       "      <td>231</td>\n",
       "      <td>181</td>\n",
       "      <td>50</td>\n",
       "    </tr>\n",
       "    <tr>\n",
       "      <th>41606420</th>\n",
       "      <td>Калитинское</td>\n",
       "      <td>6478</td>\n",
       "      <td>357</td>\n",
       "      <td>307</td>\n",
       "      <td>50</td>\n",
       "    </tr>\n",
       "    <tr>\n",
       "      <th>41609101</th>\n",
       "      <td>Волховское</td>\n",
       "      <td>43309</td>\n",
       "      <td>1005</td>\n",
       "      <td>950</td>\n",
       "      <td>55</td>\n",
       "    </tr>\n",
       "    <tr>\n",
       "      <th>41639101</th>\n",
       "      <td>Приозерское</td>\n",
       "      <td>17777</td>\n",
       "      <td>809</td>\n",
       "      <td>749</td>\n",
       "      <td>60</td>\n",
       "    </tr>\n",
       "    <tr>\n",
       "      <th>41618105</th>\n",
       "      <td>Коммунарское</td>\n",
       "      <td>22052</td>\n",
       "      <td>840</td>\n",
       "      <td>779</td>\n",
       "      <td>61</td>\n",
       "    </tr>\n",
       "    <tr>\n",
       "      <th>41618444</th>\n",
       "      <td>Новосветское</td>\n",
       "      <td>7912</td>\n",
       "      <td>331</td>\n",
       "      <td>267</td>\n",
       "      <td>64</td>\n",
       "    </tr>\n",
       "    <tr>\n",
       "      <th>41639444</th>\n",
       "      <td>Сосновское</td>\n",
       "      <td>11433</td>\n",
       "      <td>393</td>\n",
       "      <td>329</td>\n",
       "      <td>64</td>\n",
       "    </tr>\n",
       "    <tr>\n",
       "      <th>41630424</th>\n",
       "      <td>Горбунковское</td>\n",
       "      <td>8756</td>\n",
       "      <td>523</td>\n",
       "      <td>455</td>\n",
       "      <td>68</td>\n",
       "    </tr>\n",
       "    <tr>\n",
       "      <th>41630438</th>\n",
       "      <td>Оржицкое</td>\n",
       "      <td>3091</td>\n",
       "      <td>173</td>\n",
       "      <td>99</td>\n",
       "      <td>74</td>\n",
       "    </tr>\n",
       "    <tr>\n",
       "      <th>41630436</th>\n",
       "      <td>Лопухинское</td>\n",
       "      <td>2878</td>\n",
       "      <td>178</td>\n",
       "      <td>104</td>\n",
       "      <td>74</td>\n",
       "    </tr>\n",
       "    <tr>\n",
       "      <th>41618460</th>\n",
       "      <td>Сусанинское</td>\n",
       "      <td>7687</td>\n",
       "      <td>341</td>\n",
       "      <td>264</td>\n",
       "      <td>77</td>\n",
       "    </tr>\n",
       "    <tr>\n",
       "      <th>41625163</th>\n",
       "      <td>Синявинское</td>\n",
       "      <td>3985</td>\n",
       "      <td>200</td>\n",
       "      <td>117</td>\n",
       "      <td>83</td>\n",
       "    </tr>\n",
       "    <tr>\n",
       "      <th>41627154</th>\n",
       "      <td>Свирьстройское</td>\n",
       "      <td>858</td>\n",
       "      <td>126</td>\n",
       "      <td>40</td>\n",
       "      <td>86</td>\n",
       "    </tr>\n",
       "    <tr>\n",
       "      <th>41606408</th>\n",
       "      <td>Рабитицкое</td>\n",
       "      <td>5125</td>\n",
       "      <td>270</td>\n",
       "      <td>183</td>\n",
       "      <td>87</td>\n",
       "    </tr>\n",
       "    <tr>\n",
       "      <th>41630154</th>\n",
       "      <td>Большеижорское</td>\n",
       "      <td>2766</td>\n",
       "      <td>206</td>\n",
       "      <td>112</td>\n",
       "      <td>94</td>\n",
       "    </tr>\n",
       "    <tr>\n",
       "      <th>41612158</th>\n",
       "      <td>Кузьмоловское</td>\n",
       "      <td>11054</td>\n",
       "      <td>468</td>\n",
       "      <td>360</td>\n",
       "      <td>108</td>\n",
       "    </tr>\n",
       "    <tr>\n",
       "      <th>41612175</th>\n",
       "      <td>Токсовское</td>\n",
       "      <td>6545</td>\n",
       "      <td>486</td>\n",
       "      <td>370</td>\n",
       "      <td>116</td>\n",
       "    </tr>\n",
       "    <tr>\n",
       "      <th>41630434</th>\n",
       "      <td>Лаголовское</td>\n",
       "      <td>3724</td>\n",
       "      <td>255</td>\n",
       "      <td>120</td>\n",
       "      <td>135</td>\n",
       "    </tr>\n",
       "    <tr>\n",
       "      <th>41618416</th>\n",
       "      <td>Веревское</td>\n",
       "      <td>6950</td>\n",
       "      <td>458</td>\n",
       "      <td>302</td>\n",
       "      <td>156</td>\n",
       "    </tr>\n",
       "    <tr>\n",
       "      <th>41615460</th>\n",
       "      <td>Первомайское</td>\n",
       "      <td>10207</td>\n",
       "      <td>546</td>\n",
       "      <td>372</td>\n",
       "      <td>174</td>\n",
       "    </tr>\n",
       "    <tr>\n",
       "      <th>41615158</th>\n",
       "      <td>Рощинское</td>\n",
       "      <td>20937</td>\n",
       "      <td>735</td>\n",
       "      <td>561</td>\n",
       "      <td>174</td>\n",
       "    </tr>\n",
       "    <tr>\n",
       "      <th>41625101</th>\n",
       "      <td>Кировское</td>\n",
       "      <td>28187</td>\n",
       "      <td>1079</td>\n",
       "      <td>899</td>\n",
       "      <td>180</td>\n",
       "    </tr>\n",
       "    <tr>\n",
       "      <th>41618176</th>\n",
       "      <td>Таицкое</td>\n",
       "      <td>6395</td>\n",
       "      <td>412</td>\n",
       "      <td>230</td>\n",
       "      <td>182</td>\n",
       "    </tr>\n",
       "    <tr>\n",
       "      <th>41618404</th>\n",
       "      <td>Пудомягское</td>\n",
       "      <td>6139</td>\n",
       "      <td>461</td>\n",
       "      <td>277</td>\n",
       "      <td>184</td>\n",
       "    </tr>\n",
       "    <tr>\n",
       "      <th>41630412</th>\n",
       "      <td>Пениковское</td>\n",
       "      <td>3247</td>\n",
       "      <td>340</td>\n",
       "      <td>144</td>\n",
       "      <td>196</td>\n",
       "    </tr>\n",
       "    <tr>\n",
       "      <th>41612448</th>\n",
       "      <td>Щегловское</td>\n",
       "      <td>6201</td>\n",
       "      <td>438</td>\n",
       "      <td>237</td>\n",
       "      <td>201</td>\n",
       "    </tr>\n",
       "    <tr>\n",
       "      <th>41612154</th>\n",
       "      <td>Дубровское</td>\n",
       "      <td>8115</td>\n",
       "      <td>415</td>\n",
       "      <td>197</td>\n",
       "      <td>218</td>\n",
       "    </tr>\n",
       "    <tr>\n",
       "      <th>41612420</th>\n",
       "      <td>Куйвозовское</td>\n",
       "      <td>14469</td>\n",
       "      <td>709</td>\n",
       "      <td>485</td>\n",
       "      <td>224</td>\n",
       "    </tr>\n",
       "    <tr>\n",
       "      <th>41630408</th>\n",
       "      <td>Низинское</td>\n",
       "      <td>4984</td>\n",
       "      <td>525</td>\n",
       "      <td>269</td>\n",
       "      <td>256</td>\n",
       "    </tr>\n",
       "    <tr>\n",
       "      <th>41630420</th>\n",
       "      <td>Гостилицкое</td>\n",
       "      <td>4867</td>\n",
       "      <td>461</td>\n",
       "      <td>202</td>\n",
       "      <td>259</td>\n",
       "    </tr>\n",
       "    <tr>\n",
       "      <th>41630428</th>\n",
       "      <td>Кипенское</td>\n",
       "      <td>5169</td>\n",
       "      <td>457</td>\n",
       "      <td>189</td>\n",
       "      <td>268</td>\n",
       "    </tr>\n",
       "    <tr>\n",
       "      <th>41612456</th>\n",
       "      <td>Юкковское</td>\n",
       "      <td>5688</td>\n",
       "      <td>613</td>\n",
       "      <td>269</td>\n",
       "      <td>344</td>\n",
       "    </tr>\n",
       "    <tr>\n",
       "      <th>41612424</th>\n",
       "      <td>Лесколовское</td>\n",
       "      <td>11028</td>\n",
       "      <td>801</td>\n",
       "      <td>358</td>\n",
       "      <td>443</td>\n",
       "    </tr>\n",
       "    <tr>\n",
       "      <th>41630440</th>\n",
       "      <td>Ропшинское</td>\n",
       "      <td>4083</td>\n",
       "      <td>640</td>\n",
       "      <td>194</td>\n",
       "      <td>446</td>\n",
       "    </tr>\n",
       "    <tr>\n",
       "      <th>41612458</th>\n",
       "      <td>Новодевяткинское</td>\n",
       "      <td>22699</td>\n",
       "      <td>1836</td>\n",
       "      <td>1147</td>\n",
       "      <td>689</td>\n",
       "    </tr>\n",
       "    <tr>\n",
       "      <th>41612416</th>\n",
       "      <td>Колтушское</td>\n",
       "      <td>30070</td>\n",
       "      <td>2282</td>\n",
       "      <td>1329</td>\n",
       "      <td>953</td>\n",
       "    </tr>\n",
       "    <tr>\n",
       "      <th>41612408</th>\n",
       "      <td>Агалатовское</td>\n",
       "      <td>13620</td>\n",
       "      <td>2212</td>\n",
       "      <td>799</td>\n",
       "      <td>1413</td>\n",
       "    </tr>\n",
       "    <tr>\n",
       "      <th>41630152</th>\n",
       "      <td>Аннинское</td>\n",
       "      <td>13565</td>\n",
       "      <td>2430</td>\n",
       "      <td>974</td>\n",
       "      <td>1456</td>\n",
       "    </tr>\n",
       "    <tr>\n",
       "      <th>41612102</th>\n",
       "      <td>Сертоловское</td>\n",
       "      <td>61716</td>\n",
       "      <td>3969</td>\n",
       "      <td>2246</td>\n",
       "      <td>1723</td>\n",
       "    </tr>\n",
       "    <tr>\n",
       "      <th>41630157</th>\n",
       "      <td>Виллозское</td>\n",
       "      <td>11810</td>\n",
       "      <td>3207</td>\n",
       "      <td>1035</td>\n",
       "      <td>2172</td>\n",
       "    </tr>\n",
       "    <tr>\n",
       "      <th>41612402</th>\n",
       "      <td>Бугровское</td>\n",
       "      <td>31127</td>\n",
       "      <td>4548</td>\n",
       "      <td>2033</td>\n",
       "      <td>2515</td>\n",
       "    </tr>\n",
       "    <tr>\n",
       "      <th>41612155</th>\n",
       "      <td>Заневское</td>\n",
       "      <td>74137</td>\n",
       "      <td>12094</td>\n",
       "      <td>5627</td>\n",
       "      <td>6467</td>\n",
       "    </tr>\n",
       "    <tr>\n",
       "      <th>41612103</th>\n",
       "      <td>Муринское</td>\n",
       "      <td>90571</td>\n",
       "      <td>20224</td>\n",
       "      <td>7141</td>\n",
       "      <td>13083</td>\n",
       "    </tr>\n",
       "  </tbody>\n",
       "</table>\n",
       "</div>"
      ],
      "text/plain": [
       "                      name  popsize  inflow  outflow  saldo\n",
       "oktmo                                                      \n",
       "41603476      Самойловское     2096     188      155     33\n",
       "41639424      Ларионовское     2578     206      172     34\n",
       "41621432      Кузёмкинское     1336      86       46     40\n",
       "41603460           Лидское     2137     144      102     42\n",
       "41639420     Красноозёрное     1105      86       44     42\n",
       "41609108     Сясьстройское    12644     314      271     43\n",
       "41642101       Сланцевское    32833    1449     1405     44\n",
       "41618418      Войсковицкое     6217     231      181     50\n",
       "41606420       Калитинское     6478     357      307     50\n",
       "41609101        Волховское    43309    1005      950     55\n",
       "41639101       Приозерское    17777     809      749     60\n",
       "41618105      Коммунарское    22052     840      779     61\n",
       "41618444      Новосветское     7912     331      267     64\n",
       "41639444        Сосновское    11433     393      329     64\n",
       "41630424     Горбунковское     8756     523      455     68\n",
       "41630438          Оржицкое     3091     173       99     74\n",
       "41630436       Лопухинское     2878     178      104     74\n",
       "41618460       Сусанинское     7687     341      264     77\n",
       "41625163       Синявинское     3985     200      117     83\n",
       "41627154    Свирьстройское      858     126       40     86\n",
       "41606408        Рабитицкое     5125     270      183     87\n",
       "41630154    Большеижорское     2766     206      112     94\n",
       "41612158     Кузьмоловское    11054     468      360    108\n",
       "41612175        Токсовское     6545     486      370    116\n",
       "41630434       Лаголовское     3724     255      120    135\n",
       "41618416         Веревское     6950     458      302    156\n",
       "41615460      Первомайское    10207     546      372    174\n",
       "41615158         Рощинское    20937     735      561    174\n",
       "41625101         Кировское    28187    1079      899    180\n",
       "41618176           Таицкое     6395     412      230    182\n",
       "41618404       Пудомягское     6139     461      277    184\n",
       "41630412       Пениковское     3247     340      144    196\n",
       "41612448        Щегловское     6201     438      237    201\n",
       "41612154        Дубровское     8115     415      197    218\n",
       "41612420      Куйвозовское    14469     709      485    224\n",
       "41630408         Низинское     4984     525      269    256\n",
       "41630420       Гостилицкое     4867     461      202    259\n",
       "41630428         Кипенское     5169     457      189    268\n",
       "41612456         Юкковское     5688     613      269    344\n",
       "41612424      Лесколовское    11028     801      358    443\n",
       "41630440        Ропшинское     4083     640      194    446\n",
       "41612458  Новодевяткинское    22699    1836     1147    689\n",
       "41612416        Колтушское    30070    2282     1329    953\n",
       "41612408      Агалатовское    13620    2212      799   1413\n",
       "41630152         Аннинское    13565    2430      974   1456\n",
       "41612102      Сертоловское    61716    3969     2246   1723\n",
       "41630157        Виллозское    11810    3207     1035   2172\n",
       "41612402        Бугровское    31127    4548     2033   2515\n",
       "41612155         Заневское    74137   12094     5627   6467\n",
       "41612103         Муринское    90571   20224     7141  13083"
      ]
     },
     "execution_count": 47,
     "metadata": {},
     "output_type": "execute_result"
    }
   ],
   "source": [
    "mun_units.sort_values(\"saldo\").tail(50)"
   ]
  },
  {
   "cell_type": "markdown",
   "metadata": {},
   "source": [
    "## Степенное распредление числа жителей в МО"
   ]
  },
  {
   "cell_type": "code",
   "execution_count": 48,
   "metadata": {},
   "outputs": [],
   "source": [
    "import numpy as np\n",
    "from scipy.stats import powerlaw\n",
    "from scipy.optimize import minimize\n",
    "import matplotlib.pyplot as plt\n",
    "\n",
    "a = 0.8\n",
    "loc = 3\n",
    "scale = 10\n",
    "bins = 100"
   ]
  },
  {
   "cell_type": "code",
   "execution_count": 49,
   "metadata": {},
   "outputs": [],
   "source": [
    "# def example_fit():\n",
    "#     fig, ax = plt.subplots(1, 1)\n",
    "#     np.linspace(powerlaw.ppf(0.01, a, loc=loc, scale=scale),\n",
    "#                     powerlaw.ppf(0.999, a, loc=loc, scale=scale), 1000)\n",
    "#     ax.plot(x, powerlaw.pdf(x, a),\n",
    "#             'r-', lw=5, alpha=0.6, label='powerlaw pdf')\n",
    "#         powerlaw(a, loc=loc, scale=scale)\n",
    "#     ax.plot(x, rv.pdf(x), 'k-', lw=2, label='frozen pdf')\n",
    "#         powerlaw.rvs(a, loc =loc, scale=scale, size=1000)\n",
    "#         ist(r, density=True, bins=bins, histtype='stepfilled', alpha=0.2)\n",
    "#     ax.set_xlim([x[0], x[-1]])\n",
    "#     ax.legend(loc='best', frameon=False)\n",
    "#     params = powerlaw.fit(r, method=\"MLE\",)\n",
    "#     t, loc_fit, scale_fit = params\n",
    "#     t = powerlaw(a_fit, loc_fit, scale_fit).pdf(x)\n",
    "#     ax.plot(x, y_fit,\n",
    "#         'r-', lw=5, alpha=0.6, label='powerlaw pdf', color=\"green\")\n",
    "#     plt.show()\n",
    "\n",
    "\n",
    "\n",
    "\n",
    "# example_fit()"
   ]
  },
  {
   "cell_type": "code",
   "execution_count": 50,
   "metadata": {},
   "outputs": [],
   "source": [
    "ps = mun_units.popsize.sort_values()"
   ]
  },
  {
   "cell_type": "code",
   "execution_count": 51,
   "metadata": {},
   "outputs": [
    {
     "name": "stdout",
     "output_type": "stream",
     "text": [
      "(0.2995730938561535, 438.99999999999994, 90132.00000000001)\n"
     ]
    },
    {
     "data": {
      "image/png": "[encoded data removed]",
      "text/plain": [
       "<Figure size 1500x600 with 1 Axes>"
      ]
     },
     "metadata": {},
     "output_type": "display_data"
    }
   ],
   "source": [
    "fig, ax = plt.subplots(1, 1)\n",
    "fig.set_figheight(6)\n",
    "fig.set_figwidth(15)\n",
    "params = powerlaw.fit(ps, method=\"MLE\",)\n",
    "a_fit, loc_fit, scale_fit = params\n",
    "print(params)\n",
    "y_fit = powerlaw(a_fit, loc_fit, scale_fit).pdf(ps)\n",
    "ax.hist(ps, density=True, bins=bins, histtype='stepfilled', alpha=0.2, \n",
    "        label = \"\")\n",
    "ax.plot(ps[2:], y_fit[2:],\n",
    "        'r-', lw=2, alpha=0.6, label='powerlaw pdf', color=\"green\")\n",
    "\n",
    "ax.legend(loc='best', frameon=False)\n",
    "plt.xlabel('Численность населения МО')\n",
    "plt.ylabel('Частота')\n",
    "plt.title(\"Численность населения следует степенному закону\")\n",
    "plt.show()"
   ]
  },
  {
   "cell_type": "code",
   "execution_count": 52,
   "metadata": {},
   "outputs": [],
   "source": [
    "sd = pd.read_csv(\n",
    "    \n",
    "    \"/Users/pishchulov/edu/matobes/НИР/outer_source/migration/ITMO-2/migforecasting/superdataset/superdataset (full data).csv\")\n",
    "sd[\"oktmo\"] = sd[\"oktmo\"].astype(str)\n",
    "sd[\"year\"] = sd[\"year\"].astype(str)\n",
    "sd = sd[sd.oktmo.isin(mun_units.index)]"
   ]
  },
  {
   "cell_type": "code",
   "execution_count": 53,
   "metadata": {},
   "outputs": [],
   "source": [
    "# mun_units.sort_values(\"popsize\", ascending=False).head(50)"
   ]
  },
  {
   "cell_type": "markdown",
   "metadata": {},
   "source": [
    "#### Гипотеза: в больших городах доля приезжающих (уезжающих) больше"
   ]
  },
  {
   "cell_type": "code",
   "execution_count": 54,
   "metadata": {},
   "outputs": [],
   "source": [
    "mun_units[\"saldo_rel\"] = mun_units.saldo  / mun_units.popsize\n",
    "mun_units[\"in_and_out_flow\"] = mun_units.inflow + mun_units.outflow\n"
   ]
  },
  {
   "cell_type": "code",
   "execution_count": 55,
   "metadata": {},
   "outputs": [
    {
     "data": {
      "application/vnd.plotly.v1+json": {
       "config": {
        "plotlyServerURL": "https://plot.ly"
       },
       "data": [
        {
         "type": "scatter",
         "x": [
          90571,
          87626,
          76974,
          74137,
          73001,
          61716,
          58596,
          49609,
          43875,
          43309,
          39224,
          33295,
          32833,
          31127,
          30070,
          28187,
          25878,
          22699,
          22416,
          22052,
          20937,
          19250,
          19226,
          18776,
          18210,
          17777,
          16448,
          15969,
          14643,
          14606,
          14469,
          14030,
          13629,
          13620,
          13565,
          13191,
          13011,
          12644,
          11810,
          11693,
          11586,
          11490,
          11433,
          11351,
          11054,
          11028,
          10633,
          10207,
          10086,
          9948,
          9757,
          9434,
          9212,
          9167,
          9120,
          8809,
          8756,
          8543,
          8437,
          8115,
          8065,
          7912,
          7750,
          7687,
          7129,
          6950,
          6545,
          6478,
          6395,
          6311,
          6275,
          6217,
          6201,
          6139,
          5814,
          5776,
          5688,
          5635,
          5625,
          5472,
          5302,
          5255,
          5213,
          5169,
          5125,
          5078,
          4984,
          4867,
          4669,
          4657,
          4562,
          4440,
          4429,
          4389,
          4237,
          4170,
          4083,
          3985,
          3875,
          3741,
          3724,
          3692,
          3572,
          3471,
          3368,
          3330,
          3272,
          3247,
          3185,
          3091,
          3013,
          2994,
          2977,
          2958,
          2878,
          2814,
          2795,
          2766,
          2683,
          2651,
          2648,
          2606,
          2578,
          2561,
          2551,
          2530,
          2495,
          2467,
          2362,
          2355,
          2341,
          2335,
          2329,
          2308,
          2203,
          2137,
          2128,
          2125,
          2098,
          2096,
          1977,
          1892,
          1829,
          1803,
          1799,
          1770,
          1720,
          1718,
          1712,
          1710,
          1703,
          1697,
          1688,
          1580,
          1577,
          1552,
          1530,
          1528,
          1508,
          1486,
          1479,
          1419,
          1378,
          1336,
          1313,
          1215,
          1195,
          1139,
          1130,
          1119,
          1105,
          1069,
          1058,
          1042,
          1037,
          1015,
          959,
          938,
          920,
          858,
          847,
          662,
          653,
          610,
          585,
          453,
          439
         ],
         "y": [
          13083,
          -320,
          -120,
          6467,
          -20,
          1723,
          -333,
          -135,
          -65,
          55,
          -430,
          -175,
          44,
          2515,
          953,
          180,
          -24,
          689,
          -275,
          61,
          174,
          -9,
          21,
          -29,
          -104,
          60,
          -40,
          -81,
          -34,
          -82,
          224,
          -81,
          18,
          1413,
          1456,
          -284,
          18,
          43,
          2172,
          5,
          -37,
          -65,
          64,
          1,
          108,
          443,
          1,
          174,
          12,
          -7,
          15,
          14,
          -89,
          17,
          -34,
          -41,
          68,
          19,
          20,
          218,
          -53,
          64,
          -32,
          77,
          -58,
          156,
          116,
          50,
          182,
          -3,
          -29,
          50,
          201,
          184,
          -41,
          0,
          344,
          -58,
          -17,
          -67,
          13,
          25,
          -20,
          268,
          87,
          -31,
          256,
          259,
          -37,
          -72,
          -9,
          -53,
          12,
          16,
          -69,
          -77,
          446,
          83,
          -21,
          13,
          135,
          -11,
          9,
          2,
          5,
          31,
          4,
          196,
          19,
          74,
          -52,
          -37,
          0,
          -18,
          74,
          -20,
          29,
          94,
          -16,
          -14,
          -3,
          6,
          34,
          -8,
          -44,
          3,
          -75,
          4,
          24,
          -7,
          9,
          -41,
          19,
          -5,
          5,
          42,
          8,
          8,
          -34,
          33,
          24,
          7,
          -4,
          -5,
          -27,
          28,
          -16,
          -8,
          -47,
          -3,
          -84,
          -51,
          -12,
          -42,
          -2,
          -22,
          25,
          24,
          6,
          32,
          -15,
          0,
          -6,
          40,
          -9,
          -19,
          -14,
          -8,
          1,
          -9,
          42,
          -12,
          2,
          -6,
          -1,
          -4,
          -9,
          32,
          -9,
          86,
          7,
          7,
          -7,
          -27,
          3,
          -1,
          16
         ]
        }
       ],
       "layout": {
        "template": {
         "data": {
          "bar": [
           {
            "error_x": {
             "color": "#2a3f5f"
            },
            "error_y": {
             "color": "#2a3f5f"
            },
            "marker": {
             "line": {
              "color": "#E5ECF6",
              "width": 0.5
             },
             "pattern": {
              "fillmode": "overlay",
              "size": 10,
              "solidity": 0.2
             }
            },
            "type": "bar"
           }
          ],
          "barpolar": [
           {
            "marker": {
             "line": {
              "color": "#E5ECF6",
              "width": 0.5
             },
             "pattern": {
              "fillmode": "overlay",
              "size": 10,
              "solidity": 0.2
             }
            },
            "type": "barpolar"
           }
          ],
          "carpet": [
           {
            "aaxis": {
             "endlinecolor": "#2a3f5f",
             "gridcolor": "white",
             "linecolor": "white",
             "minorgridcolor": "white",
             "startlinecolor": "#2a3f5f"
            },
            "baxis": {
             "endlinecolor": "#2a3f5f",
             "gridcolor": "white",
             "linecolor": "white",
             "minorgridcolor": "white",
             "startlinecolor": "#2a3f5f"
            },
            "type": "carpet"
           }
          ],
          "choropleth": [
           {
            "colorbar": {
             "outlinewidth": 0,
             "ticks": ""
            },
            "type": "choropleth"
           }
          ],
          "contour": [
           {
            "colorbar": {
             "outlinewidth": 0,
             "ticks": ""
            },
            "colorscale": [
             [
              0,
              "#0d0887"
             ],
             [
              0.1111111111111111,
              "#46039f"
             ],
             [
              0.2222222222222222,
              "#7201a8"
             ],
             [
              0.3333333333333333,
              "#9c179e"
             ],
             [
              0.4444444444444444,
              "#bd3786"
             ],
             [
              0.5555555555555556,
              "#d8576b"
             ],
             [
              0.6666666666666666,
              "#ed7953"
             ],
             [
              0.7777777777777778,
              "#fb9f3a"
             ],
             [
              0.8888888888888888,
              "#fdca26"
             ],
             [
              1,
              "#f0f921"
             ]
            ],
            "type": "contour"
           }
          ],
          "contourcarpet": [
           {
            "colorbar": {
             "outlinewidth": 0,
             "ticks": ""
            },
            "type": "contourcarpet"
           }
          ],
          "heatmap": [
           {
            "colorbar": {
             "outlinewidth": 0,
             "ticks": ""
            },
            "colorscale": [
             [
              0,
              "#0d0887"
             ],
             [
              0.1111111111111111,
              "#46039f"
             ],
             [
              0.2222222222222222,
              "#7201a8"
             ],
             [
              0.3333333333333333,
              "#9c179e"
             ],
             [
              0.4444444444444444,
              "#bd3786"
             ],
             [
              0.5555555555555556,
              "#d8576b"
             ],
             [
              0.6666666666666666,
              "#ed7953"
             ],
             [
              0.7777777777777778,
              "#fb9f3a"
             ],
             [
              0.8888888888888888,
              "#fdca26"
             ],
             [
              1,
              "#f0f921"
             ]
            ],
            "type": "heatmap"
           }
          ],
          "heatmapgl": [
           {
            "colorbar": {
             "outlinewidth": 0,
             "ticks": ""
            },
            "colorscale": [
             [
              0,
              "#0d0887"
             ],
             [
              0.1111111111111111,
              "#46039f"
             ],
             [
              0.2222222222222222,
              "#7201a8"
             ],
             [
              0.3333333333333333,
              "#9c179e"
             ],
             [
              0.4444444444444444,
              "#bd3786"
             ],
             [
              0.5555555555555556,
              "#d8576b"
             ],
             [
              0.6666666666666666,
              "#ed7953"
             ],
             [
              0.7777777777777778,
              "#fb9f3a"
             ],
             [
              0.8888888888888888,
              "#fdca26"
             ],
             [
              1,
              "#f0f921"
             ]
            ],
            "type": "heatmapgl"
           }
          ],
          "histogram": [
           {
            "marker": {
             "pattern": {
              "fillmode": "overlay",
              "size": 10,
              "solidity": 0.2
             }
            },
            "type": "histogram"
           }
          ],
          "histogram2d": [
           {
            "colorbar": {
             "outlinewidth": 0,
             "ticks": ""
            },
            "colorscale": [
             [
              0,
              "#0d0887"
             ],
             [
              0.1111111111111111,
              "#46039f"
             ],
             [
              0.2222222222222222,
              "#7201a8"
             ],
             [
              0.3333333333333333,
              "#9c179e"
             ],
             [
              0.4444444444444444,
              "#bd3786"
             ],
             [
              0.5555555555555556,
              "#d8576b"
             ],
             [
              0.6666666666666666,
              "#ed7953"
             ],
             [
              0.7777777777777778,
              "#fb9f3a"
             ],
             [
              0.8888888888888888,
              "#fdca26"
             ],
             [
              1,
              "#f0f921"
             ]
            ],
            "type": "histogram2d"
           }
          ],
          "histogram2dcontour": [
           {
            "colorbar": {
             "outlinewidth": 0,
             "ticks": ""
            },
            "colorscale": [
             [
              0,
              "#0d0887"
             ],
             [
              0.1111111111111111,
              "#46039f"
             ],
             [
              0.2222222222222222,
              "#7201a8"
             ],
             [
              0.3333333333333333,
              "#9c179e"
             ],
             [
              0.4444444444444444,
              "#bd3786"
             ],
             [
              0.5555555555555556,
              "#d8576b"
             ],
             [
              0.6666666666666666,
              "#ed7953"
             ],
             [
              0.7777777777777778,
              "#fb9f3a"
             ],
             [
              0.8888888888888888,
              "#fdca26"
             ],
             [
              1,
              "#f0f921"
             ]
            ],
            "type": "histogram2dcontour"
           }
          ],
          "mesh3d": [
           {
            "colorbar": {
             "outlinewidth": 0,
             "ticks": ""
            },
            "type": "mesh3d"
           }
          ],
          "parcoords": [
           {
            "line": {
             "colorbar": {
              "outlinewidth": 0,
              "ticks": ""
             }
            },
            "type": "parcoords"
           }
          ],
          "pie": [
           {
            "automargin": true,
            "type": "pie"
           }
          ],
          "scatter": [
           {
            "fillpattern": {
             "fillmode": "overlay",
             "size": 10,
             "solidity": 0.2
            },
            "type": "scatter"
           }
          ],
          "scatter3d": [
           {
            "line": {
             "colorbar": {
              "outlinewidth": 0,
              "ticks": ""
             }
            },
            "marker": {
             "colorbar": {
              "outlinewidth": 0,
              "ticks": ""
             }
            },
            "type": "scatter3d"
           }
          ],
          "scattercarpet": [
           {
            "marker": {
             "colorbar": {
              "outlinewidth": 0,
              "ticks": ""
             }
            },
            "type": "scattercarpet"
           }
          ],
          "scattergeo": [
           {
            "marker": {
             "colorbar": {
              "outlinewidth": 0,
              "ticks": ""
             }
            },
            "type": "scattergeo"
           }
          ],
          "scattergl": [
           {
            "marker": {
             "colorbar": {
              "outlinewidth": 0,
              "ticks": ""
             }
            },
            "type": "scattergl"
           }
          ],
          "scattermapbox": [
           {
            "marker": {
             "colorbar": {
              "outlinewidth": 0,
              "ticks": ""
             }
            },
            "type": "scattermapbox"
           }
          ],
          "scatterpolar": [
           {
            "marker": {
             "colorbar": {
              "outlinewidth": 0,
              "ticks": ""
             }
            },
            "type": "scatterpolar"
           }
          ],
          "scatterpolargl": [
           {
            "marker": {
             "colorbar": {
              "outlinewidth": 0,
              "ticks": ""
             }
            },
            "type": "scatterpolargl"
           }
          ],
          "scatterternary": [
           {
            "marker": {
             "colorbar": {
              "outlinewidth": 0,
              "ticks": ""
             }
            },
            "type": "scatterternary"
           }
          ],
          "surface": [
           {
            "colorbar": {
             "outlinewidth": 0,
             "ticks": ""
            },
            "colorscale": [
             [
              0,
              "#0d0887"
             ],
             [
              0.1111111111111111,
              "#46039f"
             ],
             [
              0.2222222222222222,
              "#7201a8"
             ],
             [
              0.3333333333333333,
              "#9c179e"
             ],
             [
              0.4444444444444444,
              "#bd3786"
             ],
             [
              0.5555555555555556,
              "#d8576b"
             ],
             [
              0.6666666666666666,
              "#ed7953"
             ],
             [
              0.7777777777777778,
              "#fb9f3a"
             ],
             [
              0.8888888888888888,
              "#fdca26"
             ],
             [
              1,
              "#f0f921"
             ]
            ],
            "type": "surface"
           }
          ],
          "table": [
           {
            "cells": {
             "fill": {
              "color": "#EBF0F8"
             },
             "line": {
              "color": "white"
             }
            },
            "header": {
             "fill": {
              "color": "#C8D4E3"
             },
             "line": {
              "color": "white"
             }
            },
            "type": "table"
           }
          ]
         },
         "layout": {
          "annotationdefaults": {
           "arrowcolor": "#2a3f5f",
           "arrowhead": 0,
           "arrowwidth": 1
          },
          "autotypenumbers": "strict",
          "coloraxis": {
           "colorbar": {
            "outlinewidth": 0,
            "ticks": ""
           }
          },
          "colorscale": {
           "diverging": [
            [
             0,
             "#8e0152"
            ],
            [
             0.1,
             "#c51b7d"
            ],
            [
             0.2,
             "#de77ae"
            ],
            [
             0.3,
             "#f1b6da"
            ],
            [
             0.4,
             "#fde0ef"
            ],
            [
             0.5,
             "#f7f7f7"
            ],
            [
             0.6,
             "#e6f5d0"
            ],
            [
             0.7,
             "#b8e186"
            ],
            [
             0.8,
             "#7fbc41"
            ],
            [
             0.9,
             "#4d9221"
            ],
            [
             1,
             "#276419"
            ]
           ],
           "sequential": [
            [
             0,
             "#0d0887"
            ],
            [
             0.1111111111111111,
             "#46039f"
            ],
            [
             0.2222222222222222,
             "#7201a8"
            ],
            [
             0.3333333333333333,
             "#9c179e"
            ],
            [
             0.4444444444444444,
             "#bd3786"
            ],
            [
             0.5555555555555556,
             "#d8576b"
            ],
            [
             0.6666666666666666,
             "#ed7953"
            ],
            [
             0.7777777777777778,
             "#fb9f3a"
            ],
            [
             0.8888888888888888,
             "#fdca26"
            ],
            [
             1,
             "#f0f921"
            ]
           ],
           "sequentialminus": [
            [
             0,
             "#0d0887"
            ],
            [
             0.1111111111111111,
             "#46039f"
            ],
            [
             0.2222222222222222,
             "#7201a8"
            ],
            [
             0.3333333333333333,
             "#9c179e"
            ],
            [
             0.4444444444444444,
             "#bd3786"
            ],
            [
             0.5555555555555556,
             "#d8576b"
            ],
            [
             0.6666666666666666,
             "#ed7953"
            ],
            [
             0.7777777777777778,
             "#fb9f3a"
            ],
            [
             0.8888888888888888,
             "#fdca26"
            ],
            [
             1,
             "#f0f921"
            ]
           ]
          },
          "colorway": [
           "#636efa",
           "#EF553B",
           "#00cc96",
           "#ab63fa",
           "#FFA15A",
           "#19d3f3",
           "#FF6692",
           "#B6E880",
           "#FF97FF",
           "#FECB52"
          ],
          "font": {
           "color": "#2a3f5f"
          },
          "geo": {
           "bgcolor": "white",
           "lakecolor": "white",
           "landcolor": "#E5ECF6",
           "showlakes": true,
           "showland": true,
           "subunitcolor": "white"
          },
          "hoverlabel": {
           "align": "left"
          },
          "hovermode": "closest",
          "mapbox": {
           "style": "light"
          },
          "paper_bgcolor": "white",
          "plot_bgcolor": "#E5ECF6",
          "polar": {
           "angularaxis": {
            "gridcolor": "white",
            "linecolor": "white",
            "ticks": ""
           },
           "bgcolor": "#E5ECF6",
           "radialaxis": {
            "gridcolor": "white",
            "linecolor": "white",
            "ticks": ""
           }
          },
          "scene": {
           "xaxis": {
            "backgroundcolor": "#E5ECF6",
            "gridcolor": "white",
            "gridwidth": 2,
            "linecolor": "white",
            "showbackground": true,
            "ticks": "",
            "zerolinecolor": "white"
           },
           "yaxis": {
            "backgroundcolor": "#E5ECF6",
            "gridcolor": "white",
            "gridwidth": 2,
            "linecolor": "white",
            "showbackground": true,
            "ticks": "",
            "zerolinecolor": "white"
           },
           "zaxis": {
            "backgroundcolor": "#E5ECF6",
            "gridcolor": "white",
            "gridwidth": 2,
            "linecolor": "white",
            "showbackground": true,
            "ticks": "",
            "zerolinecolor": "white"
           }
          },
          "shapedefaults": {
           "line": {
            "color": "#2a3f5f"
           }
          },
          "ternary": {
           "aaxis": {
            "gridcolor": "white",
            "linecolor": "white",
            "ticks": ""
           },
           "baxis": {
            "gridcolor": "white",
            "linecolor": "white",
            "ticks": ""
           },
           "bgcolor": "#E5ECF6",
           "caxis": {
            "gridcolor": "white",
            "linecolor": "white",
            "ticks": ""
           }
          },
          "title": {
           "x": 0.05
          },
          "xaxis": {
           "automargin": true,
           "gridcolor": "white",
           "linecolor": "white",
           "ticks": "",
           "title": {
            "standoff": 15
           },
           "zerolinecolor": "white",
           "zerolinewidth": 2
          },
          "yaxis": {
           "automargin": true,
           "gridcolor": "white",
           "linecolor": "white",
           "ticks": "",
           "title": {
            "standoff": 15
           },
           "zerolinecolor": "white",
           "zerolinewidth": 2
          }
         }
        }
       }
      }
     },
     "metadata": {},
     "output_type": "display_data"
    }
   ],
   "source": [
    "df = mun_units.sort_values(\"popsize\", ascending=False)\n",
    "# df[\"inflow_rel\"] = df.inflow/df.popsize\n",
    "# df[\"outflow_rel\"] = df.outflow/df.popsize\n",
    "# df = df.drop([\"inflow\", \"outflow\"], axis=1)\n",
    "fig = go.Figure()\n",
    "fig.add_trace(\n",
    "    go.Scatter(\n",
    "        x=df.popsize,\n",
    "        y=df.saldo,\n",
    "    )\n",
    ")"
   ]
  },
  {
   "cell_type": "code",
   "execution_count": 56,
   "metadata": {},
   "outputs": [
    {
     "data": {
      "text/plain": [
       "<Axes: >"
      ]
     },
     "execution_count": 56,
     "metadata": {},
     "output_type": "execute_result"
    },
    {
     "data": {
      "image/png": "[encoded data removed]",
      "text/plain": [
       "<Figure size 640x480 with 2 Axes>"
      ]
     },
     "metadata": {},
     "output_type": "display_data"
    }
   ],
   "source": [
    "corr = df.drop(\"name\", axis=1).corr()\n",
    "sns.heatmap(corr,  annot=True,\n",
    "            xticklabels=corr.columns.values,\n",
    "            yticklabels=corr.columns.values, cmap=sns.light_palette(\"seagreen\", as_cmap=True))"
   ]
  },
  {
   "cell_type": "code",
   "execution_count": 57,
   "metadata": {},
   "outputs": [
    {
     "data": {
      "application/vnd.plotly.v1+json": {
       "config": {
        "plotlyServerURL": "https://plot.ly"
       },
       "data": [
        {
         "type": "scatter",
         "x": [
          90571,
          87626,
          76974,
          74137,
          73001,
          61716,
          58596,
          49609,
          43875,
          43309,
          39224,
          33295,
          32833,
          31127,
          30070,
          28187,
          25878,
          22699,
          22416,
          22052,
          20937,
          19250,
          19226,
          18776,
          18210,
          17777,
          16448,
          15969,
          14643,
          14606,
          14469,
          14030,
          13629,
          13620,
          13565,
          13191,
          13011,
          12644,
          11810,
          11693,
          11586,
          11490,
          11433,
          11351,
          11054,
          11028,
          10633,
          10207,
          10086,
          9948,
          9757,
          9434,
          9212,
          9167,
          9120,
          8809,
          8756,
          8543,
          8437,
          8115,
          8065,
          7912,
          7750,
          7687,
          7129,
          6950,
          6545,
          6478,
          6395,
          6311,
          6275,
          6217,
          6201,
          6139,
          5814,
          5776,
          5688,
          5635,
          5625,
          5472,
          5302,
          5255,
          5213,
          5169,
          5125,
          5078,
          4984,
          4867,
          4669,
          4657,
          4562,
          4440,
          4429,
          4389,
          4237,
          4170,
          4083,
          3985,
          3875,
          3741,
          3724,
          3692,
          3572,
          3471,
          3368,
          3330,
          3272,
          3247,
          3185,
          3091,
          3013,
          2994,
          2977,
          2958,
          2878,
          2814,
          2795,
          2766,
          2683,
          2651,
          2648,
          2606,
          2578,
          2561,
          2551,
          2530,
          2495,
          2467,
          2362,
          2355,
          2341,
          2335,
          2329,
          2308,
          2203,
          2137,
          2128,
          2125,
          2098,
          2096,
          1977,
          1892,
          1829,
          1803,
          1799,
          1770,
          1720,
          1718,
          1712,
          1710,
          1703,
          1697,
          1688,
          1580,
          1577,
          1552,
          1530,
          1528,
          1508,
          1486,
          1479,
          1419,
          1378,
          1336,
          1313,
          1215,
          1195,
          1139,
          1130,
          1119,
          1105,
          1069,
          1058,
          1042,
          1037,
          1015,
          959,
          938,
          920,
          858,
          847,
          662,
          653,
          610,
          585,
          453,
          439
         ],
         "y": [
          20224,
          2139,
          3574,
          12094,
          1640,
          3969,
          1705,
          618,
          1179,
          1005,
          679,
          764,
          1449,
          4548,
          2282,
          1079,
          793,
          1836,
          417,
          840,
          735,
          582,
          550,
          248,
          546,
          809,
          496,
          444,
          444,
          612,
          709,
          332,
          440,
          2212,
          2430,
          500,
          371,
          314,
          3207,
          338,
          317,
          429,
          393,
          212,
          468,
          801,
          179,
          546,
          398,
          297,
          463,
          335,
          199,
          180,
          307,
          103,
          523,
          430,
          408,
          415,
          246,
          331,
          133,
          341,
          214,
          458,
          486,
          357,
          412,
          117,
          67,
          231,
          438,
          461,
          90,
          213,
          613,
          161,
          216,
          103,
          165,
          195,
          218,
          457,
          270,
          146,
          525,
          461,
          133,
          154,
          267,
          123,
          114,
          301,
          54,
          88,
          640,
          200,
          138,
          151,
          255,
          130,
          120,
          81,
          109,
          140,
          253,
          340,
          91,
          173,
          68,
          195,
          44,
          47,
          178,
          53,
          93,
          206,
          75,
          58,
          84,
          99,
          206,
          48,
          46,
          120,
          59,
          81,
          102,
          63,
          78,
          62,
          98,
          39,
          138,
          144,
          90,
          66,
          98,
          188,
          85,
          91,
          59,
          43,
          42,
          81,
          55,
          45,
          129,
          50,
          43,
          81,
          41,
          16,
          48,
          38,
          85,
          103,
          49,
          134,
          36,
          37,
          18,
          86,
          12,
          29,
          35,
          31,
          30,
          16,
          86,
          19,
          24,
          30,
          30,
          40,
          47,
          60,
          35,
          126,
          37,
          25,
          26,
          10,
          27,
          24,
          30
         ]
        }
       ],
       "layout": {
        "template": {
         "data": {
          "bar": [
           {
            "error_x": {
             "color": "#2a3f5f"
            },
            "error_y": {
             "color": "#2a3f5f"
            },
            "marker": {
             "line": {
              "color": "#E5ECF6",
              "width": 0.5
             },
             "pattern": {
              "fillmode": "overlay",
              "size": 10,
              "solidity": 0.2
             }
            },
            "type": "bar"
           }
          ],
          "barpolar": [
           {
            "marker": {
             "line": {
              "color": "#E5ECF6",
              "width": 0.5
             },
             "pattern": {
              "fillmode": "overlay",
              "size": 10,
              "solidity": 0.2
             }
            },
            "type": "barpolar"
           }
          ],
          "carpet": [
           {
            "aaxis": {
             "endlinecolor": "#2a3f5f",
             "gridcolor": "white",
             "linecolor": "white",
             "minorgridcolor": "white",
             "startlinecolor": "#2a3f5f"
            },
            "baxis": {
             "endlinecolor": "#2a3f5f",
             "gridcolor": "white",
             "linecolor": "white",
             "minorgridcolor": "white",
             "startlinecolor": "#2a3f5f"
            },
            "type": "carpet"
           }
          ],
          "choropleth": [
           {
            "colorbar": {
             "outlinewidth": 0,
             "ticks": ""
            },
            "type": "choropleth"
           }
          ],
          "contour": [
           {
            "colorbar": {
             "outlinewidth": 0,
             "ticks": ""
            },
            "colorscale": [
             [
              0,
              "#0d0887"
             ],
             [
              0.1111111111111111,
              "#46039f"
             ],
             [
              0.2222222222222222,
              "#7201a8"
             ],
             [
              0.3333333333333333,
              "#9c179e"
             ],
             [
              0.4444444444444444,
              "#bd3786"
             ],
             [
              0.5555555555555556,
              "#d8576b"
             ],
             [
              0.6666666666666666,
              "#ed7953"
             ],
             [
              0.7777777777777778,
              "#fb9f3a"
             ],
             [
              0.8888888888888888,
              "#fdca26"
             ],
             [
              1,
              "#f0f921"
             ]
            ],
            "type": "contour"
           }
          ],
          "contourcarpet": [
           {
            "colorbar": {
             "outlinewidth": 0,
             "ticks": ""
            },
            "type": "contourcarpet"
           }
          ],
          "heatmap": [
           {
            "colorbar": {
             "outlinewidth": 0,
             "ticks": ""
            },
            "colorscale": [
             [
              0,
              "#0d0887"
             ],
             [
              0.1111111111111111,
              "#46039f"
             ],
             [
              0.2222222222222222,
              "#7201a8"
             ],
             [
              0.3333333333333333,
              "#9c179e"
             ],
             [
              0.4444444444444444,
              "#bd3786"
             ],
             [
              0.5555555555555556,
              "#d8576b"
             ],
             [
              0.6666666666666666,
              "#ed7953"
             ],
             [
              0.7777777777777778,
              "#fb9f3a"
             ],
             [
              0.8888888888888888,
              "#fdca26"
             ],
             [
              1,
              "#f0f921"
             ]
            ],
            "type": "heatmap"
           }
          ],
          "heatmapgl": [
           {
            "colorbar": {
             "outlinewidth": 0,
             "ticks": ""
            },
            "colorscale": [
             [
              0,
              "#0d0887"
             ],
             [
              0.1111111111111111,
              "#46039f"
             ],
             [
              0.2222222222222222,
              "#7201a8"
             ],
             [
              0.3333333333333333,
              "#9c179e"
             ],
             [
              0.4444444444444444,
              "#bd3786"
             ],
             [
              0.5555555555555556,
              "#d8576b"
             ],
             [
              0.6666666666666666,
              "#ed7953"
             ],
             [
              0.7777777777777778,
              "#fb9f3a"
             ],
             [
              0.8888888888888888,
              "#fdca26"
             ],
             [
              1,
              "#f0f921"
             ]
            ],
            "type": "heatmapgl"
           }
          ],
          "histogram": [
           {
            "marker": {
             "pattern": {
              "fillmode": "overlay",
              "size": 10,
              "solidity": 0.2
             }
            },
            "type": "histogram"
           }
          ],
          "histogram2d": [
           {
            "colorbar": {
             "outlinewidth": 0,
             "ticks": ""
            },
            "colorscale": [
             [
              0,
              "#0d0887"
             ],
             [
              0.1111111111111111,
              "#46039f"
             ],
             [
              0.2222222222222222,
              "#7201a8"
             ],
             [
              0.3333333333333333,
              "#9c179e"
             ],
             [
              0.4444444444444444,
              "#bd3786"
             ],
             [
              0.5555555555555556,
              "#d8576b"
             ],
             [
              0.6666666666666666,
              "#ed7953"
             ],
             [
              0.7777777777777778,
              "#fb9f3a"
             ],
             [
              0.8888888888888888,
              "#fdca26"
             ],
             [
              1,
              "#f0f921"
             ]
            ],
            "type": "histogram2d"
           }
          ],
          "histogram2dcontour": [
           {
            "colorbar": {
             "outlinewidth": 0,
             "ticks": ""
            },
            "colorscale": [
             [
              0,
              "#0d0887"
             ],
             [
              0.1111111111111111,
              "#46039f"
             ],
             [
              0.2222222222222222,
              "#7201a8"
             ],
             [
              0.3333333333333333,
              "#9c179e"
             ],
             [
              0.4444444444444444,
              "#bd3786"
             ],
             [
              0.5555555555555556,
              "#d8576b"
             ],
             [
              0.6666666666666666,
              "#ed7953"
             ],
             [
              0.7777777777777778,
              "#fb9f3a"
             ],
             [
              0.8888888888888888,
              "#fdca26"
             ],
             [
              1,
              "#f0f921"
             ]
            ],
            "type": "histogram2dcontour"
           }
          ],
          "mesh3d": [
           {
            "colorbar": {
             "outlinewidth": 0,
             "ticks": ""
            },
            "type": "mesh3d"
           }
          ],
          "parcoords": [
           {
            "line": {
             "colorbar": {
              "outlinewidth": 0,
              "ticks": ""
             }
            },
            "type": "parcoords"
           }
          ],
          "pie": [
           {
            "automargin": true,
            "type": "pie"
           }
          ],
          "scatter": [
           {
            "fillpattern": {
             "fillmode": "overlay",
             "size": 10,
             "solidity": 0.2
            },
            "type": "scatter"
           }
          ],
          "scatter3d": [
           {
            "line": {
             "colorbar": {
              "outlinewidth": 0,
              "ticks": ""
             }
            },
            "marker": {
             "colorbar": {
              "outlinewidth": 0,
              "ticks": ""
             }
            },
            "type": "scatter3d"
           }
          ],
          "scattercarpet": [
           {
            "marker": {
             "colorbar": {
              "outlinewidth": 0,
              "ticks": ""
             }
            },
            "type": "scattercarpet"
           }
          ],
          "scattergeo": [
           {
            "marker": {
             "colorbar": {
              "outlinewidth": 0,
              "ticks": ""
             }
            },
            "type": "scattergeo"
           }
          ],
          "scattergl": [
           {
            "marker": {
             "colorbar": {
              "outlinewidth": 0,
              "ticks": ""
             }
            },
            "type": "scattergl"
           }
          ],
          "scattermapbox": [
           {
            "marker": {
             "colorbar": {
              "outlinewidth": 0,
              "ticks": ""
             }
            },
            "type": "scattermapbox"
           }
          ],
          "scatterpolar": [
           {
            "marker": {
             "colorbar": {
              "outlinewidth": 0,
              "ticks": ""
             }
            },
            "type": "scatterpolar"
           }
          ],
          "scatterpolargl": [
           {
            "marker": {
             "colorbar": {
              "outlinewidth": 0,
              "ticks": ""
             }
            },
            "type": "scatterpolargl"
           }
          ],
          "scatterternary": [
           {
            "marker": {
             "colorbar": {
              "outlinewidth": 0,
              "ticks": ""
             }
            },
            "type": "scatterternary"
           }
          ],
          "surface": [
           {
            "colorbar": {
             "outlinewidth": 0,
             "ticks": ""
            },
            "colorscale": [
             [
              0,
              "#0d0887"
             ],
             [
              0.1111111111111111,
              "#46039f"
             ],
             [
              0.2222222222222222,
              "#7201a8"
             ],
             [
              0.3333333333333333,
              "#9c179e"
             ],
             [
              0.4444444444444444,
              "#bd3786"
             ],
             [
              0.5555555555555556,
              "#d8576b"
             ],
             [
              0.6666666666666666,
              "#ed7953"
             ],
             [
              0.7777777777777778,
              "#fb9f3a"
             ],
             [
              0.8888888888888888,
              "#fdca26"
             ],
             [
              1,
              "#f0f921"
             ]
            ],
            "type": "surface"
           }
          ],
          "table": [
           {
            "cells": {
             "fill": {
              "color": "#EBF0F8"
             },
             "line": {
              "color": "white"
             }
            },
            "header": {
             "fill": {
              "color": "#C8D4E3"
             },
             "line": {
              "color": "white"
             }
            },
            "type": "table"
           }
          ]
         },
         "layout": {
          "annotationdefaults": {
           "arrowcolor": "#2a3f5f",
           "arrowhead": 0,
           "arrowwidth": 1
          },
          "autotypenumbers": "strict",
          "coloraxis": {
           "colorbar": {
            "outlinewidth": 0,
            "ticks": ""
           }
          },
          "colorscale": {
           "diverging": [
            [
             0,
             "#8e0152"
            ],
            [
             0.1,
             "#c51b7d"
            ],
            [
             0.2,
             "#de77ae"
            ],
            [
             0.3,
             "#f1b6da"
            ],
            [
             0.4,
             "#fde0ef"
            ],
            [
             0.5,
             "#f7f7f7"
            ],
            [
             0.6,
             "#e6f5d0"
            ],
            [
             0.7,
             "#b8e186"
            ],
            [
             0.8,
             "#7fbc41"
            ],
            [
             0.9,
             "#4d9221"
            ],
            [
             1,
             "#276419"
            ]
           ],
           "sequential": [
            [
             0,
             "#0d0887"
            ],
            [
             0.1111111111111111,
             "#46039f"
            ],
            [
             0.2222222222222222,
             "#7201a8"
            ],
            [
             0.3333333333333333,
             "#9c179e"
            ],
            [
             0.4444444444444444,
             "#bd3786"
            ],
            [
             0.5555555555555556,
             "#d8576b"
            ],
            [
             0.6666666666666666,
             "#ed7953"
            ],
            [
             0.7777777777777778,
             "#fb9f3a"
            ],
            [
             0.8888888888888888,
             "#fdca26"
            ],
            [
             1,
             "#f0f921"
            ]
           ],
           "sequentialminus": [
            [
             0,
             "#0d0887"
            ],
            [
             0.1111111111111111,
             "#46039f"
            ],
            [
             0.2222222222222222,
             "#7201a8"
            ],
            [
             0.3333333333333333,
             "#9c179e"
            ],
            [
             0.4444444444444444,
             "#bd3786"
            ],
            [
             0.5555555555555556,
             "#d8576b"
            ],
            [
             0.6666666666666666,
             "#ed7953"
            ],
            [
             0.7777777777777778,
             "#fb9f3a"
            ],
            [
             0.8888888888888888,
             "#fdca26"
            ],
            [
             1,
             "#f0f921"
            ]
           ]
          },
          "colorway": [
           "#636efa",
           "#EF553B",
           "#00cc96",
           "#ab63fa",
           "#FFA15A",
           "#19d3f3",
           "#FF6692",
           "#B6E880",
           "#FF97FF",
           "#FECB52"
          ],
          "font": {
           "color": "#2a3f5f"
          },
          "geo": {
           "bgcolor": "white",
           "lakecolor": "white",
           "landcolor": "#E5ECF6",
           "showlakes": true,
           "showland": true,
           "subunitcolor": "white"
          },
          "hoverlabel": {
           "align": "left"
          },
          "hovermode": "closest",
          "mapbox": {
           "style": "light"
          },
          "paper_bgcolor": "white",
          "plot_bgcolor": "#E5ECF6",
          "polar": {
           "angularaxis": {
            "gridcolor": "white",
            "linecolor": "white",
            "ticks": ""
           },
           "bgcolor": "#E5ECF6",
           "radialaxis": {
            "gridcolor": "white",
            "linecolor": "white",
            "ticks": ""
           }
          },
          "scene": {
           "xaxis": {
            "backgroundcolor": "#E5ECF6",
            "gridcolor": "white",
            "gridwidth": 2,
            "linecolor": "white",
            "showbackground": true,
            "ticks": "",
            "zerolinecolor": "white"
           },
           "yaxis": {
            "backgroundcolor": "#E5ECF6",
            "gridcolor": "white",
            "gridwidth": 2,
            "linecolor": "white",
            "showbackground": true,
            "ticks": "",
            "zerolinecolor": "white"
           },
           "zaxis": {
            "backgroundcolor": "#E5ECF6",
            "gridcolor": "white",
            "gridwidth": 2,
            "linecolor": "white",
            "showbackground": true,
            "ticks": "",
            "zerolinecolor": "white"
           }
          },
          "shapedefaults": {
           "line": {
            "color": "#2a3f5f"
           }
          },
          "ternary": {
           "aaxis": {
            "gridcolor": "white",
            "linecolor": "white",
            "ticks": ""
           },
           "baxis": {
            "gridcolor": "white",
            "linecolor": "white",
            "ticks": ""
           },
           "bgcolor": "#E5ECF6",
           "caxis": {
            "gridcolor": "white",
            "linecolor": "white",
            "ticks": ""
           }
          },
          "title": {
           "x": 0.05
          },
          "xaxis": {
           "automargin": true,
           "gridcolor": "white",
           "linecolor": "white",
           "ticks": "",
           "title": {
            "standoff": 15
           },
           "zerolinecolor": "white",
           "zerolinewidth": 2
          },
          "yaxis": {
           "automargin": true,
           "gridcolor": "white",
           "linecolor": "white",
           "ticks": "",
           "title": {
            "standoff": 15
           },
           "zerolinecolor": "white",
           "zerolinewidth": 2
          }
         }
        }
       }
      }
     },
     "metadata": {},
     "output_type": "display_data"
    }
   ],
   "source": [
    "fig = go.Figure()\n",
    "fig.add_trace(\n",
    "    go.Scatter(\n",
    "        x=df.popsize,\n",
    "        y=df.inflow,\n",
    "    )\n",
    ")"
   ]
  },
  {
   "cell_type": "markdown",
   "metadata": {},
   "source": [
    "Число миграционных взаимодействий in_and_out_flow коррелирует с численностью населения.\n",
    "\n",
    "Можно построить граф, в котором узел - город, ребро - переезд между городами.\n",
    "\n",
    "Следует ли in_and_out_flow степенному закону?"
   ]
  },
  {
   "cell_type": "code",
   "execution_count": 58,
   "metadata": {},
   "outputs": [
    {
     "name": "stdout",
     "output_type": "stream",
     "text": [
      "(0.2100683069241509, 32.99999999999999, 27332.000000000004)\n"
     ]
    },
    {
     "data": {
      "image/png": "[encoded data removed]",
      "text/plain": [
       "<Figure size 1500x600 with 1 Axes>"
      ]
     },
     "metadata": {},
     "output_type": "display_data"
    }
   ],
   "source": [
    "fig, ax = plt.subplots(1, 1)\n",
    "fig.set_figheight(6)\n",
    "fig.set_figwidth(15)\n",
    "mun_units = mun_units.sort_values(\"in_and_out_flow\")\n",
    "in_and_out_flow = mun_units.in_and_out_flow\n",
    "params = powerlaw.fit(in_and_out_flow, method=\"MLE\",)\n",
    "a_fit, loc_fit, scale_fit = params\n",
    "print(params)\n",
    "y_fit = powerlaw(a_fit, loc_fit, scale_fit).pdf(in_and_out_flow)\n",
    "y_hist, x, _ =ax.hist(in_and_out_flow, density=True, bins=500, histtype='stepfilled', alpha=0.2,\n",
    "                      label = \"in_and_out_flow\")\n",
    "ax.plot(in_and_out_flow[1:], y_fit[1:],\n",
    "        'r-', lw=2, alpha=0.6, label='powerlaw pdf', color=\"green\")\n",
    "ax.legend(loc='best', frameon=False)\n",
    "plt.xlabel('Количество мигрантов в МО и из МО')\n",
    "plt.ylabel('Частота')\n",
    "plt.title(\"Число мигрантов следует степенному закону\")\n",
    "plt.show()"
   ]
  },
  {
   "cell_type": "markdown",
   "metadata": {},
   "source": [
    "#### Характеристики муниципальных районов (9 шт.)"
   ]
  },
  {
   "cell_type": "code",
   "execution_count": 59,
   "metadata": {},
   "outputs": [],
   "source": [
    "df = pd.read_csv(\"/Users/pishchulov/edu/matobes/НИР/outer_source/migration/ITMO-2/migforecasting/clustering/datasets/superdataset-24 alltime-clust (oktmo).csv\")\n",
    "df[\"oktmo\"] = df.oktmo.astype(str)"
   ]
  },
  {
   "cell_type": "code",
   "execution_count": 60,
   "metadata": {},
   "outputs": [],
   "source": [
    "mun_distrcits_lo = [x for x in df.oktmo if re.fullmatch(r\"41\\d+\", x)]\n",
    "# df[df.oktmo.isin(mun_distrcits_lo)]"
   ]
  },
  {
   "cell_type": "markdown",
   "metadata": {},
   "source": [
    "# Модель"
   ]
  },
  {
   "cell_type": "code",
   "execution_count": 63,
   "metadata": {},
   "outputs": [
    {
     "data": {
      "text/html": [
       "<div>\n",
       "<style scoped>\n",
       "    .dataframe tbody tr th:only-of-type {\n",
       "        vertical-align: middle;\n",
       "    }\n",
       "\n",
       "    .dataframe tbody tr th {\n",
       "        vertical-align: top;\n",
       "    }\n",
       "\n",
       "    .dataframe thead th {\n",
       "        text-align: right;\n",
       "    }\n",
       "</style>\n",
       "<table border=\"1\" class=\"dataframe\">\n",
       "  <thead>\n",
       "    <tr style=\"text-align: right;\">\n",
       "      <th></th>\n",
       "      <th>age</th>\n",
       "      <th>male</th>\n",
       "      <th>oktmo</th>\n",
       "      <th>educ</th>\n",
       "      <th>lnwage</th>\n",
       "      <th>children</th>\n",
       "    </tr>\n",
       "  </thead>\n",
       "  <tbody>\n",
       "    <tr>\n",
       "      <th>750374</th>\n",
       "      <td>40</td>\n",
       "      <td>1</td>\n",
       "      <td>41603101</td>\n",
       "      <td>1</td>\n",
       "      <td>10.046045</td>\n",
       "      <td>1</td>\n",
       "    </tr>\n",
       "    <tr>\n",
       "      <th>1924262</th>\n",
       "      <td>45</td>\n",
       "      <td>1</td>\n",
       "      <td>41603101</td>\n",
       "      <td>1</td>\n",
       "      <td>10.062603</td>\n",
       "      <td>2</td>\n",
       "    </tr>\n",
       "    <tr>\n",
       "      <th>173548</th>\n",
       "      <td>16</td>\n",
       "      <td>1</td>\n",
       "      <td>41603101</td>\n",
       "      <td>0</td>\n",
       "      <td>9.464142</td>\n",
       "      <td>0</td>\n",
       "    </tr>\n",
       "    <tr>\n",
       "      <th>1452877</th>\n",
       "      <td>37</td>\n",
       "      <td>1</td>\n",
       "      <td>41603101</td>\n",
       "      <td>3</td>\n",
       "      <td>10.860463</td>\n",
       "      <td>2</td>\n",
       "    </tr>\n",
       "    <tr>\n",
       "      <th>879174</th>\n",
       "      <td>52</td>\n",
       "      <td>1</td>\n",
       "      <td>41603101</td>\n",
       "      <td>1</td>\n",
       "      <td>10.049314</td>\n",
       "      <td>2</td>\n",
       "    </tr>\n",
       "    <tr>\n",
       "      <th>...</th>\n",
       "      <td>...</td>\n",
       "      <td>...</td>\n",
       "      <td>...</td>\n",
       "      <td>...</td>\n",
       "      <td>...</td>\n",
       "      <td>...</td>\n",
       "    </tr>\n",
       "    <tr>\n",
       "      <th>1945741</th>\n",
       "      <td>27</td>\n",
       "      <td>0</td>\n",
       "      <td>41648464</td>\n",
       "      <td>1</td>\n",
       "      <td>9.285212</td>\n",
       "      <td>2</td>\n",
       "    </tr>\n",
       "    <tr>\n",
       "      <th>1977803</th>\n",
       "      <td>27</td>\n",
       "      <td>1</td>\n",
       "      <td>41648464</td>\n",
       "      <td>3</td>\n",
       "      <td>10.184039</td>\n",
       "      <td>1</td>\n",
       "    </tr>\n",
       "    <tr>\n",
       "      <th>1071166</th>\n",
       "      <td>93</td>\n",
       "      <td>1</td>\n",
       "      <td>41648464</td>\n",
       "      <td>1</td>\n",
       "      <td>9.601593</td>\n",
       "      <td>1</td>\n",
       "    </tr>\n",
       "    <tr>\n",
       "      <th>1737379</th>\n",
       "      <td>55</td>\n",
       "      <td>0</td>\n",
       "      <td>41648464</td>\n",
       "      <td>2</td>\n",
       "      <td>9.464200</td>\n",
       "      <td>2</td>\n",
       "    </tr>\n",
       "    <tr>\n",
       "      <th>1078594</th>\n",
       "      <td>38</td>\n",
       "      <td>0</td>\n",
       "      <td>41648464</td>\n",
       "      <td>3</td>\n",
       "      <td>9.939003</td>\n",
       "      <td>1</td>\n",
       "    </tr>\n",
       "  </tbody>\n",
       "</table>\n",
       "<p>1845645 rows × 6 columns</p>\n",
       "</div>"
      ],
      "text/plain": [
       "         age  male     oktmo  educ     lnwage  children\n",
       "750374    40     1  41603101     1  10.046045         1\n",
       "1924262   45     1  41603101     1  10.062603         2\n",
       "173548    16     1  41603101     0   9.464142         0\n",
       "1452877   37     1  41603101     3  10.860463         2\n",
       "879174    52     1  41603101     1  10.049314         2\n",
       "...      ...   ...       ...   ...        ...       ...\n",
       "1945741   27     0  41648464     1   9.285212         2\n",
       "1977803   27     1  41648464     3  10.184039         1\n",
       "1071166   93     1  41648464     1   9.601593         1\n",
       "1737379   55     0  41648464     2   9.464200         2\n",
       "1078594   38     0  41648464     3   9.939003         1\n",
       "\n",
       "[1845645 rows x 6 columns]"
      ]
     },
     "execution_count": 63,
     "metadata": {},
     "output_type": "execute_result"
    }
   ],
   "source": [
    "mun_unit_population"
   ]
  },
  {
   "cell_type": "markdown",
   "metadata": {},
   "source": [
    "### pull-факторы"
   ]
  },
  {
   "cell_type": "code",
   "execution_count": 70,
   "metadata": {},
   "outputs": [
    {
     "data": {
      "text/html": [
       "<div>\n",
       "<style scoped>\n",
       "    .dataframe tbody tr th:only-of-type {\n",
       "        vertical-align: middle;\n",
       "    }\n",
       "\n",
       "    .dataframe tbody tr th {\n",
       "        vertical-align: top;\n",
       "    }\n",
       "\n",
       "    .dataframe thead th {\n",
       "        text-align: right;\n",
       "    }\n",
       "</style>\n",
       "<table border=\"1\" class=\"dataframe\">\n",
       "  <thead>\n",
       "    <tr style=\"text-align: right;\">\n",
       "      <th></th>\n",
       "      <th>0-14</th>\n",
       "      <th>16-16</th>\n",
       "      <th>18-18</th>\n",
       "      <th>15-19</th>\n",
       "      <th>20-24</th>\n",
       "      <th>25-49</th>\n",
       "      <th>50-64</th>\n",
       "      <th>65-100</th>\n",
       "    </tr>\n",
       "  </thead>\n",
       "  <tbody>\n",
       "    <tr>\n",
       "      <th>1-10</th>\n",
       "      <td>9.9</td>\n",
       "      <td>3.7</td>\n",
       "      <td>2.2</td>\n",
       "      <td>3.4</td>\n",
       "      <td>5.0</td>\n",
       "      <td>8.0</td>\n",
       "      <td>9.2</td>\n",
       "      <td>8.3</td>\n",
       "    </tr>\n",
       "    <tr>\n",
       "      <th>10-50</th>\n",
       "      <td>29.8</td>\n",
       "      <td>28.0</td>\n",
       "      <td>13.2</td>\n",
       "      <td>19.0</td>\n",
       "      <td>17.5</td>\n",
       "      <td>23.2</td>\n",
       "      <td>24.7</td>\n",
       "      <td>25.4</td>\n",
       "    </tr>\n",
       "    <tr>\n",
       "      <th>50-100</th>\n",
       "      <td>12.3</td>\n",
       "      <td>22.2</td>\n",
       "      <td>16.0</td>\n",
       "      <td>17.7</td>\n",
       "      <td>12.7</td>\n",
       "      <td>11.3</td>\n",
       "      <td>10.3</td>\n",
       "      <td>12.5</td>\n",
       "    </tr>\n",
       "    <tr>\n",
       "      <th>100-200</th>\n",
       "      <td>12.0</td>\n",
       "      <td>17.9</td>\n",
       "      <td>20.7</td>\n",
       "      <td>19.0</td>\n",
       "      <td>15.1</td>\n",
       "      <td>12.3</td>\n",
       "      <td>10.3</td>\n",
       "      <td>12.4</td>\n",
       "    </tr>\n",
       "    <tr>\n",
       "      <th>200-500</th>\n",
       "      <td>11.5</td>\n",
       "      <td>12.2</td>\n",
       "      <td>19.7</td>\n",
       "      <td>16.5</td>\n",
       "      <td>16.1</td>\n",
       "      <td>13.4</td>\n",
       "      <td>11.4</td>\n",
       "      <td>12.8</td>\n",
       "    </tr>\n",
       "    <tr>\n",
       "      <th>500-1000</th>\n",
       "      <td>8.2</td>\n",
       "      <td>5.7</td>\n",
       "      <td>10.9</td>\n",
       "      <td>9.0</td>\n",
       "      <td>11.1</td>\n",
       "      <td>10.5</td>\n",
       "      <td>9.3</td>\n",
       "      <td>9.1</td>\n",
       "    </tr>\n",
       "    <tr>\n",
       "      <th>1000-5000</th>\n",
       "      <td>14.5</td>\n",
       "      <td>9.2</td>\n",
       "      <td>15.9</td>\n",
       "      <td>14.0</td>\n",
       "      <td>20.3</td>\n",
       "      <td>19.0</td>\n",
       "      <td>21.6</td>\n",
       "      <td>17.0</td>\n",
       "    </tr>\n",
       "    <tr>\n",
       "      <th>5000-10000</th>\n",
       "      <td>1.8</td>\n",
       "      <td>1.1</td>\n",
       "      <td>1.4</td>\n",
       "      <td>1.4</td>\n",
       "      <td>2.2</td>\n",
       "      <td>2.3</td>\n",
       "      <td>3.2</td>\n",
       "      <td>2.5</td>\n",
       "    </tr>\n",
       "  </tbody>\n",
       "</table>\n",
       "</div>"
      ],
      "text/plain": [
       "            0-14  16-16  18-18  15-19  20-24  25-49  50-64  65-100\n",
       "1-10         9.9    3.7    2.2    3.4    5.0    8.0    9.2     8.3\n",
       "10-50       29.8   28.0   13.2   19.0   17.5   23.2   24.7    25.4\n",
       "50-100      12.3   22.2   16.0   17.7   12.7   11.3   10.3    12.5\n",
       "100-200     12.0   17.9   20.7   19.0   15.1   12.3   10.3    12.4\n",
       "200-500     11.5   12.2   19.7   16.5   16.1   13.4   11.4    12.8\n",
       "500-1000     8.2    5.7   10.9    9.0   11.1   10.5    9.3     9.1\n",
       "1000-5000   14.5    9.2   15.9   14.0   20.3   19.0   21.6    17.0\n",
       "5000-10000   1.8    1.1    1.4    1.4    2.2    2.3    3.2     2.5"
      ]
     },
     "execution_count": 70,
     "metadata": {},
     "output_type": "execute_result"
    }
   ],
   "source": [
    "age_distance_conditional_distribution = pd.DataFrame({\n",
    "    \"0-14\": [9.9, 29.8, 12.3, 12.0, 11.5, 8.2, 14.5, 1.8],\n",
    "    \"16-16\": [3.7, 28, 22.2, 17.9, 12.2,  5.7, 9.2, 1.1],\n",
    "    \"18-18\": [2.2, 13.2, 16, 20.7, 19.7, 10.9, 15.9, 1.4],\n",
    "    \"15-19\": [3.4, 19.0, 17.7, 19.0, 16.5, 9, 14, 1.4],\n",
    "    \"20-24\": [5.0, 17.5, 12.7, 15.1, 16.1, 11.1, 20.3, 2.2],\n",
    "    \"25-49\": [8, 23.2, 11.3, 12.3, 13.4, 10.5, 19, 2.3],\n",
    "    \"50-64\": [9.2, 24.7, 10.3, 10.3, 11.4, 9.3, 21.6, 3.2],\n",
    "    \"65-100\": [8.3, 25.4, 12.5, 12.4, 12.8, 9.1, 17, 2.5]\n",
    "}, index = [\"1-10\", \"10-50\",\"50-100\", \"100-200\", \"200-500\", \"500-1000\", \"1000-5000\", \"5000-10000\"])\n",
    "# источник - https://journals.kantiana.ru/upload/iblock/a91/1_4-22.pdf    doi: 10.5922/2079-8555-2023-2-1\n",
    "age_distance_conditional_distribution"
   ]
  },
  {
   "cell_type": "code",
   "execution_count": 74,
   "metadata": {},
   "outputs": [
    {
     "data": {
      "text/plain": [
       "11.4"
      ]
     },
     "execution_count": 74,
     "metadata": {},
     "output_type": "execute_result"
    }
   ],
   "source": [
    "# Признаки: age\t male\toktmo\teduc\tlnwage\tchildren\n",
    "def p_mo_size(agent, target_mo_pop_size, k):\n",
    "    \"\"\"Реализует правило 'В большом городе ожидаем большой приток населения' \n",
    "    target_mo_pop_size - численность населения города, в который рассматривается переезд\n",
    "    k - коэффициент важности этого pull-фактора\"\"\"\n",
    "\n",
    "    return target_mo_pop_size * k\n",
    "\n",
    "\n",
    "def p_conditional_distribution_age_and_distance(agent, distance):\n",
    "    distrib = None\n",
    "    for age_group_str in age_distance_conditional_distribution.columns:\n",
    "        lo, hi = list(map(int, age_group_str.split('-')))\n",
    "        \n",
    "        if lo<= agent.age <=hi:\n",
    "            distrib = age_distance_conditional_distribution[age_group_str]\n",
    "            break \n",
    "    for dist_option in distrib.index:\n",
    "        lo, hi = list(map(int, dist_option.split('-'))) \n",
    "        if lo<=distance<=hi:\n",
    "            return distrib[dist_option]\n",
    "    raise ValueError(f\"Can not find distance option. {agent}\")\n",
    "    \n",
    "    \n",
    "p_conditional_distribution_age_and_distance(mun_unit_population.iloc[4], 500)\n",
    "            "
   ]
  },
  {
   "cell_type": "code",
   "execution_count": null,
   "metadata": {},
   "outputs": [],
   "source": []
  }
 ],
 "metadata": {
  "kernelspec": {
   "display_name": ".venv",
   "language": "python",
   "name": "python3"
  },
  "language_info": {
   "codemirror_mode": {
    "name": "ipython",
    "version": 3
   },
   "file_extension": ".py",
   "mimetype": "text/x-python",
   "name": "python",
   "nbconvert_exporter": "python",
   "pygments_lexer": "ipython3",
   "version": "3.12.6"
  }
 },
 "nbformat": 4,
 "nbformat_minor": 2
}
