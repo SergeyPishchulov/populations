{
 "cells": [
  {
   "cell_type": "code",
   "execution_count": 27,
   "metadata": {},
   "outputs": [],
   "source": [
    "from dataclasses import dataclass\n",
    "from enum import Enum, auto\n",
    "from typing import Self\n",
    "from uuid import uuid4\n",
    "from bamt.preprocessors import Preprocessor\n",
    "import pandas as pd\n",
    "from sklearn import preprocessing as pp\n",
    "\n",
    "import matplotlib.pyplot as plt\n",
    "import numpy as np\n",
    "import pandas as pd\n",
    "import plotly.express as px\n",
    "import plotly.graph_objects as go\n",
    "from scipy import stats\n",
    "import re\n"
   ]
  },
  {
   "cell_type": "code",
   "execution_count": 28,
   "metadata": {},
   "outputs": [],
   "source": [
    "df = pd.read_csv(\"/Users/pishchulov/edu/matobes/НИР/outer_source/migration/ITMO-2/migforecasting/mig whereabouts/inflow LO.csv\")"
   ]
  },
  {
   "cell_type": "markdown",
   "metadata": {},
   "source": [
    "Выделим ОКТМО из Ленобласти"
   ]
  },
  {
   "cell_type": "code",
   "execution_count": 29,
   "metadata": {},
   "outputs": [],
   "source": [
    "oktmos = map(str,df.oktmo.unique())"
   ]
  },
  {
   "cell_type": "code",
   "execution_count": 30,
   "metadata": {},
   "outputs": [],
   "source": [
    "oktmos_lo = [x for x in oktmos if re.fullmatch(r\"41\\d+\", x)]"
   ]
  },
  {
   "cell_type": "code",
   "execution_count": 31,
   "metadata": {},
   "outputs": [],
   "source": [
    "del oktmos"
   ]
  },
  {
   "cell_type": "code",
   "execution_count": 32,
   "metadata": {},
   "outputs": [
    {
     "data": {
      "text/plain": [
       "226"
      ]
     },
     "execution_count": 32,
     "metadata": {},
     "output_type": "execute_result"
    }
   ],
   "source": [
    "len(oktmos_lo)"
   ]
  },
  {
   "cell_type": "markdown",
   "metadata": {},
   "source": [
    "Определим численность населения. Проблема: удалось найти данные только за 2024 год"
   ]
  },
  {
   "cell_type": "code",
   "execution_count": 33,
   "metadata": {},
   "outputs": [],
   "source": [
    "pop_size_df = pd.read_excel(\"/Users/pishchulov/edu/matobes/НИР/outer_source/численность МО/Сhisl_MO_01-01-2024_only_LO.xlsx\")"
   ]
  },
  {
   "cell_type": "code",
   "execution_count": 34,
   "metadata": {},
   "outputs": [
    {
     "data": {
      "text/html": [
       "<div>\n",
       "<style scoped>\n",
       "    .dataframe tbody tr th:only-of-type {\n",
       "        vertical-align: middle;\n",
       "    }\n",
       "\n",
       "    .dataframe tbody tr th {\n",
       "        vertical-align: top;\n",
       "    }\n",
       "\n",
       "    .dataframe thead th {\n",
       "        text-align: right;\n",
       "    }\n",
       "</style>\n",
       "<table border=\"1\" class=\"dataframe\">\n",
       "  <thead>\n",
       "    <tr style=\"text-align: right;\">\n",
       "      <th></th>\n",
       "      <th>Коды территорий</th>\n",
       "      <th>Unnamed: 1</th>\n",
       "      <th>население</th>\n",
       "      <th>городское</th>\n",
       "      <th>сельское</th>\n",
       "    </tr>\n",
       "  </thead>\n",
       "  <tbody>\n",
       "    <tr>\n",
       "      <th>0</th>\n",
       "      <td>4100000000</td>\n",
       "      <td>Ленинградская область</td>\n",
       "      <td>2035762</td>\n",
       "      <td>1373533</td>\n",
       "      <td>662229</td>\n",
       "    </tr>\n",
       "    <tr>\n",
       "      <th>1</th>\n",
       "      <td>41754000 0 0</td>\n",
       "      <td>Сосновоборский городской округ</td>\n",
       "      <td>63462</td>\n",
       "      <td>63462</td>\n",
       "      <td>0</td>\n",
       "    </tr>\n",
       "    <tr>\n",
       "      <th>2</th>\n",
       "      <td>41754000001 1 0 0 0</td>\n",
       "      <td>г Сосновый Бор</td>\n",
       "      <td>63462</td>\n",
       "      <td>63462</td>\n",
       "      <td>0</td>\n",
       "    </tr>\n",
       "    <tr>\n",
       "      <th>3</th>\n",
       "      <td>41603000 0 0</td>\n",
       "      <td>Бокситогорский муниципальный район</td>\n",
       "      <td>50855</td>\n",
       "      <td>39107</td>\n",
       "      <td>11748</td>\n",
       "    </tr>\n",
       "    <tr>\n",
       "      <th>4</th>\n",
       "      <td>41603101 0 0</td>\n",
       "      <td>Городское поселение Бокситогорское</td>\n",
       "      <td>15764</td>\n",
       "      <td>15480</td>\n",
       "      <td>284</td>\n",
       "    </tr>\n",
       "    <tr>\n",
       "      <th>...</th>\n",
       "      <td>...</td>\n",
       "      <td>...</td>\n",
       "      <td>...</td>\n",
       "      <td>...</td>\n",
       "      <td>...</td>\n",
       "    </tr>\n",
       "    <tr>\n",
       "      <th>271</th>\n",
       "      <td>41648418 0 0</td>\n",
       "      <td>Сельское поселение Нурминское</td>\n",
       "      <td>3338</td>\n",
       "      <td>0</td>\n",
       "      <td>3338</td>\n",
       "    </tr>\n",
       "    <tr>\n",
       "      <th>272</th>\n",
       "      <td>41648430 0 0</td>\n",
       "      <td>Сельское поселение Лисинское</td>\n",
       "      <td>1875</td>\n",
       "      <td>0</td>\n",
       "      <td>1875</td>\n",
       "    </tr>\n",
       "    <tr>\n",
       "      <th>273</th>\n",
       "      <td>41648443 0 0</td>\n",
       "      <td>Сельское поселение Тельмановское</td>\n",
       "      <td>26781</td>\n",
       "      <td>0</td>\n",
       "      <td>26781</td>\n",
       "    </tr>\n",
       "    <tr>\n",
       "      <th>274</th>\n",
       "      <td>41648444 0 0</td>\n",
       "      <td>Сельское поселение Трубникоборское</td>\n",
       "      <td>1599</td>\n",
       "      <td>0</td>\n",
       "      <td>1599</td>\n",
       "    </tr>\n",
       "    <tr>\n",
       "      <th>275</th>\n",
       "      <td>41648464 0 0</td>\n",
       "      <td>Сельское поселение Шапкинское</td>\n",
       "      <td>547</td>\n",
       "      <td>0</td>\n",
       "      <td>547</td>\n",
       "    </tr>\n",
       "  </tbody>\n",
       "</table>\n",
       "<p>276 rows × 5 columns</p>\n",
       "</div>"
      ],
      "text/plain": [
       "         Коды территорий                          Unnamed: 1  население  \\\n",
       "0             4100000000               Ленинградская область    2035762   \n",
       "1           41754000 0 0      Сосновоборский городской округ      63462   \n",
       "2    41754000001 1 0 0 0                      г Сосновый Бор      63462   \n",
       "3           41603000 0 0  Бокситогорский муниципальный район      50855   \n",
       "4           41603101 0 0  Городское поселение Бокситогорское      15764   \n",
       "..                   ...                                 ...        ...   \n",
       "271         41648418 0 0       Сельское поселение Нурминское       3338   \n",
       "272         41648430 0 0        Сельское поселение Лисинское       1875   \n",
       "273         41648443 0 0    Сельское поселение Тельмановское      26781   \n",
       "274         41648444 0 0  Сельское поселение Трубникоборское       1599   \n",
       "275         41648464 0 0       Сельское поселение Шапкинское        547   \n",
       "\n",
       "     городское  сельское  \n",
       "0      1373533    662229  \n",
       "1        63462         0  \n",
       "2        63462         0  \n",
       "3        39107     11748  \n",
       "4        15480       284  \n",
       "..         ...       ...  \n",
       "271          0      3338  \n",
       "272          0      1875  \n",
       "273          0     26781  \n",
       "274          0      1599  \n",
       "275          0       547  \n",
       "\n",
       "[276 rows x 5 columns]"
      ]
     },
     "execution_count": 34,
     "metadata": {},
     "output_type": "execute_result"
    }
   ],
   "source": [
    "pop_size_df"
   ]
  },
  {
   "cell_type": "code",
   "execution_count": 35,
   "metadata": {},
   "outputs": [],
   "source": [
    "def discard_to_8_chars(s):\n",
    "    if len(s)!=10:\n",
    "        return s\n",
    "    if s[-2:]==\"00\":\n",
    "        return s[:-2]        "
   ]
  },
  {
   "cell_type": "code",
   "execution_count": 36,
   "metadata": {},
   "outputs": [],
   "source": [
    "pop_size_df[\"Коды территорий\"] = pd.Series([discard_to_8_chars(x.replace(\" \",\"\")) for x in map(str, pop_size_df[\"Коды территорий\"])], dtype=str)"
   ]
  },
  {
   "cell_type": "code",
   "execution_count": 37,
   "metadata": {},
   "outputs": [],
   "source": [
    "pop_size_df_lo = pop_size_df[pop_size_df[\"Коды территорий\"].isin(oktmos_lo)]\n"
   ]
  },
  {
   "cell_type": "code",
   "execution_count": 38,
   "metadata": {},
   "outputs": [],
   "source": [
    "# set(oktmos_lo) - set(pop_size_df_lo[\"Коды территорий\"])"
   ]
  },
  {
   "cell_type": "markdown",
   "metadata": {},
   "source": [
    "Проблема: некоторые ОКТМО исчезли, потому что они эти населенные пункту переехали на новые коды. Проигнорируем."
   ]
  },
  {
   "cell_type": "markdown",
   "metadata": {},
   "source": []
  },
  {
   "cell_type": "code",
   "execution_count": 39,
   "metadata": {},
   "outputs": [],
   "source": [
    "del pop_size_df"
   ]
  },
  {
   "cell_type": "code",
   "execution_count": 40,
   "metadata": {},
   "outputs": [
    {
     "data": {
      "text/html": [
       "<div>\n",
       "<style scoped>\n",
       "    .dataframe tbody tr th:only-of-type {\n",
       "        vertical-align: middle;\n",
       "    }\n",
       "\n",
       "    .dataframe tbody tr th {\n",
       "        vertical-align: top;\n",
       "    }\n",
       "\n",
       "    .dataframe thead th {\n",
       "        text-align: right;\n",
       "    }\n",
       "</style>\n",
       "<table border=\"1\" class=\"dataframe\">\n",
       "  <thead>\n",
       "    <tr style=\"text-align: right;\">\n",
       "      <th></th>\n",
       "      <th>oktmo</th>\n",
       "      <th>name</th>\n",
       "      <th>pop_size</th>\n",
       "    </tr>\n",
       "  </thead>\n",
       "  <tbody>\n",
       "    <tr>\n",
       "      <th>1</th>\n",
       "      <td>41754000</td>\n",
       "      <td>Сосновоборский городской округ</td>\n",
       "      <td>63462</td>\n",
       "    </tr>\n",
       "    <tr>\n",
       "      <th>3</th>\n",
       "      <td>41603000</td>\n",
       "      <td>Бокситогорский муниципальный район</td>\n",
       "      <td>50855</td>\n",
       "    </tr>\n",
       "    <tr>\n",
       "      <th>4</th>\n",
       "      <td>41603101</td>\n",
       "      <td>Городское поселение Бокситогорское</td>\n",
       "      <td>15764</td>\n",
       "    </tr>\n",
       "    <tr>\n",
       "      <th>6</th>\n",
       "      <td>41603102</td>\n",
       "      <td>Городское поселение Пикалёвское</td>\n",
       "      <td>20161</td>\n",
       "    </tr>\n",
       "    <tr>\n",
       "      <th>8</th>\n",
       "      <td>41603155</td>\n",
       "      <td>Городское поселение Ефимовское</td>\n",
       "      <td>5417</td>\n",
       "    </tr>\n",
       "    <tr>\n",
       "      <th>...</th>\n",
       "      <td>...</td>\n",
       "      <td>...</td>\n",
       "      <td>...</td>\n",
       "    </tr>\n",
       "    <tr>\n",
       "      <th>271</th>\n",
       "      <td>41648418</td>\n",
       "      <td>Сельское поселение Нурминское</td>\n",
       "      <td>3338</td>\n",
       "    </tr>\n",
       "    <tr>\n",
       "      <th>272</th>\n",
       "      <td>41648430</td>\n",
       "      <td>Сельское поселение Лисинское</td>\n",
       "      <td>1875</td>\n",
       "    </tr>\n",
       "    <tr>\n",
       "      <th>273</th>\n",
       "      <td>41648443</td>\n",
       "      <td>Сельское поселение Тельмановское</td>\n",
       "      <td>26781</td>\n",
       "    </tr>\n",
       "    <tr>\n",
       "      <th>274</th>\n",
       "      <td>41648444</td>\n",
       "      <td>Сельское поселение Трубникоборское</td>\n",
       "      <td>1599</td>\n",
       "    </tr>\n",
       "    <tr>\n",
       "      <th>275</th>\n",
       "      <td>41648464</td>\n",
       "      <td>Сельское поселение Шапкинское</td>\n",
       "      <td>547</td>\n",
       "    </tr>\n",
       "  </tbody>\n",
       "</table>\n",
       "<p>200 rows × 3 columns</p>\n",
       "</div>"
      ],
      "text/plain": [
       "        oktmo                                name  pop_size\n",
       "1    41754000      Сосновоборский городской округ     63462\n",
       "3    41603000  Бокситогорский муниципальный район     50855\n",
       "4    41603101  Городское поселение Бокситогорское     15764\n",
       "6    41603102     Городское поселение Пикалёвское     20161\n",
       "8    41603155      Городское поселение Ефимовское      5417\n",
       "..        ...                                 ...       ...\n",
       "271  41648418       Сельское поселение Нурминское      3338\n",
       "272  41648430        Сельское поселение Лисинское      1875\n",
       "273  41648443    Сельское поселение Тельмановское     26781\n",
       "274  41648444  Сельское поселение Трубникоборское      1599\n",
       "275  41648464       Сельское поселение Шапкинское       547\n",
       "\n",
       "[200 rows x 3 columns]"
      ]
     },
     "execution_count": 40,
     "metadata": {},
     "output_type": "execute_result"
    }
   ],
   "source": [
    "pop_size_df_lo=pop_size_df_lo.drop([\"городское\", \"сельское\"], axis = 1)\n",
    "pop_size_df_lo=pop_size_df_lo.set_axis([\"oktmo\", \"name\", \"pop_size\"], axis=1)\n",
    "pop_size_df_lo"
   ]
  },
  {
   "cell_type": "code",
   "execution_count": null,
   "metadata": {},
   "outputs": [],
   "source": []
  }
 ],
 "metadata": {
  "kernelspec": {
   "display_name": ".venv",
   "language": "python",
   "name": "python3"
  },
  "language_info": {
   "codemirror_mode": {
    "name": "ipython",
    "version": 3
   },
   "file_extension": ".py",
   "mimetype": "text/x-python",
   "name": "python",
   "nbconvert_exporter": "python",
   "pygments_lexer": "ipython3",
   "version": "3.12.6"
  }
 },
 "nbformat": 4,
 "nbformat_minor": 2
}
