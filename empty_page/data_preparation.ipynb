{
 "cells": [
  {
   "cell_type": "code",
   "execution_count": 1,
   "metadata": {},
   "outputs": [],
   "source": [
    "from dataclasses import dataclass\n",
    "from enum import Enum, auto\n",
    "from typing import Self\n",
    "from uuid import uuid4\n",
    "from bamt.preprocessors import Preprocessor\n",
    "import pandas as pd\n",
    "from sklearn import preprocessing as pp\n",
    "\n",
    "import matplotlib.pyplot as plt\n",
    "import numpy as np\n",
    "import pandas as pd\n",
    "import plotly.express as px\n",
    "import plotly.graph_objects as go\n",
    "from scipy import stats\n",
    "import re\n",
    "from bamt.networks import HybridBN\n",
    "import random\n",
    "from xgboost import XGBClassifier, XGBRegressor\n",
    "from sklearn.model_selection import train_test_split\n",
    "from sklearn.metrics import accuracy_score, mean_absolute_percentage_error as mape\n",
    "from sklearn.metrics import mean_absolute_error as mae\n",
    "from tqdm import tqdm\n",
    "import seaborn as sns\n",
    "from sklearn.preprocessing import StandardScaler, MinMaxScaler\n",
    "\n",
    "\n",
    "YEAR = 2022"
   ]
  },
  {
   "cell_type": "code",
   "execution_count": 2,
   "metadata": {},
   "outputs": [],
   "source": [
    "def is_mun_district(oktmo):\n",
    "    assert len(oktmo) == 8\n",
    "    return oktmo[-3:] == \"000\"\n",
    "\n",
    "\n",
    "def to_avg_on_person(df, features):\n",
    "    res = df.copy()\n",
    "    for f in features:\n",
    "        res[f\"{f}_avg_on_person\"] = df[f]/df.popsize\n",
    "\n",
    "    res = res.drop(features, axis=1)\n",
    "    return  res"
   ]
  },
  {
   "cell_type": "code",
   "execution_count": 3,
   "metadata": {},
   "outputs": [],
   "source": [
    "df = pd.read_csv(\n",
    "\n",
    "    \"/Users/pishchulov/edu/matobes/НИР/outer_source/migration/ITMO-2/migforecasting/mig whereabouts/inflow LO.csv\")"
   ]
  },
  {
   "cell_type": "markdown",
   "metadata": {},
   "source": [
    "Выделим ОКТМО из Ленобласти"
   ]
  },
  {
   "cell_type": "code",
   "execution_count": 4,
   "metadata": {},
   "outputs": [],
   "source": [
    "oktmos = map(str,  df.oktmo.unique())"
   ]
  },
  {
   "cell_type": "code",
   "execution_count": 5,
   "metadata": {},
   "outputs": [],
   "source": [
    "oktmos_lo = [x for x in oktmos if re.fullmatch(r\"41\\d+\", x)]"
   ]
  },
  {
   "cell_type": "code",
   "execution_count": 6,
   "metadata": {},
   "outputs": [],
   "source": [
    "del oktmos"
   ]
  },
  {
   "cell_type": "code",
   "execution_count": 7,
   "metadata": {},
   "outputs": [
    {
     "data": {
      "text/plain": [
       "226"
      ]
     },
     "execution_count": 7,
     "metadata": {},
     "output_type": "execute_result"
    }
   ],
   "source": [
    "len(oktmos_lo)"
   ]
  },
  {
   "cell_type": "markdown",
   "metadata": {},
   "source": [
    "Определим численность населения. Проблема: удалось найти данные только за 2024 год"
   ]
  },
  {
   "cell_type": "code",
   "execution_count": 8,
   "metadata": {},
   "outputs": [],
   "source": [
    "pop_size_df = pd.read_excel(\n",
    "\n",
    "    \"/Users/pishchulov/edu/matobes/НИР/outer_source/численность МО/Сhisl_MO_01-01-2024_only_LO.xlsx\")"
   ]
  },
  {
   "cell_type": "code",
   "execution_count": 9,
   "metadata": {},
   "outputs": [
    {
     "data": {
      "text/html": [
       "<div>\n",
       "<style scoped>\n",
       "    .dataframe tbody tr th:only-of-type {\n",
       "        vertical-align: middle;\n",
       "    }\n",
       "\n",
       "    .dataframe tbody tr th {\n",
       "        vertical-align: top;\n",
       "    }\n",
       "\n",
       "    .dataframe thead th {\n",
       "        text-align: right;\n",
       "    }\n",
       "</style>\n",
       "<table border=\"1\" class=\"dataframe\">\n",
       "  <thead>\n",
       "    <tr style=\"text-align: right;\">\n",
       "      <th></th>\n",
       "      <th>Коды территорий</th>\n",
       "      <th>Unnamed: 1</th>\n",
       "      <th>население</th>\n",
       "      <th>городское</th>\n",
       "      <th>сельское</th>\n",
       "    </tr>\n",
       "  </thead>\n",
       "  <tbody>\n",
       "    <tr>\n",
       "      <th>0</th>\n",
       "      <td>4100000000</td>\n",
       "      <td>Ленинградская область</td>\n",
       "      <td>2035762</td>\n",
       "      <td>1373533</td>\n",
       "      <td>662229</td>\n",
       "    </tr>\n",
       "    <tr>\n",
       "      <th>1</th>\n",
       "      <td>41754000 0 0</td>\n",
       "      <td>Сосновоборский городской округ</td>\n",
       "      <td>63462</td>\n",
       "      <td>63462</td>\n",
       "      <td>0</td>\n",
       "    </tr>\n",
       "    <tr>\n",
       "      <th>2</th>\n",
       "      <td>41754000001 1 0 0 0</td>\n",
       "      <td>г Сосновый Бор</td>\n",
       "      <td>63462</td>\n",
       "      <td>63462</td>\n",
       "      <td>0</td>\n",
       "    </tr>\n",
       "    <tr>\n",
       "      <th>3</th>\n",
       "      <td>41603000 0 0</td>\n",
       "      <td>Бокситогорский муниципальный район</td>\n",
       "      <td>50855</td>\n",
       "      <td>39107</td>\n",
       "      <td>11748</td>\n",
       "    </tr>\n",
       "    <tr>\n",
       "      <th>4</th>\n",
       "      <td>41603101 0 0</td>\n",
       "      <td>Городское поселение Бокситогорское</td>\n",
       "      <td>15764</td>\n",
       "      <td>15480</td>\n",
       "      <td>284</td>\n",
       "    </tr>\n",
       "    <tr>\n",
       "      <th>...</th>\n",
       "      <td>...</td>\n",
       "      <td>...</td>\n",
       "      <td>...</td>\n",
       "      <td>...</td>\n",
       "      <td>...</td>\n",
       "    </tr>\n",
       "    <tr>\n",
       "      <th>271</th>\n",
       "      <td>41648418 0 0</td>\n",
       "      <td>Сельское поселение Нурминское</td>\n",
       "      <td>3338</td>\n",
       "      <td>0</td>\n",
       "      <td>3338</td>\n",
       "    </tr>\n",
       "    <tr>\n",
       "      <th>272</th>\n",
       "      <td>41648430 0 0</td>\n",
       "      <td>Сельское поселение Лисинское</td>\n",
       "      <td>1875</td>\n",
       "      <td>0</td>\n",
       "      <td>1875</td>\n",
       "    </tr>\n",
       "    <tr>\n",
       "      <th>273</th>\n",
       "      <td>41648443 0 0</td>\n",
       "      <td>Сельское поселение Тельмановское</td>\n",
       "      <td>26781</td>\n",
       "      <td>0</td>\n",
       "      <td>26781</td>\n",
       "    </tr>\n",
       "    <tr>\n",
       "      <th>274</th>\n",
       "      <td>41648444 0 0</td>\n",
       "      <td>Сельское поселение Трубникоборское</td>\n",
       "      <td>1599</td>\n",
       "      <td>0</td>\n",
       "      <td>1599</td>\n",
       "    </tr>\n",
       "    <tr>\n",
       "      <th>275</th>\n",
       "      <td>41648464 0 0</td>\n",
       "      <td>Сельское поселение Шапкинское</td>\n",
       "      <td>547</td>\n",
       "      <td>0</td>\n",
       "      <td>547</td>\n",
       "    </tr>\n",
       "  </tbody>\n",
       "</table>\n",
       "<p>276 rows × 5 columns</p>\n",
       "</div>"
      ],
      "text/plain": [
       "         Коды территорий                          Unnamed: 1  население  \\\n",
       "0             4100000000               Ленинградская область    2035762   \n",
       "1           41754000 0 0      Сосновоборский городской округ      63462   \n",
       "2    41754000001 1 0 0 0                      г Сосновый Бор      63462   \n",
       "3           41603000 0 0  Бокситогорский муниципальный район      50855   \n",
       "4           41603101 0 0  Городское поселение Бокситогорское      15764   \n",
       "..                   ...                                 ...        ...   \n",
       "271         41648418 0 0       Сельское поселение Нурминское       3338   \n",
       "272         41648430 0 0        Сельское поселение Лисинское       1875   \n",
       "273         41648443 0 0    Сельское поселение Тельмановское      26781   \n",
       "274         41648444 0 0  Сельское поселение Трубникоборское       1599   \n",
       "275         41648464 0 0       Сельское поселение Шапкинское        547   \n",
       "\n",
       "     городское  сельское  \n",
       "0      1373533    662229  \n",
       "1        63462         0  \n",
       "2        63462         0  \n",
       "3        39107     11748  \n",
       "4        15480       284  \n",
       "..         ...       ...  \n",
       "271          0      3338  \n",
       "272          0      1875  \n",
       "273          0     26781  \n",
       "274          0      1599  \n",
       "275          0       547  \n",
       "\n",
       "[276 rows x 5 columns]"
      ]
     },
     "execution_count": 9,
     "metadata": {},
     "output_type": "execute_result"
    }
   ],
   "source": [
    "pop_size_df"
   ]
  },
  {
   "cell_type": "code",
   "execution_count": 10,
   "metadata": {},
   "outputs": [],
   "source": [
    "def discard_to_8_chars(s):\n",
    "    if len(s) != 10:\n",
    "        return s\n",
    "    if s[-2:] == \"00\":\n",
    "        return s[:-2]"
   ]
  },
  {
   "cell_type": "code",
   "execution_count": 11,
   "metadata": {},
   "outputs": [],
   "source": [
    "pop_size_df[\"Коды территорий\"] = pd.Series([discard_to_8_chars(x.replace(\n",
    "\n",
    "    \" \", \"\")) for x in map(str, pop_size_df[\"Коды территорий\"])], dtype=str)"
   ]
  },
  {
   "cell_type": "code",
   "execution_count": 12,
   "metadata": {},
   "outputs": [],
   "source": [
    "# pop_size_df_lo = pop_size_df[pop_size_df[\"Коды территорий\"].isin(oktmos_lo)]"
   ]
  },
  {
   "cell_type": "code",
   "execution_count": 13,
   "metadata": {},
   "outputs": [],
   "source": [
    "# set(oktmos_lo) - set(pop_size_df_lo[\"Коды территорий\"])"
   ]
  },
  {
   "cell_type": "markdown",
   "metadata": {},
   "source": [
    "Проблема: некоторые ОКТМО исчезли, потому что они эти населенные пункту переехали на новые коды. Проигнорируем."
   ]
  },
  {
   "cell_type": "markdown",
   "metadata": {},
   "source": []
  },
  {
   "cell_type": "code",
   "execution_count": 14,
   "metadata": {},
   "outputs": [],
   "source": [
    "del pop_size_df"
   ]
  },
  {
   "cell_type": "code",
   "execution_count": 15,
   "metadata": {},
   "outputs": [],
   "source": [
    "# pop_size_df_lo=pop_size_df_lo.drop([\"городское\", \"сельское\"], axis = 1)\n",
    "# pop_size_df_lo=pop_size_df_lo.set_axis([\"oktmo\", \"name\", \"pop_size\"], axis=1)\n",
    "# pop_size_df_lo.sort_values(\"oktmo\", inplace=True)\n",
    "# pop_size_df_lo"
   ]
  },
  {
   "cell_type": "markdown",
   "metadata": {},
   "source": [
    "Удалим муниципальные районы, потому что это агрегаты других МО"
   ]
  },
  {
   "cell_type": "code",
   "execution_count": 116,
   "metadata": {},
   "outputs": [],
   "source": []
  },
  {
   "cell_type": "code",
   "execution_count": 16,
   "metadata": {},
   "outputs": [],
   "source": [
    "# pop_size_df_lo.pop_size.sum()"
   ]
  },
  {
   "cell_type": "code",
   "execution_count": 17,
   "metadata": {},
   "outputs": [],
   "source": [
    "# mun_districts_lo = pop_size_df_lo[pop_size_df_lo.oktmo.apply(is_mun_district)]\n",
    "# mun_districts_lo"
   ]
  },
  {
   "cell_type": "code",
   "execution_count": 18,
   "metadata": {},
   "outputs": [],
   "source": [
    "# pop_size_df_lo=pop_size_df_lo[~pop_size_df_lo.oktmo.apply(is_mun_district)]\n",
    "# pop_size_df_lo.pop_size.sum()"
   ]
  },
  {
   "cell_type": "markdown",
   "metadata": {},
   "source": [
    "### Подготовим данные о среде. "
   ]
  },
  {
   "cell_type": "code",
   "execution_count": 19,
   "metadata": {},
   "outputs": [],
   "source": [
    "allmun = pd.read_csv(\n",
    "\n",
    "    \"/Users/pishchulov/edu/matobes/НИР/outer_source/rosstat_allmun/allmuns/popsize (allmun).csv\")\n",
    "allmun[[\"oktmo\"]] = allmun[[\"oktmo\"]].astype(str)\n",
    "allmun[\"from_lo\"] = [bool(re.fullmatch(r\"41\\d+\", x)) for x in allmun.oktmo]\n",
    "allmun = allmun[(allmun.from_lo) & (allmun.year == YEAR)]\n",
    "allmun = allmun[[\"oktmo\", \"name\", \"year\", \"popsize\"]].set_index(\"oktmo\")\n",
    "allmun[\"popsize\"] = allmun[\"popsize\"].astype(int)"
   ]
  },
  {
   "cell_type": "code",
   "execution_count": 20,
   "metadata": {},
   "outputs": [
    {
     "data": {
      "text/html": [
       "<div>\n",
       "<style scoped>\n",
       "    .dataframe tbody tr th:only-of-type {\n",
       "        vertical-align: middle;\n",
       "    }\n",
       "\n",
       "    .dataframe tbody tr th {\n",
       "        vertical-align: top;\n",
       "    }\n",
       "\n",
       "    .dataframe thead th {\n",
       "        text-align: right;\n",
       "    }\n",
       "</style>\n",
       "<table border=\"1\" class=\"dataframe\">\n",
       "  <thead>\n",
       "    <tr style=\"text-align: right;\">\n",
       "      <th></th>\n",
       "      <th>name</th>\n",
       "      <th>year</th>\n",
       "      <th>popsize</th>\n",
       "    </tr>\n",
       "    <tr>\n",
       "      <th>oktmo</th>\n",
       "      <th></th>\n",
       "      <th></th>\n",
       "      <th></th>\n",
       "    </tr>\n",
       "  </thead>\n",
       "  <tbody>\n",
       "    <tr>\n",
       "      <th>41603000</th>\n",
       "      <td>Бокситогорский муниципальный район</td>\n",
       "      <td>2022</td>\n",
       "      <td>47236</td>\n",
       "    </tr>\n",
       "    <tr>\n",
       "      <th>41603101</th>\n",
       "      <td>Бокситогорское</td>\n",
       "      <td>2022</td>\n",
       "      <td>14606</td>\n",
       "    </tr>\n",
       "    <tr>\n",
       "      <th>41603102</th>\n",
       "      <td>Пикалёвское</td>\n",
       "      <td>2022</td>\n",
       "      <td>19250</td>\n",
       "    </tr>\n",
       "    <tr>\n",
       "      <th>41603155</th>\n",
       "      <td>Ефимовское</td>\n",
       "      <td>2022</td>\n",
       "      <td>4389</td>\n",
       "    </tr>\n",
       "    <tr>\n",
       "      <th>41603412</th>\n",
       "      <td>Большедворское</td>\n",
       "      <td>2022</td>\n",
       "      <td>1486</td>\n",
       "    </tr>\n",
       "    <tr>\n",
       "      <th>...</th>\n",
       "      <td>...</td>\n",
       "      <td>...</td>\n",
       "      <td>...</td>\n",
       "    </tr>\n",
       "    <tr>\n",
       "      <th>41648430</th>\n",
       "      <td>Лисинское</td>\n",
       "      <td>2022</td>\n",
       "      <td>1703</td>\n",
       "    </tr>\n",
       "    <tr>\n",
       "      <th>41648443</th>\n",
       "      <td>Тельмановское</td>\n",
       "      <td>2022</td>\n",
       "      <td>13191</td>\n",
       "    </tr>\n",
       "    <tr>\n",
       "      <th>41648444</th>\n",
       "      <td>Трубникоборское</td>\n",
       "      <td>2022</td>\n",
       "      <td>1479</td>\n",
       "    </tr>\n",
       "    <tr>\n",
       "      <th>41648464</th>\n",
       "      <td>Шапкинское</td>\n",
       "      <td>2022</td>\n",
       "      <td>439</td>\n",
       "    </tr>\n",
       "    <tr>\n",
       "      <th>41754000</th>\n",
       "      <td>Сосновоборский</td>\n",
       "      <td>2022</td>\n",
       "      <td>65941</td>\n",
       "    </tr>\n",
       "  </tbody>\n",
       "</table>\n",
       "<p>205 rows × 3 columns</p>\n",
       "</div>"
      ],
      "text/plain": [
       "                                        name  year  popsize\n",
       "oktmo                                                      \n",
       "41603000  Бокситогорский муниципальный район  2022    47236\n",
       "41603101                      Бокситогорское  2022    14606\n",
       "41603102                         Пикалёвское  2022    19250\n",
       "41603155                          Ефимовское  2022     4389\n",
       "41603412                      Большедворское  2022     1486\n",
       "...                                      ...   ...      ...\n",
       "41648430                           Лисинское  2022     1703\n",
       "41648443                       Тельмановское  2022    13191\n",
       "41648444                     Трубникоборское  2022     1479\n",
       "41648464                          Шапкинское  2022      439\n",
       "41754000                      Сосновоборский  2022    65941\n",
       "\n",
       "[205 rows x 3 columns]"
      ]
     },
     "execution_count": 20,
     "metadata": {},
     "output_type": "execute_result"
    }
   ],
   "source": [
    "allmun"
   ]
  },
  {
   "cell_type": "markdown",
   "metadata": {},
   "source": [
    "## Данные о среде"
   ]
  },
  {
   "cell_type": "markdown",
   "metadata": {},
   "source": [
    "Нет ITMO2 данных за 2023 год, поэтому используем 2022."
   ]
  },
  {
   "cell_type": "code",
   "execution_count": 21,
   "metadata": {},
   "outputs": [
    {
     "data": {
      "text/html": [
       "<div>\n",
       "<style scoped>\n",
       "    .dataframe tbody tr th:only-of-type {\n",
       "        vertical-align: middle;\n",
       "    }\n",
       "\n",
       "    .dataframe tbody tr th {\n",
       "        vertical-align: top;\n",
       "    }\n",
       "\n",
       "    .dataframe thead th {\n",
       "        text-align: right;\n",
       "    }\n",
       "</style>\n",
       "<table border=\"1\" class=\"dataframe\">\n",
       "  <thead>\n",
       "    <tr style=\"text-align: right;\">\n",
       "      <th></th>\n",
       "      <th>name</th>\n",
       "      <th>year</th>\n",
       "      <th>popsize</th>\n",
       "      <th>oktmo</th>\n",
       "      <th>sportsvenue_avg_on_person</th>\n",
       "      <th>invest_avg_on_person</th>\n",
       "      <th>shoparea_avg_on_person</th>\n",
       "      <th>roadslen_avg_on_person</th>\n",
       "      <th>hospitals_avg_on_person</th>\n",
       "    </tr>\n",
       "    <tr>\n",
       "      <th>oktmo</th>\n",
       "      <th></th>\n",
       "      <th></th>\n",
       "      <th></th>\n",
       "      <th></th>\n",
       "      <th></th>\n",
       "      <th></th>\n",
       "      <th></th>\n",
       "      <th></th>\n",
       "      <th></th>\n",
       "    </tr>\n",
       "  </thead>\n",
       "  <tbody>\n",
       "    <tr>\n",
       "      <th>41603101</th>\n",
       "      <td>Бокситогорское</td>\n",
       "      <td>2022</td>\n",
       "      <td>14606</td>\n",
       "      <td>41603101</td>\n",
       "      <td>0.209362</td>\n",
       "      <td>0.002344</td>\n",
       "      <td>0.297731</td>\n",
       "      <td>0.042840</td>\n",
       "      <td>0.012232</td>\n",
       "    </tr>\n",
       "    <tr>\n",
       "      <th>41603102</th>\n",
       "      <td>Пикалёвское</td>\n",
       "      <td>2022</td>\n",
       "      <td>19250</td>\n",
       "      <td>41603102</td>\n",
       "      <td>0.209585</td>\n",
       "      <td>0.002442</td>\n",
       "      <td>0.238284</td>\n",
       "      <td>0.025938</td>\n",
       "      <td>0.007362</td>\n",
       "    </tr>\n",
       "    <tr>\n",
       "      <th>41603155</th>\n",
       "      <td>Ефимовское</td>\n",
       "      <td>2022</td>\n",
       "      <td>4389</td>\n",
       "      <td>41603155</td>\n",
       "      <td>0.294187</td>\n",
       "      <td>0.000601</td>\n",
       "      <td>0.124689</td>\n",
       "      <td>0.373534</td>\n",
       "      <td>0.193568</td>\n",
       "    </tr>\n",
       "    <tr>\n",
       "      <th>41603412</th>\n",
       "      <td>Большедворское</td>\n",
       "      <td>2022</td>\n",
       "      <td>1486</td>\n",
       "      <td>41603412</td>\n",
       "      <td>0.374693</td>\n",
       "      <td>0.000136</td>\n",
       "      <td>0.059730</td>\n",
       "      <td>0.226653</td>\n",
       "      <td>0.190449</td>\n",
       "    </tr>\n",
       "    <tr>\n",
       "      <th>41603416</th>\n",
       "      <td>Борское</td>\n",
       "      <td>2022</td>\n",
       "      <td>3272</td>\n",
       "      <td>41603416</td>\n",
       "      <td>0.313680</td>\n",
       "      <td>0.000375</td>\n",
       "      <td>0.051948</td>\n",
       "      <td>0.086449</td>\n",
       "      <td>0.172258</td>\n",
       "    </tr>\n",
       "    <tr>\n",
       "      <th>...</th>\n",
       "      <td>...</td>\n",
       "      <td>...</td>\n",
       "      <td>...</td>\n",
       "      <td>...</td>\n",
       "      <td>...</td>\n",
       "      <td>...</td>\n",
       "      <td>...</td>\n",
       "      <td>...</td>\n",
       "      <td>...</td>\n",
       "    </tr>\n",
       "    <tr>\n",
       "      <th>41648418</th>\n",
       "      <td>Нурминское</td>\n",
       "      <td>2022</td>\n",
       "      <td>2977</td>\n",
       "      <td>41648418</td>\n",
       "      <td>0.194500</td>\n",
       "      <td>0.002299</td>\n",
       "      <td>0.157915</td>\n",
       "      <td>0.052161</td>\n",
       "      <td>0.091081</td>\n",
       "    </tr>\n",
       "    <tr>\n",
       "      <th>41648430</th>\n",
       "      <td>Лисинское</td>\n",
       "      <td>2022</td>\n",
       "      <td>1703</td>\n",
       "      <td>41648430</td>\n",
       "      <td>0.187845</td>\n",
       "      <td>0.000282</td>\n",
       "      <td>0.038781</td>\n",
       "      <td>0.289960</td>\n",
       "      <td>0.338290</td>\n",
       "    </tr>\n",
       "    <tr>\n",
       "      <th>41648443</th>\n",
       "      <td>Тельмановское</td>\n",
       "      <td>2022</td>\n",
       "      <td>13191</td>\n",
       "      <td>41648443</td>\n",
       "      <td>0.015796</td>\n",
       "      <td>0.002013</td>\n",
       "      <td>0.267001</td>\n",
       "      <td>0.003847</td>\n",
       "      <td>0.036748</td>\n",
       "    </tr>\n",
       "    <tr>\n",
       "      <th>41648444</th>\n",
       "      <td>Трубникоборское</td>\n",
       "      <td>2022</td>\n",
       "      <td>1479</td>\n",
       "      <td>41648444</td>\n",
       "      <td>0.221791</td>\n",
       "      <td>0.005277</td>\n",
       "      <td>0.195560</td>\n",
       "      <td>0.209687</td>\n",
       "      <td>0.590072</td>\n",
       "    </tr>\n",
       "    <tr>\n",
       "      <th>41648464</th>\n",
       "      <td>Шапкинское</td>\n",
       "      <td>2022</td>\n",
       "      <td>439</td>\n",
       "      <td>41648464</td>\n",
       "      <td>0.485396</td>\n",
       "      <td>0.002910</td>\n",
       "      <td>0.141703</td>\n",
       "      <td>1.000000</td>\n",
       "      <td>0.663633</td>\n",
       "    </tr>\n",
       "  </tbody>\n",
       "</table>\n",
       "<p>187 rows × 9 columns</p>\n",
       "</div>"
      ],
      "text/plain": [
       "                     name  year  popsize     oktmo  sportsvenue_avg_on_person  \\\n",
       "oktmo                                                                           \n",
       "41603101   Бокситогорское  2022    14606  41603101                   0.209362   \n",
       "41603102      Пикалёвское  2022    19250  41603102                   0.209585   \n",
       "41603155       Ефимовское  2022     4389  41603155                   0.294187   \n",
       "41603412   Большедворское  2022     1486  41603412                   0.374693   \n",
       "41603416          Борское  2022     3272  41603416                   0.313680   \n",
       "...                   ...   ...      ...       ...                        ...   \n",
       "41648418       Нурминское  2022     2977  41648418                   0.194500   \n",
       "41648430        Лисинское  2022     1703  41648430                   0.187845   \n",
       "41648443    Тельмановское  2022    13191  41648443                   0.015796   \n",
       "41648444  Трубникоборское  2022     1479  41648444                   0.221791   \n",
       "41648464       Шапкинское  2022      439  41648464                   0.485396   \n",
       "\n",
       "          invest_avg_on_person  shoparea_avg_on_person  \\\n",
       "oktmo                                                    \n",
       "41603101              0.002344                0.297731   \n",
       "41603102              0.002442                0.238284   \n",
       "41603155              0.000601                0.124689   \n",
       "41603412              0.000136                0.059730   \n",
       "41603416              0.000375                0.051948   \n",
       "...                        ...                     ...   \n",
       "41648418              0.002299                0.157915   \n",
       "41648430              0.000282                0.038781   \n",
       "41648443              0.002013                0.267001   \n",
       "41648444              0.005277                0.195560   \n",
       "41648464              0.002910                0.141703   \n",
       "\n",
       "          roadslen_avg_on_person  hospitals_avg_on_person  \n",
       "oktmo                                                      \n",
       "41603101                0.042840                 0.012232  \n",
       "41603102                0.025938                 0.007362  \n",
       "41603155                0.373534                 0.193568  \n",
       "41603412                0.226653                 0.190449  \n",
       "41603416                0.086449                 0.172258  \n",
       "...                          ...                      ...  \n",
       "41648418                0.052161                 0.091081  \n",
       "41648430                0.289960                 0.338290  \n",
       "41648443                0.003847                 0.036748  \n",
       "41648444                0.209687                 0.590072  \n",
       "41648464                1.000000                 0.663633  \n",
       "\n",
       "[187 rows x 9 columns]"
      ]
     },
     "execution_count": 21,
     "metadata": {},
     "output_type": "execute_result"
    }
   ],
   "source": [
    "\n",
    "mo_features = allmun\n",
    "# files = [\n",
    "#     \"shoparea\",\n",
    "#     \"foodseats\",\n",
    "#     \"agrprod\",\n",
    "#     \"beforeschool\",\n",
    "#     \"schoolnum\",  # тут нет требуемых районов\n",
    "#     \"museums\",\n",
    "#     \"theatres\",\n",
    "#     \"musartschool\",\n",
    "#     \"hospitalcap\",\n",
    "#     \"pollutionvol\",\n",
    "#     \"popsize\",\n",
    "#     \"retailturnover\",\n",
    "#     \"livarea\",\n",
    "\n",
    "# ]\n",
    "files = \"\"\"parks\n",
    "schoolnum\n",
    "cliniccap\n",
    "sportsvenue\n",
    "consnewareas\n",
    "popsize\n",
    "livestock\n",
    "saldo internat\n",
    "consnewapt\n",
    "budincome\n",
    "musartschool\n",
    "foodservturnover\n",
    "goodcompanies\n",
    "invest\n",
    "factoriescap\n",
    "shoparea\n",
    "museums\n",
    "agrprod\n",
    "roadslen\n",
    "hospitals\n",
    "outflow\n",
    "foodseats\n",
    "servicesnum\n",
    "avgsalary\n",
    "harvest\n",
    "funds\n",
    "library\n",
    "cultureorg\n",
    "saldo interreg\n",
    "avgemployers\n",
    "naturesecure\n",
    "goodcompincome\n",
    "visiblecompanies\n",
    "retailturnover\n",
    "beforeschool\n",
    "theatres\n",
    "saldo reg\n",
    "docsnum\n",
    "livarea\n",
    "badcompanies\"\"\".split('\\n')\n",
    "\n",
    "files_about_mo = [\"sportsvenue\", \"invest\",\n",
    "\n",
    "                   \"shoparea\", \"roadslen\", \"hospitals\"]\n",
    "\n",
    "data_point_count = []\n",
    "allmun_by_feat = {}\n",
    "for f in files_about_mo:\n",
    "    d = pd.read_csv(\n",
    "        f\"/Users/pishchulov/edu/matobes/НИР/outer_source/migration/ITMO-2/migforecasting/superdataset/features separately/{f} (allmun).csv\")\n",
    "    d[[\"oktmo\"]] = d[[\"oktmo\"]].astype(str)\n",
    "    d[\"from_lo\"] = [bool(re.fullmatch(r\"41\\d+\", x)) for x in d.oktmo]\n",
    "    allmun_by_feat[f] = d[(d.from_lo)]\n",
    "    d_lo = d[(d.from_lo) \n",
    "             & (d.year == 2022)\n",
    "             ]\n",
    "    if len(d_lo):\n",
    "        data_point_count.append((f, len(d_lo)))\n",
    "        # print(f\" f== {f} {len(d_lo)}\")\n",
    "    d = d[(d.oktmo.isin(mo_features.index)) & (\n",
    "        d.year == 2022)].drop([\"from_lo\"], axis=1)\n",
    "    if len(d) == 0:\n",
    "        print(f\"error in {f}\")\n",
    "    else:\n",
    "        mo_features = mo_features.join(d.set_index(\"oktmo\").iloc[:, -1:], )\n",
    "    \n",
    "# pd.DataFrame(data_point_count, columns=[\"feat\", \"num\"]).sort_values(\"num\", ascending=False)\n",
    "mo_features[\"oktmo\"] = mo_features.index\n",
    "mun_districts = mo_features[pd.Series(\n",
    "    mo_features.index, index=mo_features.index).apply(is_mun_district)][\"name\"]\n",
    "mo_features = mo_features[~mo_features.oktmo.apply(is_mun_district)]\n",
    "cols_with_nan = list(mo_features.columns[mo_features.isna().sum(axis=0)>=1])\n",
    "for c in cols_with_nan:\n",
    "    mo_features[c] = mo_features[c].fillna(mo_features[c].median())\n",
    "mo_features_abs = mo_features.copy()\n",
    "mo_features = to_avg_on_person(mo_features, features=files_about_mo)\n",
    "AVG_FEATURE_NAMES = [f\"{f}_avg_on_person\" for f in files_about_mo] \n",
    "\n",
    "scaler = MinMaxScaler()\n",
    " \n",
    "df_scaled = scaler.fit_transform(mo_features[AVG_FEATURE_NAMES].to_numpy())\n",
    "df_scaled = pd.DataFrame(df_scaled, columns=AVG_FEATURE_NAMES, index= mo_features.index)\n",
    "mo_features[AVG_FEATURE_NAMES] = df_scaled\n",
    "\n",
    "\n",
    "# mo_features\n",
    "mo_features"
   ]
  },
  {
   "cell_type": "markdown",
   "metadata": {},
   "source": [
    "Проверим, что нет NAN"
   ]
  },
  {
   "cell_type": "code",
   "execution_count": 22,
   "metadata": {},
   "outputs": [
    {
     "data": {
      "text/html": [
       "<div>\n",
       "<style scoped>\n",
       "    .dataframe tbody tr th:only-of-type {\n",
       "        vertical-align: middle;\n",
       "    }\n",
       "\n",
       "    .dataframe tbody tr th {\n",
       "        vertical-align: top;\n",
       "    }\n",
       "\n",
       "    .dataframe thead th {\n",
       "        text-align: right;\n",
       "    }\n",
       "</style>\n",
       "<table border=\"1\" class=\"dataframe\">\n",
       "  <thead>\n",
       "    <tr style=\"text-align: right;\">\n",
       "      <th></th>\n",
       "      <th>name</th>\n",
       "      <th>year</th>\n",
       "      <th>popsize</th>\n",
       "      <th>oktmo</th>\n",
       "      <th>sportsvenue_avg_on_person</th>\n",
       "      <th>invest_avg_on_person</th>\n",
       "      <th>shoparea_avg_on_person</th>\n",
       "      <th>roadslen_avg_on_person</th>\n",
       "      <th>hospitals_avg_on_person</th>\n",
       "    </tr>\n",
       "    <tr>\n",
       "      <th>oktmo</th>\n",
       "      <th></th>\n",
       "      <th></th>\n",
       "      <th></th>\n",
       "      <th></th>\n",
       "      <th></th>\n",
       "      <th></th>\n",
       "      <th></th>\n",
       "      <th></th>\n",
       "      <th></th>\n",
       "    </tr>\n",
       "  </thead>\n",
       "  <tbody>\n",
       "  </tbody>\n",
       "</table>\n",
       "</div>"
      ],
      "text/plain": [
       "Empty DataFrame\n",
       "Columns: [name, year, popsize, oktmo, sportsvenue_avg_on_person, invest_avg_on_person, shoparea_avg_on_person, roadslen_avg_on_person, hospitals_avg_on_person]\n",
       "Index: []"
      ]
     },
     "execution_count": 22,
     "metadata": {},
     "output_type": "execute_result"
    }
   ],
   "source": [
    "mo_features[mo_features.isna().sum(axis=1)>=1]"
   ]
  },
  {
   "cell_type": "code",
   "execution_count": 23,
   "metadata": {},
   "outputs": [
    {
     "data": {
      "text/plain": [
       "oktmo\n",
       "41603000     Бокситогорский муниципальный район\n",
       "41606000        Волосовский муниципальный район\n",
       "41609000         Волховский муниципальный район\n",
       "41612000       Всеволожский муниципальный район\n",
       "41615000         Выборгский муниципальный район\n",
       "41618000         Гатчинский муниципальный район\n",
       "41621000      Кингисеппский муниципальный район\n",
       "41624000          Киришский муниципальный район\n",
       "41625000          Кировский муниципальный район\n",
       "41627000    Лодейнопольский муниципальный район\n",
       "41630000      Ломоносовский муниципальный район\n",
       "41633000            Лужский муниципальный район\n",
       "41636000       Подпорожский муниципальный район\n",
       "41639000        Приозерский муниципальный район\n",
       "41642000        Сланцевский муниципальный район\n",
       "41645000         Тихвинский муниципальный район\n",
       "41648000         Тосненский муниципальный район\n",
       "41754000                         Сосновоборский\n",
       "Name: name, dtype: object"
      ]
     },
     "execution_count": 23,
     "metadata": {},
     "output_type": "execute_result"
    }
   ],
   "source": [
    "\n",
    "mun_districts"
   ]
  },
  {
   "cell_type": "markdown",
   "metadata": {},
   "source": [
    "#### Список муниципальных образований без муниципальных округов"
   ]
  },
  {
   "cell_type": "code",
   "execution_count": 24,
   "metadata": {},
   "outputs": [],
   "source": [
    "mun_units = mo_features[~pd.Series(\n",
    "    mo_features.index, index=mo_features.index).apply(is_mun_district)][[\"name\", \"popsize\"]]"
   ]
  },
  {
   "cell_type": "code",
   "execution_count": 25,
   "metadata": {},
   "outputs": [
    {
     "data": {
      "text/plain": [
       "(187, 187)"
      ]
     },
     "execution_count": 25,
     "metadata": {},
     "output_type": "execute_result"
    }
   ],
   "source": [
    "len(mo_features), len(mun_units)"
   ]
  },
  {
   "cell_type": "markdown",
   "metadata": {},
   "source": [
    "# Генерация популяции"
   ]
  },
  {
   "cell_type": "markdown",
   "metadata": {},
   "source": [
    "Распределения по полу и возрасту есть только для муниципальных районов.\n",
    "migration/ITMO-2/popsize/data0.xlsx"
   ]
  },
  {
   "cell_type": "code",
   "execution_count": 26,
   "metadata": {},
   "outputs": [],
   "source": [
    "@dataclass\n",
    "class AgeGroup:\n",
    "    lo: int\n",
    "    hi: int\n",
    "\n",
    "    def __str__(self):\n",
    "        return f\"{self.lo}-{self.hi}\"\n",
    "\n",
    "    @staticmethod\n",
    "    def from_str(s):\n",
    "        lo, hi = list(map(int, s.split('-')))\n",
    "        return AgeGroup(lo=lo, hi=hi)\n",
    "\n",
    "    def get_random_age(self):\n",
    "        return random.choice(list(range(self.lo, self.hi+1)))\n",
    "\n",
    "\n",
    "age_groups = [\n",
    "    AgeGroup(0, 0),\n",
    "    AgeGroup(1, 4),\n",
    "    AgeGroup(5, 9),\n",
    "    AgeGroup(10, 14),\n",
    "    AgeGroup(15, 19),\n",
    "    AgeGroup(20, 24),\n",
    "    AgeGroup(25, 29),\n",
    "    AgeGroup(30, 34),\n",
    "    AgeGroup(35, 39),\n",
    "    AgeGroup(40, 44),\n",
    "    AgeGroup(45, 49),\n",
    "    AgeGroup(50, 54),\n",
    "    AgeGroup(55, 59),\n",
    "    AgeGroup(60, 64),\n",
    "    AgeGroup(65, 69),\n",
    "    AgeGroup(70, 74),\n",
    "    AgeGroup(75, 79),\n",
    "    AgeGroup(80, 84),\n",
    "    AgeGroup(85, 89),\n",
    "    AgeGroup(90, 94),\n",
    "    AgeGroup(95, 99),\n",
    "    AgeGroup(100, 100),\n",
    "]\n",
    "gender_age_dist_by_district_oktmo = {}\n",
    "for mun_district_oktmo, mun_district_name_series in pd.DataFrame(mun_districts).iterrows():\n",
    "    mun_district_name = mun_district_name_series.iloc[0]\n",
    "    mun_district_first_name = mun_district_name.split()[0]\n",
    "    try:\n",
    "        df = pd.read_excel(\n",
    "\n",
    "            \"/Users/pishchulov/edu/matobes/НИР/outer_source/migration/ITMO-2/popsize/data0.xlsx\", sheet_name=mun_district_first_name)\n",
    "    except ValueError:\n",
    "        df = pd.read_excel(\n",
    "\n",
    "            \"/Users/pishchulov/edu/matobes/НИР/outer_source/migration/ITMO-2/popsize/data0.xlsx\", sheet_name=mun_district_first_name+\" \")\n",
    "\n",
    "    col_num = list(df.iloc[0, :]).index(YEAR)\n",
    "    year_data = df.iloc[:, col_num]\n",
    "    males = []\n",
    "    females = []\n",
    "    for i, ag in enumerate(age_groups):\n",
    "        female = year_data.iloc[6+i*4]\n",
    "        male = year_data.iloc[7+i*4]\n",
    "        males.append(male)\n",
    "        females.append(female)\n",
    "\n",
    "    gender_age_dist = pd.DataFrame(\n",
    "        {\"male\": males, \"female\": females}, index=list(map(str, age_groups)))\n",
    "    gender_age_dist = gender_age_dist.fillna(gender_age_dist.mean())\n",
    "    gender_age_dist_by_district_oktmo[mun_district_oktmo] = gender_age_dist"
   ]
  },
  {
   "cell_type": "code",
   "execution_count": 27,
   "metadata": {},
   "outputs": [
    {
     "data": {
      "text/plain": [
       "{'41603000':             male  female\n",
       " 0-0       162.00   142.0\n",
       " 1-4       949.00   867.0\n",
       " 5-9      1328.00  1280.0\n",
       " 10-14    1388.00  1344.0\n",
       " 15-19    1279.00  1219.0\n",
       " 20-24    1046.00   966.0\n",
       " 25-29    1130.00  1032.0\n",
       " 30-34    1906.00  1731.0\n",
       " 35-39    2339.00  2143.0\n",
       " 40-44    2112.00  2040.0\n",
       " 45-49    1936.00  2002.0\n",
       " 50-54    1591.00  1616.0\n",
       " 55-59    1554.00  1834.0\n",
       " 60-64    1866.00  2557.0\n",
       " 65-69    1498.00  2329.0\n",
       " 70-74    1137.35  1263.4\n",
       " 75-79    1137.35  1263.4\n",
       " 80-84     446.00  1232.0\n",
       " 85-89     160.00   630.0\n",
       " 90-94      49.00   269.0\n",
       " 95-99       7.00    33.0\n",
       " 100-100     1.00     2.0,\n",
       " '41606000':            male  female\n",
       " 0-0       175.0   147.0\n",
       " 1-4      1089.0  1001.0\n",
       " 5-9      1443.0  1383.0\n",
       " 10-14    1407.0  1332.0\n",
       " 15-19    1285.0  1278.0\n",
       " 20-24    1283.0  1120.0\n",
       " 25-29    1357.0  1187.0\n",
       " 30-34    2083.0  1834.0\n",
       " 35-39    2373.0  2165.0\n",
       " 40-44    2137.0  2054.0\n",
       " 45-49    1932.0  1860.0\n",
       " 50-54    1609.0  1569.0\n",
       " 55-59    1570.0  1913.0\n",
       " 60-64    1705.0  2189.0\n",
       " 65-69    1295.0  2054.0\n",
       " 70-74    1154.3  1223.2\n",
       " 75-79    1154.3  1223.2\n",
       " 80-84     234.0   849.0\n",
       " 85-89      72.0   361.0\n",
       " 90-94      30.0   147.0\n",
       " 95-99       7.0    18.0\n",
       " 100-100     0.0     3.0,\n",
       " '41609000':            male   female\n",
       " 0-0       259.0   220.00\n",
       " 1-4      1346.0  1306.00\n",
       " 5-9      1867.0  1721.00\n",
       " 10-14    1926.0  1844.00\n",
       " 15-19    1883.0  1750.00\n",
       " 20-24    1712.0  1605.00\n",
       " 25-29    1899.0  1691.00\n",
       " 30-34    3280.0  2921.00\n",
       " 35-39    3644.0  3323.00\n",
       " 40-44    3132.0  3181.00\n",
       " 45-49    3026.0  3174.00\n",
       " 50-54    2638.0  2789.00\n",
       " 55-59    2605.0  3154.00\n",
       " 60-64    2758.0  3940.00\n",
       " 65-69    2413.0  3768.00\n",
       " 70-74    1756.3  1964.45\n",
       " 75-79    1756.3  1964.45\n",
       " 80-84     485.0  1772.00\n",
       " 85-89     195.0   761.00\n",
       " 90-94      54.0   307.00\n",
       " 95-99       3.0    60.00\n",
       " 100-100     1.0     2.00,\n",
       " '41612000':              male   female\n",
       " 0-0       2570.00   2511.0\n",
       " 1-4      12671.00  11721.0\n",
       " 5-9      12676.00  11940.0\n",
       " 10-14    10996.00  10057.0\n",
       " 15-19    10624.00   9431.0\n",
       " 20-24    18797.00  18932.0\n",
       " 25-29    19962.00  23762.0\n",
       " 30-34    29642.00  32866.0\n",
       " 35-39    30202.00  30878.0\n",
       " 40-44    22143.00  22478.0\n",
       " 45-49    17394.00  18213.0\n",
       " 50-54    14056.00  15443.0\n",
       " 55-59    13546.00  15931.0\n",
       " 60-64    13202.00  17751.0\n",
       " 65-69    10714.00  14909.0\n",
       " 70-74    12104.05  13262.1\n",
       " 75-79    12104.05  13262.1\n",
       " 80-84     1927.00   5253.0\n",
       " 85-89      691.00   2228.0\n",
       " 90-94      215.00    745.0\n",
       " 95-99       49.00    181.0\n",
       " 100-100      4.00     12.0,\n",
       " '41615000':            male   female\n",
       " 0-0       617.0   619.00\n",
       " 1-4      3596.0  3508.00\n",
       " 5-9      4932.0  4622.00\n",
       " 10-14    4818.0  4420.00\n",
       " 15-19    4671.0  4251.00\n",
       " 20-24    5680.0  4265.00\n",
       " 25-29    4803.0  4612.00\n",
       " 30-34    7524.0  7289.00\n",
       " 35-39    8953.0  8735.00\n",
       " 40-44    8322.0  8381.00\n",
       " 45-49    7249.0  7266.00\n",
       " 50-54    6124.0  6505.00\n",
       " 55-59    6189.0  7513.00\n",
       " 60-64    6806.0  9171.00\n",
       " 65-69    5967.0  8874.00\n",
       " 70-74    4393.1  4775.65\n",
       " 75-79    4393.1  4775.65\n",
       " 80-84    1116.0  3416.00\n",
       " 85-89     377.0  1500.00\n",
       " 90-94     112.0   473.00\n",
       " 95-99       6.0    91.00\n",
       " 100-100     0.0     2.00,\n",
       " '41618000':             male   female\n",
       " 0-0        909.0    788.0\n",
       " 1-4       4752.0   4288.0\n",
       " 5-9       5777.0   5643.0\n",
       " 10-14     6100.0   5829.0\n",
       " 15-19     6028.0   5824.0\n",
       " 20-24     7010.0   6808.0\n",
       " 25-29     6879.0   6602.0\n",
       " 30-34    10848.0  10925.0\n",
       " 35-39    12324.0  12482.0\n",
       " 40-44    11494.0  11465.0\n",
       " 45-49     9722.0  10129.0\n",
       " 50-54     8208.0   8961.0\n",
       " 55-59     7863.0   9724.0\n",
       " 60-64     8285.0  11559.0\n",
       " 65-69     7314.0  10581.0\n",
       " 70-74     5808.1   6482.7\n",
       " 75-79     5808.1   6482.7\n",
       " 80-84     1827.0   4944.0\n",
       " 85-89      617.0   2073.0\n",
       " 90-94      173.0    866.0\n",
       " 95-99       31.0    156.0\n",
       " 100-100      1.0      7.0,\n",
       " '41621000':             male  female\n",
       " 0-0       326.00   261.0\n",
       " 1-4      1548.00  1462.0\n",
       " 5-9      2068.00  1964.0\n",
       " 10-14    1892.00  1923.0\n",
       " 15-19    1929.00  1620.0\n",
       " 20-24    2225.00  1486.0\n",
       " 25-29    2529.00  1698.0\n",
       " 30-34    4310.00  2785.0\n",
       " 35-39    5320.00  3219.0\n",
       " 40-44    4459.00  3059.0\n",
       " 45-49    3845.00  2984.0\n",
       " 50-54    2948.00  2519.0\n",
       " 55-59    2715.00  2758.0\n",
       " 60-64    2643.00  3655.0\n",
       " 65-69    2164.00  3551.0\n",
       " 70-74    2085.85  1871.8\n",
       " 75-79    2085.85  1871.8\n",
       " 80-84     587.00  1600.0\n",
       " 85-89     162.00   662.0\n",
       " 90-94      40.00   203.0\n",
       " 95-99       7.00    25.0\n",
       " 100-100     0.00     2.0,\n",
       " '41624000':             male  female\n",
       " 0-0       242.00   274.0\n",
       " 1-4      1156.00  1215.0\n",
       " 5-9      1609.00  1519.0\n",
       " 10-14    1513.00  1600.0\n",
       " 15-19    1436.00  1387.0\n",
       " 20-24    1304.00  1215.0\n",
       " 25-29    1448.00  1282.0\n",
       " 30-34    2273.00  2224.0\n",
       " 35-39    2743.00  2651.0\n",
       " 40-44    2356.00  2481.0\n",
       " 45-49    2309.00  2494.0\n",
       " 50-54    1819.00  2106.0\n",
       " 55-59    1839.00  2371.0\n",
       " 60-64    1924.00  2801.0\n",
       " 65-69    1606.00  2809.0\n",
       " 70-74    1303.95  1525.4\n",
       " 75-79    1303.95  1525.4\n",
       " 80-84     364.00  1344.0\n",
       " 85-89     115.00   578.0\n",
       " 90-94      19.00   130.0\n",
       " 95-99       3.00    27.0\n",
       " 100-100     1.00     0.0,\n",
       " '41625000':            male  female\n",
       " 0-0       315.0   301.0\n",
       " 1-4      1894.0  1848.0\n",
       " 5-9      2426.0  2255.0\n",
       " 10-14    2293.0  2281.0\n",
       " 15-19    2367.0  2161.0\n",
       " 20-24    2855.0  2389.0\n",
       " 25-29    2761.0  2735.0\n",
       " 30-34    4601.0  4438.0\n",
       " 35-39    5211.0  5088.0\n",
       " 40-44    4879.0  4768.0\n",
       " 45-49    4032.0  4159.0\n",
       " 50-54    3540.0  3754.0\n",
       " 55-59    3395.0  4099.0\n",
       " 60-64    3711.0  5111.0\n",
       " 65-69    3036.0  4683.0\n",
       " 70-74    2416.4  2663.7\n",
       " 75-79    2416.4  2663.7\n",
       " 80-84     697.0  1995.0\n",
       " 85-89     236.0   795.0\n",
       " 90-94      67.0   337.0\n",
       " 95-99      12.0    74.0\n",
       " 100-100     0.0     3.0,\n",
       " '41627000':             male  female\n",
       " 0-0        87.00    83.0\n",
       " 1-4       477.00   497.0\n",
       " 5-9       696.00   663.0\n",
       " 10-14     742.00   718.0\n",
       " 15-19     687.00   617.0\n",
       " 20-24     642.00   572.0\n",
       " 25-29     644.00   598.0\n",
       " 30-34    1069.00   928.0\n",
       " 35-39    1133.00  1088.0\n",
       " 40-44    1097.00  1122.0\n",
       " 45-49     965.00  1058.0\n",
       " 50-54     864.00   910.0\n",
       " 55-59     928.00  1083.0\n",
       " 60-64    1067.00  1368.0\n",
       " 65-69     892.00  1357.0\n",
       " 70-74     610.25   679.3\n",
       " 75-79     610.25   679.3\n",
       " 80-84     141.00   562.0\n",
       " 85-89      61.00   251.0\n",
       " 90-94       9.00    90.0\n",
       " 95-99       3.00    20.0\n",
       " 100-100     1.00     1.0,\n",
       " '41630000':             male   female\n",
       " 0-0       252.00   214.00\n",
       " 1-4      1692.00  1488.00\n",
       " 5-9      2086.00  1966.00\n",
       " 10-14    1888.00  1715.00\n",
       " 15-19    2305.00  1717.00\n",
       " 20-24    3709.00  1807.00\n",
       " 25-29    2014.00  2002.00\n",
       " 30-34    3563.00  3627.00\n",
       " 35-39    4023.00  4000.00\n",
       " 40-44    3631.00  3391.00\n",
       " 45-49    2832.00  2755.00\n",
       " 50-54    2474.00  2586.00\n",
       " 55-59    2272.00  2735.00\n",
       " 60-64    2351.00  3421.00\n",
       " 65-69    1908.00  2960.00\n",
       " 70-74    1877.65  1915.95\n",
       " 75-79    1877.65  1915.95\n",
       " 80-84     377.00  1232.00\n",
       " 85-89     135.00   515.00\n",
       " 90-94      37.00   160.00\n",
       " 95-99       4.00    27.00\n",
       " 100-100     0.00     1.00,\n",
       " '41633000':            male  female\n",
       " 0-0       243.0   191.0\n",
       " 1-4      1442.0  1233.0\n",
       " 5-9      1734.0  1759.0\n",
       " 10-14    1863.0  1755.0\n",
       " 15-19    2177.0  1501.0\n",
       " 20-24    2982.0  1554.0\n",
       " 25-29    1955.0  1723.0\n",
       " 30-34    2915.0  2679.0\n",
       " 35-39    3217.0  2905.0\n",
       " 40-44    2809.0  2636.0\n",
       " 45-49    2486.0  2599.0\n",
       " 50-54    2212.0  2454.0\n",
       " 55-59    2324.0  2776.0\n",
       " 60-64    2600.0  3747.0\n",
       " 65-69    2394.0  3632.0\n",
       " 70-74    1715.9  1803.2\n",
       " 75-79    1715.9  1803.2\n",
       " 80-84     623.0  1764.0\n",
       " 85-89     262.0   795.0\n",
       " 90-94      74.0   303.0\n",
       " 95-99       6.0    56.0\n",
       " 100-100     0.0     2.0,\n",
       " '41636000':            male   female\n",
       " 0-0       100.0    66.00\n",
       " 1-4       493.0   452.00\n",
       " 5-9       683.0   646.00\n",
       " 10-14     687.0   681.00\n",
       " 15-19     644.0   556.00\n",
       " 20-24     511.0   459.00\n",
       " 25-29     504.0   439.00\n",
       " 30-34     901.0   795.00\n",
       " 35-39    1075.0  1012.00\n",
       " 40-44     945.0   935.00\n",
       " 45-49     875.0   951.00\n",
       " 50-54     762.0   847.00\n",
       " 55-59     920.0  1081.00\n",
       " 60-64    1036.0  1432.00\n",
       " 65-69     882.0  1433.00\n",
       " 70-74     563.0   641.05\n",
       " 75-79     563.0   641.05\n",
       " 80-84     140.0   593.00\n",
       " 85-89      77.0   305.00\n",
       " 90-94      24.0   114.00\n",
       " 95-99       1.0    24.00\n",
       " 100-100     0.0     0.00,\n",
       " '41639000':             male   female\n",
       " 0-0       151.00   154.00\n",
       " 1-4       947.00   991.00\n",
       " 5-9      1386.00  1326.00\n",
       " 10-14    1384.00  1338.00\n",
       " 15-19    1379.00  1128.00\n",
       " 20-24    1237.00  1042.00\n",
       " 25-29    1361.00  1150.00\n",
       " 30-34    2032.00  2002.00\n",
       " 35-39    2390.00  2202.00\n",
       " 40-44    2248.00  2240.00\n",
       " 45-49    2116.00  2198.00\n",
       " 50-54    1892.00  2077.00\n",
       " 55-59    1922.00  2269.00\n",
       " 60-64    2202.00  2854.00\n",
       " 65-69    1865.00  2730.00\n",
       " 70-74    1260.35  1393.35\n",
       " 75-79    1260.35  1393.35\n",
       " 80-84     452.00  1255.00\n",
       " 85-89     167.00   563.00\n",
       " 90-94      59.00   267.00\n",
       " 95-99      16.00    74.00\n",
       " 100-100     1.00     7.00,\n",
       " '41642000':             male   female\n",
       " 0-0       133.00   114.00\n",
       " 1-4       803.00   785.00\n",
       " 5-9      1205.00  1180.00\n",
       " 10-14    1186.00  1073.00\n",
       " 15-19    1026.00   977.00\n",
       " 20-24     969.00   917.00\n",
       " 25-29    1109.00  1024.00\n",
       " 30-34    1949.00  1661.00\n",
       " 35-39    2103.00  1970.00\n",
       " 40-44    1859.00  1770.00\n",
       " 45-49    1693.00  1682.00\n",
       " 50-54    1450.00  1549.00\n",
       " 55-59    1452.00  1866.00\n",
       " 60-64    1573.00  2270.00\n",
       " 65-69    1256.00  2023.00\n",
       " 70-74    1010.25  1124.95\n",
       " 75-79    1010.25  1124.95\n",
       " 80-84     269.00   954.00\n",
       " 85-89     121.00   474.00\n",
       " 90-94      44.00   183.00\n",
       " 95-99       4.00    25.00\n",
       " 100-100     1.00     2.00,\n",
       " '41645000':             male   female\n",
       " 0-0       238.00   243.00\n",
       " 1-4      1367.00  1272.00\n",
       " 5-9      1764.00  1681.00\n",
       " 10-14    1762.00  1712.00\n",
       " 15-19    1534.00  1553.00\n",
       " 20-24    1261.00  1193.00\n",
       " 25-29    1501.00  1309.00\n",
       " 30-34    2512.00  2299.00\n",
       " 35-39    2922.00  2635.00\n",
       " 40-44    2571.00  2581.00\n",
       " 45-49    2526.00  2649.00\n",
       " 50-54    1997.00  2201.00\n",
       " 55-59    1851.00  2517.00\n",
       " 60-64    2395.00  3289.00\n",
       " 65-69    1993.00  3539.00\n",
       " 70-74    1444.75  1651.85\n",
       " 75-79    1444.75  1651.85\n",
       " 80-84     479.00  1508.00\n",
       " 85-89     163.00   605.00\n",
       " 90-94      53.00   209.00\n",
       " 95-99       6.00    40.00\n",
       " 100-100     0.00     2.00,\n",
       " '41648000':             male   female\n",
       " 0-0       396.00   368.00\n",
       " 1-4      2352.00  2279.00\n",
       " 5-9      3385.00  3189.00\n",
       " 10-14    3207.00  3082.00\n",
       " 15-19    2940.00  2813.00\n",
       " 20-24    3342.00  3213.00\n",
       " 25-29    3563.00  3460.00\n",
       " 30-34    6026.00  6021.00\n",
       " 35-39    7017.00  6717.00\n",
       " 40-44    6186.00  6193.00\n",
       " 45-49    5212.00  5161.00\n",
       " 50-54    4055.00  4492.00\n",
       " 55-59    3905.00  4968.00\n",
       " 60-64    4310.00  5878.00\n",
       " 65-69    3345.00  5398.00\n",
       " 70-74    3016.95  3353.65\n",
       " 75-79    3016.95  3353.65\n",
       " 80-84     722.00  2355.00\n",
       " 85-89     268.00   969.00\n",
       " 90-94      91.00   413.00\n",
       " 95-99      15.00    96.00\n",
       " 100-100     2.00     8.00,\n",
       " '41754000':            male   female\n",
       " 0-0       295.0   250.00\n",
       " 1-4      1540.0  1370.00\n",
       " 5-9      1844.0  1809.00\n",
       " 10-14    1550.0  1535.00\n",
       " 15-19    1398.0  1164.00\n",
       " 20-24    1369.0  1122.00\n",
       " 25-29    1634.0  1483.00\n",
       " 30-34    2859.0  2577.00\n",
       " 35-39    3188.0  2731.00\n",
       " 40-44    2648.0  2505.00\n",
       " 45-49    2236.0  2483.00\n",
       " 50-54    1916.0  2197.00\n",
       " 55-59    1951.0  2410.00\n",
       " 60-64    2397.0  2960.00\n",
       " 65-69    1713.0  2712.00\n",
       " 70-74    1460.8  1562.85\n",
       " 75-79    1460.8  1562.85\n",
       " 80-84     453.0  1202.00\n",
       " 85-89     166.0   496.00\n",
       " 90-94      52.0   200.00\n",
       " 95-99       7.0    46.00\n",
       " 100-100     0.0     5.00}"
      ]
     },
     "execution_count": 27,
     "metadata": {},
     "output_type": "execute_result"
    }
   ],
   "source": [
    "gender_age_dist_by_district_oktmo"
   ]
  },
  {
   "cell_type": "markdown",
   "metadata": {},
   "source": [
    "##### Построим набор данных, следующих имеющемуся распредление пола и возраста"
   ]
  },
  {
   "cell_type": "code",
   "execution_count": 28,
   "metadata": {},
   "outputs": [],
   "source": [
    "def gender_age_dist_to_population(gender_age_dist_by_district_oktmo):\n",
    "    \"\"\"Принимает распределение по полу и возрасту для каждого мун. района.\n",
    "    Генереириует популяцию.\n",
    "    Разворачивает статистики в выборку, \n",
    "    предполагая, что в каждой возрастной группе возраст распредлен равномерно\"\"\"\n",
    "    age_sex_population = []\n",
    "    for district_oktmo, age_sed_distribution_df in gender_age_dist_by_district_oktmo.items():\n",
    "        for age_group_str, row in age_sed_distribution_df.iterrows():\n",
    "            age_group = AgeGroup.from_str(age_group_str)\n",
    "            males_cnt = int(row[\"male\"])\n",
    "            females_cnt = int(row[\"female\"])\n",
    "            for _ in range(males_cnt):\n",
    "                age_sex_population.append(\n",
    "                    (age_group.get_random_age(), 1, district_oktmo))\n",
    "            for _ in range(females_cnt):\n",
    "                age_sex_population.append(\n",
    "                    (age_group.get_random_age(), 0, district_oktmo))\n",
    "    population = pd.DataFrame(age_sex_population, columns=[\n",
    "        \"age\", \"male\", \"district_oktmo\"]).sample(frac=1).reset_index(drop=True)\n",
    "    return population"
   ]
  },
  {
   "cell_type": "markdown",
   "metadata": {},
   "source": [
    "Популяция по мун. районам"
   ]
  },
  {
   "cell_type": "code",
   "execution_count": 29,
   "metadata": {},
   "outputs": [
    {
     "data": {
      "text/html": [
       "<div>\n",
       "<style scoped>\n",
       "    .dataframe tbody tr th:only-of-type {\n",
       "        vertical-align: middle;\n",
       "    }\n",
       "\n",
       "    .dataframe tbody tr th {\n",
       "        vertical-align: top;\n",
       "    }\n",
       "\n",
       "    .dataframe thead th {\n",
       "        text-align: right;\n",
       "    }\n",
       "</style>\n",
       "<table border=\"1\" class=\"dataframe\">\n",
       "  <thead>\n",
       "    <tr style=\"text-align: right;\">\n",
       "      <th></th>\n",
       "      <th>age</th>\n",
       "      <th>male</th>\n",
       "      <th>district_oktmo</th>\n",
       "    </tr>\n",
       "  </thead>\n",
       "  <tbody>\n",
       "    <tr>\n",
       "      <th>0</th>\n",
       "      <td>4</td>\n",
       "      <td>1</td>\n",
       "      <td>41624000</td>\n",
       "    </tr>\n",
       "    <tr>\n",
       "      <th>1</th>\n",
       "      <td>47</td>\n",
       "      <td>1</td>\n",
       "      <td>41648000</td>\n",
       "    </tr>\n",
       "    <tr>\n",
       "      <th>2</th>\n",
       "      <td>30</td>\n",
       "      <td>0</td>\n",
       "      <td>41625000</td>\n",
       "    </tr>\n",
       "    <tr>\n",
       "      <th>3</th>\n",
       "      <td>37</td>\n",
       "      <td>0</td>\n",
       "      <td>41642000</td>\n",
       "    </tr>\n",
       "    <tr>\n",
       "      <th>4</th>\n",
       "      <td>63</td>\n",
       "      <td>1</td>\n",
       "      <td>41627000</td>\n",
       "    </tr>\n",
       "    <tr>\n",
       "      <th>...</th>\n",
       "      <td>...</td>\n",
       "      <td>...</td>\n",
       "      <td>...</td>\n",
       "    </tr>\n",
       "    <tr>\n",
       "      <th>2074072</th>\n",
       "      <td>21</td>\n",
       "      <td>0</td>\n",
       "      <td>41648000</td>\n",
       "    </tr>\n",
       "    <tr>\n",
       "      <th>2074073</th>\n",
       "      <td>32</td>\n",
       "      <td>0</td>\n",
       "      <td>41612000</td>\n",
       "    </tr>\n",
       "    <tr>\n",
       "      <th>2074074</th>\n",
       "      <td>88</td>\n",
       "      <td>0</td>\n",
       "      <td>41624000</td>\n",
       "    </tr>\n",
       "    <tr>\n",
       "      <th>2074075</th>\n",
       "      <td>43</td>\n",
       "      <td>1</td>\n",
       "      <td>41630000</td>\n",
       "    </tr>\n",
       "    <tr>\n",
       "      <th>2074076</th>\n",
       "      <td>26</td>\n",
       "      <td>0</td>\n",
       "      <td>41754000</td>\n",
       "    </tr>\n",
       "  </tbody>\n",
       "</table>\n",
       "<p>2074077 rows × 3 columns</p>\n",
       "</div>"
      ],
      "text/plain": [
       "         age  male district_oktmo\n",
       "0          4     1       41624000\n",
       "1         47     1       41648000\n",
       "2         30     0       41625000\n",
       "3         37     0       41642000\n",
       "4         63     1       41627000\n",
       "...      ...   ...            ...\n",
       "2074072   21     0       41648000\n",
       "2074073   32     0       41612000\n",
       "2074074   88     0       41624000\n",
       "2074075   43     1       41630000\n",
       "2074076   26     0       41754000\n",
       "\n",
       "[2074077 rows x 3 columns]"
      ]
     },
     "execution_count": 29,
     "metadata": {},
     "output_type": "execute_result"
    }
   ],
   "source": [
    "population = gender_age_dist_to_population(gender_age_dist_by_district_oktmo)\n",
    "mun_district_population = population\n",
    "population"
   ]
  },
  {
   "cell_type": "markdown",
   "metadata": {},
   "source": [
    "### Определим образование. Построим условное распределение образования от пола и возраста."
   ]
  },
  {
   "cell_type": "code",
   "execution_count": 30,
   "metadata": {},
   "outputs": [],
   "source": [
    "rlms = pd.read_excel(\"/Users/pishchulov/edu/matobes/НИР/Data_RLMS.xlsx\")\n",
    "data = rlms[[\"age\", \"male\", \"educ\", \"lnwage\", \"children\"]]"
   ]
  },
  {
   "cell_type": "markdown",
   "metadata": {},
   "source": [
    "#### Обучим классифкатор для предсказания уровня образования на данных RLMS"
   ]
  },
  {
   "cell_type": "code",
   "execution_count": 31,
   "metadata": {},
   "outputs": [
    {
     "data": {
      "text/plain": [
       "0.40258064516129033"
      ]
     },
     "execution_count": 31,
     "metadata": {},
     "output_type": "execute_result"
    }
   ],
   "source": [
    "X_train, X_test, y_train, y_test = train_test_split(\n",
    "    \n",
    "    data[[\"age\", \"male\"]], data['educ'], test_size=.2)\n",
    "educ_clsf = XGBClassifier()\n",
    "educ_clsf.fit(X_train, y_train) \n",
    "preds = educ_clsf.predict(X_test)  # TODO predict proba\n",
    "# accuracy == 40% - на первый взгляд довольно плохой результат,\n",
    "# но все равно гораздо лучше, чем назначать уровень образования исходя из общих рассуждений и здравого смысла\n",
    "accuracy_score(y_test, preds)"
   ]
  },
  {
   "cell_type": "markdown",
   "metadata": {},
   "source": [
    "#### Применим классификатор, чтобы назначить уровень образования для агентов из популяции"
   ]
  },
  {
   "cell_type": "code",
   "execution_count": 32,
   "metadata": {},
   "outputs": [
    {
     "data": {
      "text/html": [
       "<div>\n",
       "<style scoped>\n",
       "    .dataframe tbody tr th:only-of-type {\n",
       "        vertical-align: middle;\n",
       "    }\n",
       "\n",
       "    .dataframe tbody tr th {\n",
       "        vertical-align: top;\n",
       "    }\n",
       "\n",
       "    .dataframe thead th {\n",
       "        text-align: right;\n",
       "    }\n",
       "</style>\n",
       "<table border=\"1\" class=\"dataframe\">\n",
       "  <thead>\n",
       "    <tr style=\"text-align: right;\">\n",
       "      <th></th>\n",
       "      <th>age</th>\n",
       "      <th>male</th>\n",
       "    </tr>\n",
       "  </thead>\n",
       "  <tbody>\n",
       "    <tr>\n",
       "      <th>0</th>\n",
       "      <td>4</td>\n",
       "      <td>1</td>\n",
       "    </tr>\n",
       "    <tr>\n",
       "      <th>1</th>\n",
       "      <td>47</td>\n",
       "      <td>1</td>\n",
       "    </tr>\n",
       "    <tr>\n",
       "      <th>2</th>\n",
       "      <td>30</td>\n",
       "      <td>0</td>\n",
       "    </tr>\n",
       "    <tr>\n",
       "      <th>3</th>\n",
       "      <td>37</td>\n",
       "      <td>0</td>\n",
       "    </tr>\n",
       "    <tr>\n",
       "      <th>4</th>\n",
       "      <td>63</td>\n",
       "      <td>1</td>\n",
       "    </tr>\n",
       "    <tr>\n",
       "      <th>...</th>\n",
       "      <td>...</td>\n",
       "      <td>...</td>\n",
       "    </tr>\n",
       "    <tr>\n",
       "      <th>2074072</th>\n",
       "      <td>21</td>\n",
       "      <td>0</td>\n",
       "    </tr>\n",
       "    <tr>\n",
       "      <th>2074073</th>\n",
       "      <td>32</td>\n",
       "      <td>0</td>\n",
       "    </tr>\n",
       "    <tr>\n",
       "      <th>2074074</th>\n",
       "      <td>88</td>\n",
       "      <td>0</td>\n",
       "    </tr>\n",
       "    <tr>\n",
       "      <th>2074075</th>\n",
       "      <td>43</td>\n",
       "      <td>1</td>\n",
       "    </tr>\n",
       "    <tr>\n",
       "      <th>2074076</th>\n",
       "      <td>26</td>\n",
       "      <td>0</td>\n",
       "    </tr>\n",
       "  </tbody>\n",
       "</table>\n",
       "<p>2074077 rows × 2 columns</p>\n",
       "</div>"
      ],
      "text/plain": [
       "         age  male\n",
       "0          4     1\n",
       "1         47     1\n",
       "2         30     0\n",
       "3         37     0\n",
       "4         63     1\n",
       "...      ...   ...\n",
       "2074072   21     0\n",
       "2074073   32     0\n",
       "2074074   88     0\n",
       "2074075   43     1\n",
       "2074076   26     0\n",
       "\n",
       "[2074077 rows x 2 columns]"
      ]
     },
     "execution_count": 32,
     "metadata": {},
     "output_type": "execute_result"
    }
   ],
   "source": [
    "population[[\"age\", \"male\"]]"
   ]
  },
  {
   "cell_type": "code",
   "execution_count": 33,
   "metadata": {},
   "outputs": [],
   "source": [
    "population[\"educ\"] =educ_clsf.predict(population[[\"age\", \"male\"]])"
   ]
  },
  {
   "cell_type": "code",
   "execution_count": 34,
   "metadata": {},
   "outputs": [
    {
     "data": {
      "text/html": [
       "<div>\n",
       "<style scoped>\n",
       "    .dataframe tbody tr th:only-of-type {\n",
       "        vertical-align: middle;\n",
       "    }\n",
       "\n",
       "    .dataframe tbody tr th {\n",
       "        vertical-align: top;\n",
       "    }\n",
       "\n",
       "    .dataframe thead th {\n",
       "        text-align: right;\n",
       "    }\n",
       "</style>\n",
       "<table border=\"1\" class=\"dataframe\">\n",
       "  <thead>\n",
       "    <tr style=\"text-align: right;\">\n",
       "      <th></th>\n",
       "      <th>age</th>\n",
       "      <th>male</th>\n",
       "      <th>district_oktmo</th>\n",
       "      <th>educ</th>\n",
       "    </tr>\n",
       "  </thead>\n",
       "  <tbody>\n",
       "    <tr>\n",
       "      <th>0</th>\n",
       "      <td>4</td>\n",
       "      <td>1</td>\n",
       "      <td>41624000</td>\n",
       "      <td>1</td>\n",
       "    </tr>\n",
       "    <tr>\n",
       "      <th>1</th>\n",
       "      <td>47</td>\n",
       "      <td>1</td>\n",
       "      <td>41648000</td>\n",
       "      <td>1</td>\n",
       "    </tr>\n",
       "    <tr>\n",
       "      <th>2</th>\n",
       "      <td>30</td>\n",
       "      <td>0</td>\n",
       "      <td>41625000</td>\n",
       "      <td>3</td>\n",
       "    </tr>\n",
       "    <tr>\n",
       "      <th>3</th>\n",
       "      <td>37</td>\n",
       "      <td>0</td>\n",
       "      <td>41642000</td>\n",
       "      <td>3</td>\n",
       "    </tr>\n",
       "    <tr>\n",
       "      <th>4</th>\n",
       "      <td>63</td>\n",
       "      <td>1</td>\n",
       "      <td>41627000</td>\n",
       "      <td>1</td>\n",
       "    </tr>\n",
       "    <tr>\n",
       "      <th>...</th>\n",
       "      <td>...</td>\n",
       "      <td>...</td>\n",
       "      <td>...</td>\n",
       "      <td>...</td>\n",
       "    </tr>\n",
       "    <tr>\n",
       "      <th>2074072</th>\n",
       "      <td>21</td>\n",
       "      <td>0</td>\n",
       "      <td>41648000</td>\n",
       "      <td>2</td>\n",
       "    </tr>\n",
       "    <tr>\n",
       "      <th>2074073</th>\n",
       "      <td>32</td>\n",
       "      <td>0</td>\n",
       "      <td>41612000</td>\n",
       "      <td>3</td>\n",
       "    </tr>\n",
       "    <tr>\n",
       "      <th>2074074</th>\n",
       "      <td>88</td>\n",
       "      <td>0</td>\n",
       "      <td>41624000</td>\n",
       "      <td>1</td>\n",
       "    </tr>\n",
       "    <tr>\n",
       "      <th>2074075</th>\n",
       "      <td>43</td>\n",
       "      <td>1</td>\n",
       "      <td>41630000</td>\n",
       "      <td>1</td>\n",
       "    </tr>\n",
       "    <tr>\n",
       "      <th>2074076</th>\n",
       "      <td>26</td>\n",
       "      <td>0</td>\n",
       "      <td>41754000</td>\n",
       "      <td>3</td>\n",
       "    </tr>\n",
       "  </tbody>\n",
       "</table>\n",
       "<p>2074077 rows × 4 columns</p>\n",
       "</div>"
      ],
      "text/plain": [
       "         age  male district_oktmo  educ\n",
       "0          4     1       41624000     1\n",
       "1         47     1       41648000     1\n",
       "2         30     0       41625000     3\n",
       "3         37     0       41642000     3\n",
       "4         63     1       41627000     1\n",
       "...      ...   ...            ...   ...\n",
       "2074072   21     0       41648000     2\n",
       "2074073   32     0       41612000     3\n",
       "2074074   88     0       41624000     1\n",
       "2074075   43     1       41630000     1\n",
       "2074076   26     0       41754000     3\n",
       "\n",
       "[2074077 rows x 4 columns]"
      ]
     },
     "execution_count": 34,
     "metadata": {},
     "output_type": "execute_result"
    }
   ],
   "source": [
    "population"
   ]
  },
  {
   "cell_type": "markdown",
   "metadata": {},
   "source": [
    "### Определим зарплату. Построим зависимость от пола, возраста и образования"
   ]
  },
  {
   "cell_type": "code",
   "execution_count": 35,
   "metadata": {},
   "outputs": [
    {
     "data": {
      "text/plain": [
       "0.06300148376059464"
      ]
     },
     "execution_count": 35,
     "metadata": {},
     "output_type": "execute_result"
    }
   ],
   "source": [
    "X_train, X_test, y_train, y_test = train_test_split(\n",
    "    \n",
    "    data[[\"age\", \"male\", \"educ\"]], data['lnwage'], test_size=.2)\n",
    "wage_regressor = XGBRegressor()\n",
    "wage_regressor.fit(X_train, y_train)\n",
    "preds = wage_regressor.predict(X_test)\n",
    "mape(y_test, preds)  # mape == 0.05 - отличный результат."
   ]
  },
  {
   "cell_type": "code",
   "execution_count": 36,
   "metadata": {},
   "outputs": [],
   "source": [
    "population[\"lnwage\"] = wage_regressor.predict(\n",
    "    \n",
    "    population[[\"age\", \"male\", \"educ\"]])"
   ]
  },
  {
   "cell_type": "markdown",
   "metadata": {},
   "source": [
    "### Определим количество детей"
   ]
  },
  {
   "cell_type": "code",
   "execution_count": 37,
   "metadata": {},
   "outputs": [
    {
     "data": {
      "text/plain": [
       "0.6709677419354839"
      ]
     },
     "execution_count": 37,
     "metadata": {},
     "output_type": "execute_result"
    }
   ],
   "source": [
    "X_train, X_test, y_train, y_test = train_test_split(data[[\"age\", \"male\", \"educ\", \"lnwage\"]], data[\"children\"],\n",
    "                                                    test_size=.2)\n",
    "children_regressor = XGBRegressor()\n",
    "children_regressor.fit(X_train, y_train)\n",
    "preds = children_regressor.predict(X_test).round()\n",
    "mae(y_test, preds)"
   ]
  },
  {
   "cell_type": "code",
   "execution_count": 38,
   "metadata": {},
   "outputs": [],
   "source": [
    "population[\"children\"] = children_regressor.predict(\n",
    "    \n",
    "    population[[\"age\", \"male\", \"educ\", \"lnwage\"]]).round().astype(int)"
   ]
  },
  {
   "cell_type": "code",
   "execution_count": 39,
   "metadata": {},
   "outputs": [
    {
     "data": {
      "application/vnd.jupyter.widget-view+json": {
       "model_id": "09e23dd055894f389aa0ef9e60e4e0ff",
       "version_major": 2,
       "version_minor": 0
      },
      "text/plain": [
       "  0%|          | 0/1000000 [00:00<?, ?it/s]"
      ]
     },
     "metadata": {},
     "output_type": "display_data"
    },
    {
     "data": {
      "application/vnd.jupyter.widget-view+json": {
       "model_id": "bbc9c4ab4a5f423ba5d427eb17aec598",
       "version_major": 2,
       "version_minor": 0
      },
      "text/plain": [
       "  0%|          | 0/1000000 [00:00<?, ?it/s]"
      ]
     },
     "metadata": {},
     "output_type": "display_data"
    }
   ],
   "source": [
    "\n",
    "data[\"male\"] = rlms.male.astype(str)\n",
    "data[\"educ\"] = rlms.educ.astype(str)\n",
    "\n",
    "# set encoder and discretizer\n",
    "encoder = pp.LabelEncoder()\n",
    "discretizer = pp.KBinsDiscretizer(\n",
    "    \n",
    "    n_bins=5, encode=\"ordinal\", strategy=\"uniform\")\n",
    "\n",
    "# create preprocessor object with encoder and discretizer\n",
    "p = Preprocessor([(\"encoder\", encoder), (\"discretizer\", discretizer)])\n",
    "\n",
    "# discretize data for structure learning\n",
    "discretized_data, est = p.apply(data)\n",
    "\n",
    "# get information about data\n",
    "info = p.info\n",
    "\n",
    "# initialize network object\n",
    "bn = HybridBN(use_mixture=True, has_logit=True)\n",
    "\n",
    "# add nodes to network\n",
    "bn.add_nodes(info)\n",
    "\n",
    "# using mutual information as scoring function for structure learning\n",
    "bn.add_edges(\n",
    "    discretized_data,\n",
    "    #  scoring_function=('MI',)\n",
    ")\n",
    "\n",
    "# or use evolutionary algorithm to learn structure\n",
    "\n",
    "bn.add_edges(discretized_data)\n",
    "\n",
    "bn.fit_parameters(data)"
   ]
  },
  {
   "cell_type": "code",
   "execution_count": 40,
   "metadata": {},
   "outputs": [
    {
     "data": {
      "text/plain": [
       "True"
      ]
     },
     "execution_count": 40,
     "metadata": {},
     "output_type": "execute_result"
    }
   ],
   "source": [
    "# bn.save(\"pop.json\")\n",
    "bn.plot('mixture.html')\n",
    "bn.validate(info)"
   ]
  },
  {
   "cell_type": "code",
   "execution_count": 41,
   "metadata": {},
   "outputs": [],
   "source": [
    "sampled_data = bn.sample(10_000, progress_bar=False)\n",
    "# sampled_data.children = sampled_data.children.astype(int)\n",
    "sampled_data.male = sampled_data.male.astype(int)\n",
    "sampled_data.age = sampled_data.age.astype(int)"
   ]
  },
  {
   "cell_type": "code",
   "execution_count": 42,
   "metadata": {},
   "outputs": [
    {
     "data": {
      "text/html": [
       "<div>\n",
       "<style scoped>\n",
       "    .dataframe tbody tr th:only-of-type {\n",
       "        vertical-align: middle;\n",
       "    }\n",
       "\n",
       "    .dataframe tbody tr th {\n",
       "        vertical-align: top;\n",
       "    }\n",
       "\n",
       "    .dataframe thead th {\n",
       "        text-align: right;\n",
       "    }\n",
       "</style>\n",
       "<table border=\"1\" class=\"dataframe\">\n",
       "  <thead>\n",
       "    <tr style=\"text-align: right;\">\n",
       "      <th></th>\n",
       "      <th>lnwage</th>\n",
       "      <th>children</th>\n",
       "      <th>male</th>\n",
       "      <th>educ</th>\n",
       "      <th>age</th>\n",
       "    </tr>\n",
       "  </thead>\n",
       "  <tbody>\n",
       "    <tr>\n",
       "      <th>0</th>\n",
       "      <td>9.874280</td>\n",
       "      <td>3</td>\n",
       "      <td>0</td>\n",
       "      <td>3</td>\n",
       "      <td>54</td>\n",
       "    </tr>\n",
       "    <tr>\n",
       "      <th>1</th>\n",
       "      <td>9.666127</td>\n",
       "      <td>0</td>\n",
       "      <td>0</td>\n",
       "      <td>2</td>\n",
       "      <td>26</td>\n",
       "    </tr>\n",
       "    <tr>\n",
       "      <th>2</th>\n",
       "      <td>9.789105</td>\n",
       "      <td>2</td>\n",
       "      <td>0</td>\n",
       "      <td>1</td>\n",
       "      <td>43</td>\n",
       "    </tr>\n",
       "    <tr>\n",
       "      <th>3</th>\n",
       "      <td>9.582422</td>\n",
       "      <td>3</td>\n",
       "      <td>0</td>\n",
       "      <td>1</td>\n",
       "      <td>38</td>\n",
       "    </tr>\n",
       "    <tr>\n",
       "      <th>4</th>\n",
       "      <td>8.783293</td>\n",
       "      <td>2</td>\n",
       "      <td>1</td>\n",
       "      <td>2</td>\n",
       "      <td>56</td>\n",
       "    </tr>\n",
       "    <tr>\n",
       "      <th>...</th>\n",
       "      <td>...</td>\n",
       "      <td>...</td>\n",
       "      <td>...</td>\n",
       "      <td>...</td>\n",
       "      <td>...</td>\n",
       "    </tr>\n",
       "    <tr>\n",
       "      <th>9995</th>\n",
       "      <td>9.317542</td>\n",
       "      <td>0</td>\n",
       "      <td>1</td>\n",
       "      <td>1</td>\n",
       "      <td>19</td>\n",
       "    </tr>\n",
       "    <tr>\n",
       "      <th>9996</th>\n",
       "      <td>11.148567</td>\n",
       "      <td>1</td>\n",
       "      <td>1</td>\n",
       "      <td>1</td>\n",
       "      <td>33</td>\n",
       "    </tr>\n",
       "    <tr>\n",
       "      <th>9997</th>\n",
       "      <td>10.360912</td>\n",
       "      <td>2</td>\n",
       "      <td>1</td>\n",
       "      <td>1</td>\n",
       "      <td>25</td>\n",
       "    </tr>\n",
       "    <tr>\n",
       "      <th>9998</th>\n",
       "      <td>9.849498</td>\n",
       "      <td>2</td>\n",
       "      <td>1</td>\n",
       "      <td>0</td>\n",
       "      <td>32</td>\n",
       "    </tr>\n",
       "    <tr>\n",
       "      <th>9999</th>\n",
       "      <td>8.833993</td>\n",
       "      <td>2</td>\n",
       "      <td>0</td>\n",
       "      <td>2</td>\n",
       "      <td>29</td>\n",
       "    </tr>\n",
       "  </tbody>\n",
       "</table>\n",
       "<p>10000 rows × 5 columns</p>\n",
       "</div>"
      ],
      "text/plain": [
       "         lnwage children  male educ  age\n",
       "0      9.874280        3     0    3   54\n",
       "1      9.666127        0     0    2   26\n",
       "2      9.789105        2     0    1   43\n",
       "3      9.582422        3     0    1   38\n",
       "4      8.783293        2     1    2   56\n",
       "...         ...      ...   ...  ...  ...\n",
       "9995   9.317542        0     1    1   19\n",
       "9996  11.148567        1     1    1   33\n",
       "9997  10.360912        2     1    1   25\n",
       "9998   9.849498        2     1    0   32\n",
       "9999   8.833993        2     0    2   29\n",
       "\n",
       "[10000 rows x 5 columns]"
      ]
     },
     "execution_count": 42,
     "metadata": {},
     "output_type": "execute_result"
    }
   ],
   "source": [
    "sampled_data"
   ]
  },
  {
   "cell_type": "markdown",
   "metadata": {},
   "source": [
    "# Сгенерирруем популяцию для каждого МО из Ленобласти"
   ]
  },
  {
   "cell_type": "code",
   "execution_count": null,
   "metadata": {},
   "outputs": [],
   "source": []
  },
  {
   "cell_type": "code",
   "execution_count": 43,
   "metadata": {},
   "outputs": [],
   "source": [
    "def to_district_oktmo(oktmo):\n",
    "    assert len(oktmo) == 8\n",
    "    return oktmo[:5]+\"000\""
   ]
  },
  {
   "cell_type": "code",
   "execution_count": 44,
   "metadata": {},
   "outputs": [
    {
     "name": "stderr",
     "output_type": "stream",
     "text": [
      "100%|██████████| 187/187 [00:19<00:00,  9.75it/s]\n"
     ]
    }
   ],
   "source": [
    "from functools import cache\n",
    "\n",
    "\n",
    "\n",
    "def get_mun_unit_population(mun_units, mun_district_population):\n",
    "    mun_unit_population = pd.DataFrame(columns=[\"age\", \"male\", \"oktmo\"])\n",
    "    for mun_unit in tqdm(list(mun_units.reset_index().itertuples(index=False))):\n",
    "        district_oktmo = to_district_oktmo(mun_unit.oktmo)\n",
    "        pop    = (mun_district_population[mun_district_population.district_oktmo == district_oktmo]\n",
    "               .sample(mun_unit.popsize)[[\"age\", \"male\"]])\n",
    "        pop[\"oktmo\"] = mun_unit.oktmo\n",
    "        pop = pd.DataFrame(pop, columns=[\"age\", \"male\", \"oktmo\"])\n",
    "        mun_unit_population = pd.concat([mun_unit_population, pop])\n",
    "    mun_unit_population[\"age\"] = mun_unit_population[\"age\"].astype(int)\n",
    "    mun_unit_population[\"male\"] = mun_unit_population[\"male\"].astype(int)\n",
    "    mun_unit_population[\"oktmo\"] = mun_unit_population[\"oktmo\"].astype(str)\n",
    "    return mun_unit_population\n",
    "\n",
    "\n",
    "    \n",
    "\n",
    "mun_unit_population = get_mun_unit_population(\n",
    "    mun_units, mun_district_population)"
   ]
  },
  {
   "cell_type": "code",
   "execution_count": 45,
   "metadata": {},
   "outputs": [
    {
     "data": {
      "text/html": [
       "<div>\n",
       "<style scoped>\n",
       "    .dataframe tbody tr th:only-of-type {\n",
       "        vertical-align: middle;\n",
       "    }\n",
       "\n",
       "    .dataframe tbody tr th {\n",
       "        vertical-align: top;\n",
       "    }\n",
       "\n",
       "    .dataframe thead th {\n",
       "        text-align: right;\n",
       "    }\n",
       "</style>\n",
       "<table border=\"1\" class=\"dataframe\">\n",
       "  <thead>\n",
       "    <tr style=\"text-align: right;\">\n",
       "      <th></th>\n",
       "      <th>age</th>\n",
       "      <th>male</th>\n",
       "      <th>oktmo</th>\n",
       "    </tr>\n",
       "  </thead>\n",
       "  <tbody>\n",
       "    <tr>\n",
       "      <th>335482</th>\n",
       "      <td>32</td>\n",
       "      <td>0</td>\n",
       "      <td>41603101</td>\n",
       "    </tr>\n",
       "    <tr>\n",
       "      <th>630960</th>\n",
       "      <td>50</td>\n",
       "      <td>1</td>\n",
       "      <td>41603101</td>\n",
       "    </tr>\n",
       "    <tr>\n",
       "      <th>1104971</th>\n",
       "      <td>51</td>\n",
       "      <td>0</td>\n",
       "      <td>41603101</td>\n",
       "    </tr>\n",
       "    <tr>\n",
       "      <th>330916</th>\n",
       "      <td>50</td>\n",
       "      <td>0</td>\n",
       "      <td>41603101</td>\n",
       "    </tr>\n",
       "    <tr>\n",
       "      <th>1202879</th>\n",
       "      <td>65</td>\n",
       "      <td>0</td>\n",
       "      <td>41603101</td>\n",
       "    </tr>\n",
       "    <tr>\n",
       "      <th>...</th>\n",
       "      <td>...</td>\n",
       "      <td>...</td>\n",
       "      <td>...</td>\n",
       "    </tr>\n",
       "    <tr>\n",
       "      <th>519678</th>\n",
       "      <td>73</td>\n",
       "      <td>0</td>\n",
       "      <td>41648464</td>\n",
       "    </tr>\n",
       "    <tr>\n",
       "      <th>441584</th>\n",
       "      <td>82</td>\n",
       "      <td>0</td>\n",
       "      <td>41648464</td>\n",
       "    </tr>\n",
       "    <tr>\n",
       "      <th>550818</th>\n",
       "      <td>5</td>\n",
       "      <td>0</td>\n",
       "      <td>41648464</td>\n",
       "    </tr>\n",
       "    <tr>\n",
       "      <th>1678668</th>\n",
       "      <td>64</td>\n",
       "      <td>0</td>\n",
       "      <td>41648464</td>\n",
       "    </tr>\n",
       "    <tr>\n",
       "      <th>348289</th>\n",
       "      <td>34</td>\n",
       "      <td>1</td>\n",
       "      <td>41648464</td>\n",
       "    </tr>\n",
       "  </tbody>\n",
       "</table>\n",
       "<p>1845645 rows × 3 columns</p>\n",
       "</div>"
      ],
      "text/plain": [
       "         age  male     oktmo\n",
       "335482    32     0  41603101\n",
       "630960    50     1  41603101\n",
       "1104971   51     0  41603101\n",
       "330916    50     0  41603101\n",
       "1202879   65     0  41603101\n",
       "...      ...   ...       ...\n",
       "519678    73     0  41648464\n",
       "441584    82     0  41648464\n",
       "550818     5     0  41648464\n",
       "1678668   64     0  41648464\n",
       "348289    34     1  41648464\n",
       "\n",
       "[1845645 rows x 3 columns]"
      ]
     },
     "execution_count": 45,
     "metadata": {},
     "output_type": "execute_result"
    }
   ],
   "source": [
    "mun_unit_population"
   ]
  },
  {
   "cell_type": "markdown",
   "metadata": {},
   "source": [
    "### Определим образование, зарплату, количество детей для популяции"
   ]
  },
  {
   "cell_type": "code",
   "execution_count": 46,
   "metadata": {},
   "outputs": [],
   "source": [
    "mun_unit_population[\"educ\"] = educ_clsf.predict(\n",
    "    \n",
    "    mun_unit_population[[\"age\", \"male\"]])\n",
    "    \n",
    "mun_unit_population[\"lnwage\"] = wage_regressor.predict(\n",
    "        mun_unit_population[[\"age\", \"male\", \"educ\"]])\n",
    "mun_unit_population[\"children\"] = children_regressor.predict(\n",
    "    mun_unit_population[[\"age\", \"male\", \"educ\", \"lnwage\"]]).round().astype(int)"
   ]
  },
  {
   "cell_type": "code",
   "execution_count": 47,
   "metadata": {},
   "outputs": [
    {
     "data": {
      "text/html": [
       "<div>\n",
       "<style scoped>\n",
       "    .dataframe tbody tr th:only-of-type {\n",
       "        vertical-align: middle;\n",
       "    }\n",
       "\n",
       "    .dataframe tbody tr th {\n",
       "        vertical-align: top;\n",
       "    }\n",
       "\n",
       "    .dataframe thead th {\n",
       "        text-align: right;\n",
       "    }\n",
       "</style>\n",
       "<table border=\"1\" class=\"dataframe\">\n",
       "  <thead>\n",
       "    <tr style=\"text-align: right;\">\n",
       "      <th></th>\n",
       "      <th>age</th>\n",
       "      <th>male</th>\n",
       "      <th>oktmo</th>\n",
       "      <th>educ</th>\n",
       "      <th>lnwage</th>\n",
       "      <th>children</th>\n",
       "    </tr>\n",
       "  </thead>\n",
       "  <tbody>\n",
       "    <tr>\n",
       "      <th>335482</th>\n",
       "      <td>32</td>\n",
       "      <td>0</td>\n",
       "      <td>41603101</td>\n",
       "      <td>3</td>\n",
       "      <td>9.446020</td>\n",
       "      <td>2</td>\n",
       "    </tr>\n",
       "    <tr>\n",
       "      <th>630960</th>\n",
       "      <td>50</td>\n",
       "      <td>1</td>\n",
       "      <td>41603101</td>\n",
       "      <td>1</td>\n",
       "      <td>9.833639</td>\n",
       "      <td>2</td>\n",
       "    </tr>\n",
       "    <tr>\n",
       "      <th>1104971</th>\n",
       "      <td>51</td>\n",
       "      <td>0</td>\n",
       "      <td>41603101</td>\n",
       "      <td>2</td>\n",
       "      <td>9.357830</td>\n",
       "      <td>2</td>\n",
       "    </tr>\n",
       "    <tr>\n",
       "      <th>330916</th>\n",
       "      <td>50</td>\n",
       "      <td>0</td>\n",
       "      <td>41603101</td>\n",
       "      <td>2</td>\n",
       "      <td>9.695803</td>\n",
       "      <td>1</td>\n",
       "    </tr>\n",
       "    <tr>\n",
       "      <th>1202879</th>\n",
       "      <td>65</td>\n",
       "      <td>0</td>\n",
       "      <td>41603101</td>\n",
       "      <td>1</td>\n",
       "      <td>8.987170</td>\n",
       "      <td>1</td>\n",
       "    </tr>\n",
       "    <tr>\n",
       "      <th>...</th>\n",
       "      <td>...</td>\n",
       "      <td>...</td>\n",
       "      <td>...</td>\n",
       "      <td>...</td>\n",
       "      <td>...</td>\n",
       "      <td>...</td>\n",
       "    </tr>\n",
       "    <tr>\n",
       "      <th>519678</th>\n",
       "      <td>73</td>\n",
       "      <td>0</td>\n",
       "      <td>41648464</td>\n",
       "      <td>1</td>\n",
       "      <td>8.987170</td>\n",
       "      <td>1</td>\n",
       "    </tr>\n",
       "    <tr>\n",
       "      <th>441584</th>\n",
       "      <td>82</td>\n",
       "      <td>0</td>\n",
       "      <td>41648464</td>\n",
       "      <td>1</td>\n",
       "      <td>8.987170</td>\n",
       "      <td>1</td>\n",
       "    </tr>\n",
       "    <tr>\n",
       "      <th>550818</th>\n",
       "      <td>5</td>\n",
       "      <td>0</td>\n",
       "      <td>41648464</td>\n",
       "      <td>1</td>\n",
       "      <td>9.302336</td>\n",
       "      <td>0</td>\n",
       "    </tr>\n",
       "    <tr>\n",
       "      <th>1678668</th>\n",
       "      <td>64</td>\n",
       "      <td>0</td>\n",
       "      <td>41648464</td>\n",
       "      <td>1</td>\n",
       "      <td>8.987170</td>\n",
       "      <td>1</td>\n",
       "    </tr>\n",
       "    <tr>\n",
       "      <th>348289</th>\n",
       "      <td>34</td>\n",
       "      <td>1</td>\n",
       "      <td>41648464</td>\n",
       "      <td>3</td>\n",
       "      <td>10.449253</td>\n",
       "      <td>1</td>\n",
       "    </tr>\n",
       "  </tbody>\n",
       "</table>\n",
       "<p>1845645 rows × 6 columns</p>\n",
       "</div>"
      ],
      "text/plain": [
       "         age  male     oktmo  educ     lnwage  children\n",
       "335482    32     0  41603101     3   9.446020         2\n",
       "630960    50     1  41603101     1   9.833639         2\n",
       "1104971   51     0  41603101     2   9.357830         2\n",
       "330916    50     0  41603101     2   9.695803         1\n",
       "1202879   65     0  41603101     1   8.987170         1\n",
       "...      ...   ...       ...   ...        ...       ...\n",
       "519678    73     0  41648464     1   8.987170         1\n",
       "441584    82     0  41648464     1   8.987170         1\n",
       "550818     5     0  41648464     1   9.302336         0\n",
       "1678668   64     0  41648464     1   8.987170         1\n",
       "348289    34     1  41648464     3  10.449253         1\n",
       "\n",
       "[1845645 rows x 6 columns]"
      ]
     },
     "execution_count": 47,
     "metadata": {},
     "output_type": "execute_result"
    }
   ],
   "source": [
    "mun_unit_population # TODO указать конкретные возраста детей. если до 6 лет, то вероятность миграци поменяется"
   ]
  },
  {
   "cell_type": "code",
   "execution_count": 48,
   "metadata": {},
   "outputs": [
    {
     "data": {
      "text/html": [
       "<div>\n",
       "<style scoped>\n",
       "    .dataframe tbody tr th:only-of-type {\n",
       "        vertical-align: middle;\n",
       "    }\n",
       "\n",
       "    .dataframe tbody tr th {\n",
       "        vertical-align: top;\n",
       "    }\n",
       "\n",
       "    .dataframe thead th {\n",
       "        text-align: right;\n",
       "    }\n",
       "</style>\n",
       "<table border=\"1\" class=\"dataframe\">\n",
       "  <thead>\n",
       "    <tr style=\"text-align: right;\">\n",
       "      <th></th>\n",
       "      <th>name</th>\n",
       "      <th>popsize</th>\n",
       "    </tr>\n",
       "    <tr>\n",
       "      <th>oktmo</th>\n",
       "      <th></th>\n",
       "      <th></th>\n",
       "    </tr>\n",
       "  </thead>\n",
       "  <tbody>\n",
       "    <tr>\n",
       "      <th>41603101</th>\n",
       "      <td>Бокситогорское</td>\n",
       "      <td>14606</td>\n",
       "    </tr>\n",
       "    <tr>\n",
       "      <th>41603102</th>\n",
       "      <td>Пикалёвское</td>\n",
       "      <td>19250</td>\n",
       "    </tr>\n",
       "    <tr>\n",
       "      <th>41603155</th>\n",
       "      <td>Ефимовское</td>\n",
       "      <td>4389</td>\n",
       "    </tr>\n",
       "    <tr>\n",
       "      <th>41603412</th>\n",
       "      <td>Большедворское</td>\n",
       "      <td>1486</td>\n",
       "    </tr>\n",
       "    <tr>\n",
       "      <th>41603416</th>\n",
       "      <td>Борское</td>\n",
       "      <td>3272</td>\n",
       "    </tr>\n",
       "    <tr>\n",
       "      <th>...</th>\n",
       "      <td>...</td>\n",
       "      <td>...</td>\n",
       "    </tr>\n",
       "    <tr>\n",
       "      <th>41648418</th>\n",
       "      <td>Нурминское</td>\n",
       "      <td>2977</td>\n",
       "    </tr>\n",
       "    <tr>\n",
       "      <th>41648430</th>\n",
       "      <td>Лисинское</td>\n",
       "      <td>1703</td>\n",
       "    </tr>\n",
       "    <tr>\n",
       "      <th>41648443</th>\n",
       "      <td>Тельмановское</td>\n",
       "      <td>13191</td>\n",
       "    </tr>\n",
       "    <tr>\n",
       "      <th>41648444</th>\n",
       "      <td>Трубникоборское</td>\n",
       "      <td>1479</td>\n",
       "    </tr>\n",
       "    <tr>\n",
       "      <th>41648464</th>\n",
       "      <td>Шапкинское</td>\n",
       "      <td>439</td>\n",
       "    </tr>\n",
       "  </tbody>\n",
       "</table>\n",
       "<p>187 rows × 2 columns</p>\n",
       "</div>"
      ],
      "text/plain": [
       "                     name  popsize\n",
       "oktmo                             \n",
       "41603101   Бокситогорское    14606\n",
       "41603102      Пикалёвское    19250\n",
       "41603155       Ефимовское     4389\n",
       "41603412   Большедворское     1486\n",
       "41603416          Борское     3272\n",
       "...                   ...      ...\n",
       "41648418       Нурминское     2977\n",
       "41648430        Лисинское     1703\n",
       "41648443    Тельмановское    13191\n",
       "41648444  Трубникоборское     1479\n",
       "41648464       Шапкинское      439\n",
       "\n",
       "[187 rows x 2 columns]"
      ]
     },
     "execution_count": 48,
     "metadata": {},
     "output_type": "execute_result"
    }
   ],
   "source": [
    "mun_units"
   ]
  },
  {
   "cell_type": "code",
   "execution_count": 49,
   "metadata": {},
   "outputs": [],
   "source": [
    "inflow = pd.read_csv(\n",
    "    \"/Users/pishchulov/edu/matobes/НИР/outer_source/migration/ITMO-2/migforecasting/superdataset/mig data/total/inflow/inflow 2022 (allmun).csv\")\n",
    "outflow = pd.read_csv(\n",
    "    \"/Users/pishchulov/edu/matobes/НИР/outer_source/migration/ITMO-2/migforecasting/superdataset/mig data/total/outflow/outflow 2022 (allmun).csv\")\n",
    "inflow['oktmo'] = inflow['oktmo'].astype(str)\n",
    "outflow['oktmo'] = outflow['oktmo'].astype(str)\n",
    "inflow = inflow[inflow.oktmo.isin(mun_units.index)]\n",
    "inflow = inflow.set_index(\"oktmo\")[[\"inflow\"]].astype(int)\n",
    "outflow = outflow[outflow.oktmo.isin(mun_units.index)]\n",
    "outflow = outflow.set_index(\"oktmo\")[[\"outflow\"]].astype(int)\n",
    "\n",
    "mun_units = mun_units.join(inflow).join(outflow)\n",
    "mun_units[\"saldo\"] = mun_units.inflow - mun_units.outflow"
   ]
  },
  {
   "cell_type": "code",
   "execution_count": 50,
   "metadata": {},
   "outputs": [],
   "source": [
    "# mun_units.sort_values(\"saldo\").tail(50)"
   ]
  },
  {
   "cell_type": "markdown",
   "metadata": {},
   "source": [
    "## Степенное распределение числа жителей в МО"
   ]
  },
  {
   "cell_type": "code",
   "execution_count": 51,
   "metadata": {},
   "outputs": [],
   "source": [
    "import numpy as np\n",
    "from scipy.stats import powerlaw\n",
    "from scipy.optimize import minimize\n",
    "import matplotlib.pyplot as plt\n",
    "\n",
    "a = 0.8\n",
    "loc = 3\n",
    "scale = 10\n",
    "bins = 100"
   ]
  },
  {
   "cell_type": "code",
   "execution_count": 52,
   "metadata": {},
   "outputs": [],
   "source": [
    "# def example_fit():\n",
    "#     fig, ax = plt.subplots(1, 1)\n",
    "#     np.linspace(powerlaw.ppf(0.01, a, loc=loc, scale=scale),\n",
    "#                     powerlaw.ppf(0.999, a, loc=loc, scale=scale), 1000)\n",
    "#     ax.plot(x, powerlaw.pdf(x, a),\n",
    "#             'r-', lw=5, alpha=0.6, label='powerlaw pdf')\n",
    "#         powerlaw(a, loc=loc, scale=scale)\n",
    "#     ax.plot(x, rv.pdf(x), 'k-', lw=2, label='frozen pdf')\n",
    "#         powerlaw.rvs(a, loc =loc, scale=scale, size=1000)\n",
    "#         ist(r, density=True, bins=bins, histtype='stepfilled', alpha=0.2)\n",
    "#     ax.set_xlim([x[0], x[-1]])\n",
    "#     ax.legend(loc='best', frameon=False)\n",
    "#     params = powerlaw.fit(r, method=\"MLE\",)\n",
    "#     t, loc_fit, scale_fit = params\n",
    "#     t = powerlaw(a_fit, loc_fit, scale_fit).pdf(x)\n",
    "#     ax.plot(x, y_fit,\n",
    "#         'r-', lw=5, alpha=0.6, label='powerlaw pdf', color=\"green\")\n",
    "#     plt.show()\n",
    "\n",
    "\n",
    "\n",
    "\n",
    "# example_fit()"
   ]
  },
  {
   "cell_type": "code",
   "execution_count": 53,
   "metadata": {},
   "outputs": [],
   "source": [
    "ps = mun_units.popsize.sort_values()"
   ]
  },
  {
   "cell_type": "code",
   "execution_count": 54,
   "metadata": {},
   "outputs": [
    {
     "name": "stdout",
     "output_type": "stream",
     "text": [
      "(0.2995730938561535, 438.99999999999994, 90132.00000000001)\n"
     ]
    },
    {
     "data": {
      "image/png": "[encoded data removed]",
      "text/plain": [
       "<Figure size 1500x600 with 1 Axes>"
      ]
     },
     "metadata": {},
     "output_type": "display_data"
    }
   ],
   "source": [
    "fig, ax = plt.subplots(1, 1)\n",
    "fig.set_figheight(6)\n",
    "fig.set_figwidth(15)\n",
    "params = powerlaw.fit(ps, method=\"MLE\",)\n",
    "a_fit, loc_fit, scale_fit = params\n",
    "print(params)\n",
    "y_fit = powerlaw(a_fit, loc_fit, scale_fit).pdf(ps)\n",
    "ax.hist(ps, density=True, bins=bins, histtype='stepfilled', alpha=0.2, \n",
    "        label = \"\")\n",
    "ax.plot(ps[2:], y_fit[2:],\n",
    "        'r-', lw=2, alpha=0.6, label='powerlaw pdf', color=\"green\")\n",
    "\n",
    "ax.legend(loc='best', frameon=False)\n",
    "plt.xlabel('Численность населения МО')\n",
    "plt.ylabel('Частота')\n",
    "plt.title(\"Численность населения следует степенному закону\")\n",
    "plt.show()"
   ]
  },
  {
   "cell_type": "code",
   "execution_count": 55,
   "metadata": {},
   "outputs": [],
   "source": [
    "sd = pd.read_csv(\n",
    "    \n",
    "    \"/Users/pishchulov/edu/matobes/НИР/outer_source/migration/ITMO-2/migforecasting/superdataset/superdataset (full data).csv\")\n",
    "sd[\"oktmo\"] = sd[\"oktmo\"].astype(str)\n",
    "sd[\"year\"] = sd[\"year\"].astype(str)\n",
    "sd = sd[sd.oktmo.isin(mun_units.index)]"
   ]
  },
  {
   "cell_type": "code",
   "execution_count": 56,
   "metadata": {},
   "outputs": [],
   "source": [
    "# mun_units.sort_values(\"popsize\", ascending=False).head(50)"
   ]
  },
  {
   "cell_type": "markdown",
   "metadata": {},
   "source": [
    "#### Гипотеза: в больших городах доля приезжающих (уезжающих) больше"
   ]
  },
  {
   "cell_type": "code",
   "execution_count": 57,
   "metadata": {},
   "outputs": [],
   "source": [
    "mun_units[\"saldo_rel\"] = mun_units.saldo  / mun_units.popsize\n",
    "mun_units[\"in_and_out_flow\"] = mun_units.inflow + mun_units.outflow\n"
   ]
  },
  {
   "cell_type": "code",
   "execution_count": 58,
   "metadata": {},
   "outputs": [
    {
     "data": {
      "application/vnd.plotly.v1+json": {
       "config": {
        "plotlyServerURL": "https://plot.ly"
       },
       "data": [
        {
         "type": "scatter",
         "x": [
          90571,
          87626,
          76974,
          74137,
          73001,
          61716,
          58596,
          49609,
          43875,
          43309,
          39224,
          33295,
          32833,
          31127,
          30070,
          28187,
          25878,
          22699,
          22416,
          22052,
          20937,
          19250,
          19226,
          18776,
          18210,
          17777,
          16448,
          15969,
          14643,
          14606,
          14469,
          14030,
          13629,
          13620,
          13565,
          13191,
          13011,
          12644,
          11810,
          11693,
          11586,
          11490,
          11433,
          11351,
          11054,
          11028,
          10633,
          10207,
          10086,
          9948,
          9757,
          9434,
          9212,
          9167,
          9120,
          8809,
          8756,
          8543,
          8437,
          8115,
          8065,
          7912,
          7750,
          7687,
          7129,
          6950,
          6545,
          6478,
          6395,
          6311,
          6275,
          6217,
          6201,
          6139,
          5814,
          5776,
          5688,
          5635,
          5625,
          5472,
          5302,
          5255,
          5213,
          5169,
          5125,
          5078,
          4984,
          4867,
          4669,
          4657,
          4562,
          4440,
          4429,
          4389,
          4237,
          4170,
          4083,
          3985,
          3875,
          3741,
          3724,
          3692,
          3572,
          3471,
          3368,
          3330,
          3272,
          3247,
          3185,
          3091,
          3013,
          2994,
          2977,
          2958,
          2878,
          2814,
          2795,
          2766,
          2683,
          2651,
          2648,
          2606,
          2578,
          2561,
          2551,
          2530,
          2495,
          2467,
          2362,
          2355,
          2341,
          2335,
          2329,
          2308,
          2203,
          2137,
          2128,
          2125,
          2098,
          2096,
          1977,
          1892,
          1829,
          1803,
          1799,
          1770,
          1720,
          1718,
          1712,
          1710,
          1703,
          1697,
          1688,
          1580,
          1577,
          1552,
          1530,
          1528,
          1508,
          1486,
          1479,
          1419,
          1378,
          1336,
          1313,
          1215,
          1195,
          1139,
          1130,
          1119,
          1105,
          1069,
          1058,
          1042,
          1037,
          1015,
          959,
          938,
          920,
          858,
          847,
          662,
          653,
          610,
          585,
          453,
          439
         ],
         "y": [
          13083,
          -320,
          -120,
          6467,
          -20,
          1723,
          -333,
          -135,
          -65,
          55,
          -430,
          -175,
          44,
          2515,
          953,
          180,
          -24,
          689,
          -275,
          61,
          174,
          -9,
          21,
          -29,
          -104,
          60,
          -40,
          -81,
          -34,
          -82,
          224,
          -81,
          18,
          1413,
          1456,
          -284,
          18,
          43,
          2172,
          5,
          -37,
          -65,
          64,
          1,
          108,
          443,
          1,
          174,
          12,
          -7,
          15,
          14,
          -89,
          17,
          -34,
          -41,
          68,
          19,
          20,
          218,
          -53,
          64,
          -32,
          77,
          -58,
          156,
          116,
          50,
          182,
          -3,
          -29,
          50,
          201,
          184,
          -41,
          0,
          344,
          -58,
          -17,
          -67,
          13,
          25,
          -20,
          268,
          87,
          -31,
          256,
          259,
          -37,
          -72,
          -9,
          -53,
          12,
          16,
          -69,
          -77,
          446,
          83,
          -21,
          13,
          135,
          -11,
          9,
          2,
          5,
          31,
          4,
          196,
          19,
          74,
          -52,
          -37,
          0,
          -18,
          74,
          -20,
          29,
          94,
          -16,
          -14,
          -3,
          6,
          34,
          -8,
          -44,
          3,
          -75,
          4,
          24,
          -7,
          9,
          -41,
          19,
          -5,
          5,
          42,
          8,
          8,
          -34,
          33,
          24,
          7,
          -4,
          -5,
          -27,
          28,
          -16,
          -8,
          -47,
          -3,
          -84,
          -51,
          -12,
          -42,
          -2,
          -22,
          25,
          24,
          6,
          32,
          -15,
          0,
          -6,
          40,
          -9,
          -19,
          -14,
          -8,
          1,
          -9,
          42,
          -12,
          2,
          -6,
          -1,
          -4,
          -9,
          32,
          -9,
          86,
          7,
          7,
          -7,
          -27,
          3,
          -1,
          16
         ]
        }
       ],
       "layout": {
        "template": {
         "data": {
          "bar": [
           {
            "error_x": {
             "color": "#2a3f5f"
            },
            "error_y": {
             "color": "#2a3f5f"
            },
            "marker": {
             "line": {
              "color": "#E5ECF6",
              "width": 0.5
             },
             "pattern": {
              "fillmode": "overlay",
              "size": 10,
              "solidity": 0.2
             }
            },
            "type": "bar"
           }
          ],
          "barpolar": [
           {
            "marker": {
             "line": {
              "color": "#E5ECF6",
              "width": 0.5
             },
             "pattern": {
              "fillmode": "overlay",
              "size": 10,
              "solidity": 0.2
             }
            },
            "type": "barpolar"
           }
          ],
          "carpet": [
           {
            "aaxis": {
             "endlinecolor": "#2a3f5f",
             "gridcolor": "white",
             "linecolor": "white",
             "minorgridcolor": "white",
             "startlinecolor": "#2a3f5f"
            },
            "baxis": {
             "endlinecolor": "#2a3f5f",
             "gridcolor": "white",
             "linecolor": "white",
             "minorgridcolor": "white",
             "startlinecolor": "#2a3f5f"
            },
            "type": "carpet"
           }
          ],
          "choropleth": [
           {
            "colorbar": {
             "outlinewidth": 0,
             "ticks": ""
            },
            "type": "choropleth"
           }
          ],
          "contour": [
           {
            "colorbar": {
             "outlinewidth": 0,
             "ticks": ""
            },
            "colorscale": [
             [
              0,
              "#0d0887"
             ],
             [
              0.1111111111111111,
              "#46039f"
             ],
             [
              0.2222222222222222,
              "#7201a8"
             ],
             [
              0.3333333333333333,
              "#9c179e"
             ],
             [
              0.4444444444444444,
              "#bd3786"
             ],
             [
              0.5555555555555556,
              "#d8576b"
             ],
             [
              0.6666666666666666,
              "#ed7953"
             ],
             [
              0.7777777777777778,
              "#fb9f3a"
             ],
             [
              0.8888888888888888,
              "#fdca26"
             ],
             [
              1,
              "#f0f921"
             ]
            ],
            "type": "contour"
           }
          ],
          "contourcarpet": [
           {
            "colorbar": {
             "outlinewidth": 0,
             "ticks": ""
            },
            "type": "contourcarpet"
           }
          ],
          "heatmap": [
           {
            "colorbar": {
             "outlinewidth": 0,
             "ticks": ""
            },
            "colorscale": [
             [
              0,
              "#0d0887"
             ],
             [
              0.1111111111111111,
              "#46039f"
             ],
             [
              0.2222222222222222,
              "#7201a8"
             ],
             [
              0.3333333333333333,
              "#9c179e"
             ],
             [
              0.4444444444444444,
              "#bd3786"
             ],
             [
              0.5555555555555556,
              "#d8576b"
             ],
             [
              0.6666666666666666,
              "#ed7953"
             ],
             [
              0.7777777777777778,
              "#fb9f3a"
             ],
             [
              0.8888888888888888,
              "#fdca26"
             ],
             [
              1,
              "#f0f921"
             ]
            ],
            "type": "heatmap"
           }
          ],
          "heatmapgl": [
           {
            "colorbar": {
             "outlinewidth": 0,
             "ticks": ""
            },
            "colorscale": [
             [
              0,
              "#0d0887"
             ],
             [
              0.1111111111111111,
              "#46039f"
             ],
             [
              0.2222222222222222,
              "#7201a8"
             ],
             [
              0.3333333333333333,
              "#9c179e"
             ],
             [
              0.4444444444444444,
              "#bd3786"
             ],
             [
              0.5555555555555556,
              "#d8576b"
             ],
             [
              0.6666666666666666,
              "#ed7953"
             ],
             [
              0.7777777777777778,
              "#fb9f3a"
             ],
             [
              0.8888888888888888,
              "#fdca26"
             ],
             [
              1,
              "#f0f921"
             ]
            ],
            "type": "heatmapgl"
           }
          ],
          "histogram": [
           {
            "marker": {
             "pattern": {
              "fillmode": "overlay",
              "size": 10,
              "solidity": 0.2
             }
            },
            "type": "histogram"
           }
          ],
          "histogram2d": [
           {
            "colorbar": {
             "outlinewidth": 0,
             "ticks": ""
            },
            "colorscale": [
             [
              0,
              "#0d0887"
             ],
             [
              0.1111111111111111,
              "#46039f"
             ],
             [
              0.2222222222222222,
              "#7201a8"
             ],
             [
              0.3333333333333333,
              "#9c179e"
             ],
             [
              0.4444444444444444,
              "#bd3786"
             ],
             [
              0.5555555555555556,
              "#d8576b"
             ],
             [
              0.6666666666666666,
              "#ed7953"
             ],
             [
              0.7777777777777778,
              "#fb9f3a"
             ],
             [
              0.8888888888888888,
              "#fdca26"
             ],
             [
              1,
              "#f0f921"
             ]
            ],
            "type": "histogram2d"
           }
          ],
          "histogram2dcontour": [
           {
            "colorbar": {
             "outlinewidth": 0,
             "ticks": ""
            },
            "colorscale": [
             [
              0,
              "#0d0887"
             ],
             [
              0.1111111111111111,
              "#46039f"
             ],
             [
              0.2222222222222222,
              "#7201a8"
             ],
             [
              0.3333333333333333,
              "#9c179e"
             ],
             [
              0.4444444444444444,
              "#bd3786"
             ],
             [
              0.5555555555555556,
              "#d8576b"
             ],
             [
              0.6666666666666666,
              "#ed7953"
             ],
             [
              0.7777777777777778,
              "#fb9f3a"
             ],
             [
              0.8888888888888888,
              "#fdca26"
             ],
             [
              1,
              "#f0f921"
             ]
            ],
            "type": "histogram2dcontour"
           }
          ],
          "mesh3d": [
           {
            "colorbar": {
             "outlinewidth": 0,
             "ticks": ""
            },
            "type": "mesh3d"
           }
          ],
          "parcoords": [
           {
            "line": {
             "colorbar": {
              "outlinewidth": 0,
              "ticks": ""
             }
            },
            "type": "parcoords"
           }
          ],
          "pie": [
           {
            "automargin": true,
            "type": "pie"
           }
          ],
          "scatter": [
           {
            "fillpattern": {
             "fillmode": "overlay",
             "size": 10,
             "solidity": 0.2
            },
            "type": "scatter"
           }
          ],
          "scatter3d": [
           {
            "line": {
             "colorbar": {
              "outlinewidth": 0,
              "ticks": ""
             }
            },
            "marker": {
             "colorbar": {
              "outlinewidth": 0,
              "ticks": ""
             }
            },
            "type": "scatter3d"
           }
          ],
          "scattercarpet": [
           {
            "marker": {
             "colorbar": {
              "outlinewidth": 0,
              "ticks": ""
             }
            },
            "type": "scattercarpet"
           }
          ],
          "scattergeo": [
           {
            "marker": {
             "colorbar": {
              "outlinewidth": 0,
              "ticks": ""
             }
            },
            "type": "scattergeo"
           }
          ],
          "scattergl": [
           {
            "marker": {
             "colorbar": {
              "outlinewidth": 0,
              "ticks": ""
             }
            },
            "type": "scattergl"
           }
          ],
          "scattermapbox": [
           {
            "marker": {
             "colorbar": {
              "outlinewidth": 0,
              "ticks": ""
             }
            },
            "type": "scattermapbox"
           }
          ],
          "scatterpolar": [
           {
            "marker": {
             "colorbar": {
              "outlinewidth": 0,
              "ticks": ""
             }
            },
            "type": "scatterpolar"
           }
          ],
          "scatterpolargl": [
           {
            "marker": {
             "colorbar": {
              "outlinewidth": 0,
              "ticks": ""
             }
            },
            "type": "scatterpolargl"
           }
          ],
          "scatterternary": [
           {
            "marker": {
             "colorbar": {
              "outlinewidth": 0,
              "ticks": ""
             }
            },
            "type": "scatterternary"
           }
          ],
          "surface": [
           {
            "colorbar": {
             "outlinewidth": 0,
             "ticks": ""
            },
            "colorscale": [
             [
              0,
              "#0d0887"
             ],
             [
              0.1111111111111111,
              "#46039f"
             ],
             [
              0.2222222222222222,
              "#7201a8"
             ],
             [
              0.3333333333333333,
              "#9c179e"
             ],
             [
              0.4444444444444444,
              "#bd3786"
             ],
             [
              0.5555555555555556,
              "#d8576b"
             ],
             [
              0.6666666666666666,
              "#ed7953"
             ],
             [
              0.7777777777777778,
              "#fb9f3a"
             ],
             [
              0.8888888888888888,
              "#fdca26"
             ],
             [
              1,
              "#f0f921"
             ]
            ],
            "type": "surface"
           }
          ],
          "table": [
           {
            "cells": {
             "fill": {
              "color": "#EBF0F8"
             },
             "line": {
              "color": "white"
             }
            },
            "header": {
             "fill": {
              "color": "#C8D4E3"
             },
             "line": {
              "color": "white"
             }
            },
            "type": "table"
           }
          ]
         },
         "layout": {
          "annotationdefaults": {
           "arrowcolor": "#2a3f5f",
           "arrowhead": 0,
           "arrowwidth": 1
          },
          "autotypenumbers": "strict",
          "coloraxis": {
           "colorbar": {
            "outlinewidth": 0,
            "ticks": ""
           }
          },
          "colorscale": {
           "diverging": [
            [
             0,
             "#8e0152"
            ],
            [
             0.1,
             "#c51b7d"
            ],
            [
             0.2,
             "#de77ae"
            ],
            [
             0.3,
             "#f1b6da"
            ],
            [
             0.4,
             "#fde0ef"
            ],
            [
             0.5,
             "#f7f7f7"
            ],
            [
             0.6,
             "#e6f5d0"
            ],
            [
             0.7,
             "#b8e186"
            ],
            [
             0.8,
             "#7fbc41"
            ],
            [
             0.9,
             "#4d9221"
            ],
            [
             1,
             "#276419"
            ]
           ],
           "sequential": [
            [
             0,
             "#0d0887"
            ],
            [
             0.1111111111111111,
             "#46039f"
            ],
            [
             0.2222222222222222,
             "#7201a8"
            ],
            [
             0.3333333333333333,
             "#9c179e"
            ],
            [
             0.4444444444444444,
             "#bd3786"
            ],
            [
             0.5555555555555556,
             "#d8576b"
            ],
            [
             0.6666666666666666,
             "#ed7953"
            ],
            [
             0.7777777777777778,
             "#fb9f3a"
            ],
            [
             0.8888888888888888,
             "#fdca26"
            ],
            [
             1,
             "#f0f921"
            ]
           ],
           "sequentialminus": [
            [
             0,
             "#0d0887"
            ],
            [
             0.1111111111111111,
             "#46039f"
            ],
            [
             0.2222222222222222,
             "#7201a8"
            ],
            [
             0.3333333333333333,
             "#9c179e"
            ],
            [
             0.4444444444444444,
             "#bd3786"
            ],
            [
             0.5555555555555556,
             "#d8576b"
            ],
            [
             0.6666666666666666,
             "#ed7953"
            ],
            [
             0.7777777777777778,
             "#fb9f3a"
            ],
            [
             0.8888888888888888,
             "#fdca26"
            ],
            [
             1,
             "#f0f921"
            ]
           ]
          },
          "colorway": [
           "#636efa",
           "#EF553B",
           "#00cc96",
           "#ab63fa",
           "#FFA15A",
           "#19d3f3",
           "#FF6692",
           "#B6E880",
           "#FF97FF",
           "#FECB52"
          ],
          "font": {
           "color": "#2a3f5f"
          },
          "geo": {
           "bgcolor": "white",
           "lakecolor": "white",
           "landcolor": "#E5ECF6",
           "showlakes": true,
           "showland": true,
           "subunitcolor": "white"
          },
          "hoverlabel": {
           "align": "left"
          },
          "hovermode": "closest",
          "mapbox": {
           "style": "light"
          },
          "paper_bgcolor": "white",
          "plot_bgcolor": "#E5ECF6",
          "polar": {
           "angularaxis": {
            "gridcolor": "white",
            "linecolor": "white",
            "ticks": ""
           },
           "bgcolor": "#E5ECF6",
           "radialaxis": {
            "gridcolor": "white",
            "linecolor": "white",
            "ticks": ""
           }
          },
          "scene": {
           "xaxis": {
            "backgroundcolor": "#E5ECF6",
            "gridcolor": "white",
            "gridwidth": 2,
            "linecolor": "white",
            "showbackground": true,
            "ticks": "",
            "zerolinecolor": "white"
           },
           "yaxis": {
            "backgroundcolor": "#E5ECF6",
            "gridcolor": "white",
            "gridwidth": 2,
            "linecolor": "white",
            "showbackground": true,
            "ticks": "",
            "zerolinecolor": "white"
           },
           "zaxis": {
            "backgroundcolor": "#E5ECF6",
            "gridcolor": "white",
            "gridwidth": 2,
            "linecolor": "white",
            "showbackground": true,
            "ticks": "",
            "zerolinecolor": "white"
           }
          },
          "shapedefaults": {
           "line": {
            "color": "#2a3f5f"
           }
          },
          "ternary": {
           "aaxis": {
            "gridcolor": "white",
            "linecolor": "white",
            "ticks": ""
           },
           "baxis": {
            "gridcolor": "white",
            "linecolor": "white",
            "ticks": ""
           },
           "bgcolor": "#E5ECF6",
           "caxis": {
            "gridcolor": "white",
            "linecolor": "white",
            "ticks": ""
           }
          },
          "title": {
           "x": 0.05
          },
          "xaxis": {
           "automargin": true,
           "gridcolor": "white",
           "linecolor": "white",
           "ticks": "",
           "title": {
            "standoff": 15
           },
           "zerolinecolor": "white",
           "zerolinewidth": 2
          },
          "yaxis": {
           "automargin": true,
           "gridcolor": "white",
           "linecolor": "white",
           "ticks": "",
           "title": {
            "standoff": 15
           },
           "zerolinecolor": "white",
           "zerolinewidth": 2
          }
         }
        }
       }
      }
     },
     "metadata": {},
     "output_type": "display_data"
    }
   ],
   "source": [
    "df = mun_units.sort_values(\"popsize\", ascending=False)\n",
    "# df[\"inflow_rel\"] = df.inflow/df.popsize\n",
    "# df[\"outflow_rel\"] = df.outflow/df.popsize\n",
    "# df = df.drop([\"inflow\", \"outflow\"], axis=1)\n",
    "fig = go.Figure()\n",
    "fig.add_trace(\n",
    "    go.Scatter(\n",
    "        x=df.popsize,\n",
    "        y=df.saldo,\n",
    "    )\n",
    ")"
   ]
  },
  {
   "cell_type": "code",
   "execution_count": 59,
   "metadata": {},
   "outputs": [
    {
     "data": {
      "text/plain": [
       "<Axes: >"
      ]
     },
     "execution_count": 59,
     "metadata": {},
     "output_type": "execute_result"
    },
    {
     "data": {
      "image/png": "[encoded data removed]",
      "text/plain": [
       "<Figure size 640x480 with 2 Axes>"
      ]
     },
     "metadata": {},
     "output_type": "display_data"
    }
   ],
   "source": [
    "corr = df.drop(\"name\", axis=1).corr()\n",
    "sns.heatmap(corr,  annot=True,\n",
    "            xticklabels=corr.columns.values,\n",
    "            yticklabels=corr.columns.values, cmap=sns.light_palette(\"seagreen\", as_cmap=True))"
   ]
  },
  {
   "cell_type": "code",
   "execution_count": 60,
   "metadata": {},
   "outputs": [
    {
     "data": {
      "application/vnd.plotly.v1+json": {
       "config": {
        "plotlyServerURL": "https://plot.ly"
       },
       "data": [
        {
         "type": "scatter",
         "x": [
          90571,
          87626,
          76974,
          74137,
          73001,
          61716,
          58596,
          49609,
          43875,
          43309,
          39224,
          33295,
          32833,
          31127,
          30070,
          28187,
          25878,
          22699,
          22416,
          22052,
          20937,
          19250,
          19226,
          18776,
          18210,
          17777,
          16448,
          15969,
          14643,
          14606,
          14469,
          14030,
          13629,
          13620,
          13565,
          13191,
          13011,
          12644,
          11810,
          11693,
          11586,
          11490,
          11433,
          11351,
          11054,
          11028,
          10633,
          10207,
          10086,
          9948,
          9757,
          9434,
          9212,
          9167,
          9120,
          8809,
          8756,
          8543,
          8437,
          8115,
          8065,
          7912,
          7750,
          7687,
          7129,
          6950,
          6545,
          6478,
          6395,
          6311,
          6275,
          6217,
          6201,
          6139,
          5814,
          5776,
          5688,
          5635,
          5625,
          5472,
          5302,
          5255,
          5213,
          5169,
          5125,
          5078,
          4984,
          4867,
          4669,
          4657,
          4562,
          4440,
          4429,
          4389,
          4237,
          4170,
          4083,
          3985,
          3875,
          3741,
          3724,
          3692,
          3572,
          3471,
          3368,
          3330,
          3272,
          3247,
          3185,
          3091,
          3013,
          2994,
          2977,
          2958,
          2878,
          2814,
          2795,
          2766,
          2683,
          2651,
          2648,
          2606,
          2578,
          2561,
          2551,
          2530,
          2495,
          2467,
          2362,
          2355,
          2341,
          2335,
          2329,
          2308,
          2203,
          2137,
          2128,
          2125,
          2098,
          2096,
          1977,
          1892,
          1829,
          1803,
          1799,
          1770,
          1720,
          1718,
          1712,
          1710,
          1703,
          1697,
          1688,
          1580,
          1577,
          1552,
          1530,
          1528,
          1508,
          1486,
          1479,
          1419,
          1378,
          1336,
          1313,
          1215,
          1195,
          1139,
          1130,
          1119,
          1105,
          1069,
          1058,
          1042,
          1037,
          1015,
          959,
          938,
          920,
          858,
          847,
          662,
          653,
          610,
          585,
          453,
          439
         ],
         "y": [
          20224,
          2139,
          3574,
          12094,
          1640,
          3969,
          1705,
          618,
          1179,
          1005,
          679,
          764,
          1449,
          4548,
          2282,
          1079,
          793,
          1836,
          417,
          840,
          735,
          582,
          550,
          248,
          546,
          809,
          496,
          444,
          444,
          612,
          709,
          332,
          440,
          2212,
          2430,
          500,
          371,
          314,
          3207,
          338,
          317,
          429,
          393,
          212,
          468,
          801,
          179,
          546,
          398,
          297,
          463,
          335,
          199,
          180,
          307,
          103,
          523,
          430,
          408,
          415,
          246,
          331,
          133,
          341,
          214,
          458,
          486,
          357,
          412,
          117,
          67,
          231,
          438,
          461,
          90,
          213,
          613,
          161,
          216,
          103,
          165,
          195,
          218,
          457,
          270,
          146,
          525,
          461,
          133,
          154,
          267,
          123,
          114,
          301,
          54,
          88,
          640,
          200,
          138,
          151,
          255,
          130,
          120,
          81,
          109,
          140,
          253,
          340,
          91,
          173,
          68,
          195,
          44,
          47,
          178,
          53,
          93,
          206,
          75,
          58,
          84,
          99,
          206,
          48,
          46,
          120,
          59,
          81,
          102,
          63,
          78,
          62,
          98,
          39,
          138,
          144,
          90,
          66,
          98,
          188,
          85,
          91,
          59,
          43,
          42,
          81,
          55,
          45,
          129,
          50,
          43,
          81,
          41,
          16,
          48,
          38,
          85,
          103,
          49,
          134,
          36,
          37,
          18,
          86,
          12,
          29,
          35,
          31,
          30,
          16,
          86,
          19,
          24,
          30,
          30,
          40,
          47,
          60,
          35,
          126,
          37,
          25,
          26,
          10,
          27,
          24,
          30
         ]
        }
       ],
       "layout": {
        "template": {
         "data": {
          "bar": [
           {
            "error_x": {
             "color": "#2a3f5f"
            },
            "error_y": {
             "color": "#2a3f5f"
            },
            "marker": {
             "line": {
              "color": "#E5ECF6",
              "width": 0.5
             },
             "pattern": {
              "fillmode": "overlay",
              "size": 10,
              "solidity": 0.2
             }
            },
            "type": "bar"
           }
          ],
          "barpolar": [
           {
            "marker": {
             "line": {
              "color": "#E5ECF6",
              "width": 0.5
             },
             "pattern": {
              "fillmode": "overlay",
              "size": 10,
              "solidity": 0.2
             }
            },
            "type": "barpolar"
           }
          ],
          "carpet": [
           {
            "aaxis": {
             "endlinecolor": "#2a3f5f",
             "gridcolor": "white",
             "linecolor": "white",
             "minorgridcolor": "white",
             "startlinecolor": "#2a3f5f"
            },
            "baxis": {
             "endlinecolor": "#2a3f5f",
             "gridcolor": "white",
             "linecolor": "white",
             "minorgridcolor": "white",
             "startlinecolor": "#2a3f5f"
            },
            "type": "carpet"
           }
          ],
          "choropleth": [
           {
            "colorbar": {
             "outlinewidth": 0,
             "ticks": ""
            },
            "type": "choropleth"
           }
          ],
          "contour": [
           {
            "colorbar": {
             "outlinewidth": 0,
             "ticks": ""
            },
            "colorscale": [
             [
              0,
              "#0d0887"
             ],
             [
              0.1111111111111111,
              "#46039f"
             ],
             [
              0.2222222222222222,
              "#7201a8"
             ],
             [
              0.3333333333333333,
              "#9c179e"
             ],
             [
              0.4444444444444444,
              "#bd3786"
             ],
             [
              0.5555555555555556,
              "#d8576b"
             ],
             [
              0.6666666666666666,
              "#ed7953"
             ],
             [
              0.7777777777777778,
              "#fb9f3a"
             ],
             [
              0.8888888888888888,
              "#fdca26"
             ],
             [
              1,
              "#f0f921"
             ]
            ],
            "type": "contour"
           }
          ],
          "contourcarpet": [
           {
            "colorbar": {
             "outlinewidth": 0,
             "ticks": ""
            },
            "type": "contourcarpet"
           }
          ],
          "heatmap": [
           {
            "colorbar": {
             "outlinewidth": 0,
             "ticks": ""
            },
            "colorscale": [
             [
              0,
              "#0d0887"
             ],
             [
              0.1111111111111111,
              "#46039f"
             ],
             [
              0.2222222222222222,
              "#7201a8"
             ],
             [
              0.3333333333333333,
              "#9c179e"
             ],
             [
              0.4444444444444444,
              "#bd3786"
             ],
             [
              0.5555555555555556,
              "#d8576b"
             ],
             [
              0.6666666666666666,
              "#ed7953"
             ],
             [
              0.7777777777777778,
              "#fb9f3a"
             ],
             [
              0.8888888888888888,
              "#fdca26"
             ],
             [
              1,
              "#f0f921"
             ]
            ],
            "type": "heatmap"
           }
          ],
          "heatmapgl": [
           {
            "colorbar": {
             "outlinewidth": 0,
             "ticks": ""
            },
            "colorscale": [
             [
              0,
              "#0d0887"
             ],
             [
              0.1111111111111111,
              "#46039f"
             ],
             [
              0.2222222222222222,
              "#7201a8"
             ],
             [
              0.3333333333333333,
              "#9c179e"
             ],
             [
              0.4444444444444444,
              "#bd3786"
             ],
             [
              0.5555555555555556,
              "#d8576b"
             ],
             [
              0.6666666666666666,
              "#ed7953"
             ],
             [
              0.7777777777777778,
              "#fb9f3a"
             ],
             [
              0.8888888888888888,
              "#fdca26"
             ],
             [
              1,
              "#f0f921"
             ]
            ],
            "type": "heatmapgl"
           }
          ],
          "histogram": [
           {
            "marker": {
             "pattern": {
              "fillmode": "overlay",
              "size": 10,
              "solidity": 0.2
             }
            },
            "type": "histogram"
           }
          ],
          "histogram2d": [
           {
            "colorbar": {
             "outlinewidth": 0,
             "ticks": ""
            },
            "colorscale": [
             [
              0,
              "#0d0887"
             ],
             [
              0.1111111111111111,
              "#46039f"
             ],
             [
              0.2222222222222222,
              "#7201a8"
             ],
             [
              0.3333333333333333,
              "#9c179e"
             ],
             [
              0.4444444444444444,
              "#bd3786"
             ],
             [
              0.5555555555555556,
              "#d8576b"
             ],
             [
              0.6666666666666666,
              "#ed7953"
             ],
             [
              0.7777777777777778,
              "#fb9f3a"
             ],
             [
              0.8888888888888888,
              "#fdca26"
             ],
             [
              1,
              "#f0f921"
             ]
            ],
            "type": "histogram2d"
           }
          ],
          "histogram2dcontour": [
           {
            "colorbar": {
             "outlinewidth": 0,
             "ticks": ""
            },
            "colorscale": [
             [
              0,
              "#0d0887"
             ],
             [
              0.1111111111111111,
              "#46039f"
             ],
             [
              0.2222222222222222,
              "#7201a8"
             ],
             [
              0.3333333333333333,
              "#9c179e"
             ],
             [
              0.4444444444444444,
              "#bd3786"
             ],
             [
              0.5555555555555556,
              "#d8576b"
             ],
             [
              0.6666666666666666,
              "#ed7953"
             ],
             [
              0.7777777777777778,
              "#fb9f3a"
             ],
             [
              0.8888888888888888,
              "#fdca26"
             ],
             [
              1,
              "#f0f921"
             ]
            ],
            "type": "histogram2dcontour"
           }
          ],
          "mesh3d": [
           {
            "colorbar": {
             "outlinewidth": 0,
             "ticks": ""
            },
            "type": "mesh3d"
           }
          ],
          "parcoords": [
           {
            "line": {
             "colorbar": {
              "outlinewidth": 0,
              "ticks": ""
             }
            },
            "type": "parcoords"
           }
          ],
          "pie": [
           {
            "automargin": true,
            "type": "pie"
           }
          ],
          "scatter": [
           {
            "fillpattern": {
             "fillmode": "overlay",
             "size": 10,
             "solidity": 0.2
            },
            "type": "scatter"
           }
          ],
          "scatter3d": [
           {
            "line": {
             "colorbar": {
              "outlinewidth": 0,
              "ticks": ""
             }
            },
            "marker": {
             "colorbar": {
              "outlinewidth": 0,
              "ticks": ""
             }
            },
            "type": "scatter3d"
           }
          ],
          "scattercarpet": [
           {
            "marker": {
             "colorbar": {
              "outlinewidth": 0,
              "ticks": ""
             }
            },
            "type": "scattercarpet"
           }
          ],
          "scattergeo": [
           {
            "marker": {
             "colorbar": {
              "outlinewidth": 0,
              "ticks": ""
             }
            },
            "type": "scattergeo"
           }
          ],
          "scattergl": [
           {
            "marker": {
             "colorbar": {
              "outlinewidth": 0,
              "ticks": ""
             }
            },
            "type": "scattergl"
           }
          ],
          "scattermapbox": [
           {
            "marker": {
             "colorbar": {
              "outlinewidth": 0,
              "ticks": ""
             }
            },
            "type": "scattermapbox"
           }
          ],
          "scatterpolar": [
           {
            "marker": {
             "colorbar": {
              "outlinewidth": 0,
              "ticks": ""
             }
            },
            "type": "scatterpolar"
           }
          ],
          "scatterpolargl": [
           {
            "marker": {
             "colorbar": {
              "outlinewidth": 0,
              "ticks": ""
             }
            },
            "type": "scatterpolargl"
           }
          ],
          "scatterternary": [
           {
            "marker": {
             "colorbar": {
              "outlinewidth": 0,
              "ticks": ""
             }
            },
            "type": "scatterternary"
           }
          ],
          "surface": [
           {
            "colorbar": {
             "outlinewidth": 0,
             "ticks": ""
            },
            "colorscale": [
             [
              0,
              "#0d0887"
             ],
             [
              0.1111111111111111,
              "#46039f"
             ],
             [
              0.2222222222222222,
              "#7201a8"
             ],
             [
              0.3333333333333333,
              "#9c179e"
             ],
             [
              0.4444444444444444,
              "#bd3786"
             ],
             [
              0.5555555555555556,
              "#d8576b"
             ],
             [
              0.6666666666666666,
              "#ed7953"
             ],
             [
              0.7777777777777778,
              "#fb9f3a"
             ],
             [
              0.8888888888888888,
              "#fdca26"
             ],
             [
              1,
              "#f0f921"
             ]
            ],
            "type": "surface"
           }
          ],
          "table": [
           {
            "cells": {
             "fill": {
              "color": "#EBF0F8"
             },
             "line": {
              "color": "white"
             }
            },
            "header": {
             "fill": {
              "color": "#C8D4E3"
             },
             "line": {
              "color": "white"
             }
            },
            "type": "table"
           }
          ]
         },
         "layout": {
          "annotationdefaults": {
           "arrowcolor": "#2a3f5f",
           "arrowhead": 0,
           "arrowwidth": 1
          },
          "autotypenumbers": "strict",
          "coloraxis": {
           "colorbar": {
            "outlinewidth": 0,
            "ticks": ""
           }
          },
          "colorscale": {
           "diverging": [
            [
             0,
             "#8e0152"
            ],
            [
             0.1,
             "#c51b7d"
            ],
            [
             0.2,
             "#de77ae"
            ],
            [
             0.3,
             "#f1b6da"
            ],
            [
             0.4,
             "#fde0ef"
            ],
            [
             0.5,
             "#f7f7f7"
            ],
            [
             0.6,
             "#e6f5d0"
            ],
            [
             0.7,
             "#b8e186"
            ],
            [
             0.8,
             "#7fbc41"
            ],
            [
             0.9,
             "#4d9221"
            ],
            [
             1,
             "#276419"
            ]
           ],
           "sequential": [
            [
             0,
             "#0d0887"
            ],
            [
             0.1111111111111111,
             "#46039f"
            ],
            [
             0.2222222222222222,
             "#7201a8"
            ],
            [
             0.3333333333333333,
             "#9c179e"
            ],
            [
             0.4444444444444444,
             "#bd3786"
            ],
            [
             0.5555555555555556,
             "#d8576b"
            ],
            [
             0.6666666666666666,
             "#ed7953"
            ],
            [
             0.7777777777777778,
             "#fb9f3a"
            ],
            [
             0.8888888888888888,
             "#fdca26"
            ],
            [
             1,
             "#f0f921"
            ]
           ],
           "sequentialminus": [
            [
             0,
             "#0d0887"
            ],
            [
             0.1111111111111111,
             "#46039f"
            ],
            [
             0.2222222222222222,
             "#7201a8"
            ],
            [
             0.3333333333333333,
             "#9c179e"
            ],
            [
             0.4444444444444444,
             "#bd3786"
            ],
            [
             0.5555555555555556,
             "#d8576b"
            ],
            [
             0.6666666666666666,
             "#ed7953"
            ],
            [
             0.7777777777777778,
             "#fb9f3a"
            ],
            [
             0.8888888888888888,
             "#fdca26"
            ],
            [
             1,
             "#f0f921"
            ]
           ]
          },
          "colorway": [
           "#636efa",
           "#EF553B",
           "#00cc96",
           "#ab63fa",
           "#FFA15A",
           "#19d3f3",
           "#FF6692",
           "#B6E880",
           "#FF97FF",
           "#FECB52"
          ],
          "font": {
           "color": "#2a3f5f"
          },
          "geo": {
           "bgcolor": "white",
           "lakecolor": "white",
           "landcolor": "#E5ECF6",
           "showlakes": true,
           "showland": true,
           "subunitcolor": "white"
          },
          "hoverlabel": {
           "align": "left"
          },
          "hovermode": "closest",
          "mapbox": {
           "style": "light"
          },
          "paper_bgcolor": "white",
          "plot_bgcolor": "#E5ECF6",
          "polar": {
           "angularaxis": {
            "gridcolor": "white",
            "linecolor": "white",
            "ticks": ""
           },
           "bgcolor": "#E5ECF6",
           "radialaxis": {
            "gridcolor": "white",
            "linecolor": "white",
            "ticks": ""
           }
          },
          "scene": {
           "xaxis": {
            "backgroundcolor": "#E5ECF6",
            "gridcolor": "white",
            "gridwidth": 2,
            "linecolor": "white",
            "showbackground": true,
            "ticks": "",
            "zerolinecolor": "white"
           },
           "yaxis": {
            "backgroundcolor": "#E5ECF6",
            "gridcolor": "white",
            "gridwidth": 2,
            "linecolor": "white",
            "showbackground": true,
            "ticks": "",
            "zerolinecolor": "white"
           },
           "zaxis": {
            "backgroundcolor": "#E5ECF6",
            "gridcolor": "white",
            "gridwidth": 2,
            "linecolor": "white",
            "showbackground": true,
            "ticks": "",
            "zerolinecolor": "white"
           }
          },
          "shapedefaults": {
           "line": {
            "color": "#2a3f5f"
           }
          },
          "ternary": {
           "aaxis": {
            "gridcolor": "white",
            "linecolor": "white",
            "ticks": ""
           },
           "baxis": {
            "gridcolor": "white",
            "linecolor": "white",
            "ticks": ""
           },
           "bgcolor": "#E5ECF6",
           "caxis": {
            "gridcolor": "white",
            "linecolor": "white",
            "ticks": ""
           }
          },
          "title": {
           "x": 0.05
          },
          "xaxis": {
           "automargin": true,
           "gridcolor": "white",
           "linecolor": "white",
           "ticks": "",
           "title": {
            "standoff": 15
           },
           "zerolinecolor": "white",
           "zerolinewidth": 2
          },
          "yaxis": {
           "automargin": true,
           "gridcolor": "white",
           "linecolor": "white",
           "ticks": "",
           "title": {
            "standoff": 15
           },
           "zerolinecolor": "white",
           "zerolinewidth": 2
          }
         }
        }
       }
      }
     },
     "metadata": {},
     "output_type": "display_data"
    }
   ],
   "source": [
    "fig = go.Figure()\n",
    "fig.add_trace(\n",
    "    go.Scatter(\n",
    "        x=df.popsize,\n",
    "        y=df.inflow,\n",
    "    )\n",
    ")"
   ]
  },
  {
   "cell_type": "markdown",
   "metadata": {},
   "source": [
    "Число миграционных взаимодействий in_and_out_flow коррелирует с численностью населения.\n",
    "\n",
    "Можно построить граф, в котором узел - город, ребро - переезд между городами.\n",
    "\n",
    "Следует ли in_and_out_flow степенному закону?"
   ]
  },
  {
   "cell_type": "code",
   "execution_count": 61,
   "metadata": {},
   "outputs": [
    {
     "name": "stdout",
     "output_type": "stream",
     "text": [
      "(0.2100683069241509, 32.99999999999999, 27332.000000000004)\n"
     ]
    },
    {
     "data": {
      "image/png": "[encoded data removed]",
      "text/plain": [
       "<Figure size 1500x600 with 1 Axes>"
      ]
     },
     "metadata": {},
     "output_type": "display_data"
    }
   ],
   "source": [
    "fig, ax = plt.subplots(1, 1)\n",
    "fig.set_figheight(6)\n",
    "fig.set_figwidth(15)\n",
    "mun_units = mun_units.sort_values(\"in_and_out_flow\")\n",
    "in_and_out_flow = mun_units.in_and_out_flow\n",
    "params = powerlaw.fit(in_and_out_flow, method=\"MLE\",)\n",
    "a_fit, loc_fit, scale_fit = params\n",
    "print(params)\n",
    "y_fit = powerlaw(a_fit, loc_fit, scale_fit).pdf(in_and_out_flow)\n",
    "y_hist, x, _ =ax.hist(in_and_out_flow, density=True, bins=500, histtype='stepfilled', alpha=0.2,\n",
    "                      label = \"in_and_out_flow\")\n",
    "ax.plot(in_and_out_flow[1:], y_fit[1:],\n",
    "        'r-', lw=2, alpha=0.6, label='powerlaw pdf', color=\"green\")\n",
    "ax.legend(loc='best', frameon=False)\n",
    "plt.xlabel('Количество мигрантов в МО и из МО')\n",
    "plt.ylabel('Частота')\n",
    "plt.title(\"Число мигрантов следует степенному закону\")\n",
    "plt.show()"
   ]
  },
  {
   "cell_type": "markdown",
   "metadata": {},
   "source": [
    "#### Характеристики муниципальных районов (9 шт.)"
   ]
  },
  {
   "cell_type": "code",
   "execution_count": 62,
   "metadata": {},
   "outputs": [],
   "source": [
    "df = pd.read_csv(\"/Users/pishchulov/edu/matobes/НИР/outer_source/migration/ITMO-2/migforecasting/clustering/datasets/superdataset-24 alltime-clust (oktmo).csv\")\n",
    "df[\"oktmo\"] = df.oktmo.astype(str)"
   ]
  },
  {
   "cell_type": "code",
   "execution_count": 63,
   "metadata": {},
   "outputs": [],
   "source": [
    "mun_distrcits_lo = [x for x in df.oktmo if re.fullmatch(r\"41\\d+\", x)]\n",
    "# df[df.oktmo.isin(mun_distrcits_lo)]"
   ]
  },
  {
   "cell_type": "markdown",
   "metadata": {},
   "source": [
    "# Модель"
   ]
  },
  {
   "cell_type": "code",
   "execution_count": 64,
   "metadata": {},
   "outputs": [
    {
     "data": {
      "text/html": [
       "<div>\n",
       "<style scoped>\n",
       "    .dataframe tbody tr th:only-of-type {\n",
       "        vertical-align: middle;\n",
       "    }\n",
       "\n",
       "    .dataframe tbody tr th {\n",
       "        vertical-align: top;\n",
       "    }\n",
       "\n",
       "    .dataframe thead th {\n",
       "        text-align: right;\n",
       "    }\n",
       "</style>\n",
       "<table border=\"1\" class=\"dataframe\">\n",
       "  <thead>\n",
       "    <tr style=\"text-align: right;\">\n",
       "      <th></th>\n",
       "      <th>age</th>\n",
       "      <th>male</th>\n",
       "      <th>oktmo</th>\n",
       "      <th>educ</th>\n",
       "      <th>lnwage</th>\n",
       "      <th>children</th>\n",
       "    </tr>\n",
       "  </thead>\n",
       "  <tbody>\n",
       "    <tr>\n",
       "      <th>335482</th>\n",
       "      <td>32</td>\n",
       "      <td>0</td>\n",
       "      <td>41603101</td>\n",
       "      <td>3</td>\n",
       "      <td>9.446020</td>\n",
       "      <td>2</td>\n",
       "    </tr>\n",
       "    <tr>\n",
       "      <th>630960</th>\n",
       "      <td>50</td>\n",
       "      <td>1</td>\n",
       "      <td>41603101</td>\n",
       "      <td>1</td>\n",
       "      <td>9.833639</td>\n",
       "      <td>2</td>\n",
       "    </tr>\n",
       "    <tr>\n",
       "      <th>1104971</th>\n",
       "      <td>51</td>\n",
       "      <td>0</td>\n",
       "      <td>41603101</td>\n",
       "      <td>2</td>\n",
       "      <td>9.357830</td>\n",
       "      <td>2</td>\n",
       "    </tr>\n",
       "    <tr>\n",
       "      <th>330916</th>\n",
       "      <td>50</td>\n",
       "      <td>0</td>\n",
       "      <td>41603101</td>\n",
       "      <td>2</td>\n",
       "      <td>9.695803</td>\n",
       "      <td>1</td>\n",
       "    </tr>\n",
       "    <tr>\n",
       "      <th>1202879</th>\n",
       "      <td>65</td>\n",
       "      <td>0</td>\n",
       "      <td>41603101</td>\n",
       "      <td>1</td>\n",
       "      <td>8.987170</td>\n",
       "      <td>1</td>\n",
       "    </tr>\n",
       "    <tr>\n",
       "      <th>...</th>\n",
       "      <td>...</td>\n",
       "      <td>...</td>\n",
       "      <td>...</td>\n",
       "      <td>...</td>\n",
       "      <td>...</td>\n",
       "      <td>...</td>\n",
       "    </tr>\n",
       "    <tr>\n",
       "      <th>519678</th>\n",
       "      <td>73</td>\n",
       "      <td>0</td>\n",
       "      <td>41648464</td>\n",
       "      <td>1</td>\n",
       "      <td>8.987170</td>\n",
       "      <td>1</td>\n",
       "    </tr>\n",
       "    <tr>\n",
       "      <th>441584</th>\n",
       "      <td>82</td>\n",
       "      <td>0</td>\n",
       "      <td>41648464</td>\n",
       "      <td>1</td>\n",
       "      <td>8.987170</td>\n",
       "      <td>1</td>\n",
       "    </tr>\n",
       "    <tr>\n",
       "      <th>550818</th>\n",
       "      <td>5</td>\n",
       "      <td>0</td>\n",
       "      <td>41648464</td>\n",
       "      <td>1</td>\n",
       "      <td>9.302336</td>\n",
       "      <td>0</td>\n",
       "    </tr>\n",
       "    <tr>\n",
       "      <th>1678668</th>\n",
       "      <td>64</td>\n",
       "      <td>0</td>\n",
       "      <td>41648464</td>\n",
       "      <td>1</td>\n",
       "      <td>8.987170</td>\n",
       "      <td>1</td>\n",
       "    </tr>\n",
       "    <tr>\n",
       "      <th>348289</th>\n",
       "      <td>34</td>\n",
       "      <td>1</td>\n",
       "      <td>41648464</td>\n",
       "      <td>3</td>\n",
       "      <td>10.449253</td>\n",
       "      <td>1</td>\n",
       "    </tr>\n",
       "  </tbody>\n",
       "</table>\n",
       "<p>1845645 rows × 6 columns</p>\n",
       "</div>"
      ],
      "text/plain": [
       "         age  male     oktmo  educ     lnwage  children\n",
       "335482    32     0  41603101     3   9.446020         2\n",
       "630960    50     1  41603101     1   9.833639         2\n",
       "1104971   51     0  41603101     2   9.357830         2\n",
       "330916    50     0  41603101     2   9.695803         1\n",
       "1202879   65     0  41603101     1   8.987170         1\n",
       "...      ...   ...       ...   ...        ...       ...\n",
       "519678    73     0  41648464     1   8.987170         1\n",
       "441584    82     0  41648464     1   8.987170         1\n",
       "550818     5     0  41648464     1   9.302336         0\n",
       "1678668   64     0  41648464     1   8.987170         1\n",
       "348289    34     1  41648464     3  10.449253         1\n",
       "\n",
       "[1845645 rows x 6 columns]"
      ]
     },
     "execution_count": 64,
     "metadata": {},
     "output_type": "execute_result"
    }
   ],
   "source": [
    "mun_unit_population"
   ]
  },
  {
   "cell_type": "markdown",
   "metadata": {},
   "source": [
    "### pull-факторы"
   ]
  },
  {
   "cell_type": "code",
   "execution_count": 65,
   "metadata": {},
   "outputs": [
    {
     "data": {
      "text/html": [
       "<div>\n",
       "<style scoped>\n",
       "    .dataframe tbody tr th:only-of-type {\n",
       "        vertical-align: middle;\n",
       "    }\n",
       "\n",
       "    .dataframe tbody tr th {\n",
       "        vertical-align: top;\n",
       "    }\n",
       "\n",
       "    .dataframe thead th {\n",
       "        text-align: right;\n",
       "    }\n",
       "</style>\n",
       "<table border=\"1\" class=\"dataframe\">\n",
       "  <thead>\n",
       "    <tr style=\"text-align: right;\">\n",
       "      <th></th>\n",
       "      <th>0-14</th>\n",
       "      <th>16-16</th>\n",
       "      <th>18-18</th>\n",
       "      <th>15-19</th>\n",
       "      <th>20-24</th>\n",
       "      <th>25-49</th>\n",
       "      <th>50-64</th>\n",
       "      <th>65-100</th>\n",
       "    </tr>\n",
       "  </thead>\n",
       "  <tbody>\n",
       "    <tr>\n",
       "      <th>1-10</th>\n",
       "      <td>9.9</td>\n",
       "      <td>3.7</td>\n",
       "      <td>2.2</td>\n",
       "      <td>3.4</td>\n",
       "      <td>5.0</td>\n",
       "      <td>8.0</td>\n",
       "      <td>9.2</td>\n",
       "      <td>8.3</td>\n",
       "    </tr>\n",
       "    <tr>\n",
       "      <th>10-50</th>\n",
       "      <td>29.8</td>\n",
       "      <td>28.0</td>\n",
       "      <td>13.2</td>\n",
       "      <td>19.0</td>\n",
       "      <td>17.5</td>\n",
       "      <td>23.2</td>\n",
       "      <td>24.7</td>\n",
       "      <td>25.4</td>\n",
       "    </tr>\n",
       "    <tr>\n",
       "      <th>50-100</th>\n",
       "      <td>12.3</td>\n",
       "      <td>22.2</td>\n",
       "      <td>16.0</td>\n",
       "      <td>17.7</td>\n",
       "      <td>12.7</td>\n",
       "      <td>11.3</td>\n",
       "      <td>10.3</td>\n",
       "      <td>12.5</td>\n",
       "    </tr>\n",
       "    <tr>\n",
       "      <th>100-200</th>\n",
       "      <td>12.0</td>\n",
       "      <td>17.9</td>\n",
       "      <td>20.7</td>\n",
       "      <td>19.0</td>\n",
       "      <td>15.1</td>\n",
       "      <td>12.3</td>\n",
       "      <td>10.3</td>\n",
       "      <td>12.4</td>\n",
       "    </tr>\n",
       "    <tr>\n",
       "      <th>200-500</th>\n",
       "      <td>11.5</td>\n",
       "      <td>12.2</td>\n",
       "      <td>19.7</td>\n",
       "      <td>16.5</td>\n",
       "      <td>16.1</td>\n",
       "      <td>13.4</td>\n",
       "      <td>11.4</td>\n",
       "      <td>12.8</td>\n",
       "    </tr>\n",
       "    <tr>\n",
       "      <th>500-1000</th>\n",
       "      <td>8.2</td>\n",
       "      <td>5.7</td>\n",
       "      <td>10.9</td>\n",
       "      <td>9.0</td>\n",
       "      <td>11.1</td>\n",
       "      <td>10.5</td>\n",
       "      <td>9.3</td>\n",
       "      <td>9.1</td>\n",
       "    </tr>\n",
       "    <tr>\n",
       "      <th>1000-5000</th>\n",
       "      <td>14.5</td>\n",
       "      <td>9.2</td>\n",
       "      <td>15.9</td>\n",
       "      <td>14.0</td>\n",
       "      <td>20.3</td>\n",
       "      <td>19.0</td>\n",
       "      <td>21.6</td>\n",
       "      <td>17.0</td>\n",
       "    </tr>\n",
       "    <tr>\n",
       "      <th>5000-10000</th>\n",
       "      <td>1.8</td>\n",
       "      <td>1.1</td>\n",
       "      <td>1.4</td>\n",
       "      <td>1.4</td>\n",
       "      <td>2.2</td>\n",
       "      <td>2.3</td>\n",
       "      <td>3.2</td>\n",
       "      <td>2.5</td>\n",
       "    </tr>\n",
       "  </tbody>\n",
       "</table>\n",
       "</div>"
      ],
      "text/plain": [
       "            0-14  16-16  18-18  15-19  20-24  25-49  50-64  65-100\n",
       "1-10         9.9    3.7    2.2    3.4    5.0    8.0    9.2     8.3\n",
       "10-50       29.8   28.0   13.2   19.0   17.5   23.2   24.7    25.4\n",
       "50-100      12.3   22.2   16.0   17.7   12.7   11.3   10.3    12.5\n",
       "100-200     12.0   17.9   20.7   19.0   15.1   12.3   10.3    12.4\n",
       "200-500     11.5   12.2   19.7   16.5   16.1   13.4   11.4    12.8\n",
       "500-1000     8.2    5.7   10.9    9.0   11.1   10.5    9.3     9.1\n",
       "1000-5000   14.5    9.2   15.9   14.0   20.3   19.0   21.6    17.0\n",
       "5000-10000   1.8    1.1    1.4    1.4    2.2    2.3    3.2     2.5"
      ]
     },
     "execution_count": 65,
     "metadata": {},
     "output_type": "execute_result"
    }
   ],
   "source": [
    "age_distance_conditional_distribution = pd.DataFrame({\n",
    "    \"0-14\": [9.9, 29.8, 12.3, 12.0, 11.5, 8.2, 14.5, 1.8],\n",
    "    \"16-16\": [3.7, 28, 22.2, 17.9, 12.2,  5.7, 9.2, 1.1],\n",
    "    \"18-18\": [2.2, 13.2, 16, 20.7, 19.7, 10.9, 15.9, 1.4],\n",
    "    \"15-19\": [3.4, 19.0, 17.7, 19.0, 16.5, 9, 14, 1.4],\n",
    "    \"20-24\": [5.0, 17.5, 12.7, 15.1, 16.1, 11.1, 20.3, 2.2],\n",
    "    \"25-49\": [8, 23.2, 11.3, 12.3, 13.4, 10.5, 19, 2.3],\n",
    "    \"50-64\": [9.2, 24.7, 10.3, 10.3, 11.4, 9.3, 21.6, 3.2],\n",
    "    \"65-100\": [8.3, 25.4, 12.5, 12.4, 12.8, 9.1, 17, 2.5]\n",
    "}, index = [\"1-10\", \"10-50\",\"50-100\", \"100-200\", \"200-500\", \"500-1000\", \"1000-5000\", \"5000-10000\"])\n",
    "# источник - https://journals.kantiana.ru/upload/iblock/a91/1_4-22.pdf    doi: 10.5922/2079-8555-2023-2-1\n",
    "age_distance_conditional_distribution"
   ]
  },
  {
   "cell_type": "code",
   "execution_count": 66,
   "metadata": {},
   "outputs": [
    {
     "data": {
      "text/plain": [
       "6.0"
      ]
     },
     "execution_count": 66,
     "metadata": {},
     "output_type": "execute_result"
    }
   ],
   "source": [
    "# Признаки: age\t male\toktmo\teduc\tlnwage\tchildren\n",
    "def p_mo_size(agent, target_mo_pop_size, k):\n",
    "    \"\"\" ( p1 ) \n",
    "    Реализует правило 'В большом городе ожидаем большой приток населения' \n",
    "    target_mo_pop_size - численность населения города, в который рассматривается переезд\n",
    "    k - коэффициент важности этого pull-фактора\"\"\"\n",
    "\n",
    "    return target_mo_pop_size * k\n",
    "\n",
    "\n",
    "def p_conditional_distribution_age_and_distance(agent, distance):\n",
    "    \"\"\" ( p2 )\"\"\"\n",
    "    distrib = None\n",
    "    for age_group_str in age_distance_conditional_distribution.columns:\n",
    "        lo, hi = list(map(int, age_group_str.split('-')))\n",
    "\n",
    "        if lo <= agent.age <= hi:\n",
    "            distrib = age_distance_conditional_distribution[age_group_str]\n",
    "            break\n",
    "    for dist_option in distrib.index:\n",
    "        lo, hi = list(map(int, dist_option.split('-')))\n",
    "        if lo <= distance <= hi:\n",
    "            return distrib[dist_option]\n",
    "    raise ValueError(f\"Can not find distance option. Agent: {agent}\")\n",
    "\n",
    "\n",
    "distance_distribution = pd.Series([37.8, 12.3, 12.4, 11.8, 8.3, 125.3, 2.1],\n",
    "                                  index=[\"1-50\", \"50-100\", \"100-200\", \"200-500\", \"500-1000\", \"1000-5000\", \"5000-10000\"])\n",
    "\n",
    "\n",
    "def p_distance_distribution(agent, distance):\n",
    "    \"\"\" ( p3 )\"\"\"\n",
    "    # источник - https://journals.kantiana.ru/upload/iblock/a91/1_4-22.pdf    doi: 10.5922/2079-8555-2023-2-1\n",
    "    # страница 7\n",
    "    for dist_option in distance_distribution.index:\n",
    "        lo, hi = list(map(int, dist_option.split('-')))\n",
    "        if lo <= distance <= hi:\n",
    "            return distance_distribution[dist_option]\n",
    "\n",
    "\n",
    "educ_lavel_gender_dist = pd.DataFrame(\n",
    "    {\"1\": [1, 1.531, 2.511, 3.021], \"0\": [1, 1.669, 4.116, 6.290]})\n",
    "# 1 - male, 0, female\n",
    "\n",
    "\n",
    "def p_education_non_student(agent):\n",
    "    \"\"\"  ( p4 )\n",
    "    Реализует зависимсость между образованием и дальностью поездки\n",
    "    Источник - Spatial Flexibility in Job Mobility: Macrolevel Opportunities and Microlevel Restrictions\"\"\"\n",
    "    return educ_lavel_gender_dist.loc[int(agent.educ), str(agent.male)]\n",
    "\n",
    "\n",
    "migration_intensity_by_age = pd.Series([12, 8, 7, 10, 25, 40, 25, 22.5, 17, 12, 10, 8, 7, 6, 5],\n",
    "                                       index=[\"0-5\", \"5-10\", \"10-15\", \"16-16\", \"17-17\", \"18-18\", \"19-25\",\n",
    "                                              \"25-30\", \"30-35\", \"35-40\", \"40-45\", \"45-50\", \"50-60\", \"60-70\", \"70-100\"])\n",
    "\n",
    "\n",
    "def p_migration_intensity_by_age(agent):\n",
    "    \"\"\"( p5 ) \n",
    "    стандартный профиль миграции\n",
    "    \"\"\"\n",
    "    for age_group in migration_intensity_by_age.index:\n",
    "        lo, hi = list(map(int, age_group.split('-')))\n",
    "        if lo <= agent.age <= hi:\n",
    "            return migration_intensity_by_age[age_group]\n",
    "    raise ValueError(agent)\n",
    "\n",
    "\n",
    "p_conditional_distribution_age_and_distance(mun_unit_population.iloc[4], 500)\n",
    "p_distance_distribution(mun_unit_population.iloc[4], 500)\n",
    "# p_education_non_student(mun_unit_population.iloc[6])\n",
    "p_migration_intensity_by_age(mun_unit_population.iloc[4])"
   ]
  },
  {
   "cell_type": "code",
   "execution_count": 67,
   "metadata": {},
   "outputs": [
    {
     "data": {
      "text/plain": [
       "['sportsvenue', 'invest', 'shoparea', 'roadslen', 'hospitals']"
      ]
     },
     "execution_count": 67,
     "metadata": {},
     "output_type": "execute_result"
    }
   ],
   "source": [
    "files_about_mo"
   ]
  },
  {
   "cell_type": "code",
   "execution_count": 68,
   "metadata": {},
   "outputs": [
    {
     "data": {
      "text/plain": [
       "['sportsvenue_avg_on_person',\n",
       " 'invest_avg_on_person',\n",
       " 'shoparea_avg_on_person',\n",
       " 'roadslen_avg_on_person',\n",
       " 'hospitals_avg_on_person']"
      ]
     },
     "execution_count": 68,
     "metadata": {},
     "output_type": "execute_result"
    }
   ],
   "source": [
    "AVG_FEATURE_NAMES"
   ]
  },
  {
   "cell_type": "code",
   "execution_count": 69,
   "metadata": {},
   "outputs": [
    {
     "data": {
      "text/html": [
       "<div>\n",
       "<style scoped>\n",
       "    .dataframe tbody tr th:only-of-type {\n",
       "        vertical-align: middle;\n",
       "    }\n",
       "\n",
       "    .dataframe tbody tr th {\n",
       "        vertical-align: top;\n",
       "    }\n",
       "\n",
       "    .dataframe thead th {\n",
       "        text-align: right;\n",
       "    }\n",
       "</style>\n",
       "<table border=\"1\" class=\"dataframe\">\n",
       "  <thead>\n",
       "    <tr style=\"text-align: right;\">\n",
       "      <th></th>\n",
       "      <th>name</th>\n",
       "      <th>year</th>\n",
       "      <th>popsize</th>\n",
       "      <th>oktmo</th>\n",
       "      <th>sportsvenue_avg_on_person</th>\n",
       "      <th>invest_avg_on_person</th>\n",
       "      <th>shoparea_avg_on_person</th>\n",
       "      <th>roadslen_avg_on_person</th>\n",
       "      <th>hospitals_avg_on_person</th>\n",
       "      <th>rating</th>\n",
       "    </tr>\n",
       "    <tr>\n",
       "      <th>oktmo</th>\n",
       "      <th></th>\n",
       "      <th></th>\n",
       "      <th></th>\n",
       "      <th></th>\n",
       "      <th></th>\n",
       "      <th></th>\n",
       "      <th></th>\n",
       "      <th></th>\n",
       "      <th></th>\n",
       "      <th></th>\n",
       "    </tr>\n",
       "  </thead>\n",
       "  <tbody>\n",
       "    <tr>\n",
       "      <th>41612102</th>\n",
       "      <td>Сертоловское</td>\n",
       "      <td>2022</td>\n",
       "      <td>61716</td>\n",
       "      <td>41612102</td>\n",
       "      <td>0.030507</td>\n",
       "      <td>0.000958</td>\n",
       "      <td>0.086450</td>\n",
       "      <td>0.003775</td>\n",
       "      <td>0.011155</td>\n",
       "      <td>0.132844</td>\n",
       "    </tr>\n",
       "    <tr>\n",
       "      <th>41612154</th>\n",
       "      <td>Дубровское</td>\n",
       "      <td>2022</td>\n",
       "      <td>8115</td>\n",
       "      <td>41612154</td>\n",
       "      <td>0.104820</td>\n",
       "      <td>0.000663</td>\n",
       "      <td>0.048416</td>\n",
       "      <td>0.041624</td>\n",
       "      <td>0.028377</td>\n",
       "      <td>0.223900</td>\n",
       "    </tr>\n",
       "    <tr>\n",
       "      <th>41612168</th>\n",
       "      <td>Свердловское</td>\n",
       "      <td>2022</td>\n",
       "      <td>13629</td>\n",
       "      <td>41612168</td>\n",
       "      <td>0.047730</td>\n",
       "      <td>0.012360</td>\n",
       "      <td>0.088696</td>\n",
       "      <td>0.067284</td>\n",
       "      <td>0.013679</td>\n",
       "      <td>0.229749</td>\n",
       "    </tr>\n",
       "    <tr>\n",
       "      <th>41648108</th>\n",
       "      <td>Никольское</td>\n",
       "      <td>2022</td>\n",
       "      <td>22416</td>\n",
       "      <td>41648108</td>\n",
       "      <td>0.103341</td>\n",
       "      <td>0.000989</td>\n",
       "      <td>0.092633</td>\n",
       "      <td>0.016066</td>\n",
       "      <td>0.018351</td>\n",
       "      <td>0.231379</td>\n",
       "    </tr>\n",
       "    <tr>\n",
       "      <th>41612416</th>\n",
       "      <td>Колтушское</td>\n",
       "      <td>2022</td>\n",
       "      <td>30070</td>\n",
       "      <td>41612416</td>\n",
       "      <td>0.024641</td>\n",
       "      <td>0.001439</td>\n",
       "      <td>0.079048</td>\n",
       "      <td>0.053017</td>\n",
       "      <td>0.080288</td>\n",
       "      <td>0.238433</td>\n",
       "    </tr>\n",
       "    <tr>\n",
       "      <th>...</th>\n",
       "      <td>...</td>\n",
       "      <td>...</td>\n",
       "      <td>...</td>\n",
       "      <td>...</td>\n",
       "      <td>...</td>\n",
       "      <td>...</td>\n",
       "      <td>...</td>\n",
       "      <td>...</td>\n",
       "      <td>...</td>\n",
       "      <td>...</td>\n",
       "    </tr>\n",
       "    <tr>\n",
       "      <th>41645412</th>\n",
       "      <td>Ганьковское</td>\n",
       "      <td>2022</td>\n",
       "      <td>1015</td>\n",
       "      <td>41645412</td>\n",
       "      <td>0.791041</td>\n",
       "      <td>0.001218</td>\n",
       "      <td>0.113170</td>\n",
       "      <td>0.631325</td>\n",
       "      <td>0.572985</td>\n",
       "      <td>2.109738</td>\n",
       "    </tr>\n",
       "    <tr>\n",
       "      <th>41639420</th>\n",
       "      <td>Красноозёрное</td>\n",
       "      <td>2022</td>\n",
       "      <td>1105</td>\n",
       "      <td>41639420</td>\n",
       "      <td>1.000000</td>\n",
       "      <td>0.024735</td>\n",
       "      <td>0.125032</td>\n",
       "      <td>0.459867</td>\n",
       "      <td>0.525669</td>\n",
       "      <td>2.135302</td>\n",
       "    </tr>\n",
       "    <tr>\n",
       "      <th>41621452</th>\n",
       "      <td>Вистинское</td>\n",
       "      <td>2022</td>\n",
       "      <td>1688</td>\n",
       "      <td>41621452</td>\n",
       "      <td>0.325512</td>\n",
       "      <td>1.000000</td>\n",
       "      <td>0.394295</td>\n",
       "      <td>0.299042</td>\n",
       "      <td>0.166707</td>\n",
       "      <td>2.185555</td>\n",
       "    </tr>\n",
       "    <tr>\n",
       "      <th>41639404</th>\n",
       "      <td>Севастьяновское</td>\n",
       "      <td>2022</td>\n",
       "      <td>653</td>\n",
       "      <td>41639404</td>\n",
       "      <td>0.898963</td>\n",
       "      <td>0.000296</td>\n",
       "      <td>0.119333</td>\n",
       "      <td>0.745424</td>\n",
       "      <td>0.443542</td>\n",
       "      <td>2.207558</td>\n",
       "    </tr>\n",
       "    <tr>\n",
       "      <th>41648464</th>\n",
       "      <td>Шапкинское</td>\n",
       "      <td>2022</td>\n",
       "      <td>439</td>\n",
       "      <td>41648464</td>\n",
       "      <td>0.485396</td>\n",
       "      <td>0.002910</td>\n",
       "      <td>0.141703</td>\n",
       "      <td>1.000000</td>\n",
       "      <td>0.663633</td>\n",
       "      <td>2.293642</td>\n",
       "    </tr>\n",
       "  </tbody>\n",
       "</table>\n",
       "<p>187 rows × 10 columns</p>\n",
       "</div>"
      ],
      "text/plain": [
       "                     name  year  popsize     oktmo  sportsvenue_avg_on_person  \\\n",
       "oktmo                                                                           \n",
       "41612102     Сертоловское  2022    61716  41612102                   0.030507   \n",
       "41612154       Дубровское  2022     8115  41612154                   0.104820   \n",
       "41612168     Свердловское  2022    13629  41612168                   0.047730   \n",
       "41648108       Никольское  2022    22416  41648108                   0.103341   \n",
       "41612416       Колтушское  2022    30070  41612416                   0.024641   \n",
       "...                   ...   ...      ...       ...                        ...   \n",
       "41645412      Ганьковское  2022     1015  41645412                   0.791041   \n",
       "41639420    Красноозёрное  2022     1105  41639420                   1.000000   \n",
       "41621452       Вистинское  2022     1688  41621452                   0.325512   \n",
       "41639404  Севастьяновское  2022      653  41639404                   0.898963   \n",
       "41648464       Шапкинское  2022      439  41648464                   0.485396   \n",
       "\n",
       "          invest_avg_on_person  shoparea_avg_on_person  \\\n",
       "oktmo                                                    \n",
       "41612102              0.000958                0.086450   \n",
       "41612154              0.000663                0.048416   \n",
       "41612168              0.012360                0.088696   \n",
       "41648108              0.000989                0.092633   \n",
       "41612416              0.001439                0.079048   \n",
       "...                        ...                     ...   \n",
       "41645412              0.001218                0.113170   \n",
       "41639420              0.024735                0.125032   \n",
       "41621452              1.000000                0.394295   \n",
       "41639404              0.000296                0.119333   \n",
       "41648464              0.002910                0.141703   \n",
       "\n",
       "          roadslen_avg_on_person  hospitals_avg_on_person    rating  \n",
       "oktmo                                                                \n",
       "41612102                0.003775                 0.011155  0.132844  \n",
       "41612154                0.041624                 0.028377  0.223900  \n",
       "41612168                0.067284                 0.013679  0.229749  \n",
       "41648108                0.016066                 0.018351  0.231379  \n",
       "41612416                0.053017                 0.080288  0.238433  \n",
       "...                          ...                      ...       ...  \n",
       "41645412                0.631325                 0.572985  2.109738  \n",
       "41639420                0.459867                 0.525669  2.135302  \n",
       "41621452                0.299042                 0.166707  2.185555  \n",
       "41639404                0.745424                 0.443542  2.207558  \n",
       "41648464                1.000000                 0.663633  2.293642  \n",
       "\n",
       "[187 rows x 10 columns]"
      ]
     },
     "execution_count": 69,
     "metadata": {},
     "output_type": "execute_result"
    }
   ],
   "source": [
    "mo_features[\"rating\"] = (mo_features[\"sportsvenue_avg_on_person\"]\n",
    "                         + mo_features[\"invest_avg_on_person\"]\n",
    "                         + mo_features[\"shoparea_avg_on_person\"]\n",
    "                         + mo_features[\"roadslen_avg_on_person\"]\n",
    "                         + mo_features[\"hospitals_avg_on_person\"]\n",
    "                         )\n",
    "mo_features.sort_values(\"rating\")"
   ]
  },
  {
   "cell_type": "code",
   "execution_count": null,
   "metadata": {},
   "outputs": [],
   "source": []
  },
  {
   "cell_type": "code",
   "execution_count": 70,
   "metadata": {},
   "outputs": [
    {
     "data": {
      "text/html": [
       "<div>\n",
       "<style scoped>\n",
       "    .dataframe tbody tr th:only-of-type {\n",
       "        vertical-align: middle;\n",
       "    }\n",
       "\n",
       "    .dataframe tbody tr th {\n",
       "        vertical-align: top;\n",
       "    }\n",
       "\n",
       "    .dataframe thead th {\n",
       "        text-align: right;\n",
       "    }\n",
       "</style>\n",
       "<table border=\"1\" class=\"dataframe\">\n",
       "  <thead>\n",
       "    <tr style=\"text-align: right;\">\n",
       "      <th></th>\n",
       "      <th>age</th>\n",
       "      <th>male</th>\n",
       "      <th>oktmo</th>\n",
       "      <th>educ</th>\n",
       "      <th>lnwage</th>\n",
       "      <th>children</th>\n",
       "    </tr>\n",
       "  </thead>\n",
       "  <tbody>\n",
       "    <tr>\n",
       "      <th>335482</th>\n",
       "      <td>32</td>\n",
       "      <td>0</td>\n",
       "      <td>41603101</td>\n",
       "      <td>3</td>\n",
       "      <td>9.446020</td>\n",
       "      <td>2</td>\n",
       "    </tr>\n",
       "    <tr>\n",
       "      <th>630960</th>\n",
       "      <td>50</td>\n",
       "      <td>1</td>\n",
       "      <td>41603101</td>\n",
       "      <td>1</td>\n",
       "      <td>9.833639</td>\n",
       "      <td>2</td>\n",
       "    </tr>\n",
       "    <tr>\n",
       "      <th>1104971</th>\n",
       "      <td>51</td>\n",
       "      <td>0</td>\n",
       "      <td>41603101</td>\n",
       "      <td>2</td>\n",
       "      <td>9.357830</td>\n",
       "      <td>2</td>\n",
       "    </tr>\n",
       "    <tr>\n",
       "      <th>330916</th>\n",
       "      <td>50</td>\n",
       "      <td>0</td>\n",
       "      <td>41603101</td>\n",
       "      <td>2</td>\n",
       "      <td>9.695803</td>\n",
       "      <td>1</td>\n",
       "    </tr>\n",
       "    <tr>\n",
       "      <th>1202879</th>\n",
       "      <td>65</td>\n",
       "      <td>0</td>\n",
       "      <td>41603101</td>\n",
       "      <td>1</td>\n",
       "      <td>8.987170</td>\n",
       "      <td>1</td>\n",
       "    </tr>\n",
       "    <tr>\n",
       "      <th>...</th>\n",
       "      <td>...</td>\n",
       "      <td>...</td>\n",
       "      <td>...</td>\n",
       "      <td>...</td>\n",
       "      <td>...</td>\n",
       "      <td>...</td>\n",
       "    </tr>\n",
       "    <tr>\n",
       "      <th>519678</th>\n",
       "      <td>73</td>\n",
       "      <td>0</td>\n",
       "      <td>41648464</td>\n",
       "      <td>1</td>\n",
       "      <td>8.987170</td>\n",
       "      <td>1</td>\n",
       "    </tr>\n",
       "    <tr>\n",
       "      <th>441584</th>\n",
       "      <td>82</td>\n",
       "      <td>0</td>\n",
       "      <td>41648464</td>\n",
       "      <td>1</td>\n",
       "      <td>8.987170</td>\n",
       "      <td>1</td>\n",
       "    </tr>\n",
       "    <tr>\n",
       "      <th>550818</th>\n",
       "      <td>5</td>\n",
       "      <td>0</td>\n",
       "      <td>41648464</td>\n",
       "      <td>1</td>\n",
       "      <td>9.302336</td>\n",
       "      <td>0</td>\n",
       "    </tr>\n",
       "    <tr>\n",
       "      <th>1678668</th>\n",
       "      <td>64</td>\n",
       "      <td>0</td>\n",
       "      <td>41648464</td>\n",
       "      <td>1</td>\n",
       "      <td>8.987170</td>\n",
       "      <td>1</td>\n",
       "    </tr>\n",
       "    <tr>\n",
       "      <th>348289</th>\n",
       "      <td>34</td>\n",
       "      <td>1</td>\n",
       "      <td>41648464</td>\n",
       "      <td>3</td>\n",
       "      <td>10.449253</td>\n",
       "      <td>1</td>\n",
       "    </tr>\n",
       "  </tbody>\n",
       "</table>\n",
       "<p>1845645 rows × 6 columns</p>\n",
       "</div>"
      ],
      "text/plain": [
       "         age  male     oktmo  educ     lnwage  children\n",
       "335482    32     0  41603101     3   9.446020         2\n",
       "630960    50     1  41603101     1   9.833639         2\n",
       "1104971   51     0  41603101     2   9.357830         2\n",
       "330916    50     0  41603101     2   9.695803         1\n",
       "1202879   65     0  41603101     1   8.987170         1\n",
       "...      ...   ...       ...   ...        ...       ...\n",
       "519678    73     0  41648464     1   8.987170         1\n",
       "441584    82     0  41648464     1   8.987170         1\n",
       "550818     5     0  41648464     1   9.302336         0\n",
       "1678668   64     0  41648464     1   8.987170         1\n",
       "348289    34     1  41648464     3  10.449253         1\n",
       "\n",
       "[1845645 rows x 6 columns]"
      ]
     },
     "execution_count": 70,
     "metadata": {},
     "output_type": "execute_result"
    }
   ],
   "source": [
    "mun_unit_population"
   ]
  },
  {
   "cell_type": "code",
   "execution_count": 71,
   "metadata": {},
   "outputs": [
    {
     "data": {
      "text/plain": [
       "oktmo\n",
       "41633488           32.0\n",
       "41612448          103.0\n",
       "41624428          403.0\n",
       "41621412          608.0\n",
       "41645410          645.0\n",
       "               ...     \n",
       "41624101     16616990.0\n",
       "41621404     19877848.0\n",
       "41621452     22703951.0\n",
       "41612101     24243548.0\n",
       "41621101    148512092.0\n",
       "Name: invest, Length: 187, dtype: float64"
      ]
     },
     "execution_count": 71,
     "metadata": {},
     "output_type": "execute_result"
    }
   ],
   "source": [
    "mo_features_abs.invest.sort_values()"
   ]
  },
  {
   "cell_type": "markdown",
   "metadata": {},
   "source": [
    "#### Распределения характеристик МО"
   ]
  },
  {
   "cell_type": "code",
   "execution_count": 72,
   "metadata": {},
   "outputs": [
    {
     "data": {
      "text/plain": [
       "[]"
      ]
     },
     "execution_count": 72,
     "metadata": {},
     "output_type": "execute_result"
    },
    {
     "data": {
      "image/png": "[encoded data removed]",
      "text/plain": [
       "<Figure size 1500x600 with 1 Axes>"
      ]
     },
     "metadata": {},
     "output_type": "display_data"
    }
   ],
   "source": [
    "fig, ax = plt.subplots(1, 1)\n",
    "fig.set_figheight(6)\n",
    "fig.set_figwidth(15)\n",
    "ax.hist(mo_features[\"rating\"], density=True, bins=bins, histtype='stepfilled', alpha=1, \n",
    "                label = \"rating\")\n",
    "plt.plot()"
   ]
  },
  {
   "cell_type": "code",
   "execution_count": 73,
   "metadata": {},
   "outputs": [
    {
     "data": {
      "image/png": "[encoded data removed]",
      "text/plain": [
       "<Figure size 1500x2000 with 5 Axes>"
      ]
     },
     "metadata": {},
     "output_type": "display_data"
    }
   ],
   "source": [
    "fig, axs = plt.subplots(5, 1)\n",
    "fig.set_figheight(20)\n",
    "fig.set_figwidth(15)\n",
    "for i, ax in enumerate(axs):\n",
    "        ax.hist(mo_features[AVG_FEATURE_NAMES[i]], density=True, bins=bins, histtype='stepfilled', alpha=1, \n",
    "                label = AVG_FEATURE_NAMES[i])\n",
    "        ax.legend(loc='best', frameon=False)\n",
    "        "
   ]
  },
  {
   "cell_type": "code",
   "execution_count": 74,
   "metadata": {},
   "outputs": [
    {
     "ename": "SyntaxError",
     "evalue": "incomplete input (827354136.py, line 2)",
     "output_type": "error",
     "traceback": [
      "\u001b[0;36m  Cell \u001b[0;32mIn[74], line 2\u001b[0;36m\u001b[0m\n\u001b[0;31m    \u001b[0m\n\u001b[0m    ^\u001b[0m\n\u001b[0;31mSyntaxError\u001b[0m\u001b[0;31m:\u001b[0m incomplete input\n"
     ]
    }
   ],
   "source": [
    "def mig_prob(agent, mo_from, mo_to):\n",
    "    "
   ]
  }
 ],
 "metadata": {
  "kernelspec": {
   "display_name": ".venv",
   "language": "python",
   "name": "python3"
  },
  "language_info": {
   "codemirror_mode": {
    "name": "ipython",
    "version": 3
   },
   "file_extension": ".py",
   "mimetype": "text/x-python",
   "name": "python",
   "nbconvert_exporter": "python",
   "pygments_lexer": "ipython3",
   "version": "3.12.6"
  }
 },
 "nbformat": 4,
 "nbformat_minor": 2
}
