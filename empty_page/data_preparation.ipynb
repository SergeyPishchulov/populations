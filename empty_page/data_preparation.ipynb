{
 "cells": [
  {
   "cell_type": "code",
   "execution_count": 1,
   "metadata": {},
   "outputs": [],
   "source": [
    "from dataclasses import dataclass\n",
    "from enum import Enum, auto\n",
    "from typing import Self\n",
    "from uuid import uuid4\n",
    "from bamt.preprocessors import Preprocessor\n",
    "import pandas as pd\n",
    "from sklearn import preprocessing as pp\n",
    "\n",
    "import matplotlib.pyplot as plt\n",
    "import numpy as np\n",
    "import pandas as pd\n",
    "import plotly.express as px\n",
    "import plotly.graph_objects as go\n",
    "from scipy import stats\n",
    "import re\n",
    "from bamt.networks import HybridBN\n",
    "import random\n",
    "from xgboost import XGBClassifier, XGBRegressor\n",
    "from sklearn.model_selection import train_test_split\n",
    "from sklearn.metrics import accuracy_score, mean_absolute_percentage_error as mape\n",
    "from sklearn.metrics import mean_absolute_error as mae\n",
    "from tqdm import tqdm\n",
    "\n",
    "YEAR = 2022"
   ]
  },
  {
   "cell_type": "code",
   "execution_count": 2,
   "metadata": {},
   "outputs": [],
   "source": [
    "df = pd.read_csv(\n",
    "\n",
    "    \"/Users/pishchulov/edu/matobes/НИР/outer_source/migration/ITMO-2/migforecasting/mig whereabouts/inflow LO.csv\")"
   ]
  },
  {
   "cell_type": "markdown",
   "metadata": {},
   "source": [
    "Выделим ОКТМО из Ленобласти"
   ]
  },
  {
   "cell_type": "code",
   "execution_count": 3,
   "metadata": {},
   "outputs": [],
   "source": [
    "oktmos = map(str,  df.oktmo.unique())"
   ]
  },
  {
   "cell_type": "code",
   "execution_count": 4,
   "metadata": {},
   "outputs": [],
   "source": [
    "oktmos_lo = [x for x in oktmos if re.fullmatch(r\"41\\d+\", x)]"
   ]
  },
  {
   "cell_type": "code",
   "execution_count": 5,
   "metadata": {},
   "outputs": [],
   "source": [
    "del oktmos"
   ]
  },
  {
   "cell_type": "code",
   "execution_count": 6,
   "metadata": {},
   "outputs": [
    {
     "data": {
      "text/plain": [
       "226"
      ]
     },
     "execution_count": 6,
     "metadata": {},
     "output_type": "execute_result"
    }
   ],
   "source": [
    "len(oktmos_lo)"
   ]
  },
  {
   "cell_type": "markdown",
   "metadata": {},
   "source": [
    "Определим численность населения. Проблема: удалось найти данные только за 2024 год"
   ]
  },
  {
   "cell_type": "code",
   "execution_count": 7,
   "metadata": {},
   "outputs": [],
   "source": [
    "pop_size_df = pd.read_excel(\n",
    "\n",
    "    \"/Users/pishchulov/edu/matobes/НИР/outer_source/численность МО/Сhisl_MO_01-01-2024_only_LO.xlsx\")"
   ]
  },
  {
   "cell_type": "code",
   "execution_count": 8,
   "metadata": {},
   "outputs": [
    {
     "data": {
      "text/html": [
       "<div>\n",
       "<style scoped>\n",
       "    .dataframe tbody tr th:only-of-type {\n",
       "        vertical-align: middle;\n",
       "    }\n",
       "\n",
       "    .dataframe tbody tr th {\n",
       "        vertical-align: top;\n",
       "    }\n",
       "\n",
       "    .dataframe thead th {\n",
       "        text-align: right;\n",
       "    }\n",
       "</style>\n",
       "<table border=\"1\" class=\"dataframe\">\n",
       "  <thead>\n",
       "    <tr style=\"text-align: right;\">\n",
       "      <th></th>\n",
       "      <th>Коды территорий</th>\n",
       "      <th>Unnamed: 1</th>\n",
       "      <th>население</th>\n",
       "      <th>городское</th>\n",
       "      <th>сельское</th>\n",
       "    </tr>\n",
       "  </thead>\n",
       "  <tbody>\n",
       "    <tr>\n",
       "      <th>0</th>\n",
       "      <td>4100000000</td>\n",
       "      <td>Ленинградская область</td>\n",
       "      <td>2035762</td>\n",
       "      <td>1373533</td>\n",
       "      <td>662229</td>\n",
       "    </tr>\n",
       "    <tr>\n",
       "      <th>1</th>\n",
       "      <td>41754000 0 0</td>\n",
       "      <td>Сосновоборский городской округ</td>\n",
       "      <td>63462</td>\n",
       "      <td>63462</td>\n",
       "      <td>0</td>\n",
       "    </tr>\n",
       "    <tr>\n",
       "      <th>2</th>\n",
       "      <td>41754000001 1 0 0 0</td>\n",
       "      <td>г Сосновый Бор</td>\n",
       "      <td>63462</td>\n",
       "      <td>63462</td>\n",
       "      <td>0</td>\n",
       "    </tr>\n",
       "    <tr>\n",
       "      <th>3</th>\n",
       "      <td>41603000 0 0</td>\n",
       "      <td>Бокситогорский муниципальный район</td>\n",
       "      <td>50855</td>\n",
       "      <td>39107</td>\n",
       "      <td>11748</td>\n",
       "    </tr>\n",
       "    <tr>\n",
       "      <th>4</th>\n",
       "      <td>41603101 0 0</td>\n",
       "      <td>Городское поселение Бокситогорское</td>\n",
       "      <td>15764</td>\n",
       "      <td>15480</td>\n",
       "      <td>284</td>\n",
       "    </tr>\n",
       "    <tr>\n",
       "      <th>...</th>\n",
       "      <td>...</td>\n",
       "      <td>...</td>\n",
       "      <td>...</td>\n",
       "      <td>...</td>\n",
       "      <td>...</td>\n",
       "    </tr>\n",
       "    <tr>\n",
       "      <th>271</th>\n",
       "      <td>41648418 0 0</td>\n",
       "      <td>Сельское поселение Нурминское</td>\n",
       "      <td>3338</td>\n",
       "      <td>0</td>\n",
       "      <td>3338</td>\n",
       "    </tr>\n",
       "    <tr>\n",
       "      <th>272</th>\n",
       "      <td>41648430 0 0</td>\n",
       "      <td>Сельское поселение Лисинское</td>\n",
       "      <td>1875</td>\n",
       "      <td>0</td>\n",
       "      <td>1875</td>\n",
       "    </tr>\n",
       "    <tr>\n",
       "      <th>273</th>\n",
       "      <td>41648443 0 0</td>\n",
       "      <td>Сельское поселение Тельмановское</td>\n",
       "      <td>26781</td>\n",
       "      <td>0</td>\n",
       "      <td>26781</td>\n",
       "    </tr>\n",
       "    <tr>\n",
       "      <th>274</th>\n",
       "      <td>41648444 0 0</td>\n",
       "      <td>Сельское поселение Трубникоборское</td>\n",
       "      <td>1599</td>\n",
       "      <td>0</td>\n",
       "      <td>1599</td>\n",
       "    </tr>\n",
       "    <tr>\n",
       "      <th>275</th>\n",
       "      <td>41648464 0 0</td>\n",
       "      <td>Сельское поселение Шапкинское</td>\n",
       "      <td>547</td>\n",
       "      <td>0</td>\n",
       "      <td>547</td>\n",
       "    </tr>\n",
       "  </tbody>\n",
       "</table>\n",
       "<p>276 rows × 5 columns</p>\n",
       "</div>"
      ],
      "text/plain": [
       "         Коды территорий                          Unnamed: 1  население  \\\n",
       "0             4100000000               Ленинградская область    2035762   \n",
       "1           41754000 0 0      Сосновоборский городской округ      63462   \n",
       "2    41754000001 1 0 0 0                      г Сосновый Бор      63462   \n",
       "3           41603000 0 0  Бокситогорский муниципальный район      50855   \n",
       "4           41603101 0 0  Городское поселение Бокситогорское      15764   \n",
       "..                   ...                                 ...        ...   \n",
       "271         41648418 0 0       Сельское поселение Нурминское       3338   \n",
       "272         41648430 0 0        Сельское поселение Лисинское       1875   \n",
       "273         41648443 0 0    Сельское поселение Тельмановское      26781   \n",
       "274         41648444 0 0  Сельское поселение Трубникоборское       1599   \n",
       "275         41648464 0 0       Сельское поселение Шапкинское        547   \n",
       "\n",
       "     городское  сельское  \n",
       "0      1373533    662229  \n",
       "1        63462         0  \n",
       "2        63462         0  \n",
       "3        39107     11748  \n",
       "4        15480       284  \n",
       "..         ...       ...  \n",
       "271          0      3338  \n",
       "272          0      1875  \n",
       "273          0     26781  \n",
       "274          0      1599  \n",
       "275          0       547  \n",
       "\n",
       "[276 rows x 5 columns]"
      ]
     },
     "execution_count": 8,
     "metadata": {},
     "output_type": "execute_result"
    }
   ],
   "source": [
    "pop_size_df"
   ]
  },
  {
   "cell_type": "code",
   "execution_count": 9,
   "metadata": {},
   "outputs": [],
   "source": [
    "def discard_to_8_chars(s):\n",
    "    if len(s) != 10:\n",
    "        return s\n",
    "    if s[-2:] == \"00\":\n",
    "        return s[:-2]"
   ]
  },
  {
   "cell_type": "code",
   "execution_count": 10,
   "metadata": {},
   "outputs": [],
   "source": [
    "pop_size_df[\"Коды территорий\"] = pd.Series([discard_to_8_chars(x.replace(\n",
    "\n",
    "    \" \", \"\")) for x in map(str, pop_size_df[\"Коды территорий\"])], dtype=str)"
   ]
  },
  {
   "cell_type": "code",
   "execution_count": 11,
   "metadata": {},
   "outputs": [],
   "source": [
    "# pop_size_df_lo = pop_size_df[pop_size_df[\"Коды территорий\"].isin(oktmos_lo)]"
   ]
  },
  {
   "cell_type": "code",
   "execution_count": 12,
   "metadata": {},
   "outputs": [],
   "source": [
    "# set(oktmos_lo) - set(pop_size_df_lo[\"Коды территорий\"])"
   ]
  },
  {
   "cell_type": "markdown",
   "metadata": {},
   "source": [
    "Проблема: некоторые ОКТМО исчезли, потому что они эти населенные пункту переехали на новые коды. Проигнорируем."
   ]
  },
  {
   "cell_type": "markdown",
   "metadata": {},
   "source": []
  },
  {
   "cell_type": "code",
   "execution_count": 13,
   "metadata": {},
   "outputs": [],
   "source": [
    "del pop_size_df"
   ]
  },
  {
   "cell_type": "code",
   "execution_count": 14,
   "metadata": {},
   "outputs": [],
   "source": [
    "# pop_size_df_lo=pop_size_df_lo.drop([\"городское\", \"сельское\"], axis = 1)\n",
    "# pop_size_df_lo=pop_size_df_lo.set_axis([\"oktmo\", \"name\", \"pop_size\"], axis=1)\n",
    "# pop_size_df_lo.sort_values(\"oktmo\", inplace=True)\n",
    "# pop_size_df_lo"
   ]
  },
  {
   "cell_type": "markdown",
   "metadata": {},
   "source": [
    "Удалим муниципальные районы, потому что это агрегаты других МО"
   ]
  },
  {
   "cell_type": "code",
   "execution_count": 15,
   "metadata": {},
   "outputs": [],
   "source": [
    "def is_mun_district(oktmo):\n",
    "    assert len(oktmo) == 8\n",
    "    return oktmo[-3:] == \"000\""
   ]
  },
  {
   "cell_type": "code",
   "execution_count": 16,
   "metadata": {},
   "outputs": [],
   "source": [
    "# pop_size_df_lo.pop_size.sum()"
   ]
  },
  {
   "cell_type": "code",
   "execution_count": 17,
   "metadata": {},
   "outputs": [],
   "source": [
    "# mun_districts_lo = pop_size_df_lo[pop_size_df_lo.oktmo.apply(is_mun_district)]\n",
    "# mun_districts_lo"
   ]
  },
  {
   "cell_type": "code",
   "execution_count": 18,
   "metadata": {},
   "outputs": [],
   "source": [
    "# pop_size_df_lo=pop_size_df_lo[~pop_size_df_lo.oktmo.apply(is_mun_district)]\n",
    "# pop_size_df_lo.pop_size.sum()"
   ]
  },
  {
   "cell_type": "markdown",
   "metadata": {},
   "source": [
    "### Подготовим данные о среде. "
   ]
  },
  {
   "cell_type": "code",
   "execution_count": 19,
   "metadata": {},
   "outputs": [],
   "source": [
    "allmun = pd.read_csv(\n",
    "\n",
    "    \"/Users/pishchulov/edu/matobes/НИР/outer_source/rosstat_allmun/allmuns/popsize (allmun).csv\")\n",
    "allmun[[\"oktmo\"]] = allmun[[\"oktmo\"]].astype(str)\n",
    "allmun[\"from_lo\"] = [bool(re.fullmatch(r\"41\\d+\", x)) for x in allmun.oktmo]\n",
    "allmun = allmun[(allmun.from_lo) & (allmun.year == 2022)]\n",
    "allmun = allmun[[\"oktmo\", \"name\", \"year\", \"popsize\"]].set_index(\"oktmo\")\n",
    "allmun[\"popsize\"] = allmun[\"popsize\"].astype(int)"
   ]
  },
  {
   "cell_type": "code",
   "execution_count": 20,
   "metadata": {},
   "outputs": [
    {
     "data": {
      "text/html": [
       "<div>\n",
       "<style scoped>\n",
       "    .dataframe tbody tr th:only-of-type {\n",
       "        vertical-align: middle;\n",
       "    }\n",
       "\n",
       "    .dataframe tbody tr th {\n",
       "        vertical-align: top;\n",
       "    }\n",
       "\n",
       "    .dataframe thead th {\n",
       "        text-align: right;\n",
       "    }\n",
       "</style>\n",
       "<table border=\"1\" class=\"dataframe\">\n",
       "  <thead>\n",
       "    <tr style=\"text-align: right;\">\n",
       "      <th></th>\n",
       "      <th>name</th>\n",
       "      <th>year</th>\n",
       "      <th>popsize</th>\n",
       "    </tr>\n",
       "    <tr>\n",
       "      <th>oktmo</th>\n",
       "      <th></th>\n",
       "      <th></th>\n",
       "      <th></th>\n",
       "    </tr>\n",
       "  </thead>\n",
       "  <tbody>\n",
       "    <tr>\n",
       "      <th>41603000</th>\n",
       "      <td>Бокситогорский муниципальный район</td>\n",
       "      <td>2022</td>\n",
       "      <td>47236</td>\n",
       "    </tr>\n",
       "    <tr>\n",
       "      <th>41603101</th>\n",
       "      <td>Бокситогорское</td>\n",
       "      <td>2022</td>\n",
       "      <td>14606</td>\n",
       "    </tr>\n",
       "    <tr>\n",
       "      <th>41603102</th>\n",
       "      <td>Пикалёвское</td>\n",
       "      <td>2022</td>\n",
       "      <td>19250</td>\n",
       "    </tr>\n",
       "    <tr>\n",
       "      <th>41603155</th>\n",
       "      <td>Ефимовское</td>\n",
       "      <td>2022</td>\n",
       "      <td>4389</td>\n",
       "    </tr>\n",
       "    <tr>\n",
       "      <th>41603412</th>\n",
       "      <td>Большедворское</td>\n",
       "      <td>2022</td>\n",
       "      <td>1486</td>\n",
       "    </tr>\n",
       "    <tr>\n",
       "      <th>...</th>\n",
       "      <td>...</td>\n",
       "      <td>...</td>\n",
       "      <td>...</td>\n",
       "    </tr>\n",
       "    <tr>\n",
       "      <th>41648430</th>\n",
       "      <td>Лисинское</td>\n",
       "      <td>2022</td>\n",
       "      <td>1703</td>\n",
       "    </tr>\n",
       "    <tr>\n",
       "      <th>41648443</th>\n",
       "      <td>Тельмановское</td>\n",
       "      <td>2022</td>\n",
       "      <td>13191</td>\n",
       "    </tr>\n",
       "    <tr>\n",
       "      <th>41648444</th>\n",
       "      <td>Трубникоборское</td>\n",
       "      <td>2022</td>\n",
       "      <td>1479</td>\n",
       "    </tr>\n",
       "    <tr>\n",
       "      <th>41648464</th>\n",
       "      <td>Шапкинское</td>\n",
       "      <td>2022</td>\n",
       "      <td>439</td>\n",
       "    </tr>\n",
       "    <tr>\n",
       "      <th>41754000</th>\n",
       "      <td>Сосновоборский</td>\n",
       "      <td>2022</td>\n",
       "      <td>65941</td>\n",
       "    </tr>\n",
       "  </tbody>\n",
       "</table>\n",
       "<p>205 rows × 3 columns</p>\n",
       "</div>"
      ],
      "text/plain": [
       "                                        name  year  popsize\n",
       "oktmo                                                      \n",
       "41603000  Бокситогорский муниципальный район  2022    47236\n",
       "41603101                      Бокситогорское  2022    14606\n",
       "41603102                         Пикалёвское  2022    19250\n",
       "41603155                          Ефимовское  2022     4389\n",
       "41603412                      Большедворское  2022     1486\n",
       "...                                      ...   ...      ...\n",
       "41648430                           Лисинское  2022     1703\n",
       "41648443                       Тельмановское  2022    13191\n",
       "41648444                     Трубникоборское  2022     1479\n",
       "41648464                          Шапкинское  2022      439\n",
       "41754000                      Сосновоборский  2022    65941\n",
       "\n",
       "[205 rows x 3 columns]"
      ]
     },
     "execution_count": 20,
     "metadata": {},
     "output_type": "execute_result"
    }
   ],
   "source": [
    "allmun"
   ]
  },
  {
   "cell_type": "markdown",
   "metadata": {},
   "source": [
    "Нет ITMO2 данных за 2023 год, поэтому используем 2022."
   ]
  },
  {
   "cell_type": "code",
   "execution_count": 21,
   "metadata": {},
   "outputs": [],
   "source": [
    "\n",
    "mo_features = allmun\n",
    "# files = [\n",
    "#     \"shoparea\",\n",
    "#     \"foodseats\",\n",
    "#     \"agrprod\",\n",
    "#     \"beforeschool\",\n",
    "#     \"schoolnum\",  # тут нет требуемых районов\n",
    "#     \"museums\",\n",
    "#     \"theatres\",\n",
    "#     \"musartschool\",\n",
    "#     \"hospitalcap\",\n",
    "#     \"pollutionvol\",\n",
    "#     \"popsize\",\n",
    "#     \"retailturnover\",\n",
    "#     \"livarea\",\n",
    "\n",
    "# ]\n",
    "files = \"\"\"parks \n",
    "schoolnum \n",
    "cliniccap \n",
    "sportsvenue \n",
    "consnewareas \n",
    "popsize \n",
    "livestock \n",
    "saldo internat \n",
    "consnewapt \n",
    "budincome \n",
    "musartschool \n",
    "foodservturnover \n",
    "goodcompanies \n",
    "invest \n",
    "factoriescap \n",
    "shoparea \n",
    "museums \n",
    "agrprod \n",
    "roadslen \n",
    "hospitals \n",
    "outflow \n",
    "foodseats \n",
    "servicesnum \n",
    "avgsalary \n",
    "harvest \n",
    "funds \n",
    "library \n",
    "cultureorg \n",
    "saldo interreg \n",
    "avgemployers \n",
    "naturesecure \n",
    "goodcompincome \n",
    "visiblecompanies \n",
    "retailturnover \n",
    "beforeschool \n",
    "theatres \n",
    "saldo reg \n",
    "docsnum \n",
    "livarea \n",
    "badcompanies \"\"\".split('\\n')\n",
    "\n",
    "files_about_mo = [\"sportsvenue\", \"invest\",\n",
    "\n",
    "                  \"popsize\", \"shoparea\", \"roadslen\", \"hospitals\"]\n",
    "# for f in files_about\n",
    "#         _mo:\n",
    "#     d = pd.read_csv(\n",
    "#         f\"/Users/pishchulov/edu/matobes/НИР/outer_source/migration/ITMO-2/migforecasting/superdataset/features separately/{f} (allmun).csv\")\n",
    "#     d[[\"oktmo\"]] = d[[\"oktmo\"]].astype(str)\n",
    "#     d[\"from_lo\"] = [bool(re.fullmatch(r\"41\\d+\", x)) for x in d.oktmo]\n",
    "#     # d_lo = d[(d.from_lo) & (d.year == 202 2 (\n",
    "#         ]\n",
    "#     # print(f == f} {len(d_lo)}\")\n",
    "#     d = d[(d.oktmo.isin(mo_features.index)) & (\n",
    "#         d.year == 2022)].drop([\"from_lo\"], axis=1)\n",
    "#     if len(d) == 0:\n",
    "#         print(f\"error in {f}\")\n",
    "#     else:\n",
    "#         mo_features = mo_features.join(d.set_index(\"oktmo\").iloc[:, -1:], )"
   ]
  },
  {
   "cell_type": "code",
   "execution_count": 22,
   "metadata": {},
   "outputs": [
    {
     "data": {
      "text/plain": [
       "oktmo\n",
       "41603000     Бокситогорский муниципальный район\n",
       "41606000        Волосовский муниципальный район\n",
       "41609000         Волховский муниципальный район\n",
       "41612000       Всеволожский муниципальный район\n",
       "41615000         Выборгский муниципальный район\n",
       "41618000         Гатчинский муниципальный район\n",
       "41621000      Кингисеппский муниципальный район\n",
       "41624000          Киришский муниципальный район\n",
       "41625000          Кировский муниципальный район\n",
       "41627000    Лодейнопольский муниципальный район\n",
       "41630000      Ломоносовский муниципальный район\n",
       "41633000            Лужский муниципальный район\n",
       "41636000       Подпорожский муниципальный район\n",
       "41639000        Приозерский муниципальный район\n",
       "41642000        Сланцевский муниципальный район\n",
       "41645000         Тихвинский муниципальный район\n",
       "41648000         Тосненский муниципальный район\n",
       "41754000                         Сосновоборский\n",
       "Name: name, dtype: object"
      ]
     },
     "execution_count": 22,
     "metadata": {},
     "output_type": "execute_result"
    }
   ],
   "source": [
    "mun_districts = mo_features[pd.Series(\n",
    "    mo_features.index, index=mo_features.index).apply(is_mun_district)][\"name\"]\n",
    "mun_districts"
   ]
  },
  {
   "cell_type": "markdown",
   "metadata": {},
   "source": [
    "#### Список муниципальных образований без муниципальных округов"
   ]
  },
  {
   "cell_type": "code",
   "execution_count": 23,
   "metadata": {},
   "outputs": [],
   "source": [
    "mun_units = mo_features[~pd.Series(\n",
    "    mo_features.index, index=mo_features.index).apply(is_mun_district)][[\"name\", \"popsize\"]]"
   ]
  },
  {
   "cell_type": "code",
   "execution_count": 24,
   "metadata": {},
   "outputs": [
    {
     "data": {
      "text/plain": [
       "(205, 187)"
      ]
     },
     "execution_count": 24,
     "metadata": {},
     "output_type": "execute_result"
    }
   ],
   "source": [
    "len(mo_features), len(mun_units)"
   ]
  },
  {
   "cell_type": "markdown",
   "metadata": {},
   "source": [
    "# Генерация популяции"
   ]
  },
  {
   "cell_type": "markdown",
   "metadata": {},
   "source": [
    "Распределения по полу и возрасту есть только для муниципальных районов.\n",
    "migration/ITMO-2/popsize/data0.xlsx"
   ]
  },
  {
   "cell_type": "code",
   "execution_count": 25,
   "metadata": {},
   "outputs": [],
   "source": [
    "@dataclass\n",
    "class AgeGroup:\n",
    "    lo: int\n",
    "    hi: int\n",
    "\n",
    "    def __str__(self):\n",
    "        return f\"{self.lo}-{self.hi}\"\n",
    "\n",
    "    @staticmethod\n",
    "    def from_str(s):\n",
    "        lo, hi = list(map(int, s.split('-')))\n",
    "        return AgeGroup(lo=lo, hi=hi)\n",
    "\n",
    "    def get_random_age(self):\n",
    "        return random.choice(list(range(self.lo, self.hi+1)))\n",
    "\n",
    "\n",
    "age_groups = [\n",
    "    AgeGroup(0, 0),\n",
    "    AgeGroup(1, 4),\n",
    "    AgeGroup(5, 9),\n",
    "    AgeGroup(10, 14),\n",
    "    AgeGroup(15, 19),\n",
    "    AgeGroup(20, 24),\n",
    "    AgeGroup(25, 29),\n",
    "    AgeGroup(30, 34),\n",
    "    AgeGroup(35, 39),\n",
    "    AgeGroup(40, 44),\n",
    "    AgeGroup(45, 49),\n",
    "    AgeGroup(50, 54),\n",
    "    AgeGroup(55, 59),\n",
    "    AgeGroup(60, 64),\n",
    "    AgeGroup(65, 69),\n",
    "    AgeGroup(70, 74),\n",
    "    AgeGroup(75, 79),\n",
    "    AgeGroup(80, 84),\n",
    "    AgeGroup(85, 89),\n",
    "    AgeGroup(90, 94),\n",
    "    AgeGroup(95, 99),\n",
    "    AgeGroup(100, 100),\n",
    "]\n",
    "gender_age_dist_by_district_oktmo = {}\n",
    "for mun_district_oktmo, mun_district_name_series in pd.DataFrame(mun_districts).iterrows():\n",
    "    mun_district_name = mun_district_name_series.iloc[0]\n",
    "    mun_district_first_name = mun_district_name.split()[0]\n",
    "    try:\n",
    "        df = pd.read_excel(\n",
    "\n",
    "            \"/Users/pishchulov/edu/matobes/НИР/outer_source/migration/ITMO-2/popsize/data0.xlsx\", sheet_name=mun_district_first_name)\n",
    "    except ValueError:\n",
    "        df = pd.read_excel(\n",
    "\n",
    "            \"/Users/pishchulov/edu/matobes/НИР/outer_source/migration/ITMO-2/popsize/data0.xlsx\", sheet_name=mun_district_first_name+\" \")\n",
    "\n",
    "    col_num = list(df.iloc[0, :]).index(YEAR)\n",
    "    year_data = df.iloc[:, col_num]\n",
    "    males = []\n",
    "    females = []\n",
    "    for i, ag in enumerate(age_groups):\n",
    "        female = year_data.iloc[6+i*4]\n",
    "        male = year_data.iloc[7+i*4]\n",
    "        males.append(male)\n",
    "        females.append(female)\n",
    "\n",
    "    gender_age_dist = pd.DataFrame(\n",
    "        {\"male\": males, \"female\": females}, index=list(map(str, age_groups)))\n",
    "    gender_age_dist = gender_age_dist.fillna(gender_age_dist.mean())\n",
    "    gender_age_dist_by_district_oktmo[mun_district_oktmo] = gender_age_dist"
   ]
  },
  {
   "cell_type": "markdown",
   "metadata": {},
   "source": [
    "##### Построим набор данных, следующих имеющемуся распредление пола и возраста"
   ]
  },
  {
   "cell_type": "code",
   "execution_count": 26,
   "metadata": {},
   "outputs": [],
   "source": [
    "def gender_age_dist_to_population(gender_age_dist_by_district_oktmo):\n",
    "    \"\"\"Принимает распределение по полу и возрасту для каждого мун. района.\n",
    "    Генереириует популяцию.\n",
    "    Разворачивает статистики в выборку, \n",
    "    предполагая, что в каждой возрастной группе возраст распредлен равномерно\"\"\"\n",
    "    age_sex_population = []\n",
    "    for district_oktmo, age_sed_distribution_df in gender_age_dist_by_district_oktmo.items():\n",
    "        for age_group_str, row in age_sed_distribution_df.iterrows():\n",
    "            age_group = AgeGroup.from_str(age_group_str)\n",
    "            males_cnt = int(row[\"male\"])\n",
    "            females_cnt = int(row[\"female\"])\n",
    "            for _ in range(males_cnt):\n",
    "                age_sex_population.append(\n",
    "                    (age_group.get_random_age(), 1, district_oktmo))\n",
    "            for _ in range(females_cnt):\n",
    "                age_sex_population.append(\n",
    "                    (age_group.get_random_age(), 0, district_oktmo))\n",
    "    population = pd.DataFrame(age_sex_population, columns=[\n",
    "        \"age\", \"male\", \"district_oktmo\"]).sample(frac=1).reset_index(drop=True)\n",
    "    return population"
   ]
  },
  {
   "cell_type": "markdown",
   "metadata": {},
   "source": [
    "Популяция по мун. районам"
   ]
  },
  {
   "cell_type": "code",
   "execution_count": 27,
   "metadata": {},
   "outputs": [
    {
     "data": {
      "text/html": [
       "<div>\n",
       "<style scoped>\n",
       "    .dataframe tbody tr th:only-of-type {\n",
       "        vertical-align: middle;\n",
       "    }\n",
       "\n",
       "    .dataframe tbody tr th {\n",
       "        vertical-align: top;\n",
       "    }\n",
       "\n",
       "    .dataframe thead th {\n",
       "        text-align: right;\n",
       "    }\n",
       "</style>\n",
       "<table border=\"1\" class=\"dataframe\">\n",
       "  <thead>\n",
       "    <tr style=\"text-align: right;\">\n",
       "      <th></th>\n",
       "      <th>age</th>\n",
       "      <th>male</th>\n",
       "      <th>district_oktmo</th>\n",
       "    </tr>\n",
       "  </thead>\n",
       "  <tbody>\n",
       "    <tr>\n",
       "      <th>0</th>\n",
       "      <td>20</td>\n",
       "      <td>1</td>\n",
       "      <td>41612000</td>\n",
       "    </tr>\n",
       "    <tr>\n",
       "      <th>1</th>\n",
       "      <td>33</td>\n",
       "      <td>1</td>\n",
       "      <td>41621000</td>\n",
       "    </tr>\n",
       "    <tr>\n",
       "      <th>2</th>\n",
       "      <td>13</td>\n",
       "      <td>0</td>\n",
       "      <td>41612000</td>\n",
       "    </tr>\n",
       "    <tr>\n",
       "      <th>3</th>\n",
       "      <td>20</td>\n",
       "      <td>0</td>\n",
       "      <td>41612000</td>\n",
       "    </tr>\n",
       "    <tr>\n",
       "      <th>4</th>\n",
       "      <td>66</td>\n",
       "      <td>0</td>\n",
       "      <td>41624000</td>\n",
       "    </tr>\n",
       "    <tr>\n",
       "      <th>...</th>\n",
       "      <td>...</td>\n",
       "      <td>...</td>\n",
       "      <td>...</td>\n",
       "    </tr>\n",
       "    <tr>\n",
       "      <th>2074072</th>\n",
       "      <td>32</td>\n",
       "      <td>1</td>\n",
       "      <td>41612000</td>\n",
       "    </tr>\n",
       "    <tr>\n",
       "      <th>2074073</th>\n",
       "      <td>35</td>\n",
       "      <td>0</td>\n",
       "      <td>41618000</td>\n",
       "    </tr>\n",
       "    <tr>\n",
       "      <th>2074074</th>\n",
       "      <td>51</td>\n",
       "      <td>0</td>\n",
       "      <td>41612000</td>\n",
       "    </tr>\n",
       "    <tr>\n",
       "      <th>2074075</th>\n",
       "      <td>1</td>\n",
       "      <td>0</td>\n",
       "      <td>41618000</td>\n",
       "    </tr>\n",
       "    <tr>\n",
       "      <th>2074076</th>\n",
       "      <td>79</td>\n",
       "      <td>0</td>\n",
       "      <td>41618000</td>\n",
       "    </tr>\n",
       "  </tbody>\n",
       "</table>\n",
       "<p>2074077 rows × 3 columns</p>\n",
       "</div>"
      ],
      "text/plain": [
       "         age  male district_oktmo\n",
       "0         20     1       41612000\n",
       "1         33     1       41621000\n",
       "2         13     0       41612000\n",
       "3         20     0       41612000\n",
       "4         66     0       41624000\n",
       "...      ...   ...            ...\n",
       "2074072   32     1       41612000\n",
       "2074073   35     0       41618000\n",
       "2074074   51     0       41612000\n",
       "2074075    1     0       41618000\n",
       "2074076   79     0       41618000\n",
       "\n",
       "[2074077 rows x 3 columns]"
      ]
     },
     "execution_count": 27,
     "metadata": {},
     "output_type": "execute_result"
    }
   ],
   "source": [
    "population = gender_age_dist_to_population(gender_age_dist_by_district_oktmo)\n",
    "mun_district_population = population\n",
    "population"
   ]
  },
  {
   "cell_type": "markdown",
   "metadata": {},
   "source": [
    "### Определим образование. Построим условное распределение образования от пола и возраста."
   ]
  },
  {
   "cell_type": "code",
   "execution_count": 51,
   "metadata": {},
   "outputs": [],
   "source": [
    "rlms = pd.read_excel(\"/Users/pishchulov/edu/matobes/НИР/Data_RLMS.xlsx\")\n",
    "data = rlms[[\"age\", \"male\", \"educ\", \"lnwage\", \"children\"]]"
   ]
  },
  {
   "cell_type": "markdown",
   "metadata": {},
   "source": [
    "#### Обучим классифкатор для предсказания уровня образования на данных RLMS"
   ]
  },
  {
   "cell_type": "code",
   "execution_count": 52,
   "metadata": {},
   "outputs": [
    {
     "data": {
      "text/plain": [
       "0.4206451612903226"
      ]
     },
     "execution_count": 52,
     "metadata": {},
     "output_type": "execute_result"
    }
   ],
   "source": [
    "X_train, X_test, y_train, y_test = train_test_split(data[[\"age\", \"male\"]], data['educ'], test_size=.2)\n",
    "educ_clsf = XGBClassifier()\n",
    "educ_clsf.fit(X_train, y_train)\n",
    "preds = educ_clsf.predict(X_test) # TODO predict proba\n",
    "# accuracy == 40% - на первый взгляд довольно плохой результат, \n",
    "# но все равно гораздо лучше, чем назначать уровень образования исходя из общих рассуждений и здравого смысла\n",
    "accuracy_score(y_test, preds)"
   ]
  },
  {
   "cell_type": "markdown",
   "metadata": {},
   "source": [
    "#### Применим классификатор, чтобы назначить уровень образования для агентов из популяции"
   ]
  },
  {
   "cell_type": "code",
   "execution_count": 53,
   "metadata": {},
   "outputs": [],
   "source": [
    "population[\"educ\"] =  educ_clsf.predict(population[[\"age\", \"male\"]])"
   ]
  },
  {
   "cell_type": "code",
   "execution_count": 54,
   "metadata": {},
   "outputs": [
    {
     "data": {
      "text/html": [
       "<div>\n",
       "<style scoped>\n",
       "    .dataframe tbody tr th:only-of-type {\n",
       "        vertical-align: middle;\n",
       "    }\n",
       "\n",
       "    .dataframe tbody tr th {\n",
       "        vertical-align: top;\n",
       "    }\n",
       "\n",
       "    .dataframe thead th {\n",
       "        text-align: right;\n",
       "    }\n",
       "</style>\n",
       "<table border=\"1\" class=\"dataframe\">\n",
       "  <thead>\n",
       "    <tr style=\"text-align: right;\">\n",
       "      <th></th>\n",
       "      <th>age</th>\n",
       "      <th>male</th>\n",
       "      <th>district_oktmo</th>\n",
       "      <th>educ</th>\n",
       "      <th>lnwage</th>\n",
       "      <th>children</th>\n",
       "    </tr>\n",
       "  </thead>\n",
       "  <tbody>\n",
       "    <tr>\n",
       "      <th>0</th>\n",
       "      <td>20</td>\n",
       "      <td>1</td>\n",
       "      <td>41612000</td>\n",
       "      <td>2</td>\n",
       "      <td>9.771714</td>\n",
       "      <td>0</td>\n",
       "    </tr>\n",
       "    <tr>\n",
       "      <th>1</th>\n",
       "      <td>33</td>\n",
       "      <td>1</td>\n",
       "      <td>41621000</td>\n",
       "      <td>3</td>\n",
       "      <td>10.260056</td>\n",
       "      <td>1</td>\n",
       "    </tr>\n",
       "    <tr>\n",
       "      <th>2</th>\n",
       "      <td>13</td>\n",
       "      <td>0</td>\n",
       "      <td>41612000</td>\n",
       "      <td>1</td>\n",
       "      <td>9.221813</td>\n",
       "      <td>0</td>\n",
       "    </tr>\n",
       "    <tr>\n",
       "      <th>3</th>\n",
       "      <td>20</td>\n",
       "      <td>0</td>\n",
       "      <td>41612000</td>\n",
       "      <td>2</td>\n",
       "      <td>9.401896</td>\n",
       "      <td>0</td>\n",
       "    </tr>\n",
       "    <tr>\n",
       "      <th>4</th>\n",
       "      <td>66</td>\n",
       "      <td>0</td>\n",
       "      <td>41624000</td>\n",
       "      <td>2</td>\n",
       "      <td>8.994318</td>\n",
       "      <td>3</td>\n",
       "    </tr>\n",
       "    <tr>\n",
       "      <th>...</th>\n",
       "      <td>...</td>\n",
       "      <td>...</td>\n",
       "      <td>...</td>\n",
       "      <td>...</td>\n",
       "      <td>...</td>\n",
       "      <td>...</td>\n",
       "    </tr>\n",
       "    <tr>\n",
       "      <th>2074072</th>\n",
       "      <td>32</td>\n",
       "      <td>1</td>\n",
       "      <td>41612000</td>\n",
       "      <td>3</td>\n",
       "      <td>10.072206</td>\n",
       "      <td>1</td>\n",
       "    </tr>\n",
       "    <tr>\n",
       "      <th>2074073</th>\n",
       "      <td>35</td>\n",
       "      <td>0</td>\n",
       "      <td>41618000</td>\n",
       "      <td>3</td>\n",
       "      <td>9.877120</td>\n",
       "      <td>2</td>\n",
       "    </tr>\n",
       "    <tr>\n",
       "      <th>2074074</th>\n",
       "      <td>51</td>\n",
       "      <td>0</td>\n",
       "      <td>41612000</td>\n",
       "      <td>2</td>\n",
       "      <td>9.862335</td>\n",
       "      <td>1</td>\n",
       "    </tr>\n",
       "    <tr>\n",
       "      <th>2074075</th>\n",
       "      <td>1</td>\n",
       "      <td>0</td>\n",
       "      <td>41618000</td>\n",
       "      <td>1</td>\n",
       "      <td>9.221813</td>\n",
       "      <td>0</td>\n",
       "    </tr>\n",
       "    <tr>\n",
       "      <th>2074076</th>\n",
       "      <td>79</td>\n",
       "      <td>0</td>\n",
       "      <td>41618000</td>\n",
       "      <td>2</td>\n",
       "      <td>8.994318</td>\n",
       "      <td>3</td>\n",
       "    </tr>\n",
       "  </tbody>\n",
       "</table>\n",
       "<p>2074077 rows × 6 columns</p>\n",
       "</div>"
      ],
      "text/plain": [
       "         age  male district_oktmo  educ     lnwage  children\n",
       "0         20     1       41612000     2   9.771714         0\n",
       "1         33     1       41621000     3  10.260056         1\n",
       "2         13     0       41612000     1   9.221813         0\n",
       "3         20     0       41612000     2   9.401896         0\n",
       "4         66     0       41624000     2   8.994318         3\n",
       "...      ...   ...            ...   ...        ...       ...\n",
       "2074072   32     1       41612000     3  10.072206         1\n",
       "2074073   35     0       41618000     3   9.877120         2\n",
       "2074074   51     0       41612000     2   9.862335         1\n",
       "2074075    1     0       41618000     1   9.221813         0\n",
       "2074076   79     0       41618000     2   8.994318         3\n",
       "\n",
       "[2074077 rows x 6 columns]"
      ]
     },
     "execution_count": 54,
     "metadata": {},
     "output_type": "execute_result"
    }
   ],
   "source": [
    "population"
   ]
  },
  {
   "cell_type": "markdown",
   "metadata": {},
   "source": [
    "### Определим зарплату. Построим зависимость от пола, возраста и образования"
   ]
  },
  {
   "cell_type": "code",
   "execution_count": 32,
   "metadata": {},
   "outputs": [
    {
     "data": {
      "text/plain": [
       "0.05854051029013592"
      ]
     },
     "execution_count": 32,
     "metadata": {},
     "output_type": "execute_result"
    }
   ],
   "source": [
    "X_train, X_test, y_train, y_test = train_test_split(data[[\"age\", \"male\", \"educ\"]], data['lnwage'], test_size=.2)\n",
    "wage_regressor = XGBRegressor()\n",
    "wage_regressor.fit(X_train, y_train)\n",
    "preds = wage_regressor.predict(X_test)\n",
    "mape(y_test, preds) # mape == 0.05 - отличный результат. "
   ]
  },
  {
   "cell_type": "code",
   "execution_count": 33,
   "metadata": {},
   "outputs": [],
   "source": [
    "population[\"lnwage\"] = wage_regressor.predict(population[[\"age\", \"male\", \"educ\"]])"
   ]
  },
  {
   "cell_type": "markdown",
   "metadata": {},
   "source": [
    "### Определим количество детей"
   ]
  },
  {
   "cell_type": "code",
   "execution_count": 34,
   "metadata": {},
   "outputs": [
    {
     "data": {
      "text/plain": [
       "0.727741935483871"
      ]
     },
     "execution_count": 34,
     "metadata": {},
     "output_type": "execute_result"
    }
   ],
   "source": [
    "X_train, X_test, y_train, y_test = train_test_split(data[[\"age\", \"male\", \"educ\", \"lnwage\"]], data[\"children\"], \n",
    "                                                    test_size=.2)\n",
    "children_regressor = XGBRegressor()\n",
    "children_regressor.fit(X_train, y_train)\n",
    "preds = children_regressor.predict(X_test).round()\n",
    "mae(y_test, preds) "
   ]
  },
  {
   "cell_type": "code",
   "execution_count": 35,
   "metadata": {},
   "outputs": [],
   "source": [
    "population[\"children\"] = children_regressor.predict(population[[\"age\", \"male\", \"educ\", \"lnwage\"]]).round().astype(int)"
   ]
  },
  {
   "cell_type": "code",
   "execution_count": 36,
   "metadata": {},
   "outputs": [
    {
     "data": {
      "application/vnd.jupyter.widget-view+json": {
       "model_id": "631ccaae192c4a7499a716e8d9e9f836",
       "version_major": 2,
       "version_minor": 0
      },
      "text/plain": [
       "  0%|          | 0/1000000 [00:00<?, ?it/s]"
      ]
     },
     "metadata": {},
     "output_type": "display_data"
    },
    {
     "data": {
      "application/vnd.jupyter.widget-view+json": {
       "model_id": "982ea6a70df046beadeed0e4f640c431",
       "version_major": 2,
       "version_minor": 0
      },
      "text/plain": [
       "  0%|          | 0/1000000 [00:00<?, ?it/s]"
      ]
     },
     "metadata": {},
     "output_type": "display_data"
    }
   ],
   "source": [
    "\n",
    "data[\"male\"] = rlms.male.astype(str)\n",
    "data[\"educ\"] = rlms.educ.astype(str)\n",
    "\n",
    "# set encoder and discretizer\n",
    "encoder = pp.LabelEncoder()\n",
    "discretizer = pp.KBinsDiscretizer(n_bins=5, encode=\"ordinal\", strategy=\"uniform\")\n",
    "\n",
    "# create preprocessor object with encoder and discretizer\n",
    "p = Preprocessor([(\"encoder\", encoder), (\"discretizer\", discretizer)])\n",
    "\n",
    "# discretize data for structure learning\n",
    "discretized_data, est = p.apply(data)\n",
    "\n",
    "# get information about data\n",
    "info = p.info\n",
    "\n",
    "# initialize network object\n",
    "bn = HybridBN(use_mixture=True, has_logit=True)\n",
    "\n",
    "# add nodes to network\n",
    "bn.add_nodes(info)\n",
    "\n",
    "# using mutual information as scoring function for structure learning\n",
    "bn.add_edges(\n",
    "    discretized_data,\n",
    "    #  scoring_function=('MI',)\n",
    ")\n",
    "\n",
    "# or use evolutionary algorithm to learn structure\n",
    "\n",
    "bn.add_edges(discretized_data)\n",
    "\n",
    "bn.fit_parameters(data)"
   ]
  },
  {
   "cell_type": "code",
   "execution_count": 37,
   "metadata": {},
   "outputs": [
    {
     "data": {
      "text/plain": [
       "True"
      ]
     },
     "execution_count": 37,
     "metadata": {},
     "output_type": "execute_result"
    }
   ],
   "source": [
    "# bn.save(\"pop.json\")\n",
    "bn.plot('mixture.html')\n",
    "bn.validate(info)\n"
   ]
  },
  {
   "cell_type": "code",
   "execution_count": 38,
   "metadata": {},
   "outputs": [],
   "source": [
    "sampled_data = bn.sample(10_000, progress_bar=False)\n",
    "# sampled_data.children = sampled_data.children.astype(int)\n",
    "sampled_data.male = sampled_data.male.astype(int)\n",
    "sampled_data.age = sampled_data.age.astype(int)"
   ]
  },
  {
   "cell_type": "code",
   "execution_count": 39,
   "metadata": {},
   "outputs": [
    {
     "data": {
      "text/html": [
       "<div>\n",
       "<style scoped>\n",
       "    .dataframe tbody tr th:only-of-type {\n",
       "        vertical-align: middle;\n",
       "    }\n",
       "\n",
       "    .dataframe tbody tr th {\n",
       "        vertical-align: top;\n",
       "    }\n",
       "\n",
       "    .dataframe thead th {\n",
       "        text-align: right;\n",
       "    }\n",
       "</style>\n",
       "<table border=\"1\" class=\"dataframe\">\n",
       "  <thead>\n",
       "    <tr style=\"text-align: right;\">\n",
       "      <th></th>\n",
       "      <th>lnwage</th>\n",
       "      <th>children</th>\n",
       "      <th>male</th>\n",
       "      <th>educ</th>\n",
       "      <th>age</th>\n",
       "    </tr>\n",
       "  </thead>\n",
       "  <tbody>\n",
       "    <tr>\n",
       "      <th>0</th>\n",
       "      <td>10.434318</td>\n",
       "      <td>1</td>\n",
       "      <td>1</td>\n",
       "      <td>2</td>\n",
       "      <td>32</td>\n",
       "    </tr>\n",
       "    <tr>\n",
       "      <th>1</th>\n",
       "      <td>10.446630</td>\n",
       "      <td>0</td>\n",
       "      <td>0</td>\n",
       "      <td>3</td>\n",
       "      <td>35</td>\n",
       "    </tr>\n",
       "    <tr>\n",
       "      <th>2</th>\n",
       "      <td>9.653095</td>\n",
       "      <td>1</td>\n",
       "      <td>0</td>\n",
       "      <td>2</td>\n",
       "      <td>46</td>\n",
       "    </tr>\n",
       "    <tr>\n",
       "      <th>3</th>\n",
       "      <td>10.758057</td>\n",
       "      <td>2</td>\n",
       "      <td>0</td>\n",
       "      <td>1</td>\n",
       "      <td>49</td>\n",
       "    </tr>\n",
       "    <tr>\n",
       "      <th>4</th>\n",
       "      <td>10.426513</td>\n",
       "      <td>1</td>\n",
       "      <td>1</td>\n",
       "      <td>1</td>\n",
       "      <td>43</td>\n",
       "    </tr>\n",
       "    <tr>\n",
       "      <th>...</th>\n",
       "      <td>...</td>\n",
       "      <td>...</td>\n",
       "      <td>...</td>\n",
       "      <td>...</td>\n",
       "      <td>...</td>\n",
       "    </tr>\n",
       "    <tr>\n",
       "      <th>9995</th>\n",
       "      <td>11.071176</td>\n",
       "      <td>2</td>\n",
       "      <td>1</td>\n",
       "      <td>1</td>\n",
       "      <td>30</td>\n",
       "    </tr>\n",
       "    <tr>\n",
       "      <th>9996</th>\n",
       "      <td>9.856036</td>\n",
       "      <td>1</td>\n",
       "      <td>0</td>\n",
       "      <td>3</td>\n",
       "      <td>30</td>\n",
       "    </tr>\n",
       "    <tr>\n",
       "      <th>9997</th>\n",
       "      <td>9.241148</td>\n",
       "      <td>2</td>\n",
       "      <td>0</td>\n",
       "      <td>1</td>\n",
       "      <td>47</td>\n",
       "    </tr>\n",
       "    <tr>\n",
       "      <th>9998</th>\n",
       "      <td>9.634657</td>\n",
       "      <td>2</td>\n",
       "      <td>0</td>\n",
       "      <td>3</td>\n",
       "      <td>34</td>\n",
       "    </tr>\n",
       "    <tr>\n",
       "      <th>9999</th>\n",
       "      <td>10.391953</td>\n",
       "      <td>1</td>\n",
       "      <td>1</td>\n",
       "      <td>1</td>\n",
       "      <td>25</td>\n",
       "    </tr>\n",
       "  </tbody>\n",
       "</table>\n",
       "<p>10000 rows × 5 columns</p>\n",
       "</div>"
      ],
      "text/plain": [
       "         lnwage children  male educ  age\n",
       "0     10.434318        1     1    2   32\n",
       "1     10.446630        0     0    3   35\n",
       "2      9.653095        1     0    2   46\n",
       "3     10.758057        2     0    1   49\n",
       "4     10.426513        1     1    1   43\n",
       "...         ...      ...   ...  ...  ...\n",
       "9995  11.071176        2     1    1   30\n",
       "9996   9.856036        1     0    3   30\n",
       "9997   9.241148        2     0    1   47\n",
       "9998   9.634657        2     0    3   34\n",
       "9999  10.391953        1     1    1   25\n",
       "\n",
       "[10000 rows x 5 columns]"
      ]
     },
     "execution_count": 39,
     "metadata": {},
     "output_type": "execute_result"
    }
   ],
   "source": [
    "sampled_data"
   ]
  },
  {
   "cell_type": "markdown",
   "metadata": {},
   "source": [
    "# Сгенерирруем популяцию для каждого МО из Ленобласти"
   ]
  },
  {
   "cell_type": "code",
   "execution_count": null,
   "metadata": {},
   "outputs": [],
   "source": []
  },
  {
   "cell_type": "code",
   "execution_count": 40,
   "metadata": {},
   "outputs": [],
   "source": [
    "def to_district_oktmo(oktmo):\n",
    "    assert len(oktmo) == 8\n",
    "    return oktmo[:5]+\"000\""
   ]
  },
  {
   "cell_type": "code",
   "execution_count": 57,
   "metadata": {},
   "outputs": [
    {
     "name": "stderr",
     "output_type": "stream",
     "text": [
      "100%|██████████| 187/187 [00:20<00:00,  9.22it/s]\n"
     ]
    }
   ],
   "source": [
    "from functools import cache\n",
    "\n",
    "def get_mun_unit_population(mun_units, mun_district_population):\n",
    "    mun_unit_population = pd.DataFrame(columns=[\"age\", \"male\", \"oktmo\"])\n",
    "    for mun_unit in tqdm(list(mun_units.reset_index().itertuples(index=False))):\n",
    "        district_oktmo = to_district_oktmo(mun_unit.oktmo)\n",
    "        pop = (mun_district_population[mun_district_population.district_oktmo == district_oktmo]\n",
    "            .sample(mun_unit.popsize)[[\"age\", \"male\"]])\n",
    "        pop[\"oktmo\"] = mun_unit.oktmo\n",
    "        pop = pd.DataFrame(pop, columns=[\"age\", \"male\", \"oktmo\"])\n",
    "        mun_unit_population = pd.concat([mun_unit_population, pop])\n",
    "    mun_unit_population[\"age\"] = mun_unit_population[\"age\"].astype(int)\n",
    "    mun_unit_population[\"male\"] = mun_unit_population[\"male\"].astype(int)\n",
    "    mun_unit_population[\"oktmo\"] = mun_unit_population[\"oktmo\"].astype(str)\n",
    "    return mun_unit_population\n",
    "\n",
    "mun_unit_population = get_mun_unit_population(mun_units, mun_district_population)"
   ]
  },
  {
   "cell_type": "code",
   "execution_count": 58,
   "metadata": {},
   "outputs": [
    {
     "data": {
      "text/html": [
       "<div>\n",
       "<style scoped>\n",
       "    .dataframe tbody tr th:only-of-type {\n",
       "        vertical-align: middle;\n",
       "    }\n",
       "\n",
       "    .dataframe tbody tr th {\n",
       "        vertical-align: top;\n",
       "    }\n",
       "\n",
       "    .dataframe thead th {\n",
       "        text-align: right;\n",
       "    }\n",
       "</style>\n",
       "<table border=\"1\" class=\"dataframe\">\n",
       "  <thead>\n",
       "    <tr style=\"text-align: right;\">\n",
       "      <th></th>\n",
       "      <th>age</th>\n",
       "      <th>male</th>\n",
       "      <th>oktmo</th>\n",
       "    </tr>\n",
       "  </thead>\n",
       "  <tbody>\n",
       "    <tr>\n",
       "      <th>148987</th>\n",
       "      <td>71</td>\n",
       "      <td>0</td>\n",
       "      <td>41603101</td>\n",
       "    </tr>\n",
       "    <tr>\n",
       "      <th>128771</th>\n",
       "      <td>76</td>\n",
       "      <td>1</td>\n",
       "      <td>41603101</td>\n",
       "    </tr>\n",
       "    <tr>\n",
       "      <th>1381512</th>\n",
       "      <td>62</td>\n",
       "      <td>0</td>\n",
       "      <td>41603101</td>\n",
       "    </tr>\n",
       "    <tr>\n",
       "      <th>1164120</th>\n",
       "      <td>75</td>\n",
       "      <td>0</td>\n",
       "      <td>41603101</td>\n",
       "    </tr>\n",
       "    <tr>\n",
       "      <th>1121637</th>\n",
       "      <td>51</td>\n",
       "      <td>1</td>\n",
       "      <td>41603101</td>\n",
       "    </tr>\n",
       "    <tr>\n",
       "      <th>...</th>\n",
       "      <td>...</td>\n",
       "      <td>...</td>\n",
       "      <td>...</td>\n",
       "    </tr>\n",
       "    <tr>\n",
       "      <th>410960</th>\n",
       "      <td>17</td>\n",
       "      <td>1</td>\n",
       "      <td>41648464</td>\n",
       "    </tr>\n",
       "    <tr>\n",
       "      <th>1763266</th>\n",
       "      <td>76</td>\n",
       "      <td>0</td>\n",
       "      <td>41648464</td>\n",
       "    </tr>\n",
       "    <tr>\n",
       "      <th>1310280</th>\n",
       "      <td>34</td>\n",
       "      <td>1</td>\n",
       "      <td>41648464</td>\n",
       "    </tr>\n",
       "    <tr>\n",
       "      <th>1016472</th>\n",
       "      <td>51</td>\n",
       "      <td>0</td>\n",
       "      <td>41648464</td>\n",
       "    </tr>\n",
       "    <tr>\n",
       "      <th>413372</th>\n",
       "      <td>44</td>\n",
       "      <td>1</td>\n",
       "      <td>41648464</td>\n",
       "    </tr>\n",
       "  </tbody>\n",
       "</table>\n",
       "<p>1845645 rows × 3 columns</p>\n",
       "</div>"
      ],
      "text/plain": [
       "         age  male     oktmo\n",
       "148987    71     0  41603101\n",
       "128771    76     1  41603101\n",
       "1381512   62     0  41603101\n",
       "1164120   75     0  41603101\n",
       "1121637   51     1  41603101\n",
       "...      ...   ...       ...\n",
       "410960    17     1  41648464\n",
       "1763266   76     0  41648464\n",
       "1310280   34     1  41648464\n",
       "1016472   51     0  41648464\n",
       "413372    44     1  41648464\n",
       "\n",
       "[1845645 rows x 3 columns]"
      ]
     },
     "execution_count": 58,
     "metadata": {},
     "output_type": "execute_result"
    }
   ],
   "source": [
    "mun_unit_population"
   ]
  },
  {
   "cell_type": "markdown",
   "metadata": {},
   "source": [
    "### Определим образование, зарплату, количество детей для популяции"
   ]
  },
  {
   "cell_type": "code",
   "execution_count": 59,
   "metadata": {},
   "outputs": [],
   "source": [
    "mun_unit_population[\"educ\"] =  educ_clsf.predict(mun_unit_population[[\"age\", \"male\"]])\n",
    "mun_unit_population[\"lnwage\"] = wage_regressor.predict(mun_unit_population[[\"age\", \"male\", \"educ\"]])\n",
    "mun_unit_population[\"children\"] = children_regressor.predict(mun_unit_population[[\"age\", \"male\", \"educ\", \"lnwage\"]]).round().astype(int)\n"
   ]
  },
  {
   "cell_type": "code",
   "execution_count": null,
   "metadata": {},
   "outputs": [],
   "source": []
  }
 ],
 "metadata": {
  "kernelspec": {
   "display_name": ".venv",
   "language": "python",
   "name": "python3"
  },
  "language_info": {
   "codemirror_mode": {
    "name": "ipython",
    "version": 3
   },
   "file_extension": ".py",
   "mimetype": "text/x-python",
   "name": "python",
   "nbconvert_exporter": "python",
   "pygments_lexer": "ipython3",
   "version": "3.12.6"
  }
 },
 "nbformat": 4,
 "nbformat_minor": 2
}
