{
 "cells": [
  {
   "cell_type": "code",
   "execution_count": 1,
   "metadata": {},
   "outputs": [],
   "source": [
    "# ! pip install bamt"
   ]
  },
  {
   "cell_type": "code",
   "execution_count": 2,
   "metadata": {},
   "outputs": [],
   "source": [
    "from dataclasses import dataclass\n",
    "from enum import Enum, auto\n",
    "from typing import Self\n",
    "from uuid import uuid4\n",
    "from bamt.preprocessors import Preprocessor\n",
    "import pandas as pd\n",
    "from sklearn import preprocessing as pp\n",
    "from bamt.networks import HybridBN\n",
    "\n",
    "\n",
    "class Sex(Enum):\n",
    "    male = auto()\n",
    "    female = auto()\n",
    "\n",
    "\n",
    "class MaritalStatus(Enum):\n",
    "    single = auto()\n",
    "    maried = auto()\n",
    "\n",
    "\n",
    "class Education(Enum):\n",
    "    secondary = auto()  # среднее\n",
    "    secondary_proffesional = auto()\n",
    "    higher = auto()\n",
    "\n",
    "\n",
    "@dataclass\n",
    "class Agent:\n",
    "    id = uuid4()\n",
    "    age: int\n",
    "    sex: Sex\n",
    "    salary: int\n",
    "    education: Education | str\n",
    "    mortgage_dept: int | None = None\n",
    "    marital_status: MaritalStatus | str | None = None\n",
    "    children: list[Self] | None = None\n",
    "    parents: list[Self] | None = None"
   ]
  },
  {
   "cell_type": "code",
   "execution_count": 3,
   "metadata": {},
   "outputs": [],
   "source": [
    "import pandas as pd\n",
    "\n",
    "\n",
    "df = pd.read_csv(\"salary.csv\")"
   ]
  },
  {
   "cell_type": "code",
   "execution_count": 4,
   "metadata": {},
   "outputs": [
    {
     "data": {
      "text/plain": [
       "Index(['age', 'workclass', 'fnlwgt', 'education', 'education-num',\n",
       "       'marital-status', 'occupation', 'relationship', 'race', 'sex',\n",
       "       'capital-gain', 'capital-loss', 'hours-per-week', 'native-country',\n",
       "       'salary'],\n",
       "      dtype='object')"
      ]
     },
     "execution_count": 4,
     "metadata": {},
     "output_type": "execute_result"
    }
   ],
   "source": [
    "df.columns"
   ]
  },
  {
   "cell_type": "code",
   "execution_count": 5,
   "metadata": {},
   "outputs": [],
   "source": [
    "def parse_sex(v):\n",
    "    if v==\" Male\":\n",
    "        return Sex.male\n",
    "    if v==\" Female\":\n",
    "        return Sex.female\n",
    "    return None\n",
    "population = []\n",
    "for index, row in df.iterrows():\n",
    "    agent = Agent(age=row['age'],\n",
    "                  sex=parse_sex(row[\"sex\"]),\n",
    "                  education=row[\"education\"],\n",
    "                  salary=1\n",
    "                  \n",
    "                  )\n",
    "    population.append(agent)"
   ]
  },
  {
   "cell_type": "code",
   "execution_count": 6,
   "metadata": {},
   "outputs": [
    {
     "data": {
      "text/plain": [
       "Agent(age=43, sex=<Sex.male: 1>, salary=1, education=' 11th', mortgage_dept=None, marital_status=None, children=None, parents=None)"
      ]
     },
     "execution_count": 6,
     "metadata": {},
     "output_type": "execute_result"
    }
   ],
   "source": [
    "population[23]"
   ]
  },
  {
   "cell_type": "code",
   "execution_count": 7,
   "metadata": {},
   "outputs": [
    {
     "data": {
      "text/plain": [
       "Index(['idind', 'psu', 'status', 'age', 'male', 'industry', 'lnwage', 'public',\n",
       "       'internet', 'children', 'urban', 'educ', 'id1', 'id2', 'id3', 'id4',\n",
       "       'id5', 'id6', 'id7', 'id8', 'id9', 'id10', 'id11', 'id12', 'id13',\n",
       "       'id14', 'id15', 'id16', 'id17', 'id18', 'id19', 'id20', 'id21', 'id22',\n",
       "       'id23', 'id24', 'id25', 'id26', 'id27', 'id28', 'id29', 'id30', 'id31',\n",
       "       'id32', 'id33', 'id34', 'id35', 'id36', 'id37', 'id38', 'id39', 'id40',\n",
       "       'id41', 'id42', 'id43', 'id44', 'id45', 'id46', 'id47', 'id48', 'id49',\n",
       "       'id50', 'id51', 'id52', 'id53', 'id54', 'id55', 'id56', 'id57', 'id58',\n",
       "       'id59', 'id60', 'id61', 'id62', 'id63', 'id64', 'id65', 'id66', 'id67',\n",
       "       'id68', 'id69', 'id70', 'id71', 'id72', 'id73', 'id74', 'id75'],\n",
       "      dtype='object')"
      ]
     },
     "execution_count": 7,
     "metadata": {},
     "output_type": "execute_result"
    }
   ],
   "source": [
    "rlms = pd.read_excel(\"Data_RLMS.xlsx\")\n",
    "rlms.columns"
   ]
  },
  {
   "cell_type": "code",
   "execution_count": 8,
   "metadata": {},
   "outputs": [],
   "source": [
    "data = rlms[[\"age\", \"male\", \"industry\", \"lnwage\",\n",
    "             \"public\", \"children\", \"urban\", \"educ\"]]\n",
    "\n",
    "data = rlms[[\"age\",  \"lnwage\",\n",
    "             ]]"
   ]
  },
  {
   "cell_type": "code",
   "execution_count": 9,
   "metadata": {},
   "outputs": [],
   "source": [
    "# set encoder and discretizer\n",
    "encoder = pp.LabelEncoder()\n",
    "discretizer = pp.KBinsDiscretizer(n_bins=5, encode='ordinal', strategy='uniform')\n",
    "\n",
    "# create preprocessor object with encoder and discretizer\n",
    "p = Preprocessor([('encoder', encoder), ('discretizer', discretizer)])\n",
    "\n",
    "# discretize data for structure learning\n",
    "discretized_data, est = p.apply(data)\n",
    "\n",
    "# get information about data\n",
    "info = p.info"
   ]
  },
  {
   "cell_type": "code",
   "execution_count": 10,
   "metadata": {},
   "outputs": [
    {
     "data": {
      "text/plain": [
       "{'types': {'age': 'disc_num', 'lnwage': 'cont'}, 'signs': {'lnwage': 'pos'}}"
      ]
     },
     "execution_count": 10,
     "metadata": {},
     "output_type": "execute_result"
    }
   ],
   "source": [
    "info"
   ]
  },
  {
   "cell_type": "code",
   "execution_count": 11,
   "metadata": {},
   "outputs": [
    {
     "data": {
      "application/vnd.jupyter.widget-view+json": {
       "model_id": "cec9ff05f6234b8ead45efb81ec8b1f6",
       "version_major": 2,
       "version_minor": 0
      },
      "text/plain": [
       "  0%|          | 0/1000000 [00:00<?, ?it/s]"
      ]
     },
     "metadata": {},
     "output_type": "display_data"
    },
    {
     "name": "stdout",
     "output_type": "stream",
     "text": [
      "2024-10-27 14:54:37,721 | ERROR    | builders_base.py-get_family-0082 | Edges list is None\n"
     ]
    },
    {
     "data": {
      "application/vnd.jupyter.widget-view+json": {
       "model_id": "63ea0ad4a6ee40ea8e16b45b68c0e7a2",
       "version_major": 2,
       "version_minor": 0
      },
      "text/plain": [
       "  0%|          | 0/1000000 [00:00<?, ?it/s]"
      ]
     },
     "metadata": {},
     "output_type": "display_data"
    },
    {
     "name": "stdout",
     "output_type": "stream",
     "text": [
      "2024-10-27 14:54:37,742 | ERROR    | builders_base.py-get_family-0082 | Edges list is None\n"
     ]
    }
   ],
   "source": [
    "# initialize network object\n",
    "bn = HybridBN(use_mixture=True, has_logit=True)\n",
    "\n",
    "# add nodes to network\n",
    "bn.add_nodes(info)\n",
    "\n",
    "# using mutual information as scoring function for structure learning\n",
    "bn.add_edges(discretized_data, \n",
    "            #  scoring_function=('MI',)\n",
    "             )\n",
    "\n",
    "# or use evolutionary algorithm to learn structure\n",
    "\n",
    "bn.add_edges(discretized_data)\n",
    "\n",
    "bn.fit_parameters(data)"
   ]
  },
  {
   "cell_type": "code",
   "execution_count": 12,
   "metadata": {},
   "outputs": [
    {
     "data": {
      "text/plain": [
       "True"
      ]
     },
     "execution_count": 12,
     "metadata": {},
     "output_type": "execute_result"
    }
   ],
   "source": [
    "bn.validate(info)"
   ]
  },
  {
   "cell_type": "code",
   "execution_count": 13,
   "metadata": {},
   "outputs": [
    {
     "data": {
      "text/plain": [
       "True"
      ]
     },
     "execution_count": 13,
     "metadata": {},
     "output_type": "execute_result"
    }
   ],
   "source": [
    "bn.save(\"pop.json\")"
   ]
  },
  {
   "cell_type": "code",
   "execution_count": 14,
   "metadata": {},
   "outputs": [],
   "source": [
    "sampled_data = bn.sample(1000, progress_bar=False)"
   ]
  },
  {
   "cell_type": "code",
   "execution_count": 15,
   "metadata": {},
   "outputs": [
    {
     "data": {
      "text/html": [
       "<div>\n",
       "<style scoped>\n",
       "    .dataframe tbody tr th:only-of-type {\n",
       "        vertical-align: middle;\n",
       "    }\n",
       "\n",
       "    .dataframe tbody tr th {\n",
       "        vertical-align: top;\n",
       "    }\n",
       "\n",
       "    .dataframe thead th {\n",
       "        text-align: right;\n",
       "    }\n",
       "</style>\n",
       "<table border=\"1\" class=\"dataframe\">\n",
       "  <thead>\n",
       "    <tr style=\"text-align: right;\">\n",
       "      <th></th>\n",
       "      <th>age</th>\n",
       "      <th>lnwage</th>\n",
       "    </tr>\n",
       "  </thead>\n",
       "  <tbody>\n",
       "    <tr>\n",
       "      <th>0</th>\n",
       "      <td>54</td>\n",
       "      <td>9.981127</td>\n",
       "    </tr>\n",
       "    <tr>\n",
       "      <th>1</th>\n",
       "      <td>26</td>\n",
       "      <td>10.524094</td>\n",
       "    </tr>\n",
       "    <tr>\n",
       "      <th>2</th>\n",
       "      <td>38</td>\n",
       "      <td>9.400916</td>\n",
       "    </tr>\n",
       "    <tr>\n",
       "      <th>3</th>\n",
       "      <td>32</td>\n",
       "      <td>10.790339</td>\n",
       "    </tr>\n",
       "    <tr>\n",
       "      <th>4</th>\n",
       "      <td>53</td>\n",
       "      <td>10.663289</td>\n",
       "    </tr>\n",
       "    <tr>\n",
       "      <th>...</th>\n",
       "      <td>...</td>\n",
       "      <td>...</td>\n",
       "    </tr>\n",
       "    <tr>\n",
       "      <th>995</th>\n",
       "      <td>44</td>\n",
       "      <td>9.287571</td>\n",
       "    </tr>\n",
       "    <tr>\n",
       "      <th>996</th>\n",
       "      <td>38</td>\n",
       "      <td>10.346601</td>\n",
       "    </tr>\n",
       "    <tr>\n",
       "      <th>997</th>\n",
       "      <td>35</td>\n",
       "      <td>10.522201</td>\n",
       "    </tr>\n",
       "    <tr>\n",
       "      <th>998</th>\n",
       "      <td>32</td>\n",
       "      <td>10.043810</td>\n",
       "    </tr>\n",
       "    <tr>\n",
       "      <th>999</th>\n",
       "      <td>30</td>\n",
       "      <td>9.321403</td>\n",
       "    </tr>\n",
       "  </tbody>\n",
       "</table>\n",
       "<p>1000 rows × 2 columns</p>\n",
       "</div>"
      ],
      "text/plain": [
       "    age     lnwage\n",
       "0    54   9.981127\n",
       "1    26  10.524094\n",
       "2    38   9.400916\n",
       "3    32  10.790339\n",
       "4    53  10.663289\n",
       "..   ..        ...\n",
       "995  44   9.287571\n",
       "996  38  10.346601\n",
       "997  35  10.522201\n",
       "998  32  10.043810\n",
       "999  30   9.321403\n",
       "\n",
       "[1000 rows x 2 columns]"
      ]
     },
     "execution_count": 15,
     "metadata": {},
     "output_type": "execute_result"
    }
   ],
   "source": [
    "sampled_data"
   ]
  },
  {
   "cell_type": "code",
   "execution_count": null,
   "metadata": {},
   "outputs": [],
   "source": []
  }
 ],
 "metadata": {
  "kernelspec": {
   "display_name": ".venv",
   "language": "python",
   "name": "python3"
  },
  "language_info": {
   "codemirror_mode": {
    "name": "ipython",
    "version": 3
   },
   "file_extension": ".py",
   "mimetype": "text/x-python",
   "name": "python",
   "nbconvert_exporter": "python",
   "pygments_lexer": "ipython3",
   "version": "3.12.6"
  }
 },
 "nbformat": 4,
 "nbformat_minor": 4
}
